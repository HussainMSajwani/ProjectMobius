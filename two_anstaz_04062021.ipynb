{
 "cells": [
  {
   "cell_type": "code",
   "execution_count": 2,
   "id": "028efc0a-4328-45fe-a0c8-920a5c1dd382",
   "metadata": {},
   "outputs": [
    {
     "data": {
      "text/markdown": [
       "Line element: \n",
       "$$ds^2 =+\\left(v^{2} \\cos^{2}{\\left(\\frac{u}{2} \\right)} + \\frac{v^{2}}{4} + 2 v \\cos{\\left(\\frac{u}{2} \\right)} + 1\\right)du^2+\\left(1\\right)dv^2$$"
      ],
      "text/plain": [
       "<IPython.core.display.Markdown object>"
      ]
     },
     "execution_count": 2,
     "metadata": {},
     "output_type": "execute_result"
    }
   ],
   "source": [
    "import sympy as sp\n",
    "from sympy.abc import t, u, v, w\n",
    "from einsteinpy.symbolic import MetricTensor, RicciTensor, RicciScalar, RiemannCurvatureTensor, EinsteinTensor\n",
    "from einsteinpy.symbolic.christoffel import ChristoffelSymbols\n",
    "import numpy as np\n",
    "from IPython.display import Markdown as md\n",
    "from IPython.display import display, Latex\n",
    "\n",
    "sp.init_printing()\n",
    "f = sp.Function('f')(u, v)\n",
    "\n",
    "vars_ = [\"t\", \"u\", \"v\", \"w\"] \n",
    "\n",
    "def print_ein(ein):\n",
    "    ein = ein.simplify()\n",
    "    for i, c1 in enumerate(vars_):\n",
    "        for j, c2 in enumerate(vars_):\n",
    "            if ein[i, j] != (u - u).simplify():\n",
    "                display(f\"Element {(c1, c2)}, of Einstein tensor\", sp.factor(ein[i, j]))\n",
    "                print(\"\\n\\n\")\n",
    "\n",
    "x = (1+v * sp.cos(u/2))*sp.cos(u)\n",
    "y = (1+v * sp.cos(u/2))*sp.sin(u)\n",
    "z = v * sp.sin(u/2)\n",
    "\n",
    "dxu = x.diff(u)\n",
    "dxv = x.diff(v)\n",
    "dyu = y.diff(u)\n",
    "dyv = y.diff(v)\n",
    "dzu = z.diff(u)\n",
    "dzv = z.diff(v)\n",
    "\n",
    "du2 = (dxu**2 + dyu**2 + dzu**2).simplify()\n",
    "dv2 = (dxv**2 + dyv**2 + dzv**2).simplify()\n",
    "\n",
    "ds_ = [du2, dv2]\n",
    "\n",
    "out = \"ds^2 =\"\n",
    "vars_ = [\"u\", \"v\"] \n",
    "\n",
    "for i in range(2):\n",
    "    out += f\"+\\\\left({sp.latex(ds_[i].simplify())}\\\\right)d{vars_[i]}^2\"\n",
    "    \n",
    "md(\"Line element: \\n$${}$$\".format(out))"
   ]
  },
  {
   "cell_type": "markdown",
   "id": "5dc863f5-2be8-4d1a-88b2-678bf402dcaa",
   "metadata": {},
   "source": [
    "## Anstaz $ds^2 = A(u, v)dt^2 - f(u, v)du^2 - dv^2 - B(u, v)dw^2$"
   ]
  },
  {
   "cell_type": "code",
   "execution_count": 3,
   "id": "d729dfd5-82a3-4951-b9b5-515350d56598",
   "metadata": {},
   "outputs": [
    {
     "data": {
      "text/plain": [
       "\"Element ('t', 't'), of Einstein tensor\""
      ]
     },
     "metadata": {},
     "output_type": "display_data"
    },
    {
     "name": "stderr",
     "output_type": "stream",
     "text": [
      "/home/hussain/miniconda3/lib/python3.8/site-packages/IPython/lib/latextools.py:126: MatplotlibDeprecationWarning: \n",
      "The to_png function was deprecated in Matplotlib 3.4 and will be removed two minor releases later. Use mathtext.math_to_image instead.\n",
      "  mt.to_png(f, s, fontsize=12, dpi=dpi, color=color)\n",
      "/home/hussain/miniconda3/lib/python3.8/site-packages/IPython/lib/latextools.py:126: MatplotlibDeprecationWarning: \n",
      "The to_rgba function was deprecated in Matplotlib 3.4 and will be removed two minor releases later. Use mathtext.math_to_image instead.\n",
      "  mt.to_png(f, s, fontsize=12, dpi=dpi, color=color)\n",
      "/home/hussain/miniconda3/lib/python3.8/site-packages/IPython/lib/latextools.py:126: MatplotlibDeprecationWarning: \n",
      "The to_mask function was deprecated in Matplotlib 3.4 and will be removed two minor releases later. Use mathtext.math_to_image instead.\n",
      "  mt.to_png(f, s, fontsize=12, dpi=dpi, color=color)\n",
      "/home/hussain/miniconda3/lib/python3.8/site-packages/IPython/lib/latextools.py:126: MatplotlibDeprecationWarning: \n",
      "The MathtextBackendBitmap class was deprecated in Matplotlib 3.4 and will be removed two minor releases later. Use mathtext.math_to_image instead.\n",
      "  mt.to_png(f, s, fontsize=12, dpi=dpi, color=color)\n"
     ]
    },
    {
     "data": {
      "image/png": "[encoded data removed]",
      "text/latex": [
       "$\\displaystyle - \\frac{1.0 \\left(0.5 A^{2}{\\left(t,w \\right)} f{\\left(u,v \\right)} \\frac{\\partial^{2}}{\\partial v^{2}} f{\\left(u,v \\right)} - 0.25 A^{2}{\\left(t,w \\right)} \\left(\\frac{\\partial}{\\partial v} f{\\left(u,v \\right)}\\right)^{2} + 1.0 A{\\left(t,w \\right)} f^{2}{\\left(u,v \\right)} \\frac{\\partial^{2}}{\\partial w^{2}} A{\\left(t,w \\right)} - 0.75 f^{2}{\\left(u,v \\right)} \\left(\\frac{\\partial}{\\partial t} A{\\left(t,w \\right)}\\right)^{2} - 0.75 f^{2}{\\left(u,v \\right)} \\left(\\frac{\\partial}{\\partial w} A{\\left(t,w \\right)}\\right)^{2}\\right)}{A^{2}{\\left(t,w \\right)} f^{2}{\\left(u,v \\right)}}$"
      ],
      "text/plain": [
       "     ⎛                       2                                       2        \n",
       "     ⎜     2                ∂                   2       ⎛∂          ⎞         \n",
       "-1.0⋅⎜0.5⋅A (t, w)⋅f(u, v)⋅───(f(u, v)) - 0.25⋅A (t, w)⋅⎜──(f(u, v))⎟  + 1.0⋅A\n",
       "     ⎜                       2                          ⎝∂v         ⎠         \n",
       "     ⎝                     ∂v                                                 \n",
       "──────────────────────────────────────────────────────────────────────────────\n",
       "                                                                             2\n",
       "                                                                            A \n",
       "\n",
       "                  2                                       2                   \n",
       "        2        ∂                   2       ⎛∂          ⎞          2       ⎛∂\n",
       "(t, w)⋅f (u, v)⋅───(A(t, w)) - 0.75⋅f (u, v)⋅⎜──(A(t, w))⎟  - 0.75⋅f (u, v)⋅⎜─\n",
       "                  2                          ⎝∂t         ⎠                  ⎝∂\n",
       "                ∂w                                                            \n",
       "──────────────────────────────────────────────────────────────────────────────\n",
       "        2                                                                     \n",
       "(t, w)⋅f (u, v)                                                               \n",
       "\n",
       "           2⎞ \n",
       "          ⎞ ⎟ \n",
       "─(A(t, w))⎟ ⎟ \n",
       "w         ⎠ ⎟ \n",
       "            ⎠ \n",
       "──────────────\n",
       "              \n",
       "              "
      ]
     },
     "metadata": {},
     "output_type": "display_data"
    },
    {
     "name": "stdout",
     "output_type": "stream",
     "text": [
      "\n",
      "\n",
      "\n"
     ]
    },
    {
     "data": {
      "text/plain": [
       "\"Element ('t', 'w'), of Einstein tensor\""
      ]
     },
     "metadata": {},
     "output_type": "display_data"
    },
    {
     "name": "stderr",
     "output_type": "stream",
     "text": [
      "/home/hussain/miniconda3/lib/python3.8/site-packages/IPython/lib/latextools.py:126: MatplotlibDeprecationWarning: \n",
      "The to_png function was deprecated in Matplotlib 3.4 and will be removed two minor releases later. Use mathtext.math_to_image instead.\n",
      "  mt.to_png(f, s, fontsize=12, dpi=dpi, color=color)\n",
      "/home/hussain/miniconda3/lib/python3.8/site-packages/IPython/lib/latextools.py:126: MatplotlibDeprecationWarning: \n",
      "The to_rgba function was deprecated in Matplotlib 3.4 and will be removed two minor releases later. Use mathtext.math_to_image instead.\n",
      "  mt.to_png(f, s, fontsize=12, dpi=dpi, color=color)\n",
      "/home/hussain/miniconda3/lib/python3.8/site-packages/IPython/lib/latextools.py:126: MatplotlibDeprecationWarning: \n",
      "The to_mask function was deprecated in Matplotlib 3.4 and will be removed two minor releases later. Use mathtext.math_to_image instead.\n",
      "  mt.to_png(f, s, fontsize=12, dpi=dpi, color=color)\n",
      "/home/hussain/miniconda3/lib/python3.8/site-packages/IPython/lib/latextools.py:126: MatplotlibDeprecationWarning: \n",
      "The MathtextBackendBitmap class was deprecated in Matplotlib 3.4 and will be removed two minor releases later. Use mathtext.math_to_image instead.\n",
      "  mt.to_png(f, s, fontsize=12, dpi=dpi, color=color)\n"
     ]
    },
    {
     "data": {
      "image/png": "[encoded data removed]",
      "text/latex": [
       "$\\displaystyle - \\frac{2 A{\\left(t,w \\right)} \\frac{\\partial^{2}}{\\partial w\\partial t} A{\\left(t,w \\right)} - 3 \\frac{\\partial}{\\partial t} A{\\left(t,w \\right)} \\frac{\\partial}{\\partial w} A{\\left(t,w \\right)}}{2 A^{2}{\\left(t,w \\right)}}$"
      ],
      "text/plain": [
       " ⎛             2                                      ⎞ \n",
       " ⎜            ∂                ∂           ∂          ⎟ \n",
       "-⎜2⋅A(t, w)⋅─────(A(t, w)) - 3⋅──(A(t, w))⋅──(A(t, w))⎟ \n",
       " ⎝          ∂w ∂t              ∂t          ∂w         ⎠ \n",
       "────────────────────────────────────────────────────────\n",
       "                          2                             \n",
       "                       2⋅A (t, w)                       "
      ]
     },
     "metadata": {},
     "output_type": "display_data"
    },
    {
     "name": "stdout",
     "output_type": "stream",
     "text": [
      "\n",
      "\n",
      "\n"
     ]
    },
    {
     "data": {
      "text/plain": [
       "\"Element ('u', 'u'), of Einstein tensor\""
      ]
     },
     "metadata": {},
     "output_type": "display_data"
    },
    {
     "name": "stderr",
     "output_type": "stream",
     "text": [
      "/home/hussain/miniconda3/lib/python3.8/site-packages/IPython/lib/latextools.py:126: MatplotlibDeprecationWarning: \n",
      "The to_png function was deprecated in Matplotlib 3.4 and will be removed two minor releases later. Use mathtext.math_to_image instead.\n",
      "  mt.to_png(f, s, fontsize=12, dpi=dpi, color=color)\n",
      "/home/hussain/miniconda3/lib/python3.8/site-packages/IPython/lib/latextools.py:126: MatplotlibDeprecationWarning: \n",
      "The to_rgba function was deprecated in Matplotlib 3.4 and will be removed two minor releases later. Use mathtext.math_to_image instead.\n",
      "  mt.to_png(f, s, fontsize=12, dpi=dpi, color=color)\n",
      "/home/hussain/miniconda3/lib/python3.8/site-packages/IPython/lib/latextools.py:126: MatplotlibDeprecationWarning: \n",
      "The to_mask function was deprecated in Matplotlib 3.4 and will be removed two minor releases later. Use mathtext.math_to_image instead.\n",
      "  mt.to_png(f, s, fontsize=12, dpi=dpi, color=color)\n",
      "/home/hussain/miniconda3/lib/python3.8/site-packages/IPython/lib/latextools.py:126: MatplotlibDeprecationWarning: \n",
      "The MathtextBackendBitmap class was deprecated in Matplotlib 3.4 and will be removed two minor releases later. Use mathtext.math_to_image instead.\n",
      "  mt.to_png(f, s, fontsize=12, dpi=dpi, color=color)\n"
     ]
    },
    {
     "data": {
      "image/png": "[encoded data removed]",
      "text/latex": [
       "$\\displaystyle - \\frac{\\left(4 A{\\left(t,w \\right)} \\frac{\\partial^{2}}{\\partial t^{2}} A{\\left(t,w \\right)} - 4 A{\\left(t,w \\right)} \\frac{\\partial^{2}}{\\partial w^{2}} A{\\left(t,w \\right)} - 3 \\left(\\frac{\\partial}{\\partial t} A{\\left(t,w \\right)}\\right)^{2} + 3 \\left(\\frac{\\partial}{\\partial w} A{\\left(t,w \\right)}\\right)^{2}\\right) f{\\left(u,v \\right)}}{4 A^{2}{\\left(t,w \\right)}}$"
      ],
      "text/plain": [
       " ⎛            2                        2                           2          \n",
       " ⎜           ∂                        ∂               ⎛∂          ⎞      ⎛∂   \n",
       "-⎜4⋅A(t, w)⋅───(A(t, w)) - 4⋅A(t, w)⋅───(A(t, w)) - 3⋅⎜──(A(t, w))⎟  + 3⋅⎜──(A\n",
       " ⎜            2                        2              ⎝∂t         ⎠      ⎝∂w  \n",
       " ⎝          ∂t                       ∂w                                       \n",
       "──────────────────────────────────────────────────────────────────────────────\n",
       "                                               2                              \n",
       "                                            4⋅A (t, w)                        \n",
       "\n",
       "        2⎞         \n",
       "       ⎞ ⎟         \n",
       "(t, w))⎟ ⎟⋅f(u, v) \n",
       "       ⎠ ⎟         \n",
       "         ⎠         \n",
       "───────────────────\n",
       "                   \n",
       "                   "
      ]
     },
     "metadata": {},
     "output_type": "display_data"
    },
    {
     "name": "stdout",
     "output_type": "stream",
     "text": [
      "\n",
      "\n",
      "\n"
     ]
    },
    {
     "data": {
      "text/plain": [
       "\"Element ('v', 'v'), of Einstein tensor\""
      ]
     },
     "metadata": {},
     "output_type": "display_data"
    },
    {
     "name": "stderr",
     "output_type": "stream",
     "text": [
      "/home/hussain/miniconda3/lib/python3.8/site-packages/IPython/lib/latextools.py:126: MatplotlibDeprecationWarning: \n",
      "The to_png function was deprecated in Matplotlib 3.4 and will be removed two minor releases later. Use mathtext.math_to_image instead.\n",
      "  mt.to_png(f, s, fontsize=12, dpi=dpi, color=color)\n",
      "/home/hussain/miniconda3/lib/python3.8/site-packages/IPython/lib/latextools.py:126: MatplotlibDeprecationWarning: \n",
      "The to_rgba function was deprecated in Matplotlib 3.4 and will be removed two minor releases later. Use mathtext.math_to_image instead.\n",
      "  mt.to_png(f, s, fontsize=12, dpi=dpi, color=color)\n",
      "/home/hussain/miniconda3/lib/python3.8/site-packages/IPython/lib/latextools.py:126: MatplotlibDeprecationWarning: \n",
      "The to_mask function was deprecated in Matplotlib 3.4 and will be removed two minor releases later. Use mathtext.math_to_image instead.\n",
      "  mt.to_png(f, s, fontsize=12, dpi=dpi, color=color)\n",
      "/home/hussain/miniconda3/lib/python3.8/site-packages/IPython/lib/latextools.py:126: MatplotlibDeprecationWarning: \n",
      "The MathtextBackendBitmap class was deprecated in Matplotlib 3.4 and will be removed two minor releases later. Use mathtext.math_to_image instead.\n",
      "  mt.to_png(f, s, fontsize=12, dpi=dpi, color=color)\n"
     ]
    },
    {
     "data": {
      "image/png": "[encoded data removed]",
      "text/latex": [
       "$\\displaystyle - \\frac{4 A{\\left(t,w \\right)} \\frac{\\partial^{2}}{\\partial t^{2}} A{\\left(t,w \\right)} - 4 A{\\left(t,w \\right)} \\frac{\\partial^{2}}{\\partial w^{2}} A{\\left(t,w \\right)} - 3 \\left(\\frac{\\partial}{\\partial t} A{\\left(t,w \\right)}\\right)^{2} + 3 \\left(\\frac{\\partial}{\\partial w} A{\\left(t,w \\right)}\\right)^{2}}{4 A^{2}{\\left(t,w \\right)}}$"
      ],
      "text/plain": [
       " ⎛            2                        2                           2          \n",
       " ⎜           ∂                        ∂               ⎛∂          ⎞      ⎛∂   \n",
       "-⎜4⋅A(t, w)⋅───(A(t, w)) - 4⋅A(t, w)⋅───(A(t, w)) - 3⋅⎜──(A(t, w))⎟  + 3⋅⎜──(A\n",
       " ⎜            2                        2              ⎝∂t         ⎠      ⎝∂w  \n",
       " ⎝          ∂t                       ∂w                                       \n",
       "──────────────────────────────────────────────────────────────────────────────\n",
       "                                           2                                  \n",
       "                                        4⋅A (t, w)                            \n",
       "\n",
       "        2⎞ \n",
       "       ⎞ ⎟ \n",
       "(t, w))⎟ ⎟ \n",
       "       ⎠ ⎟ \n",
       "         ⎠ \n",
       "───────────\n",
       "           \n",
       "           "
      ]
     },
     "metadata": {},
     "output_type": "display_data"
    },
    {
     "name": "stdout",
     "output_type": "stream",
     "text": [
      "\n",
      "\n",
      "\n"
     ]
    },
    {
     "data": {
      "text/plain": [
       "\"Element ('w', 't'), of Einstein tensor\""
      ]
     },
     "metadata": {},
     "output_type": "display_data"
    },
    {
     "name": "stderr",
     "output_type": "stream",
     "text": [
      "/home/hussain/miniconda3/lib/python3.8/site-packages/IPython/lib/latextools.py:126: MatplotlibDeprecationWarning: \n",
      "The to_png function was deprecated in Matplotlib 3.4 and will be removed two minor releases later. Use mathtext.math_to_image instead.\n",
      "  mt.to_png(f, s, fontsize=12, dpi=dpi, color=color)\n",
      "/home/hussain/miniconda3/lib/python3.8/site-packages/IPython/lib/latextools.py:126: MatplotlibDeprecationWarning: \n",
      "The to_rgba function was deprecated in Matplotlib 3.4 and will be removed two minor releases later. Use mathtext.math_to_image instead.\n",
      "  mt.to_png(f, s, fontsize=12, dpi=dpi, color=color)\n",
      "/home/hussain/miniconda3/lib/python3.8/site-packages/IPython/lib/latextools.py:126: MatplotlibDeprecationWarning: \n",
      "The to_mask function was deprecated in Matplotlib 3.4 and will be removed two minor releases later. Use mathtext.math_to_image instead.\n",
      "  mt.to_png(f, s, fontsize=12, dpi=dpi, color=color)\n",
      "/home/hussain/miniconda3/lib/python3.8/site-packages/IPython/lib/latextools.py:126: MatplotlibDeprecationWarning: \n",
      "The MathtextBackendBitmap class was deprecated in Matplotlib 3.4 and will be removed two minor releases later. Use mathtext.math_to_image instead.\n",
      "  mt.to_png(f, s, fontsize=12, dpi=dpi, color=color)\n"
     ]
    },
    {
     "data": {
      "image/png": "[encoded data removed]",
      "text/latex": [
       "$\\displaystyle - \\frac{2 A{\\left(t,w \\right)} \\frac{\\partial^{2}}{\\partial w\\partial t} A{\\left(t,w \\right)} - 3 \\frac{\\partial}{\\partial t} A{\\left(t,w \\right)} \\frac{\\partial}{\\partial w} A{\\left(t,w \\right)}}{2 A^{2}{\\left(t,w \\right)}}$"
      ],
      "text/plain": [
       " ⎛             2                                      ⎞ \n",
       " ⎜            ∂                ∂           ∂          ⎟ \n",
       "-⎜2⋅A(t, w)⋅─────(A(t, w)) - 3⋅──(A(t, w))⋅──(A(t, w))⎟ \n",
       " ⎝          ∂w ∂t              ∂t          ∂w         ⎠ \n",
       "────────────────────────────────────────────────────────\n",
       "                          2                             \n",
       "                       2⋅A (t, w)                       "
      ]
     },
     "metadata": {},
     "output_type": "display_data"
    },
    {
     "name": "stdout",
     "output_type": "stream",
     "text": [
      "\n",
      "\n",
      "\n"
     ]
    },
    {
     "data": {
      "text/plain": [
       "\"Element ('w', 'w'), of Einstein tensor\""
      ]
     },
     "metadata": {},
     "output_type": "display_data"
    },
    {
     "name": "stderr",
     "output_type": "stream",
     "text": [
      "/home/hussain/miniconda3/lib/python3.8/site-packages/IPython/lib/latextools.py:126: MatplotlibDeprecationWarning: \n",
      "The to_png function was deprecated in Matplotlib 3.4 and will be removed two minor releases later. Use mathtext.math_to_image instead.\n",
      "  mt.to_png(f, s, fontsize=12, dpi=dpi, color=color)\n",
      "/home/hussain/miniconda3/lib/python3.8/site-packages/IPython/lib/latextools.py:126: MatplotlibDeprecationWarning: \n",
      "The to_rgba function was deprecated in Matplotlib 3.4 and will be removed two minor releases later. Use mathtext.math_to_image instead.\n",
      "  mt.to_png(f, s, fontsize=12, dpi=dpi, color=color)\n",
      "/home/hussain/miniconda3/lib/python3.8/site-packages/IPython/lib/latextools.py:126: MatplotlibDeprecationWarning: \n",
      "The to_mask function was deprecated in Matplotlib 3.4 and will be removed two minor releases later. Use mathtext.math_to_image instead.\n",
      "  mt.to_png(f, s, fontsize=12, dpi=dpi, color=color)\n",
      "/home/hussain/miniconda3/lib/python3.8/site-packages/IPython/lib/latextools.py:126: MatplotlibDeprecationWarning: \n",
      "The MathtextBackendBitmap class was deprecated in Matplotlib 3.4 and will be removed two minor releases later. Use mathtext.math_to_image instead.\n",
      "  mt.to_png(f, s, fontsize=12, dpi=dpi, color=color)\n"
     ]
    },
    {
     "data": {
      "image/png": "[encoded data removed]",
      "text/latex": [
       "$\\displaystyle \\frac{1.0 \\left(0.5 A^{2}{\\left(t,w \\right)} f{\\left(u,v \\right)} \\frac{\\partial^{2}}{\\partial v^{2}} f{\\left(u,v \\right)} - 0.25 A^{2}{\\left(t,w \\right)} \\left(\\frac{\\partial}{\\partial v} f{\\left(u,v \\right)}\\right)^{2} - 1.0 A{\\left(t,w \\right)} f^{2}{\\left(u,v \\right)} \\frac{\\partial^{2}}{\\partial t^{2}} A{\\left(t,w \\right)} + 0.75 f^{2}{\\left(u,v \\right)} \\left(\\frac{\\partial}{\\partial t} A{\\left(t,w \\right)}\\right)^{2} + 0.75 f^{2}{\\left(u,v \\right)} \\left(\\frac{\\partial}{\\partial w} A{\\left(t,w \\right)}\\right)^{2}\\right)}{A^{2}{\\left(t,w \\right)} f^{2}{\\left(u,v \\right)}}$"
      ],
      "text/plain": [
       "    ⎛                       2                                       2         \n",
       "    ⎜     2                ∂                   2       ⎛∂          ⎞          \n",
       "1.0⋅⎜0.5⋅A (t, w)⋅f(u, v)⋅───(f(u, v)) - 0.25⋅A (t, w)⋅⎜──(f(u, v))⎟  - A(t, w\n",
       "    ⎜                       2                          ⎝∂v         ⎠          \n",
       "    ⎝                     ∂v                                                  \n",
       "──────────────────────────────────────────────────────────────────────────────\n",
       "                                                                          2   \n",
       "                                                                         A (t,\n",
       "\n",
       "             2                                       2                        \n",
       "   2        ∂                   2       ⎛∂          ⎞          2       ⎛∂     \n",
       ")⋅f (u, v)⋅───(A(t, w)) + 0.75⋅f (u, v)⋅⎜──(A(t, w))⎟  + 0.75⋅f (u, v)⋅⎜──(A(t\n",
       "             2                          ⎝∂t         ⎠                  ⎝∂w    \n",
       "           ∂t                                                                 \n",
       "──────────────────────────────────────────────────────────────────────────────\n",
       "     2                                                                        \n",
       " w)⋅f (u, v)                                                                  \n",
       "\n",
       "      2⎞\n",
       "     ⎞ ⎟\n",
       ", w))⎟ ⎟\n",
       "     ⎠ ⎟\n",
       "       ⎠\n",
       "────────\n",
       "        \n",
       "        "
      ]
     },
     "metadata": {},
     "output_type": "display_data"
    },
    {
     "name": "stdout",
     "output_type": "stream",
     "text": [
      "\n",
      "\n",
      "\n"
     ]
    }
   ],
   "source": [
    "A = sp.Function(\"A\")(t, w)\n",
    "B = sp.Function(\"B\")(u, v)\n",
    "\n",
    "g = MetricTensor(\n",
    "    sp.Array(\n",
    "        np.diag([A, -A*f, -A, -A]\n",
    "               )\n",
    "    ),\n",
    "    syms=[t, u, v, w]\n",
    ")\n",
    "    \n",
    "g.tensor()\n",
    "\n",
    "einstein = EinsteinTensor.from_metric(g)\n",
    "einstein.tensor()\n",
    "\n",
    "out = \"ds^2 =\"\n",
    "vars_ = [\"t\", \"u\", \"v\", \"w\"] \n",
    "\n",
    "print_ein(einstein.tensor())"
   ]
  },
  {
   "cell_type": "markdown",
   "id": "b097fe90-bd2c-41eb-8a55-29db0bedb5d6",
   "metadata": {},
   "source": [
    "## Anstaz $ds^2 = A(u, v)dt^2 - C(t, w)[f(u, v)du^2 + dv^2] - B(u, v)dw^2$"
   ]
  },
  {
   "cell_type": "code",
   "execution_count": 5,
   "id": "7fc7a3a3-5b58-408e-8a8e-ea1debb87363",
   "metadata": {},
   "outputs": [
    {
     "data": {
      "text/plain": [
       "\"Element ('t', 't'), of Einstein tensor\""
      ]
     },
     "metadata": {},
     "output_type": "display_data"
    },
    {
     "data": {
      "image/png": "[encoded data removed]",
      "text/latex": [
       "$\\displaystyle - \\frac{1.0 \\left(0.5 A{\\left(u,v \\right)} B^{2}{\\left(u,v \\right)} C{\\left(t,w \\right)} f{\\left(u,v \\right)} \\frac{\\partial^{2}}{\\partial v^{2}} f{\\left(u,v \\right)} - 0.25 A{\\left(u,v \\right)} B^{2}{\\left(u,v \\right)} C{\\left(t,w \\right)} \\left(\\frac{\\partial}{\\partial v} f{\\left(u,v \\right)}\\right)^{2} + 0.5 A{\\left(u,v \\right)} B{\\left(u,v \\right)} C{\\left(t,w \\right)} f^{2}{\\left(u,v \\right)} \\frac{\\partial^{2}}{\\partial v^{2}} B{\\left(u,v \\right)} + 1.0 A{\\left(u,v \\right)} B{\\left(u,v \\right)} C{\\left(t,w \\right)} f^{2}{\\left(u,v \\right)} \\frac{\\partial^{2}}{\\partial w^{2}} C{\\left(t,w \\right)} + 0.5 A{\\left(u,v \\right)} B{\\left(u,v \\right)} C{\\left(t,w \\right)} f{\\left(u,v \\right)} \\frac{\\partial^{2}}{\\partial u^{2}} B{\\left(u,v \\right)} + 0.25 A{\\left(u,v \\right)} B{\\left(u,v \\right)} C{\\left(t,w \\right)} f{\\left(u,v \\right)} \\frac{\\partial}{\\partial v} B{\\left(u,v \\right)} \\frac{\\partial}{\\partial v} f{\\left(u,v \\right)} - 0.25 A{\\left(u,v \\right)} B{\\left(u,v \\right)} C{\\left(t,w \\right)} \\frac{\\partial}{\\partial u} B{\\left(u,v \\right)} \\frac{\\partial}{\\partial u} f{\\left(u,v \\right)} - 0.25 A{\\left(u,v \\right)} B{\\left(u,v \\right)} f^{2}{\\left(u,v \\right)} \\left(\\frac{\\partial}{\\partial w} C{\\left(t,w \\right)}\\right)^{2} - 0.25 A{\\left(u,v \\right)} C{\\left(t,w \\right)} f^{2}{\\left(u,v \\right)} \\left(\\frac{\\partial}{\\partial v} B{\\left(u,v \\right)}\\right)^{2} - 0.25 A{\\left(u,v \\right)} C{\\left(t,w \\right)} f{\\left(u,v \\right)} \\left(\\frac{\\partial}{\\partial u} B{\\left(u,v \\right)}\\right)^{2} - 0.25 B^{2}{\\left(u,v \\right)} f^{2}{\\left(u,v \\right)} \\left(\\frac{\\partial}{\\partial t} C{\\left(t,w \\right)}\\right)^{2}\\right)}{B^{2}{\\left(u,v \\right)} C^{2}{\\left(t,w \\right)} f^{2}{\\left(u,v \\right)}}$"
      ],
      "text/plain": [
       "     ⎛                                       2                                \n",
       "     ⎜             2                        ∂                           2     \n",
       "-1.0⋅⎜0.5⋅A(u, v)⋅B (u, v)⋅C(t, w)⋅f(u, v)⋅───(f(u, v)) - 0.25⋅A(u, v)⋅B (u, v\n",
       "     ⎜                                       2                                \n",
       "     ⎝                                     ∂v                                 \n",
       "──────────────────────────────────────────────────────────────────────────────\n",
       "                                                                              \n",
       "                                                                              \n",
       "\n",
       "                       2                                          2           \n",
       "          ⎛∂          ⎞                                 2        ∂            \n",
       ")⋅C(t, w)⋅⎜──(f(u, v))⎟  + 0.5⋅A(u, v)⋅B(u, v)⋅C(t, w)⋅f (u, v)⋅───(B(u, v)) +\n",
       "          ⎝∂v         ⎠                                           2           \n",
       "                                                                ∂v            \n",
       "──────────────────────────────────────────────────────────────────────────────\n",
       "                                                                              \n",
       "                                                                              \n",
       "\n",
       "                                        2                                     \n",
       "                              2        ∂                                      \n",
       " 1.0⋅A(u, v)⋅B(u, v)⋅C(t, w)⋅f (u, v)⋅───(C(t, w)) + 0.5⋅A(u, v)⋅B(u, v)⋅C(t, \n",
       "                                        2                                     \n",
       "                                      ∂w                                      \n",
       "──────────────────────────────────────────────────────────────────────────────\n",
       "                                                                              \n",
       "                                                                              \n",
       "\n",
       "             2                                                                \n",
       "            ∂                                                  ∂           ∂  \n",
       "w)⋅f(u, v)⋅───(B(u, v)) + 0.25⋅A(u, v)⋅B(u, v)⋅C(t, w)⋅f(u, v)⋅──(B(u, v))⋅──(\n",
       "             2                                                 ∂v          ∂v \n",
       "           ∂u                                                                 \n",
       "──────────────────────────────────────────────────────────────────────────────\n",
       "                                 2        2        2                          \n",
       "                                B (u, v)⋅C (t, w)⋅f (u, v)                    \n",
       "\n",
       "                                                                              \n",
       "                                        ∂           ∂                         \n",
       "f(u, v)) - 0.25⋅A(u, v)⋅B(u, v)⋅C(t, w)⋅──(B(u, v))⋅──(f(u, v)) - 0.25⋅A(u, v)\n",
       "                                        ∂u          ∂u                        \n",
       "                                                                              \n",
       "──────────────────────────────────────────────────────────────────────────────\n",
       "                                                                              \n",
       "                                                                              \n",
       "\n",
       "                               2                                              \n",
       "          2       ⎛∂          ⎞                          2       ⎛∂          ⎞\n",
       "⋅B(u, v)⋅f (u, v)⋅⎜──(C(t, w))⎟  - 0.25⋅A(u, v)⋅C(t, w)⋅f (u, v)⋅⎜──(B(u, v))⎟\n",
       "                  ⎝∂w         ⎠                                  ⎝∂v         ⎠\n",
       "                                                                              \n",
       "──────────────────────────────────────────────────────────────────────────────\n",
       "                                                                              \n",
       "                                                                              \n",
       "\n",
       "2                                             2                               \n",
       "                                 ⎛∂          ⎞          2        2       ⎛∂   \n",
       "  - 0.25⋅A(u, v)⋅C(t, w)⋅f(u, v)⋅⎜──(B(u, v))⎟  - 0.25⋅B (u, v)⋅f (u, v)⋅⎜──(C\n",
       "                                 ⎝∂u         ⎠                           ⎝∂t  \n",
       "                                                                              \n",
       "──────────────────────────────────────────────────────────────────────────────\n",
       "                                                                              \n",
       "                                                                              \n",
       "\n",
       "        2⎞ \n",
       "       ⎞ ⎟ \n",
       "(t, w))⎟ ⎟ \n",
       "       ⎠ ⎟ \n",
       "         ⎠ \n",
       "───────────\n",
       "           \n",
       "           "
      ]
     },
     "metadata": {},
     "output_type": "display_data"
    },
    {
     "name": "stdout",
     "output_type": "stream",
     "text": [
      "\n",
      "\n",
      "\n"
     ]
    },
    {
     "data": {
      "text/plain": [
       "\"Element ('t', 'u'), of Einstein tensor\""
      ]
     },
     "metadata": {},
     "output_type": "display_data"
    },
    {
     "data": {
      "image/png": "[encoded data removed]",
      "text/latex": [
       "$\\displaystyle \\frac{\\left(A{\\left(u,v \\right)} \\frac{\\partial}{\\partial u} B{\\left(u,v \\right)} + B{\\left(u,v \\right)} \\frac{\\partial}{\\partial u} A{\\left(u,v \\right)}\\right) \\frac{\\partial}{\\partial t} C{\\left(t,w \\right)}}{4 A{\\left(u,v \\right)} B{\\left(u,v \\right)} C{\\left(t,w \\right)}}$"
      ],
      "text/plain": [
       "⎛        ∂                     ∂          ⎞ ∂          \n",
       "⎜A(u, v)⋅──(B(u, v)) + B(u, v)⋅──(A(u, v))⎟⋅──(C(t, w))\n",
       "⎝        ∂u                    ∂u         ⎠ ∂t         \n",
       "───────────────────────────────────────────────────────\n",
       "               4⋅A(u, v)⋅B(u, v)⋅C(t, w)               "
      ]
     },
     "metadata": {},
     "output_type": "display_data"
    },
    {
     "name": "stdout",
     "output_type": "stream",
     "text": [
      "\n",
      "\n",
      "\n"
     ]
    },
    {
     "data": {
      "text/plain": [
       "\"Element ('t', 'v'), of Einstein tensor\""
      ]
     },
     "metadata": {},
     "output_type": "display_data"
    },
    {
     "data": {
      "image/png": "[encoded data removed]",
      "text/latex": [
       "$\\displaystyle \\frac{\\left(A{\\left(u,v \\right)} \\frac{\\partial}{\\partial v} B{\\left(u,v \\right)} + B{\\left(u,v \\right)} \\frac{\\partial}{\\partial v} A{\\left(u,v \\right)}\\right) \\frac{\\partial}{\\partial t} C{\\left(t,w \\right)}}{4 A{\\left(u,v \\right)} B{\\left(u,v \\right)} C{\\left(t,w \\right)}}$"
      ],
      "text/plain": [
       "⎛        ∂                     ∂          ⎞ ∂          \n",
       "⎜A(u, v)⋅──(B(u, v)) + B(u, v)⋅──(A(u, v))⎟⋅──(C(t, w))\n",
       "⎝        ∂v                    ∂v         ⎠ ∂t         \n",
       "───────────────────────────────────────────────────────\n",
       "               4⋅A(u, v)⋅B(u, v)⋅C(t, w)               "
      ]
     },
     "metadata": {},
     "output_type": "display_data"
    },
    {
     "name": "stdout",
     "output_type": "stream",
     "text": [
      "\n",
      "\n",
      "\n"
     ]
    },
    {
     "data": {
      "text/plain": [
       "\"Element ('t', 'w'), of Einstein tensor\""
      ]
     },
     "metadata": {},
     "output_type": "display_data"
    },
    {
     "data": {
      "image/png": "[encoded data removed]",
      "text/latex": [
       "$\\displaystyle - \\frac{2 C{\\left(t,w \\right)} \\frac{\\partial^{2}}{\\partial w\\partial t} C{\\left(t,w \\right)} - \\frac{\\partial}{\\partial t} C{\\left(t,w \\right)} \\frac{\\partial}{\\partial w} C{\\left(t,w \\right)}}{2 C^{2}{\\left(t,w \\right)}}$"
      ],
      "text/plain": [
       " ⎛             2                                    ⎞ \n",
       " ⎜            ∂              ∂           ∂          ⎟ \n",
       "-⎜2⋅C(t, w)⋅─────(C(t, w)) - ──(C(t, w))⋅──(C(t, w))⎟ \n",
       " ⎝          ∂w ∂t            ∂t          ∂w         ⎠ \n",
       "──────────────────────────────────────────────────────\n",
       "                         2                            \n",
       "                      2⋅C (t, w)                      "
      ]
     },
     "metadata": {},
     "output_type": "display_data"
    },
    {
     "name": "stdout",
     "output_type": "stream",
     "text": [
      "\n",
      "\n",
      "\n"
     ]
    },
    {
     "data": {
      "text/plain": [
       "\"Element ('u', 't'), of Einstein tensor\""
      ]
     },
     "metadata": {},
     "output_type": "display_data"
    },
    {
     "data": {
      "image/png": "[encoded data removed]",
      "text/latex": [
       "$\\displaystyle \\frac{\\left(A{\\left(u,v \\right)} \\frac{\\partial}{\\partial u} B{\\left(u,v \\right)} + B{\\left(u,v \\right)} \\frac{\\partial}{\\partial u} A{\\left(u,v \\right)}\\right) \\frac{\\partial}{\\partial t} C{\\left(t,w \\right)}}{4 A{\\left(u,v \\right)} B{\\left(u,v \\right)} C{\\left(t,w \\right)}}$"
      ],
      "text/plain": [
       "⎛        ∂                     ∂          ⎞ ∂          \n",
       "⎜A(u, v)⋅──(B(u, v)) + B(u, v)⋅──(A(u, v))⎟⋅──(C(t, w))\n",
       "⎝        ∂u                    ∂u         ⎠ ∂t         \n",
       "───────────────────────────────────────────────────────\n",
       "               4⋅A(u, v)⋅B(u, v)⋅C(t, w)               "
      ]
     },
     "metadata": {},
     "output_type": "display_data"
    },
    {
     "name": "stdout",
     "output_type": "stream",
     "text": [
      "\n",
      "\n",
      "\n"
     ]
    },
    {
     "data": {
      "text/plain": [
       "\"Element ('u', 'u'), of Einstein tensor\""
      ]
     },
     "metadata": {},
     "output_type": "display_data"
    },
    {
     "data": {
      "image/png": "[encoded data removed]",
      "text/latex": [
       "$\\displaystyle \\frac{0.5 \\left(1.0 A^{2}{\\left(u,v \\right)} B{\\left(u,v \\right)} C{\\left(t,w \\right)} f{\\left(u,v \\right)} \\frac{\\partial^{2}}{\\partial v^{2}} B{\\left(u,v \\right)} + 1.0 A^{2}{\\left(u,v \\right)} B{\\left(u,v \\right)} C{\\left(t,w \\right)} f{\\left(u,v \\right)} \\frac{\\partial^{2}}{\\partial w^{2}} C{\\left(t,w \\right)} - 0.5 A^{2}{\\left(u,v \\right)} B{\\left(u,v \\right)} f{\\left(u,v \\right)} \\left(\\frac{\\partial}{\\partial w} C{\\left(t,w \\right)}\\right)^{2} - 0.5 A^{2}{\\left(u,v \\right)} C{\\left(t,w \\right)} f{\\left(u,v \\right)} \\left(\\frac{\\partial}{\\partial v} B{\\left(u,v \\right)}\\right)^{2} + 1.0 A{\\left(u,v \\right)} B^{2}{\\left(u,v \\right)} C{\\left(t,w \\right)} f{\\left(u,v \\right)} \\frac{\\partial^{2}}{\\partial v^{2}} A{\\left(u,v \\right)} - 1.0 A{\\left(u,v \\right)} B^{2}{\\left(u,v \\right)} C{\\left(t,w \\right)} f{\\left(u,v \\right)} \\frac{\\partial^{2}}{\\partial t^{2}} C{\\left(t,w \\right)} + 0.5 A{\\left(u,v \\right)} B^{2}{\\left(u,v \\right)} f{\\left(u,v \\right)} \\left(\\frac{\\partial}{\\partial t} C{\\left(t,w \\right)}\\right)^{2} + 0.5 A{\\left(u,v \\right)} B{\\left(u,v \\right)} C{\\left(t,w \\right)} f{\\left(u,v \\right)} \\frac{\\partial}{\\partial v} A{\\left(u,v \\right)} \\frac{\\partial}{\\partial v} B{\\left(u,v \\right)} + 0.5 A{\\left(u,v \\right)} B{\\left(u,v \\right)} C{\\left(t,w \\right)} \\frac{\\partial}{\\partial u} A{\\left(u,v \\right)} \\frac{\\partial}{\\partial u} B{\\left(u,v \\right)} - 0.5 B^{2}{\\left(u,v \\right)} C{\\left(t,w \\right)} f{\\left(u,v \\right)} \\left(\\frac{\\partial}{\\partial v} A{\\left(u,v \\right)}\\right)^{2}\\right)}{A^{2}{\\left(u,v \\right)} B^{2}{\\left(u,v \\right)} C{\\left(t,w \\right)}}$"
      ],
      "text/plain": [
       "    ⎛                                       2                                 \n",
       "    ⎜     2                                ∂                  2               \n",
       "0.5⋅⎜1.0⋅A (u, v)⋅B(u, v)⋅C(t, w)⋅f(u, v)⋅───(B(u, v)) + 1.0⋅A (u, v)⋅B(u, v)⋅\n",
       "    ⎜                                       2                                 \n",
       "    ⎝                                     ∂v                                  \n",
       "──────────────────────────────────────────────────────────────────────────────\n",
       "                                                                              \n",
       "                                                                              \n",
       "\n",
       "                  2                                                      2    \n",
       "                 ∂                  2                       ⎛∂          ⎞     \n",
       "C(t, w)⋅f(u, v)⋅───(C(t, w)) - 0.5⋅A (u, v)⋅B(u, v)⋅f(u, v)⋅⎜──(C(t, w))⎟  - 0\n",
       "                  2                                         ⎝∂w         ⎠     \n",
       "                ∂w                                                            \n",
       "──────────────────────────────────────────────────────────────────────────────\n",
       "                                                                              \n",
       "                                                                              \n",
       "\n",
       "                                         2                                    \n",
       "    2                       ⎛∂          ⎞                 2                   \n",
       ".5⋅A (u, v)⋅C(t, w)⋅f(u, v)⋅⎜──(B(u, v))⎟  + 1.0⋅A(u, v)⋅B (u, v)⋅C(t, w)⋅f(u,\n",
       "                            ⎝∂v         ⎠                                     \n",
       "                                                                              \n",
       "──────────────────────────────────────────────────────────────────────────────\n",
       "                                                                              \n",
       "                                                                              \n",
       "\n",
       "      2                                               2                       \n",
       "     ∂                      2                        ∂                        \n",
       " v)⋅───(A(u, v)) - A(u, v)⋅B (u, v)⋅C(t, w)⋅f(u, v)⋅───(C(t, w)) + 0.5⋅A(u, v)\n",
       "      2                                               2                       \n",
       "    ∂v                                              ∂t                        \n",
       "──────────────────────────────────────────────────────────────────────────────\n",
       "        2        2                                                            \n",
       "       A (u, v)⋅B (u, v)⋅C(t, w)                                              \n",
       "\n",
       "                               2                                              \n",
       "  2               ⎛∂          ⎞                                        ∂      \n",
       "⋅B (u, v)⋅f(u, v)⋅⎜──(C(t, w))⎟  + 0.5⋅A(u, v)⋅B(u, v)⋅C(t, w)⋅f(u, v)⋅──(A(u,\n",
       "                  ⎝∂t         ⎠                                        ∂v     \n",
       "                                                                              \n",
       "──────────────────────────────────────────────────────────────────────────────\n",
       "                                                                              \n",
       "                                                                              \n",
       "\n",
       "                                                                              \n",
       "     ∂                                         ∂           ∂                  \n",
       " v))⋅──(B(u, v)) + 0.5⋅A(u, v)⋅B(u, v)⋅C(t, w)⋅──(A(u, v))⋅──(B(u, v)) - 0.5⋅B\n",
       "     ∂v                                        ∂u          ∂u                 \n",
       "                                                                              \n",
       "──────────────────────────────────────────────────────────────────────────────\n",
       "                                                                              \n",
       "                                                                              \n",
       "\n",
       "                                     2⎞\n",
       "2                       ⎛∂          ⎞ ⎟\n",
       " (u, v)⋅C(t, w)⋅f(u, v)⋅⎜──(A(u, v))⎟ ⎟\n",
       "                        ⎝∂v         ⎠ ⎟\n",
       "                                      ⎠\n",
       "───────────────────────────────────────\n",
       "                                       \n",
       "                                       "
      ]
     },
     "metadata": {},
     "output_type": "display_data"
    },
    {
     "name": "stdout",
     "output_type": "stream",
     "text": [
      "\n",
      "\n",
      "\n"
     ]
    },
    {
     "data": {
      "text/plain": [
       "\"Element ('u', 'v'), of Einstein tensor\""
      ]
     },
     "metadata": {},
     "output_type": "display_data"
    },
    {
     "data": {
      "image/png": "[encoded data removed]",
      "text/latex": [
       "$\\displaystyle \\frac{- 2 A^{2}{\\left(u,v \\right)} B{\\left(u,v \\right)} f{\\left(u,v \\right)} \\frac{\\partial^{2}}{\\partial v\\partial u} B{\\left(u,v \\right)} + A^{2}{\\left(u,v \\right)} B{\\left(u,v \\right)} \\frac{\\partial}{\\partial u} B{\\left(u,v \\right)} \\frac{\\partial}{\\partial v} f{\\left(u,v \\right)} + A^{2}{\\left(u,v \\right)} f{\\left(u,v \\right)} \\frac{\\partial}{\\partial u} B{\\left(u,v \\right)} \\frac{\\partial}{\\partial v} B{\\left(u,v \\right)} - 2 A{\\left(u,v \\right)} B^{2}{\\left(u,v \\right)} f{\\left(u,v \\right)} \\frac{\\partial^{2}}{\\partial v\\partial u} A{\\left(u,v \\right)} + A{\\left(u,v \\right)} B^{2}{\\left(u,v \\right)} \\frac{\\partial}{\\partial u} A{\\left(u,v \\right)} \\frac{\\partial}{\\partial v} f{\\left(u,v \\right)} + B^{2}{\\left(u,v \\right)} f{\\left(u,v \\right)} \\frac{\\partial}{\\partial u} A{\\left(u,v \\right)} \\frac{\\partial}{\\partial v} A{\\left(u,v \\right)}}{4 A^{2}{\\left(u,v \\right)} B^{2}{\\left(u,v \\right)} f{\\left(u,v \\right)}}$"
      ],
      "text/plain": [
       "                                2                                             \n",
       "     2                         ∂               2               ∂           ∂  \n",
       "- 2⋅A (u, v)⋅B(u, v)⋅f(u, v)⋅─────(B(u, v)) + A (u, v)⋅B(u, v)⋅──(B(u, v))⋅──(\n",
       "                             ∂v ∂u                             ∂u          ∂v \n",
       "──────────────────────────────────────────────────────────────────────────────\n",
       "                                                                              \n",
       "                                                                              \n",
       "\n",
       "                                                                              \n",
       "            2               ∂           ∂                        2            \n",
       "f(u, v)) + A (u, v)⋅f(u, v)⋅──(B(u, v))⋅──(B(u, v)) - 2⋅A(u, v)⋅B (u, v)⋅f(u, \n",
       "                            ∂u          ∂v                                    \n",
       "──────────────────────────────────────────────────────────────────────────────\n",
       "                                         2        2                           \n",
       "                                      4⋅A (u, v)⋅B (u, v)⋅f(u, v)             \n",
       "\n",
       "      2                                                                       \n",
       "     ∂                       2       ∂           ∂              2             \n",
       "v)⋅─────(A(u, v)) + A(u, v)⋅B (u, v)⋅──(A(u, v))⋅──(f(u, v)) + B (u, v)⋅f(u, v\n",
       "   ∂v ∂u                             ∂u          ∂v                           \n",
       "──────────────────────────────────────────────────────────────────────────────\n",
       "                                                                              \n",
       "                                                                              \n",
       "\n",
       "                         \n",
       "  ∂           ∂          \n",
       ")⋅──(A(u, v))⋅──(A(u, v))\n",
       "  ∂u          ∂v         \n",
       "─────────────────────────\n",
       "                         \n",
       "                         "
      ]
     },
     "metadata": {},
     "output_type": "display_data"
    },
    {
     "name": "stdout",
     "output_type": "stream",
     "text": [
      "\n",
      "\n",
      "\n"
     ]
    },
    {
     "data": {
      "text/plain": [
       "\"Element ('u', 'w'), of Einstein tensor\""
      ]
     },
     "metadata": {},
     "output_type": "display_data"
    },
    {
     "data": {
      "image/png": "[encoded data removed]",
      "text/latex": [
       "$\\displaystyle \\frac{\\left(A{\\left(u,v \\right)} \\frac{\\partial}{\\partial u} B{\\left(u,v \\right)} + B{\\left(u,v \\right)} \\frac{\\partial}{\\partial u} A{\\left(u,v \\right)}\\right) \\frac{\\partial}{\\partial w} C{\\left(t,w \\right)}}{4 A{\\left(u,v \\right)} B{\\left(u,v \\right)} C{\\left(t,w \\right)}}$"
      ],
      "text/plain": [
       "⎛        ∂                     ∂          ⎞ ∂          \n",
       "⎜A(u, v)⋅──(B(u, v)) + B(u, v)⋅──(A(u, v))⎟⋅──(C(t, w))\n",
       "⎝        ∂u                    ∂u         ⎠ ∂w         \n",
       "───────────────────────────────────────────────────────\n",
       "               4⋅A(u, v)⋅B(u, v)⋅C(t, w)               "
      ]
     },
     "metadata": {},
     "output_type": "display_data"
    },
    {
     "name": "stdout",
     "output_type": "stream",
     "text": [
      "\n",
      "\n",
      "\n"
     ]
    },
    {
     "data": {
      "text/plain": [
       "\"Element ('v', 't'), of Einstein tensor\""
      ]
     },
     "metadata": {},
     "output_type": "display_data"
    },
    {
     "data": {
      "image/png": "[encoded data removed]",
      "text/latex": [
       "$\\displaystyle \\frac{\\left(A{\\left(u,v \\right)} \\frac{\\partial}{\\partial v} B{\\left(u,v \\right)} + B{\\left(u,v \\right)} \\frac{\\partial}{\\partial v} A{\\left(u,v \\right)}\\right) \\frac{\\partial}{\\partial t} C{\\left(t,w \\right)}}{4 A{\\left(u,v \\right)} B{\\left(u,v \\right)} C{\\left(t,w \\right)}}$"
      ],
      "text/plain": [
       "⎛        ∂                     ∂          ⎞ ∂          \n",
       "⎜A(u, v)⋅──(B(u, v)) + B(u, v)⋅──(A(u, v))⎟⋅──(C(t, w))\n",
       "⎝        ∂v                    ∂v         ⎠ ∂t         \n",
       "───────────────────────────────────────────────────────\n",
       "               4⋅A(u, v)⋅B(u, v)⋅C(t, w)               "
      ]
     },
     "metadata": {},
     "output_type": "display_data"
    },
    {
     "name": "stdout",
     "output_type": "stream",
     "text": [
      "\n",
      "\n",
      "\n"
     ]
    },
    {
     "data": {
      "text/plain": [
       "\"Element ('v', 'u'), of Einstein tensor\""
      ]
     },
     "metadata": {},
     "output_type": "display_data"
    },
    {
     "data": {
      "image/png": "[encoded data removed]",
      "text/latex": [
       "$\\displaystyle \\frac{- 2 A^{2}{\\left(u,v \\right)} B{\\left(u,v \\right)} f{\\left(u,v \\right)} \\frac{\\partial^{2}}{\\partial v\\partial u} B{\\left(u,v \\right)} + A^{2}{\\left(u,v \\right)} B{\\left(u,v \\right)} \\frac{\\partial}{\\partial u} B{\\left(u,v \\right)} \\frac{\\partial}{\\partial v} f{\\left(u,v \\right)} + A^{2}{\\left(u,v \\right)} f{\\left(u,v \\right)} \\frac{\\partial}{\\partial u} B{\\left(u,v \\right)} \\frac{\\partial}{\\partial v} B{\\left(u,v \\right)} - 2 A{\\left(u,v \\right)} B^{2}{\\left(u,v \\right)} f{\\left(u,v \\right)} \\frac{\\partial^{2}}{\\partial v\\partial u} A{\\left(u,v \\right)} + A{\\left(u,v \\right)} B^{2}{\\left(u,v \\right)} \\frac{\\partial}{\\partial u} A{\\left(u,v \\right)} \\frac{\\partial}{\\partial v} f{\\left(u,v \\right)} + B^{2}{\\left(u,v \\right)} f{\\left(u,v \\right)} \\frac{\\partial}{\\partial u} A{\\left(u,v \\right)} \\frac{\\partial}{\\partial v} A{\\left(u,v \\right)}}{4 A^{2}{\\left(u,v \\right)} B^{2}{\\left(u,v \\right)} f{\\left(u,v \\right)}}$"
      ],
      "text/plain": [
       "                                2                                             \n",
       "     2                         ∂               2               ∂           ∂  \n",
       "- 2⋅A (u, v)⋅B(u, v)⋅f(u, v)⋅─────(B(u, v)) + A (u, v)⋅B(u, v)⋅──(B(u, v))⋅──(\n",
       "                             ∂v ∂u                             ∂u          ∂v \n",
       "──────────────────────────────────────────────────────────────────────────────\n",
       "                                                                              \n",
       "                                                                              \n",
       "\n",
       "                                                                              \n",
       "            2               ∂           ∂                        2            \n",
       "f(u, v)) + A (u, v)⋅f(u, v)⋅──(B(u, v))⋅──(B(u, v)) - 2⋅A(u, v)⋅B (u, v)⋅f(u, \n",
       "                            ∂u          ∂v                                    \n",
       "──────────────────────────────────────────────────────────────────────────────\n",
       "                                         2        2                           \n",
       "                                      4⋅A (u, v)⋅B (u, v)⋅f(u, v)             \n",
       "\n",
       "      2                                                                       \n",
       "     ∂                       2       ∂           ∂              2             \n",
       "v)⋅─────(A(u, v)) + A(u, v)⋅B (u, v)⋅──(A(u, v))⋅──(f(u, v)) + B (u, v)⋅f(u, v\n",
       "   ∂v ∂u                             ∂u          ∂v                           \n",
       "──────────────────────────────────────────────────────────────────────────────\n",
       "                                                                              \n",
       "                                                                              \n",
       "\n",
       "                         \n",
       "  ∂           ∂          \n",
       ")⋅──(A(u, v))⋅──(A(u, v))\n",
       "  ∂u          ∂v         \n",
       "─────────────────────────\n",
       "                         \n",
       "                         "
      ]
     },
     "metadata": {},
     "output_type": "display_data"
    },
    {
     "name": "stdout",
     "output_type": "stream",
     "text": [
      "\n",
      "\n",
      "\n"
     ]
    },
    {
     "data": {
      "text/plain": [
       "\"Element ('v', 'v'), of Einstein tensor\""
      ]
     },
     "metadata": {},
     "output_type": "display_data"
    },
    {
     "data": {
      "image/png": "[encoded data removed]",
      "text/latex": [
       "$\\displaystyle \\frac{0.5 \\left(1.0 A^{2}{\\left(u,v \\right)} B{\\left(u,v \\right)} C{\\left(t,w \\right)} f^{2}{\\left(u,v \\right)} \\frac{\\partial^{2}}{\\partial w^{2}} C{\\left(t,w \\right)} + 1.0 A^{2}{\\left(u,v \\right)} B{\\left(u,v \\right)} C{\\left(t,w \\right)} f{\\left(u,v \\right)} \\frac{\\partial^{2}}{\\partial u^{2}} B{\\left(u,v \\right)} + 0.5 A^{2}{\\left(u,v \\right)} B{\\left(u,v \\right)} C{\\left(t,w \\right)} f{\\left(u,v \\right)} \\frac{\\partial}{\\partial v} B{\\left(u,v \\right)} \\frac{\\partial}{\\partial v} f{\\left(u,v \\right)} - 0.5 A^{2}{\\left(u,v \\right)} B{\\left(u,v \\right)} C{\\left(t,w \\right)} \\frac{\\partial}{\\partial u} B{\\left(u,v \\right)} \\frac{\\partial}{\\partial u} f{\\left(u,v \\right)} - 0.5 A^{2}{\\left(u,v \\right)} B{\\left(u,v \\right)} f^{2}{\\left(u,v \\right)} \\left(\\frac{\\partial}{\\partial w} C{\\left(t,w \\right)}\\right)^{2} - 0.5 A^{2}{\\left(u,v \\right)} C{\\left(t,w \\right)} f{\\left(u,v \\right)} \\left(\\frac{\\partial}{\\partial u} B{\\left(u,v \\right)}\\right)^{2} - 1.0 A{\\left(u,v \\right)} B^{2}{\\left(u,v \\right)} C{\\left(t,w \\right)} f^{2}{\\left(u,v \\right)} \\frac{\\partial^{2}}{\\partial t^{2}} C{\\left(t,w \\right)} + 1.0 A{\\left(u,v \\right)} B^{2}{\\left(u,v \\right)} C{\\left(t,w \\right)} f{\\left(u,v \\right)} \\frac{\\partial^{2}}{\\partial u^{2}} A{\\left(u,v \\right)} + 0.5 A{\\left(u,v \\right)} B^{2}{\\left(u,v \\right)} C{\\left(t,w \\right)} f{\\left(u,v \\right)} \\frac{\\partial}{\\partial v} A{\\left(u,v \\right)} \\frac{\\partial}{\\partial v} f{\\left(u,v \\right)} - 0.5 A{\\left(u,v \\right)} B^{2}{\\left(u,v \\right)} C{\\left(t,w \\right)} \\frac{\\partial}{\\partial u} A{\\left(u,v \\right)} \\frac{\\partial}{\\partial u} f{\\left(u,v \\right)} + 0.5 A{\\left(u,v \\right)} B^{2}{\\left(u,v \\right)} f^{2}{\\left(u,v \\right)} \\left(\\frac{\\partial}{\\partial t} C{\\left(t,w \\right)}\\right)^{2} + 0.5 A{\\left(u,v \\right)} B{\\left(u,v \\right)} C{\\left(t,w \\right)} f^{2}{\\left(u,v \\right)} \\frac{\\partial}{\\partial v} A{\\left(u,v \\right)} \\frac{\\partial}{\\partial v} B{\\left(u,v \\right)} + 0.5 A{\\left(u,v \\right)} B{\\left(u,v \\right)} C{\\left(t,w \\right)} f{\\left(u,v \\right)} \\frac{\\partial}{\\partial u} A{\\left(u,v \\right)} \\frac{\\partial}{\\partial u} B{\\left(u,v \\right)} - 0.5 B^{2}{\\left(u,v \\right)} C{\\left(t,w \\right)} f{\\left(u,v \\right)} \\left(\\frac{\\partial}{\\partial u} A{\\left(u,v \\right)}\\right)^{2}\\right)}{A^{2}{\\left(u,v \\right)} B^{2}{\\left(u,v \\right)} C{\\left(t,w \\right)} f^{2}{\\left(u,v \\right)}}$"
      ],
      "text/plain": [
       "    ⎛                                        2                                \n",
       "    ⎜     2                        2        ∂                  2              \n",
       "0.5⋅⎜1.0⋅A (u, v)⋅B(u, v)⋅C(t, w)⋅f (u, v)⋅───(C(t, w)) + 1.0⋅A (u, v)⋅B(u, v)\n",
       "    ⎜                                        2                                \n",
       "    ⎝                                      ∂w                                 \n",
       "──────────────────────────────────────────────────────────────────────────────\n",
       "                                                                              \n",
       "                                                                              \n",
       "\n",
       "                   2                                                          \n",
       "                  ∂                  2                               ∂        \n",
       "⋅C(t, w)⋅f(u, v)⋅───(B(u, v)) + 0.5⋅A (u, v)⋅B(u, v)⋅C(t, w)⋅f(u, v)⋅──(B(u, v\n",
       "                   2                                                 ∂v       \n",
       "                 ∂u                                                           \n",
       "──────────────────────────────────────────────────────────────────────────────\n",
       "                                                                              \n",
       "                                                                              \n",
       "\n",
       "                                                                              \n",
       "   ∂                  2                       ∂           ∂                  2\n",
       "))⋅──(f(u, v)) - 0.5⋅A (u, v)⋅B(u, v)⋅C(t, w)⋅──(B(u, v))⋅──(f(u, v)) - 0.5⋅A \n",
       "   ∂v                                         ∂u          ∂u                  \n",
       "                                                                              \n",
       "──────────────────────────────────────────────────────────────────────────────\n",
       "                                                                              \n",
       "                                                                              \n",
       "\n",
       "                                     2                                        \n",
       "                2       ⎛∂          ⎞         2                       ⎛∂      \n",
       "(u, v)⋅B(u, v)⋅f (u, v)⋅⎜──(C(t, w))⎟  - 0.5⋅A (u, v)⋅C(t, w)⋅f(u, v)⋅⎜──(B(u,\n",
       "                        ⎝∂w         ⎠                                 ⎝∂u     \n",
       "                                                                              \n",
       "──────────────────────────────────────────────────────────────────────────────\n",
       "                                                                              \n",
       "                                                                              \n",
       "\n",
       "     2                                       2                                \n",
       "    ⎞             2                2        ∂                          2      \n",
       " v))⎟  - A(u, v)⋅B (u, v)⋅C(t, w)⋅f (u, v)⋅───(C(t, w)) + 1.0⋅A(u, v)⋅B (u, v)\n",
       "    ⎠                                        2                                \n",
       "                                           ∂t                                 \n",
       "──────────────────────────────────────────────────────────────────────────────\n",
       "                                                  2        2                2 \n",
       "                                                 A (u, v)⋅B (u, v)⋅C(t, w)⋅f (\n",
       "\n",
       "                   2                                                          \n",
       "                  ∂                          2                       ∂        \n",
       "⋅C(t, w)⋅f(u, v)⋅───(A(u, v)) + 0.5⋅A(u, v)⋅B (u, v)⋅C(t, w)⋅f(u, v)⋅──(A(u, v\n",
       "                   2                                                 ∂v       \n",
       "                 ∂u                                                           \n",
       "──────────────────────────────────────────────────────────────────────────────\n",
       "                                                                              \n",
       "u, v)                                                                         \n",
       "\n",
       "                                                                              \n",
       "   ∂                          2               ∂           ∂                   \n",
       "))⋅──(f(u, v)) - 0.5⋅A(u, v)⋅B (u, v)⋅C(t, w)⋅──(A(u, v))⋅──(f(u, v)) + 0.5⋅A(\n",
       "   ∂v                                         ∂u          ∂u                  \n",
       "                                                                              \n",
       "──────────────────────────────────────────────────────────────────────────────\n",
       "                                                                              \n",
       "                                                                              \n",
       "\n",
       "                                     2                                        \n",
       "       2        2       ⎛∂          ⎞                                 2       \n",
       "u, v)⋅B (u, v)⋅f (u, v)⋅⎜──(C(t, w))⎟  + 0.5⋅A(u, v)⋅B(u, v)⋅C(t, w)⋅f (u, v)⋅\n",
       "                        ⎝∂t         ⎠                                         \n",
       "                                                                              \n",
       "──────────────────────────────────────────────────────────────────────────────\n",
       "                                                                              \n",
       "                                                                              \n",
       "\n",
       "                                                                              \n",
       "∂           ∂                                                 ∂           ∂   \n",
       "──(A(u, v))⋅──(B(u, v)) + 0.5⋅A(u, v)⋅B(u, v)⋅C(t, w)⋅f(u, v)⋅──(A(u, v))⋅──(B\n",
       "∂v          ∂v                                                ∂u          ∂u  \n",
       "                                                                              \n",
       "──────────────────────────────────────────────────────────────────────────────\n",
       "                                                                              \n",
       "                                                                              \n",
       "\n",
       "                                                    2⎞\n",
       "               2                       ⎛∂          ⎞ ⎟\n",
       "(u, v)) - 0.5⋅B (u, v)⋅C(t, w)⋅f(u, v)⋅⎜──(A(u, v))⎟ ⎟\n",
       "                                       ⎝∂u         ⎠ ⎟\n",
       "                                                     ⎠\n",
       "──────────────────────────────────────────────────────\n",
       "                                                      \n",
       "                                                      "
      ]
     },
     "metadata": {},
     "output_type": "display_data"
    },
    {
     "name": "stdout",
     "output_type": "stream",
     "text": [
      "\n",
      "\n",
      "\n"
     ]
    },
    {
     "data": {
      "text/plain": [
       "\"Element ('v', 'w'), of Einstein tensor\""
      ]
     },
     "metadata": {},
     "output_type": "display_data"
    },
    {
     "data": {
      "image/png": "[encoded data removed]",
      "text/latex": [
       "$\\displaystyle \\frac{\\left(A{\\left(u,v \\right)} \\frac{\\partial}{\\partial v} B{\\left(u,v \\right)} + B{\\left(u,v \\right)} \\frac{\\partial}{\\partial v} A{\\left(u,v \\right)}\\right) \\frac{\\partial}{\\partial w} C{\\left(t,w \\right)}}{4 A{\\left(u,v \\right)} B{\\left(u,v \\right)} C{\\left(t,w \\right)}}$"
      ],
      "text/plain": [
       "⎛        ∂                     ∂          ⎞ ∂          \n",
       "⎜A(u, v)⋅──(B(u, v)) + B(u, v)⋅──(A(u, v))⎟⋅──(C(t, w))\n",
       "⎝        ∂v                    ∂v         ⎠ ∂w         \n",
       "───────────────────────────────────────────────────────\n",
       "               4⋅A(u, v)⋅B(u, v)⋅C(t, w)               "
      ]
     },
     "metadata": {},
     "output_type": "display_data"
    },
    {
     "name": "stdout",
     "output_type": "stream",
     "text": [
      "\n",
      "\n",
      "\n"
     ]
    },
    {
     "data": {
      "text/plain": [
       "\"Element ('w', 't'), of Einstein tensor\""
      ]
     },
     "metadata": {},
     "output_type": "display_data"
    },
    {
     "data": {
      "image/png": "[encoded data removed]",
      "text/latex": [
       "$\\displaystyle - \\frac{2 C{\\left(t,w \\right)} \\frac{\\partial^{2}}{\\partial w\\partial t} C{\\left(t,w \\right)} - \\frac{\\partial}{\\partial t} C{\\left(t,w \\right)} \\frac{\\partial}{\\partial w} C{\\left(t,w \\right)}}{2 C^{2}{\\left(t,w \\right)}}$"
      ],
      "text/plain": [
       " ⎛             2                                    ⎞ \n",
       " ⎜            ∂              ∂           ∂          ⎟ \n",
       "-⎜2⋅C(t, w)⋅─────(C(t, w)) - ──(C(t, w))⋅──(C(t, w))⎟ \n",
       " ⎝          ∂w ∂t            ∂t          ∂w         ⎠ \n",
       "──────────────────────────────────────────────────────\n",
       "                         2                            \n",
       "                      2⋅C (t, w)                      "
      ]
     },
     "metadata": {},
     "output_type": "display_data"
    },
    {
     "name": "stdout",
     "output_type": "stream",
     "text": [
      "\n",
      "\n",
      "\n"
     ]
    },
    {
     "data": {
      "text/plain": [
       "\"Element ('w', 'u'), of Einstein tensor\""
      ]
     },
     "metadata": {},
     "output_type": "display_data"
    },
    {
     "data": {
      "image/png": "[encoded data removed]",
      "text/latex": [
       "$\\displaystyle \\frac{\\left(A{\\left(u,v \\right)} \\frac{\\partial}{\\partial u} B{\\left(u,v \\right)} + B{\\left(u,v \\right)} \\frac{\\partial}{\\partial u} A{\\left(u,v \\right)}\\right) \\frac{\\partial}{\\partial w} C{\\left(t,w \\right)}}{4 A{\\left(u,v \\right)} B{\\left(u,v \\right)} C{\\left(t,w \\right)}}$"
      ],
      "text/plain": [
       "⎛        ∂                     ∂          ⎞ ∂          \n",
       "⎜A(u, v)⋅──(B(u, v)) + B(u, v)⋅──(A(u, v))⎟⋅──(C(t, w))\n",
       "⎝        ∂u                    ∂u         ⎠ ∂w         \n",
       "───────────────────────────────────────────────────────\n",
       "               4⋅A(u, v)⋅B(u, v)⋅C(t, w)               "
      ]
     },
     "metadata": {},
     "output_type": "display_data"
    },
    {
     "name": "stdout",
     "output_type": "stream",
     "text": [
      "\n",
      "\n",
      "\n"
     ]
    },
    {
     "data": {
      "text/plain": [
       "\"Element ('w', 'v'), of Einstein tensor\""
      ]
     },
     "metadata": {},
     "output_type": "display_data"
    },
    {
     "data": {
      "image/png": "[encoded data removed]",
      "text/latex": [
       "$\\displaystyle \\frac{\\left(A{\\left(u,v \\right)} \\frac{\\partial}{\\partial v} B{\\left(u,v \\right)} + B{\\left(u,v \\right)} \\frac{\\partial}{\\partial v} A{\\left(u,v \\right)}\\right) \\frac{\\partial}{\\partial w} C{\\left(t,w \\right)}}{4 A{\\left(u,v \\right)} B{\\left(u,v \\right)} C{\\left(t,w \\right)}}$"
      ],
      "text/plain": [
       "⎛        ∂                     ∂          ⎞ ∂          \n",
       "⎜A(u, v)⋅──(B(u, v)) + B(u, v)⋅──(A(u, v))⎟⋅──(C(t, w))\n",
       "⎝        ∂v                    ∂v         ⎠ ∂w         \n",
       "───────────────────────────────────────────────────────\n",
       "               4⋅A(u, v)⋅B(u, v)⋅C(t, w)               "
      ]
     },
     "metadata": {},
     "output_type": "display_data"
    },
    {
     "name": "stdout",
     "output_type": "stream",
     "text": [
      "\n",
      "\n",
      "\n"
     ]
    },
    {
     "data": {
      "text/plain": [
       "\"Element ('w', 'w'), of Einstein tensor\""
      ]
     },
     "metadata": {},
     "output_type": "display_data"
    },
    {
     "data": {
      "image/png": "[encoded data removed]",
      "text/latex": [
       "$\\displaystyle \\frac{1.0 \\left(0.5 A^{2}{\\left(u,v \\right)} B{\\left(u,v \\right)} C{\\left(t,w \\right)} f{\\left(u,v \\right)} \\frac{\\partial^{2}}{\\partial v^{2}} f{\\left(u,v \\right)} - 0.25 A^{2}{\\left(u,v \\right)} B{\\left(u,v \\right)} C{\\left(t,w \\right)} \\left(\\frac{\\partial}{\\partial v} f{\\left(u,v \\right)}\\right)^{2} + 0.25 A^{2}{\\left(u,v \\right)} f^{2}{\\left(u,v \\right)} \\left(\\frac{\\partial}{\\partial w} C{\\left(t,w \\right)}\\right)^{2} + 0.5 A{\\left(u,v \\right)} B{\\left(u,v \\right)} C{\\left(t,w \\right)} f^{2}{\\left(u,v \\right)} \\frac{\\partial^{2}}{\\partial v^{2}} A{\\left(u,v \\right)} - 1.0 A{\\left(u,v \\right)} B{\\left(u,v \\right)} C{\\left(t,w \\right)} f^{2}{\\left(u,v \\right)} \\frac{\\partial^{2}}{\\partial t^{2}} C{\\left(t,w \\right)} + 0.5 A{\\left(u,v \\right)} B{\\left(u,v \\right)} C{\\left(t,w \\right)} f{\\left(u,v \\right)} \\frac{\\partial^{2}}{\\partial u^{2}} A{\\left(u,v \\right)} + 0.25 A{\\left(u,v \\right)} B{\\left(u,v \\right)} C{\\left(t,w \\right)} f{\\left(u,v \\right)} \\frac{\\partial}{\\partial v} A{\\left(u,v \\right)} \\frac{\\partial}{\\partial v} f{\\left(u,v \\right)} - 0.25 A{\\left(u,v \\right)} B{\\left(u,v \\right)} C{\\left(t,w \\right)} \\frac{\\partial}{\\partial u} A{\\left(u,v \\right)} \\frac{\\partial}{\\partial u} f{\\left(u,v \\right)} + 0.25 A{\\left(u,v \\right)} B{\\left(u,v \\right)} f^{2}{\\left(u,v \\right)} \\left(\\frac{\\partial}{\\partial t} C{\\left(t,w \\right)}\\right)^{2} - 0.25 B{\\left(u,v \\right)} C{\\left(t,w \\right)} f^{2}{\\left(u,v \\right)} \\left(\\frac{\\partial}{\\partial v} A{\\left(u,v \\right)}\\right)^{2} - 0.25 B{\\left(u,v \\right)} C{\\left(t,w \\right)} f{\\left(u,v \\right)} \\left(\\frac{\\partial}{\\partial u} A{\\left(u,v \\right)}\\right)^{2}\\right)}{A^{2}{\\left(u,v \\right)} C^{2}{\\left(t,w \\right)} f^{2}{\\left(u,v \\right)}}$"
      ],
      "text/plain": [
       "    ⎛                                       2                                 \n",
       "    ⎜     2                                ∂                   2              \n",
       "1.0⋅⎜0.5⋅A (u, v)⋅B(u, v)⋅C(t, w)⋅f(u, v)⋅───(f(u, v)) - 0.25⋅A (u, v)⋅B(u, v)\n",
       "    ⎜                                       2                                 \n",
       "    ⎝                                     ∂v                                  \n",
       "──────────────────────────────────────────────────────────────────────────────\n",
       "                                                                              \n",
       "                                                                              \n",
       "\n",
       "                      2                                       2               \n",
       "         ⎛∂          ⎞          2        2       ⎛∂          ⎞                \n",
       "⋅C(t, w)⋅⎜──(f(u, v))⎟  + 0.25⋅A (u, v)⋅f (u, v)⋅⎜──(C(t, w))⎟  + 0.5⋅A(u, v)⋅\n",
       "         ⎝∂v         ⎠                           ⎝∂w         ⎠                \n",
       "                                                                              \n",
       "──────────────────────────────────────────────────────────────────────────────\n",
       "                                                                              \n",
       "                                                                              \n",
       "\n",
       "                           2                                               2  \n",
       "                 2        ∂                                      2        ∂   \n",
       "B(u, v)⋅C(t, w)⋅f (u, v)⋅───(A(u, v)) - A(u, v)⋅B(u, v)⋅C(t, w)⋅f (u, v)⋅───(C\n",
       "                           2                                               2  \n",
       "                         ∂v                                              ∂t   \n",
       "──────────────────────────────────────────────────────────────────────────────\n",
       "                                                                              \n",
       "                                                                              \n",
       "\n",
       "                                                2                             \n",
       "                                               ∂                              \n",
       "(t, w)) + 0.5⋅A(u, v)⋅B(u, v)⋅C(t, w)⋅f(u, v)⋅───(A(u, v)) + 0.25⋅A(u, v)⋅B(u,\n",
       "                                                2                             \n",
       "                                              ∂u                              \n",
       "──────────────────────────────────────────────────────────────────────────────\n",
       "                              2        2        2                             \n",
       "                             A (u, v)⋅C (t, w)⋅f (u, v)                       \n",
       "\n",
       "                                                                              \n",
       "                    ∂           ∂                                          ∂  \n",
       " v)⋅C(t, w)⋅f(u, v)⋅──(A(u, v))⋅──(f(u, v)) - 0.25⋅A(u, v)⋅B(u, v)⋅C(t, w)⋅──(\n",
       "                    ∂v          ∂v                                         ∂u \n",
       "                                                                              \n",
       "──────────────────────────────────────────────────────────────────────────────\n",
       "                                                                              \n",
       "                                                                              \n",
       "\n",
       "                                                                  2           \n",
       "         ∂                                   2       ⎛∂          ⎞            \n",
       "A(u, v))⋅──(f(u, v)) + 0.25⋅A(u, v)⋅B(u, v)⋅f (u, v)⋅⎜──(C(t, w))⎟  - 0.25⋅B(u\n",
       "         ∂u                                          ⎝∂t         ⎠            \n",
       "                                                                              \n",
       "──────────────────────────────────────────────────────────────────────────────\n",
       "                                                                              \n",
       "                                                                              \n",
       "\n",
       "                                   2                                          \n",
       "              2       ⎛∂          ⎞                                 ⎛∂        \n",
       ", v)⋅C(t, w)⋅f (u, v)⋅⎜──(A(u, v))⎟  - 0.25⋅B(u, v)⋅C(t, w)⋅f(u, v)⋅⎜──(A(u, v\n",
       "                      ⎝∂v         ⎠                                 ⎝∂u       \n",
       "                                                                              \n",
       "──────────────────────────────────────────────────────────────────────────────\n",
       "                                                                              \n",
       "                                                                              \n",
       "\n",
       "   2⎞\n",
       "  ⎞ ⎟\n",
       "))⎟ ⎟\n",
       "  ⎠ ⎟\n",
       "    ⎠\n",
       "─────\n",
       "     \n",
       "     "
      ]
     },
     "metadata": {},
     "output_type": "display_data"
    },
    {
     "name": "stdout",
     "output_type": "stream",
     "text": [
      "\n",
      "\n",
      "\n"
     ]
    }
   ],
   "source": [
    "A = sp.Function(\"A\")(u, v)\n",
    "B = sp.Function(\"B\")(u, v)\n",
    "C = sp.Function(\"C\")(t, w)\n",
    "\n",
    "g = MetricTensor(\n",
    "    sp.Array(\n",
    "        np.diag([A, -C*f, -C, -B]\n",
    "               )\n",
    "    ),\n",
    "    syms=[t, u, v, w]\n",
    ")\n",
    "    \n",
    "g.tensor()\n",
    "\n",
    "einstein = EinsteinTensor.from_metric(g)\n",
    "einstein.tensor()\n",
    "\n",
    "out = \"ds^2 =\"\n",
    "vars_ = [\"t\", \"u\", \"v\", \"w\"] \n",
    "\n",
    "print_ein(einstein)"
   ]
  },
  {
   "cell_type": "code",
   "execution_count": 34,
   "id": "5dadbf07-7b14-4fec-9b69-f101fb0ff79b",
   "metadata": {},
   "outputs": [
    {
     "data": {
      "image/png": "[encoded data removed]",
      "text/latex": [
       "$\\displaystyle - 2 A^{2}{\\left(u,v \\right)} B{\\left(u,v \\right)} f{\\left(u,v \\right)} \\frac{\\partial^{2}}{\\partial v\\partial u} B{\\left(u,v \\right)} + A^{2}{\\left(u,v \\right)} B{\\left(u,v \\right)} \\frac{\\partial}{\\partial u} B{\\left(u,v \\right)} \\frac{\\partial}{\\partial v} f{\\left(u,v \\right)} + A^{2}{\\left(u,v \\right)} f{\\left(u,v \\right)} \\frac{\\partial}{\\partial u} B{\\left(u,v \\right)} \\frac{\\partial}{\\partial v} B{\\left(u,v \\right)} - 2 A{\\left(u,v \\right)} B^{2}{\\left(u,v \\right)} f{\\left(u,v \\right)} \\frac{\\partial^{2}}{\\partial v\\partial u} A{\\left(u,v \\right)} + A{\\left(u,v \\right)} B^{2}{\\left(u,v \\right)} \\frac{\\partial}{\\partial u} A{\\left(u,v \\right)} \\frac{\\partial}{\\partial v} f{\\left(u,v \\right)} + B^{2}{\\left(u,v \\right)} f{\\left(u,v \\right)} \\frac{\\partial}{\\partial u} A{\\left(u,v \\right)} \\frac{\\partial}{\\partial v} A{\\left(u,v \\right)}$"
      ],
      "text/plain": [
       "                                2                                             \n",
       "     2                         ∂               2               ∂           ∂  \n",
       "- 2⋅A (u, v)⋅B(u, v)⋅f(u, v)⋅─────(B(u, v)) + A (u, v)⋅B(u, v)⋅──(B(u, v))⋅──(\n",
       "                             ∂v ∂u                             ∂u          ∂v \n",
       "\n",
       "                                                                              \n",
       "            2               ∂           ∂                        2            \n",
       "f(u, v)) + A (u, v)⋅f(u, v)⋅──(B(u, v))⋅──(B(u, v)) - 2⋅A(u, v)⋅B (u, v)⋅f(u, \n",
       "                            ∂u          ∂v                                    \n",
       "\n",
       "      2                                                                       \n",
       "     ∂                       2       ∂           ∂              2             \n",
       "v)⋅─────(A(u, v)) + A(u, v)⋅B (u, v)⋅──(A(u, v))⋅──(f(u, v)) + B (u, v)⋅f(u, v\n",
       "   ∂v ∂u                             ∂u          ∂v                           \n",
       "\n",
       "                         \n",
       "  ∂           ∂          \n",
       ")⋅──(A(u, v))⋅──(A(u, v))\n",
       "  ∂u          ∂v         "
      ]
     },
     "execution_count": 34,
     "metadata": {},
     "output_type": "execute_result"
    }
   ],
   "source": [
    "((4*A**2*B**2*f)*einstein[1, 2]).simplify()"
   ]
  },
  {
   "cell_type": "markdown",
   "id": "1d946951-a4a7-42c8-ac9c-72993bfaa377",
   "metadata": {},
   "source": [
    "## Some progress on the second Anstaz \n",
    "\n",
    "If we set the elements $(u, t), (v, t), (u, w)$, and $(v, w)$ of the Einstein equal to zero, we get\n",
    "$$\n",
    "C(t, w) \\equiv c_1 \\quad \\text{and} \\quad AB \\equiv c_2. \\quad (I)\n",
    "$$\n",
    "Setting the $(u, v)$ element to zero and using the information from (I) \n",
    "\n",
    "\\begin{align*}\n",
    "AB[-2(A\\partial_{uv}^2B + B \\partial_{uv}^2A)f + \\partial_u(AB) \\partial_vf] + [A^2 \\partial_uB \\partial_vB + B^2 \\partial_uA \\partial_vA]\n",
    "&= -2AB(A\\partial_{uv}^2B + B \\partial_{uv}^2A)f + [A^2 \\partial_uB \\partial_vB + B^2 \\partial_uA \\partial_vA]f \\\\\n",
    "&= 0\n",
    "\\end{align*}\n",
    "Thus,\n",
    "$$\n",
    "2AB(A\\partial_{uv}^2B + B \\partial_{uv}^2A) = A^2\\partial_uB\\partial_vB + B^2\\partial_uA\\partial_vA\n",
    "$$\n",
    "\n",
    "Using (I) we can attempt to solve the above PDE to get"
   ]
  },
  {
   "cell_type": "code",
   "execution_count": 36,
   "id": "4e7f88f2-aa56-4f87-acf1-d5e4b8b1f642",
   "metadata": {},
   "outputs": [
    {
     "name": "stderr",
     "output_type": "stream",
     "text": [
      "/home/hussain/miniconda3/lib/python3.8/site-packages/IPython/lib/latextools.py:126: MatplotlibDeprecationWarning: \n",
      "The to_png function was deprecated in Matplotlib 3.4 and will be removed two minor releases later. Use mathtext.math_to_image instead.\n",
      "  mt.to_png(f, s, fontsize=12, dpi=dpi, color=color)\n",
      "/home/hussain/miniconda3/lib/python3.8/site-packages/IPython/lib/latextools.py:126: MatplotlibDeprecationWarning: \n",
      "The to_rgba function was deprecated in Matplotlib 3.4 and will be removed two minor releases later. Use mathtext.math_to_image instead.\n",
      "  mt.to_png(f, s, fontsize=12, dpi=dpi, color=color)\n",
      "/home/hussain/miniconda3/lib/python3.8/site-packages/IPython/lib/latextools.py:126: MatplotlibDeprecationWarning: \n",
      "The to_mask function was deprecated in Matplotlib 3.4 and will be removed two minor releases later. Use mathtext.math_to_image instead.\n",
      "  mt.to_png(f, s, fontsize=12, dpi=dpi, color=color)\n",
      "/home/hussain/miniconda3/lib/python3.8/site-packages/IPython/lib/latextools.py:126: MatplotlibDeprecationWarning: \n",
      "The MathtextBackendBitmap class was deprecated in Matplotlib 3.4 and will be removed two minor releases later. Use mathtext.math_to_image instead.\n",
      "  mt.to_png(f, s, fontsize=12, dpi=dpi, color=color)\n"
     ]
    },
    {
     "data": {
      "image/png": "[encoded data removed]",
      "text/latex": [
       "$\\displaystyle 2 c_{2} \\left(c_{2} \\left(- \\frac{\\frac{\\partial^{2}}{\\partial v\\partial u} A{\\left(u,v \\right)}}{A^{2}{\\left(u,v \\right)}} + \\frac{2 \\frac{\\partial}{\\partial u} A{\\left(u,v \\right)} \\frac{\\partial}{\\partial v} A{\\left(u,v \\right)}}{A^{3}{\\left(u,v \\right)}}\\right) A{\\left(u,v \\right)} + \\frac{c_{2} \\frac{\\partial^{2}}{\\partial v\\partial u} A{\\left(u,v \\right)}}{A{\\left(u,v \\right)}}\\right)$"
      ],
      "text/plain": [
       "     ⎛   ⎛     2                                      ⎞                 2     \n",
       "     ⎜   ⎜    ∂                ∂           ∂          ⎟                ∂      \n",
       "     ⎜   ⎜  ─────(A(u, v))   2⋅──(A(u, v))⋅──(A(u, v))⎟           c₂⋅─────(A(u\n",
       "     ⎜   ⎜  ∂v ∂u              ∂u          ∂v         ⎟              ∂v ∂u    \n",
       "2⋅c₂⋅⎜c₂⋅⎜- ────────────── + ─────────────────────────⎟⋅A(u, v) + ────────────\n",
       "     ⎜   ⎜      2                      3              ⎟                A(u, v)\n",
       "     ⎝   ⎝     A (u, v)               A (u, v)        ⎠                       \n",
       "\n",
       "     ⎞\n",
       "     ⎟\n",
       ", v))⎟\n",
       "     ⎟\n",
       "─────⎟\n",
       "     ⎟\n",
       "     ⎠"
      ]
     },
     "execution_count": 36,
     "metadata": {},
     "output_type": "execute_result"
    }
   ],
   "source": [
    "c2 = sp.Symbol(\"c_2\")\n",
    "c1 = sp.Symbol(\"c_1\")\n",
    "\n",
    "lhs = 2*c2*(A*c2*(1/A).diff(u).diff(v) + c2/A * A.diff(u).diff(v))\n",
    "lhs"
   ]
  },
  {
   "cell_type": "code",
   "execution_count": 20,
   "id": "4259f54f-7458-488b-b4ed-347aab56e3c3",
   "metadata": {},
   "outputs": [
    {
     "data": {
      "image/png": "[encoded data removed]",
      "text/latex": [
       "$\\displaystyle \\frac{4 c_{2}^{2} \\frac{\\partial}{\\partial u} A{\\left(u,v \\right)} \\frac{\\partial}{\\partial v} A{\\left(u,v \\right)}}{A^{2}{\\left(u,v \\right)}}$"
      ],
      "text/plain": [
       "    2 ∂           ∂          \n",
       "4⋅c₂ ⋅──(A(u, v))⋅──(A(u, v))\n",
       "      ∂u          ∂v         \n",
       "─────────────────────────────\n",
       "            2                \n",
       "           A (u, v)          "
      ]
     },
     "execution_count": 20,
     "metadata": {},
     "output_type": "execute_result"
    }
   ],
   "source": [
    "lhs.simplify()"
   ]
  },
  {
   "cell_type": "code",
   "execution_count": 26,
   "id": "578e28d7-8f57-4613-b21f-487734118c07",
   "metadata": {},
   "outputs": [
    {
     "data": {
      "image/png": "[encoded data removed]",
      "text/latex": [
       "$\\displaystyle \\frac{c_{2}^{2} \\frac{\\partial}{\\partial u} A{\\left(u,v \\right)} \\frac{\\partial}{\\partial v} A{\\left(u,v \\right)}}{A^{2}{\\left(u,v \\right)}} + \\frac{\\frac{\\partial}{\\partial u} A{\\left(u,v \\right)} \\frac{\\partial}{\\partial v} A{\\left(u,v \\right)}}{A^{2}{\\left(u,v \\right)}}$"
      ],
      "text/plain": [
       "  2 ∂           ∂             ∂           ∂          \n",
       "c₂ ⋅──(A(u, v))⋅──(A(u, v))   ──(A(u, v))⋅──(A(u, v))\n",
       "    ∂u          ∂v            ∂u          ∂v         \n",
       "─────────────────────────── + ───────────────────────\n",
       "           2                           2             \n",
       "          A (u, v)                    A (u, v)       "
      ]
     },
     "execution_count": 26,
     "metadata": {},
     "output_type": "execute_result"
    }
   ],
   "source": [
    "rhs = A**2 * c2**2 * (1/A).diff(u) * (1/A).diff(v) + (1/A)**2 * A.diff(u) * A.diff(v)\n",
    "rhs"
   ]
  },
  {
   "cell_type": "code",
   "execution_count": 37,
   "id": "e65720a8-e8dd-4227-96d0-cae29570c20a",
   "metadata": {},
   "outputs": [
    {
     "name": "stderr",
     "output_type": "stream",
     "text": [
      "/home/hussain/miniconda3/lib/python3.8/site-packages/IPython/lib/latextools.py:126: MatplotlibDeprecationWarning: \n",
      "The to_png function was deprecated in Matplotlib 3.4 and will be removed two minor releases later. Use mathtext.math_to_image instead.\n",
      "  mt.to_png(f, s, fontsize=12, dpi=dpi, color=color)\n",
      "/home/hussain/miniconda3/lib/python3.8/site-packages/IPython/lib/latextools.py:126: MatplotlibDeprecationWarning: \n",
      "The to_rgba function was deprecated in Matplotlib 3.4 and will be removed two minor releases later. Use mathtext.math_to_image instead.\n",
      "  mt.to_png(f, s, fontsize=12, dpi=dpi, color=color)\n",
      "/home/hussain/miniconda3/lib/python3.8/site-packages/IPython/lib/latextools.py:126: MatplotlibDeprecationWarning: \n",
      "The to_mask function was deprecated in Matplotlib 3.4 and will be removed two minor releases later. Use mathtext.math_to_image instead.\n",
      "  mt.to_png(f, s, fontsize=12, dpi=dpi, color=color)\n",
      "/home/hussain/miniconda3/lib/python3.8/site-packages/IPython/lib/latextools.py:126: MatplotlibDeprecationWarning: \n",
      "The MathtextBackendBitmap class was deprecated in Matplotlib 3.4 and will be removed two minor releases later. Use mathtext.math_to_image instead.\n",
      "  mt.to_png(f, s, fontsize=12, dpi=dpi, color=color)\n"
     ]
    },
    {
     "data": {
      "image/png": "[encoded data removed]",
      "text/latex": [
       "$\\displaystyle \\frac{\\left(c_{2}^{2} + 1\\right) \\frac{\\partial}{\\partial u} A{\\left(u,v \\right)} \\frac{\\partial}{\\partial v} A{\\left(u,v \\right)}}{A^{2}{\\left(u,v \\right)}}$"
      ],
      "text/plain": [
       "⎛  2    ⎞ ∂           ∂          \n",
       "⎝c₂  + 1⎠⋅──(A(u, v))⋅──(A(u, v))\n",
       "          ∂u          ∂v         \n",
       "─────────────────────────────────\n",
       "              2                  \n",
       "             A (u, v)            "
      ]
     },
     "execution_count": 37,
     "metadata": {},
     "output_type": "execute_result"
    }
   ],
   "source": [
    "rhs.simplify()"
   ]
  },
  {
   "cell_type": "code",
   "execution_count": 28,
   "id": "46f47748-9446-4664-b5c3-c775813318f4",
   "metadata": {},
   "outputs": [
    {
     "data": {
      "image/png": "[encoded data removed]",
      "text/latex": [
       "$\\displaystyle \\frac{\\left(3 c_{2}^{2} - 1\\right) \\frac{\\partial}{\\partial u} A{\\left(u,v \\right)} \\frac{\\partial}{\\partial v} A{\\left(u,v \\right)}}{A^{2}{\\left(u,v \\right)}}$"
      ],
      "text/plain": [
       "⎛    2    ⎞ ∂           ∂          \n",
       "⎝3⋅c₂  - 1⎠⋅──(A(u, v))⋅──(A(u, v))\n",
       "            ∂u          ∂v         \n",
       "───────────────────────────────────\n",
       "               2                   \n",
       "              A (u, v)             "
      ]
     },
     "execution_count": 28,
     "metadata": {},
     "output_type": "execute_result"
    }
   ],
   "source": [
    "(lhs - rhs).simplify()"
   ]
  },
  {
   "cell_type": "markdown",
   "id": "b0fd2636-79a4-42c3-85a2-2831261b0f12",
   "metadata": {},
   "source": [
    "Setting the above expression we either have that $A$ is a constant function of $u$, a constant function of $v$, or that $c_2 = AB = \\sqrt{1/3}$. If one of the first two cases is true then $B$ will also be a constant function in the respective variables by (I). We can use this information to tackle the diagonal entries. \n",
    "\n",
    "$(t, t)$"
   ]
  },
  {
   "cell_type": "code",
   "execution_count": 41,
   "id": "234eb9e5-4ccb-424a-9e73-a3fcbd941fc7",
   "metadata": {},
   "outputs": [
    {
     "name": "stderr",
     "output_type": "stream",
     "text": [
      "/home/hussain/miniconda3/lib/python3.8/site-packages/IPython/lib/latextools.py:126: MatplotlibDeprecationWarning: \n",
      "The to_png function was deprecated in Matplotlib 3.4 and will be removed two minor releases later. Use mathtext.math_to_image instead.\n",
      "  mt.to_png(f, s, fontsize=12, dpi=dpi, color=color)\n",
      "/home/hussain/miniconda3/lib/python3.8/site-packages/IPython/lib/latextools.py:126: MatplotlibDeprecationWarning: \n",
      "The to_rgba function was deprecated in Matplotlib 3.4 and will be removed two minor releases later. Use mathtext.math_to_image instead.\n",
      "  mt.to_png(f, s, fontsize=12, dpi=dpi, color=color)\n",
      "/home/hussain/miniconda3/lib/python3.8/site-packages/IPython/lib/latextools.py:126: MatplotlibDeprecationWarning: \n",
      "The to_mask function was deprecated in Matplotlib 3.4 and will be removed two minor releases later. Use mathtext.math_to_image instead.\n",
      "  mt.to_png(f, s, fontsize=12, dpi=dpi, color=color)\n",
      "/home/hussain/miniconda3/lib/python3.8/site-packages/IPython/lib/latextools.py:126: MatplotlibDeprecationWarning: \n",
      "The MathtextBackendBitmap class was deprecated in Matplotlib 3.4 and will be removed two minor releases later. Use mathtext.math_to_image instead.\n",
      "  mt.to_png(f, s, fontsize=12, dpi=dpi, color=color)\n"
     ]
    },
    {
     "data": {
      "image/png": "[encoded data removed]",
      "text/latex": [
       "$\\displaystyle \\frac{c_{1} c_{2}^{2} \\left(\\left(- 0.5 V{\\left(v \\right)} \\frac{d^{2}}{d v^{2}} V{\\left(v \\right)} + 0.75 \\left(\\frac{d}{d v} V{\\left(v \\right)}\\right)^{2}\\right) f^{2}{\\left(u,v \\right)} + 0.5 \\left(f{\\left(u,v \\right)} - \\frac{\\partial^{2}}{\\partial v^{2}} f{\\left(u,v \\right)}\\right) V^{2}{\\left(v \\right)} \\frac{\\partial^{2}}{\\partial v^{2}} f{\\left(u,v \\right)} - 0.25 V{\\left(v \\right)} f{\\left(u,v \\right)} \\frac{d}{d v} V{\\left(v \\right)} \\frac{\\partial}{\\partial v} f{\\left(u,v \\right)}\\right)}{V^{3}{\\left(v \\right)}}$"
      ],
      "text/plain": [
       "       ⎛⎛             2                        2⎞                ⎛            \n",
       "     2 ⎜⎜            d               ⎛d       ⎞ ⎟  2             ⎜           ∂\n",
       "c₁⋅c₂ ⋅⎜⎜- 0.5⋅V(v)⋅───(V(v)) + 0.75⋅⎜──(V(v))⎟ ⎟⋅f (u, v) + 0.5⋅⎜f(u, v) - ──\n",
       "       ⎜⎜             2              ⎝dv      ⎠ ⎟                ⎜            \n",
       "       ⎝⎝           dv                          ⎠                ⎝          ∂v\n",
       "──────────────────────────────────────────────────────────────────────────────\n",
       "                                                                         3    \n",
       "                                                                        V (v) \n",
       "\n",
       "2         ⎞         2                                                  ⎞\n",
       "          ⎟  2     ∂                               d        ∂          ⎟\n",
       "─(f(u, v))⎟⋅V (v)⋅───(f(u, v)) - 0.25⋅V(v)⋅f(u, v)⋅──(V(v))⋅──(f(u, v))⎟\n",
       "2         ⎟         2                              dv       ∂v         ⎟\n",
       "          ⎠       ∂v                                                   ⎠\n",
       "────────────────────────────────────────────────────────────────────────\n",
       "                                                                        \n",
       "                                                                        "
      ]
     },
     "execution_count": 41,
     "metadata": {},
     "output_type": "execute_result"
    }
   ],
   "source": [
    "V = sp.Function(\"V\")(v)\n",
    "(0.5*c1*c2**2/V * f * f.diff(v, 2) - 0.5*c1*c2**2/V * (f.diff(v, 2))**2 + 0.5*c1*c2*f**2*(c2/V).diff(v, 2) + 0.25*c1*c2*f*f.diff(v)*(c2/V).diff(v) - 0.25*c1*V*f**2*(c2/V).diff(v)**2).simplify()"
   ]
  },
  {
   "cell_type": "markdown",
   "id": "6f88ea66-4396-4872-9a24-71d5823d09ed",
   "metadata": {},
   "source": [
    "$(u, u)$"
   ]
  },
  {
   "cell_type": "code",
   "execution_count": 44,
   "id": "7c46efe7-36fe-45c8-ad59-730210b643e2",
   "metadata": {},
   "outputs": [
    {
     "name": "stderr",
     "output_type": "stream",
     "text": [
      "/home/hussain/miniconda3/lib/python3.8/site-packages/IPython/lib/latextools.py:126: MatplotlibDeprecationWarning: \n",
      "The to_png function was deprecated in Matplotlib 3.4 and will be removed two minor releases later. Use mathtext.math_to_image instead.\n",
      "  mt.to_png(f, s, fontsize=12, dpi=dpi, color=color)\n",
      "/home/hussain/miniconda3/lib/python3.8/site-packages/IPython/lib/latextools.py:126: MatplotlibDeprecationWarning: \n",
      "The to_rgba function was deprecated in Matplotlib 3.4 and will be removed two minor releases later. Use mathtext.math_to_image instead.\n",
      "  mt.to_png(f, s, fontsize=12, dpi=dpi, color=color)\n",
      "/home/hussain/miniconda3/lib/python3.8/site-packages/IPython/lib/latextools.py:126: MatplotlibDeprecationWarning: \n",
      "The to_mask function was deprecated in Matplotlib 3.4 and will be removed two minor releases later. Use mathtext.math_to_image instead.\n",
      "  mt.to_png(f, s, fontsize=12, dpi=dpi, color=color)\n",
      "/home/hussain/miniconda3/lib/python3.8/site-packages/IPython/lib/latextools.py:126: MatplotlibDeprecationWarning: \n",
      "The MathtextBackendBitmap class was deprecated in Matplotlib 3.4 and will be removed two minor releases later. Use mathtext.math_to_image instead.\n",
      "  mt.to_png(f, s, fontsize=12, dpi=dpi, color=color)\n"
     ]
    },
    {
     "data": {
      "image/png": "[encoded data removed]",
      "text/latex": [
       "$\\displaystyle \\frac{c_{1} c_{2} \\left(c_{2} \\left(- V{\\left(v \\right)} \\frac{d^{2}}{d v^{2}} V{\\left(v \\right)} + 1.0 \\left(\\frac{d}{d v} V{\\left(v \\right)}\\right)^{2}\\right) V^{2}{\\left(v \\right)} - 0.5 c_{2} \\left(V{\\left(v \\right)} \\frac{d^{2}}{d v^{2}} V{\\left(v \\right)} - 2 \\left(\\frac{d}{d v} V{\\left(v \\right)}\\right)^{2}\\right)^{2} + V^{3}{\\left(v \\right)} \\frac{d^{2}}{d v^{2}} V{\\left(v \\right)}\\right) f{\\left(u,v \\right)}}{V^{4}{\\left(v \\right)}}$"
      ],
      "text/plain": [
       "      ⎛                                                                       \n",
       "      ⎜   ⎛         2                       2⎞                ⎛       2       \n",
       "      ⎜   ⎜        d              ⎛d       ⎞ ⎟  2             ⎜      d        \n",
       "c₁⋅c₂⋅⎜c₂⋅⎜- V(v)⋅───(V(v)) + 1.0⋅⎜──(V(v))⎟ ⎟⋅V (v) - 0.5⋅c₂⋅⎜V(v)⋅───(V(v)) \n",
       "      ⎜   ⎜         2             ⎝dv      ⎠ ⎟                ⎜       2       \n",
       "      ⎝   ⎝       dv                         ⎠                ⎝     dv        \n",
       "──────────────────────────────────────────────────────────────────────────────\n",
       "                                                           4                  \n",
       "                                                          V (v)               \n",
       "\n",
       "                2                  ⎞        \n",
       "              2⎞            2      ⎟        \n",
       "    ⎛d       ⎞ ⎟     3     d       ⎟        \n",
       "- 2⋅⎜──(V(v))⎟ ⎟  + V (v)⋅───(V(v))⎟⋅f(u, v)\n",
       "    ⎝dv      ⎠ ⎟            2      ⎟        \n",
       "               ⎠          dv       ⎠        \n",
       "────────────────────────────────────────────\n",
       "                                            \n",
       "                                            "
      ]
     },
     "execution_count": 44,
     "metadata": {},
     "output_type": "execute_result"
    }
   ],
   "source": [
    "(V*c1*c2*f*(c2/V).diff(v, 2) - 0.5*c1*V**2*f*((c2/V).diff(v, 2))**2 + c1*c2/V * f * V.diff(v, 2) + 0.5*c1*c2*f*V.diff(v)*(c2/V).diff(v) - 0.5*c1*(c2/V)**2*f*(V.diff(v))**2).simplify() "
   ]
  },
  {
   "cell_type": "code",
   "execution_count": 46,
   "id": "18dda4d9-4e54-4a2c-84ef-cba0ccf4a9e9",
   "metadata": {},
   "outputs": [
    {
     "name": "stderr",
     "output_type": "stream",
     "text": [
      "/home/hussain/miniconda3/lib/python3.8/site-packages/IPython/lib/latextools.py:126: MatplotlibDeprecationWarning: \n",
      "The to_png function was deprecated in Matplotlib 3.4 and will be removed two minor releases later. Use mathtext.math_to_image instead.\n",
      "  mt.to_png(f, s, fontsize=12, dpi=dpi, color=color)\n",
      "/home/hussain/miniconda3/lib/python3.8/site-packages/IPython/lib/latextools.py:126: MatplotlibDeprecationWarning: \n",
      "The to_rgba function was deprecated in Matplotlib 3.4 and will be removed two minor releases later. Use mathtext.math_to_image instead.\n",
      "  mt.to_png(f, s, fontsize=12, dpi=dpi, color=color)\n",
      "/home/hussain/miniconda3/lib/python3.8/site-packages/IPython/lib/latextools.py:126: MatplotlibDeprecationWarning: \n",
      "The to_mask function was deprecated in Matplotlib 3.4 and will be removed two minor releases later. Use mathtext.math_to_image instead.\n",
      "  mt.to_png(f, s, fontsize=12, dpi=dpi, color=color)\n",
      "/home/hussain/miniconda3/lib/python3.8/site-packages/IPython/lib/latextools.py:126: MatplotlibDeprecationWarning: \n",
      "The MathtextBackendBitmap class was deprecated in Matplotlib 3.4 and will be removed two minor releases later. Use mathtext.math_to_image instead.\n",
      "  mt.to_png(f, s, fontsize=12, dpi=dpi, color=color)\n"
     ]
    },
    {
     "data": {
      "image/png": "[encoded data removed]",
      "text/latex": [
       "$\\displaystyle - \\frac{0.5 c_{1} c_{2}^{2} f^{2}{\\left(u,v \\right)} \\left(\\frac{d}{d v} V{\\left(v \\right)}\\right)^{2}}{V^{2}{\\left(v \\right)}}$"
      ],
      "text/plain": [
       "                               2 \n",
       "          2  2       ⎛d       ⎞  \n",
       "-0.5⋅c₁⋅c₂ ⋅f (u, v)⋅⎜──(V(v))⎟  \n",
       "                     ⎝dv      ⎠  \n",
       "─────────────────────────────────\n",
       "               2                 \n",
       "              V (v)              "
      ]
     },
     "execution_count": 46,
     "metadata": {},
     "output_type": "execute_result"
    }
   ],
   "source": [
    "0.5*c1*c2*V*f*(c2/V).diff(v)*f.diff(v) + 0.5*c1*c2**2/V*f*V.diff(v)*f.diff(v) + 0.5*c1*c2*f**2*V.diff(v)*(c2/V).diff(v) "
   ]
  }
 ],
 "metadata": {
  "kernelspec": {
   "display_name": "Python 3",
   "language": "python",
   "name": "python3"
  },
  "language_info": {
   "codemirror_mode": {
    "name": "ipython",
    "version": 3
   },
   "file_extension": ".py",
   "mimetype": "text/x-python",
   "name": "python",
   "nbconvert_exporter": "python",
   "pygments_lexer": "ipython3",
   "version": "3.8.5"
  }
 },
 "nbformat": 4,
 "nbformat_minor": 5
}
