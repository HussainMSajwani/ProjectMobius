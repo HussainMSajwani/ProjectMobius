{
 "cells": [
  {
   "cell_type": "code",
   "execution_count": 1,
   "id": "occupational-macro",
   "metadata": {},
   "outputs": [],
   "source": [
    "import sympy as sp\n",
    "from sympy.abc import t, u, v, w\n",
    "from einsteinpy.symbolic import MetricTensor, RicciTensor, RicciScalar, RiemannCurvatureTensor, EinsteinTensor\n",
    "from einsteinpy.symbolic.christoffel import ChristoffelSymbols\n",
    "import numpy as np\n",
    "from IPython.display import Markdown as md\n",
    "from IPython.display import display, Latex\n",
    "\n",
    "sp.init_printing()\n",
    "f = sp.Function('f')(u, v)"
   ]
  },
  {
   "cell_type": "code",
   "execution_count": 4,
   "id": "c3e7623c-88f2-4909-b4cd-49b873f4d8c8",
   "metadata": {},
   "outputs": [],
   "source": [
    "vars_ = [\"t\", \"u\", \"v\", \"w\"] \n",
    "\n",
    "def print_ein(ein):\n",
    "    ein = ein.simplify()\n",
    "    for i, c1 in enumerate(vars_):\n",
    "        for j, c2 in enumerate(vars_):\n",
    "            if ein[i, j] != (u - u).simplify():\n",
    "                display((c1, c2), ein[i, j])\n",
    "                print(\"\\n\\n\")"
   ]
  },
  {
   "cell_type": "code",
   "execution_count": 2,
   "id": "db8bb503-a9a1-4c40-a4f1-643d02a987d0",
   "metadata": {},
   "outputs": [
    {
     "data": {
      "text/markdown": [
       "Line element: \n",
       "$$ds^2 =+\\left(v^{2} \\cos^{2}{\\left(\\frac{u}{2} \\right)} + \\frac{v^{2}}{4} + 2 v \\cos{\\left(\\frac{u}{2} \\right)} + 1\\right)du^2+\\left(1\\right)dv^2$$"
      ],
      "text/plain": [
       "<IPython.core.display.Markdown object>"
      ]
     },
     "execution_count": 2,
     "metadata": {},
     "output_type": "execute_result"
    }
   ],
   "source": [
    "x = (1+v * sp.cos(u/2))*sp.cos(u)\n",
    "y = (1+v * sp.cos(u/2))*sp.sin(u)\n",
    "z = v * sp.sin(u/2)\n",
    "\n",
    "dxu = x.diff(u)\n",
    "dxv = x.diff(v)\n",
    "dyu = y.diff(u)\n",
    "dyv = y.diff(v)\n",
    "dzu = z.diff(u)\n",
    "dzv = z.diff(v)\n",
    "\n",
    "du2 = (dxu**2 + dyu**2 + dzu**2).simplify()\n",
    "dv2 = (dxv**2 + dyv**2 + dzv**2).simplify()\n",
    "\n",
    "ds_ = [du2, dv2]\n",
    "\n",
    "out = \"ds^2 =\"\n",
    "vars_ = [\"u\", \"v\"] \n",
    "\n",
    "for i in range(2):\n",
    "    out += f\"+\\\\left({sp.latex(ds_[i].simplify())}\\\\right)d{vars_[i]}^2\"\n",
    "    \n",
    "md(\"Line element: \\n$${}$$\".format(out))"
   ]
  },
  {
   "cell_type": "code",
   "execution_count": 5,
   "id": "0f762d0d-4047-42a5-a3e7-f42382c7d77a",
   "metadata": {},
   "outputs": [
    {
     "data": {
      "text/plain": [
       "('t', 't')"
      ]
     },
     "metadata": {},
     "output_type": "display_data"
    },
    {
     "name": "stderr",
     "output_type": "stream",
     "text": [
      "/home/hussain/miniconda3/lib/python3.8/site-packages/IPython/lib/latextools.py:126: MatplotlibDeprecationWarning: \n",
      "The to_png function was deprecated in Matplotlib 3.4 and will be removed two minor releases later. Use mathtext.math_to_image instead.\n",
      "  mt.to_png(f, s, fontsize=12, dpi=dpi, color=color)\n",
      "/home/hussain/miniconda3/lib/python3.8/site-packages/IPython/lib/latextools.py:126: MatplotlibDeprecationWarning: \n",
      "The to_rgba function was deprecated in Matplotlib 3.4 and will be removed two minor releases later. Use mathtext.math_to_image instead.\n",
      "  mt.to_png(f, s, fontsize=12, dpi=dpi, color=color)\n",
      "/home/hussain/miniconda3/lib/python3.8/site-packages/IPython/lib/latextools.py:126: MatplotlibDeprecationWarning: \n",
      "The to_mask function was deprecated in Matplotlib 3.4 and will be removed two minor releases later. Use mathtext.math_to_image instead.\n",
      "  mt.to_png(f, s, fontsize=12, dpi=dpi, color=color)\n",
      "/home/hussain/miniconda3/lib/python3.8/site-packages/IPython/lib/latextools.py:126: MatplotlibDeprecationWarning: \n",
      "The MathtextBackendBitmap class was deprecated in Matplotlib 3.4 and will be removed two minor releases later. Use mathtext.math_to_image instead.\n",
      "  mt.to_png(f, s, fontsize=12, dpi=dpi, color=color)\n"
     ]
    },
    {
     "data": {
      "image/png": "[encoded data removed]",
      "text/latex": [
       "$\\displaystyle \\frac{- 0.5 f{\\left(u,v \\right)} \\frac{\\partial^{2}}{\\partial v^{2}} f{\\left(u,v \\right)} + 0.25 \\left(\\frac{\\partial}{\\partial v} f{\\left(u,v \\right)}\\right)^{2}}{f^{2}{\\left(u,v \\right)}}$"
      ],
      "text/plain": [
       "                2                              2\n",
       "               ∂                  ⎛∂          ⎞ \n",
       "- 0.5⋅f(u, v)⋅───(f(u, v)) + 0.25⋅⎜──(f(u, v))⎟ \n",
       "                2                 ⎝∂v         ⎠ \n",
       "              ∂v                                \n",
       "────────────────────────────────────────────────\n",
       "                     2                          \n",
       "                    f (u, v)                    "
      ]
     },
     "metadata": {},
     "output_type": "display_data"
    },
    {
     "name": "stdout",
     "output_type": "stream",
     "text": [
      "\n",
      "\n",
      "\n"
     ]
    },
    {
     "data": {
      "text/plain": [
       "('w', 'w')"
      ]
     },
     "metadata": {},
     "output_type": "display_data"
    },
    {
     "name": "stderr",
     "output_type": "stream",
     "text": [
      "/home/hussain/miniconda3/lib/python3.8/site-packages/IPython/lib/latextools.py:126: MatplotlibDeprecationWarning: \n",
      "The to_png function was deprecated in Matplotlib 3.4 and will be removed two minor releases later. Use mathtext.math_to_image instead.\n",
      "  mt.to_png(f, s, fontsize=12, dpi=dpi, color=color)\n",
      "/home/hussain/miniconda3/lib/python3.8/site-packages/IPython/lib/latextools.py:126: MatplotlibDeprecationWarning: \n",
      "The to_rgba function was deprecated in Matplotlib 3.4 and will be removed two minor releases later. Use mathtext.math_to_image instead.\n",
      "  mt.to_png(f, s, fontsize=12, dpi=dpi, color=color)\n",
      "/home/hussain/miniconda3/lib/python3.8/site-packages/IPython/lib/latextools.py:126: MatplotlibDeprecationWarning: \n",
      "The to_mask function was deprecated in Matplotlib 3.4 and will be removed two minor releases later. Use mathtext.math_to_image instead.\n",
      "  mt.to_png(f, s, fontsize=12, dpi=dpi, color=color)\n",
      "/home/hussain/miniconda3/lib/python3.8/site-packages/IPython/lib/latextools.py:126: MatplotlibDeprecationWarning: \n",
      "The MathtextBackendBitmap class was deprecated in Matplotlib 3.4 and will be removed two minor releases later. Use mathtext.math_to_image instead.\n",
      "  mt.to_png(f, s, fontsize=12, dpi=dpi, color=color)\n"
     ]
    },
    {
     "data": {
      "image/png": "[encoded data removed]",
      "text/latex": [
       "$\\displaystyle \\frac{0.5 f{\\left(u,v \\right)} \\frac{\\partial^{2}}{\\partial v^{2}} f{\\left(u,v \\right)} - 0.25 \\left(\\frac{\\partial}{\\partial v} f{\\left(u,v \\right)}\\right)^{2}}{f^{2}{\\left(u,v \\right)}}$"
      ],
      "text/plain": [
       "              2                              2\n",
       "             ∂                  ⎛∂          ⎞ \n",
       "0.5⋅f(u, v)⋅───(f(u, v)) - 0.25⋅⎜──(f(u, v))⎟ \n",
       "              2                 ⎝∂v         ⎠ \n",
       "            ∂v                                \n",
       "──────────────────────────────────────────────\n",
       "                    2                         \n",
       "                   f (u, v)                   "
      ]
     },
     "metadata": {},
     "output_type": "display_data"
    },
    {
     "name": "stdout",
     "output_type": "stream",
     "text": [
      "\n",
      "\n",
      "\n"
     ]
    }
   ],
   "source": [
    "g = MetricTensor(\n",
    "    sp.Array(\n",
    "        np.diag([1, -f, -1, -1]\n",
    "               )\n",
    "    ),\n",
    "    syms=[t, u, v, w]\n",
    ")\n",
    "    \n",
    "g.tensor()\n",
    "\n",
    "einstein = EinsteinTensor.from_metric(g)\n",
    "einstein.tensor()\n",
    "\n",
    "out = \"ds^2 =\"\n",
    "vars_ = [\"t\", \"u\", \"v\", \"w\"] \n",
    "\n",
    "einstein.tensor().simplify()\n",
    "print_ein(einstein)"
   ]
  },
  {
   "cell_type": "code",
   "execution_count": 13,
   "id": "40113082-86ad-40d8-b697-e6bbb9ff87f4",
   "metadata": {},
   "outputs": [
    {
     "data": {
      "text/plain": [
       "True"
      ]
     },
     "execution_count": 13,
     "metadata": {},
     "output_type": "execute_result"
    }
   ],
   "source": [
    "e=einstein.tensor()\n",
    "\n",
    "e[0, 0].equals(-e[3, 3])"
   ]
  },
  {
   "cell_type": "code",
   "execution_count": 10,
   "id": "5faaaa40-d3c3-446b-a321-6647597f9729",
   "metadata": {},
   "outputs": [
    {
     "name": "stderr",
     "output_type": "stream",
     "text": [
      "/home/hussain/miniconda3/lib/python3.8/site-packages/IPython/lib/latextools.py:126: MatplotlibDeprecationWarning: \n",
      "The to_png function was deprecated in Matplotlib 3.4 and will be removed two minor releases later. Use mathtext.math_to_image instead.\n",
      "  mt.to_png(f, s, fontsize=12, dpi=dpi, color=color)\n",
      "/home/hussain/miniconda3/lib/python3.8/site-packages/IPython/lib/latextools.py:126: MatplotlibDeprecationWarning: \n",
      "The to_rgba function was deprecated in Matplotlib 3.4 and will be removed two minor releases later. Use mathtext.math_to_image instead.\n",
      "  mt.to_png(f, s, fontsize=12, dpi=dpi, color=color)\n",
      "/home/hussain/miniconda3/lib/python3.8/site-packages/IPython/lib/latextools.py:126: MatplotlibDeprecationWarning: \n",
      "The to_mask function was deprecated in Matplotlib 3.4 and will be removed two minor releases later. Use mathtext.math_to_image instead.\n",
      "  mt.to_png(f, s, fontsize=12, dpi=dpi, color=color)\n",
      "/home/hussain/miniconda3/lib/python3.8/site-packages/IPython/lib/latextools.py:126: MatplotlibDeprecationWarning: \n",
      "The MathtextBackendBitmap class was deprecated in Matplotlib 3.4 and will be removed two minor releases later. Use mathtext.math_to_image instead.\n",
      "  mt.to_png(f, s, fontsize=12, dpi=dpi, color=color)\n"
     ]
    },
    {
     "data": {
      "image/png": "[encoded data removed]",
      "text/latex": [
       "$\\displaystyle \\frac{- 0.5 f{\\left(u,v \\right)} \\frac{\\partial^{2}}{\\partial v^{2}} f{\\left(u,v \\right)} + 0.25 \\left(\\frac{\\partial}{\\partial v} f{\\left(u,v \\right)}\\right)^{2}}{f^{2}{\\left(u,v \\right)}}$"
      ],
      "text/plain": [
       "                2                              2\n",
       "               ∂                  ⎛∂          ⎞ \n",
       "- 0.5⋅f(u, v)⋅───(f(u, v)) + 0.25⋅⎜──(f(u, v))⎟ \n",
       "                2                 ⎝∂v         ⎠ \n",
       "              ∂v                                \n",
       "────────────────────────────────────────────────\n",
       "                     2                          \n",
       "                    f (u, v)                    "
      ]
     },
     "execution_count": 10,
     "metadata": {},
     "output_type": "execute_result"
    }
   ],
   "source": [
    "e[0, 0]"
   ]
  },
  {
   "cell_type": "code",
   "execution_count": 15,
   "id": "0433b553-19d4-4895-b80f-fe6acac97b63",
   "metadata": {},
   "outputs": [
    {
     "name": "stderr",
     "output_type": "stream",
     "text": [
      "/home/hussain/miniconda3/lib/python3.8/site-packages/IPython/lib/latextools.py:126: MatplotlibDeprecationWarning: \n",
      "The to_png function was deprecated in Matplotlib 3.4 and will be removed two minor releases later. Use mathtext.math_to_image instead.\n",
      "  mt.to_png(f, s, fontsize=12, dpi=dpi, color=color)\n",
      "/home/hussain/miniconda3/lib/python3.8/site-packages/IPython/lib/latextools.py:126: MatplotlibDeprecationWarning: \n",
      "The to_rgba function was deprecated in Matplotlib 3.4 and will be removed two minor releases later. Use mathtext.math_to_image instead.\n",
      "  mt.to_png(f, s, fontsize=12, dpi=dpi, color=color)\n",
      "/home/hussain/miniconda3/lib/python3.8/site-packages/IPython/lib/latextools.py:126: MatplotlibDeprecationWarning: \n",
      "The to_mask function was deprecated in Matplotlib 3.4 and will be removed two minor releases later. Use mathtext.math_to_image instead.\n",
      "  mt.to_png(f, s, fontsize=12, dpi=dpi, color=color)\n",
      "/home/hussain/miniconda3/lib/python3.8/site-packages/IPython/lib/latextools.py:126: MatplotlibDeprecationWarning: \n",
      "The MathtextBackendBitmap class was deprecated in Matplotlib 3.4 and will be removed two minor releases later. Use mathtext.math_to_image instead.\n",
      "  mt.to_png(f, s, fontsize=12, dpi=dpi, color=color)\n"
     ]
    },
    {
     "data": {
      "image/png": "[encoded data removed]",
      "text/latex": [
       "$\\displaystyle 0$"
      ],
      "text/plain": [
       "0"
      ]
     },
     "execution_count": 15,
     "metadata": {},
     "output_type": "execute_result"
    }
   ],
   "source": [
    "c1 = sp.Function(\"c_1\")(u)\n",
    "c2 = sp.Function(\"c_2\")(u)\n",
    "\n",
    "f = 1/4*(v*c1 + c2)**2\n",
    "\n",
    "-0.5*f*f.diff(v, 2) + 0.25*f.diff(v)**2"
   ]
  }
 ],
 "metadata": {
  "kernelspec": {
   "display_name": "Python 3",
   "language": "python",
   "name": "python3"
  },
  "language_info": {
   "codemirror_mode": {
    "name": "ipython",
    "version": 3
   },
   "file_extension": ".py",
   "mimetype": "text/x-python",
   "name": "python",
   "nbconvert_exporter": "python",
   "pygments_lexer": "ipython3",
   "version": "3.8.5"
  }
 },
 "nbformat": 4,
 "nbformat_minor": 5
}
