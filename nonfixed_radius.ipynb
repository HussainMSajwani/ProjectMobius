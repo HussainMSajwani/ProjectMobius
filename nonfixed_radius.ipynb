{
 "cells": [
  {
   "cell_type": "code",
   "execution_count": 1,
   "id": "5124ffaf-f79e-4ad0-88e8-37ca9a19d444",
   "metadata": {},
   "outputs": [
    {
     "data": {
      "text/markdown": [
       "Line element: \n",
       "$$ds^2 =+\\left(v^{2} \\left(\\frac{d}{d t} W{\\left(t \\right)}\\right)^{2} + 2 v \\cos{\\left(\\frac{u}{2} \\right)} \\frac{d}{d t} R{\\left(t \\right)} \\frac{d}{d t} W{\\left(t \\right)} + \\left(\\frac{d}{d t} R{\\left(t \\right)}\\right)^{2}\\right)dt^2+\\left(v^{2} W^{2}{\\left(t \\right)} \\sin^{2}{\\left(\\frac{u}{2} \\right)} - \\frac{5 v^{2} W^{2}{\\left(t \\right)}}{4} - 2 v R{\\left(t \\right)} W{\\left(t \\right)} \\cos{\\left(\\frac{u}{2} \\right)} - R^{2}{\\left(t \\right)}\\right)du^2+\\left(- W^{2}{\\left(t \\right)}\\right)dv^2$$"
      ],
      "text/plain": [
       "<IPython.core.display.Markdown object>"
      ]
     },
     "execution_count": 1,
     "metadata": {},
     "output_type": "execute_result"
    }
   ],
   "source": [
    "import sympy as sp\n",
    "from sympy.abc import t, u, v, w\n",
    "from einsteinpy.symbolic import MetricTensor, RicciTensor, RicciScalar, RiemannCurvatureTensor, EinsteinTensor\n",
    "from einsteinpy.symbolic.christoffel import ChristoffelSymbols\n",
    "import numpy as np\n",
    "from IPython.display import Markdown as md\n",
    "from IPython.display import display, Latex\n",
    "import warnings\n",
    "warnings.filterwarnings(\"ignore\")\n",
    "\n",
    "sp.init_printing()\n",
    "f = sp.Function('f')(t, u, v)\n",
    "g = sp.Function('g')(t, u, v)\n",
    "R = sp.Function('R')(t)\n",
    "W = sp.Function('W')(t)\n",
    "\n",
    "vars_ = [\"t\", \"u\", \"v\", \"w\"] \n",
    "\n",
    "def print_ein(ein):\n",
    "    ein = ein.simplify()\n",
    "    for i, c1 in enumerate(vars_):\n",
    "        for j, c2 in enumerate(vars_):\n",
    "            if ein[i, j] != (u - u).simplify():\n",
    "                display(f\"Element {(c1, c2)}, of Einstein tensor\", sp.factor(ein[i, j]))\n",
    "                print(\"\\n\\n\")\n",
    "\n",
    "x = (R + W * v * sp.cos(u/2))*sp.cos(u)\n",
    "y = (R + W * v * sp.cos(u/2))*sp.sin(u)\n",
    "z = W * v * sp.sin(u/2)\n",
    "\n",
    "dxu = x.diff(u)\n",
    "dxv = x.diff(v)\n",
    "dxt = x.diff(t)\n",
    "dyu = y.diff(u)\n",
    "dyv = y.diff(v)\n",
    "dyt = y.diff(t)\n",
    "dzu = z.diff(u)\n",
    "dzv = z.diff(v)\n",
    "dzt = z.diff(t)\n",
    "\n",
    "du2 = (dxu**2 + dyu**2 + dzu**2).simplify()\n",
    "dv2 = (dxv**2 + dyv**2 + dzv**2).simplify()\n",
    "dt2 = (dxt**2 + dyt**2 + dzt**2).simplify()\n",
    "\n",
    "ds_ = [dt2, -du2, -dv2]\n",
    "\n",
    "out = \"ds^2 =\"\n",
    "vars_ = [\"t\", \"u\", \"v\"] \n",
    "\n",
    "for i in range(3):\n",
    "    out += f\"+\\\\left({sp.latex(ds_[i].simplify())}\\\\right)d{vars_[i]}^2\"\n",
    "    \n",
    "md(\"Line element: \\n$${}$$\".format(out))"
   ]
  },
  {
   "cell_type": "code",
   "execution_count": 2,
   "id": "8bb946b1-3d5f-4426-b465-2eeba2654ccf",
   "metadata": {},
   "outputs": [
    {
     "data": {
      "text/plain": [
       "\"Element ('t', 't'), of Einstein tensor\""
      ]
     },
     "metadata": {},
     "output_type": "display_data"
    },
    {
     "data": {
      "image/png": "[encoded data removed]",
      "text/latex": [
       "$\\displaystyle - \\frac{0.5 \\left(1.0 A{\\left(w \\right)} B^{2}{\\left(u,v,w \\right)} f{\\left(t,u,v \\right)} g{\\left(t,u,v \\right)} \\frac{\\partial^{2}}{\\partial v^{2}} f{\\left(t,u,v \\right)} - 0.5 A{\\left(w \\right)} B^{2}{\\left(u,v,w \\right)} g{\\left(t,u,v \\right)} \\left(\\frac{\\partial}{\\partial v} f{\\left(t,u,v \\right)}\\right)^{2} + 1.0 A{\\left(w \\right)} B{\\left(u,v,w \\right)} W^{2}{\\left(t \\right)} f{\\left(t,u,v \\right)} g{\\left(t,u,v \\right)} \\frac{\\partial^{2}}{\\partial u^{2}} B{\\left(u,v,w \\right)} - 0.5 A{\\left(w \\right)} B{\\left(u,v,w \\right)} W^{2}{\\left(t \\right)} g{\\left(t,u,v \\right)} \\frac{\\partial}{\\partial u} B{\\left(u,v,w \\right)} \\frac{\\partial}{\\partial u} f{\\left(t,u,v \\right)} + 1.0 A{\\left(w \\right)} B{\\left(u,v,w \\right)} f^{2}{\\left(t,u,v \\right)} g{\\left(t,u,v \\right)} \\frac{\\partial^{2}}{\\partial v^{2}} B{\\left(u,v,w \\right)} + 0.5 A{\\left(w \\right)} B{\\left(u,v,w \\right)} f{\\left(t,u,v \\right)} g{\\left(t,u,v \\right)} \\frac{\\partial}{\\partial v} B{\\left(u,v,w \\right)} \\frac{\\partial}{\\partial v} f{\\left(t,u,v \\right)} - 0.5 A{\\left(w \\right)} W^{2}{\\left(t \\right)} f{\\left(t,u,v \\right)} g{\\left(t,u,v \\right)} \\left(\\frac{\\partial}{\\partial u} B{\\left(u,v,w \\right)}\\right)^{2} - 0.5 A{\\left(w \\right)} f^{2}{\\left(t,u,v \\right)} g{\\left(t,u,v \\right)} \\left(\\frac{\\partial}{\\partial v} B{\\left(u,v,w \\right)}\\right)^{2} - 1.0 B^{2}{\\left(u,v,w \\right)} W{\\left(t \\right)} f{\\left(t,u,v \\right)} \\frac{d}{d t} W{\\left(t \\right)} \\frac{\\partial}{\\partial t} f{\\left(t,u,v \\right)}\\right)}{B^{2}{\\left(u,v,w \\right)} W^{2}{\\left(t \\right)} f^{2}{\\left(t,u,v \\right)}}$"
      ],
      "text/plain": [
       "     ⎛                                             2                          \n",
       "     ⎜          2                                 ∂                          2\n",
       "-0.5⋅⎜1.0⋅A(w)⋅B (u, v, w)⋅f(t, u, v)⋅g(t, u, v)⋅───(f(t, u, v)) - 0.5⋅A(w)⋅B \n",
       "     ⎜                                             2                          \n",
       "     ⎝                                           ∂v                           \n",
       "──────────────────────────────────────────────────────────────────────────────\n",
       "                                                                              \n",
       "                                                                              \n",
       "\n",
       "                                     2                                        \n",
       "                     ⎛∂             ⎞                         2               \n",
       "(u, v, w)⋅g(t, u, v)⋅⎜──(f(t, u, v))⎟  + 1.0⋅A(w)⋅B(u, v, w)⋅W (t)⋅f(t, u, v)⋅\n",
       "                     ⎝∂v            ⎠                                         \n",
       "                                                                              \n",
       "──────────────────────────────────────────────────────────────────────────────\n",
       "                                                                              \n",
       "                                                                              \n",
       "\n",
       "             2                                                                \n",
       "            ∂                                     2               ∂           \n",
       "g(t, u, v)⋅───(B(u, v, w)) - 0.5⋅A(w)⋅B(u, v, w)⋅W (t)⋅g(t, u, v)⋅──(B(u, v, w\n",
       "             2                                                    ∂u          \n",
       "           ∂u                                                                 \n",
       "──────────────────────────────────────────────────────────────────────────────\n",
       "                                                                              \n",
       "                                                                              \n",
       "\n",
       "                                                                 2            \n",
       "   ∂                                     2                      ∂             \n",
       "))⋅──(f(t, u, v)) + 1.0⋅A(w)⋅B(u, v, w)⋅f (t, u, v)⋅g(t, u, v)⋅───(B(u, v, w))\n",
       "   ∂u                                                            2            \n",
       "                                                               ∂v             \n",
       "──────────────────────────────────────────────────────────────────────────────\n",
       "                            2           2     2                               \n",
       "                           B (u, v, w)⋅W (t)⋅f (t, u, v)                      \n",
       "\n",
       "                                                                              \n",
       "                                             ∂              ∂                 \n",
       " + 0.5⋅A(w)⋅B(u, v, w)⋅f(t, u, v)⋅g(t, u, v)⋅──(B(u, v, w))⋅──(f(t, u, v)) - 0\n",
       "                                             ∂v             ∂v                \n",
       "                                                                              \n",
       "──────────────────────────────────────────────────────────────────────────────\n",
       "                                                                              \n",
       "                                                                              \n",
       "\n",
       "                                                    2                         \n",
       "         2                          ⎛∂             ⎞              2           \n",
       ".5⋅A(w)⋅W (t)⋅f(t, u, v)⋅g(t, u, v)⋅⎜──(B(u, v, w))⎟  - 0.5⋅A(w)⋅f (t, u, v)⋅g\n",
       "                                    ⎝∂u            ⎠                          \n",
       "                                                                              \n",
       "──────────────────────────────────────────────────────────────────────────────\n",
       "                                                                              \n",
       "                                                                              \n",
       "\n",
       "                          2                                                   \n",
       "          ⎛∂             ⎞     2                          d        ∂          \n",
       "(t, u, v)⋅⎜──(B(u, v, w))⎟  - B (u, v, w)⋅W(t)⋅f(t, u, v)⋅──(W(t))⋅──(f(t, u, \n",
       "          ⎝∂v            ⎠                                dt       ∂t         \n",
       "                                                                              \n",
       "──────────────────────────────────────────────────────────────────────────────\n",
       "                                                                              \n",
       "                                                                              \n",
       "\n",
       "   ⎞ \n",
       "   ⎟ \n",
       "v))⎟ \n",
       "   ⎟ \n",
       "   ⎠ \n",
       "─────\n",
       "     \n",
       "     "
      ]
     },
     "metadata": {},
     "output_type": "display_data"
    },
    {
     "name": "stdout",
     "output_type": "stream",
     "text": [
      "\n",
      "\n",
      "\n"
     ]
    },
    {
     "data": {
      "text/plain": [
       "\"Element ('t', 'u'), of Einstein tensor\""
      ]
     },
     "metadata": {},
     "output_type": "display_data"
    },
    {
     "data": {
      "image/png": "[encoded data removed]",
      "text/latex": [
       "$\\displaystyle \\frac{2 B{\\left(u,v,w \\right)} f{\\left(t,u,v \\right)} \\frac{d}{d t} W{\\left(t \\right)} \\frac{\\partial}{\\partial u} g{\\left(t,u,v \\right)} + W{\\left(t \\right)} g{\\left(t,u,v \\right)} \\frac{\\partial}{\\partial u} B{\\left(u,v,w \\right)} \\frac{\\partial}{\\partial t} f{\\left(t,u,v \\right)}}{4 B{\\left(u,v,w \\right)} W{\\left(t \\right)} f{\\left(t,u,v \\right)} g{\\left(t,u,v \\right)}}$"
      ],
      "text/plain": [
       "                        d        ∂                                ∂           \n",
       "2⋅B(u, v, w)⋅f(t, u, v)⋅──(W(t))⋅──(g(t, u, v)) + W(t)⋅g(t, u, v)⋅──(B(u, v, w\n",
       "                        dt       ∂u                               ∂u          \n",
       "──────────────────────────────────────────────────────────────────────────────\n",
       "                            4⋅B(u, v, w)⋅W(t)⋅f(t, u, v)⋅g(t, u, v)           \n",
       "\n",
       "   ∂             \n",
       "))⋅──(f(t, u, v))\n",
       "   ∂t            \n",
       "─────────────────\n",
       "                 "
      ]
     },
     "metadata": {},
     "output_type": "display_data"
    },
    {
     "name": "stdout",
     "output_type": "stream",
     "text": [
      "\n",
      "\n",
      "\n"
     ]
    },
    {
     "data": {
      "text/plain": [
       "\"Element ('t', 'v'), of Einstein tensor\""
      ]
     },
     "metadata": {},
     "output_type": "display_data"
    },
    {
     "data": {
      "image/png": "[encoded data removed]",
      "text/latex": [
       "$\\displaystyle \\frac{- 2 B{\\left(u,v,w \\right)} W{\\left(t \\right)} f{\\left(t,u,v \\right)} g{\\left(t,u,v \\right)} \\frac{\\partial^{2}}{\\partial v\\partial t} f{\\left(t,u,v \\right)} + B{\\left(u,v,w \\right)} W{\\left(t \\right)} f{\\left(t,u,v \\right)} \\frac{\\partial}{\\partial t} f{\\left(t,u,v \\right)} \\frac{\\partial}{\\partial v} g{\\left(t,u,v \\right)} + B{\\left(u,v,w \\right)} W{\\left(t \\right)} g{\\left(t,u,v \\right)} \\frac{\\partial}{\\partial t} f{\\left(t,u,v \\right)} \\frac{\\partial}{\\partial v} f{\\left(t,u,v \\right)} + 2 B{\\left(u,v,w \\right)} f{\\left(t,u,v \\right)} g{\\left(t,u,v \\right)} \\frac{d}{d t} W{\\left(t \\right)} \\frac{\\partial}{\\partial v} f{\\left(t,u,v \\right)} + 2 f^{2}{\\left(t,u,v \\right)} g{\\left(t,u,v \\right)} \\frac{\\partial}{\\partial v} B{\\left(u,v,w \\right)} \\frac{d}{d t} W{\\left(t \\right)}}{4 B{\\left(u,v,w \\right)} W{\\left(t \\right)} f^{2}{\\left(t,u,v \\right)} g{\\left(t,u,v \\right)}}$"
      ],
      "text/plain": [
       "                                             2                                \n",
       "                                            ∂                                 \n",
       "- 2⋅B(u, v, w)⋅W(t)⋅f(t, u, v)⋅g(t, u, v)⋅─────(f(t, u, v)) + B(u, v, w)⋅W(t)⋅\n",
       "                                          ∂v ∂t                               \n",
       "──────────────────────────────────────────────────────────────────────────────\n",
       "                                                                              \n",
       "                                                                              \n",
       "\n",
       "                                                                              \n",
       "           ∂              ∂                                           ∂       \n",
       "f(t, u, v)⋅──(f(t, u, v))⋅──(g(t, u, v)) + B(u, v, w)⋅W(t)⋅g(t, u, v)⋅──(f(t, \n",
       "           ∂t             ∂v                                          ∂t      \n",
       "──────────────────────────────────────────────────────────────────────────────\n",
       "                                                                  2           \n",
       "                                               4⋅B(u, v, w)⋅W(t)⋅f (t, u, v)⋅g\n",
       "\n",
       "                                                                              \n",
       "       ∂                                                   d        ∂         \n",
       "u, v))⋅──(f(t, u, v)) + 2⋅B(u, v, w)⋅f(t, u, v)⋅g(t, u, v)⋅──(W(t))⋅──(f(t, u,\n",
       "       ∂v                                                  dt       ∂v        \n",
       "──────────────────────────────────────────────────────────────────────────────\n",
       "                                                                              \n",
       "(t, u, v)                                                                     \n",
       "\n",
       "                                                       \n",
       "          2                     ∂              d       \n",
       " v)) + 2⋅f (t, u, v)⋅g(t, u, v)⋅──(B(u, v, w))⋅──(W(t))\n",
       "                                ∂v             dt      \n",
       "───────────────────────────────────────────────────────\n",
       "                                                       \n",
       "                                                       "
      ]
     },
     "metadata": {},
     "output_type": "display_data"
    },
    {
     "name": "stdout",
     "output_type": "stream",
     "text": [
      "\n",
      "\n",
      "\n"
     ]
    },
    {
     "data": {
      "text/plain": [
       "\"Element ('t', 'w'), of Einstein tensor\""
      ]
     },
     "metadata": {},
     "output_type": "display_data"
    },
    {
     "data": {
      "image/png": "[encoded data removed]",
      "text/latex": [
       "$\\displaystyle \\frac{\\left(W{\\left(t \\right)} \\frac{\\partial}{\\partial t} f{\\left(t,u,v \\right)} + 2 f{\\left(t,u,v \\right)} \\frac{d}{d t} W{\\left(t \\right)}\\right) \\frac{d}{d w} A{\\left(w \\right)}}{4 A{\\left(w \\right)} W{\\left(t \\right)} f{\\left(t,u,v \\right)}}$"
      ],
      "text/plain": [
       "⎛     ∂                             d       ⎞ d       \n",
       "⎜W(t)⋅──(f(t, u, v)) + 2⋅f(t, u, v)⋅──(W(t))⎟⋅──(A(w))\n",
       "⎝     ∂t                            dt      ⎠ dw      \n",
       "──────────────────────────────────────────────────────\n",
       "                4⋅A(w)⋅W(t)⋅f(t, u, v)                "
      ]
     },
     "metadata": {},
     "output_type": "display_data"
    },
    {
     "name": "stdout",
     "output_type": "stream",
     "text": [
      "\n",
      "\n",
      "\n"
     ]
    },
    {
     "data": {
      "text/plain": [
       "\"Element ('u', 't'), of Einstein tensor\""
      ]
     },
     "metadata": {},
     "output_type": "display_data"
    },
    {
     "data": {
      "image/png": "[encoded data removed]",
      "text/latex": [
       "$\\displaystyle \\frac{2 B{\\left(u,v,w \\right)} f{\\left(t,u,v \\right)} \\frac{d}{d t} W{\\left(t \\right)} \\frac{\\partial}{\\partial u} g{\\left(t,u,v \\right)} + W{\\left(t \\right)} g{\\left(t,u,v \\right)} \\frac{\\partial}{\\partial u} B{\\left(u,v,w \\right)} \\frac{\\partial}{\\partial t} f{\\left(t,u,v \\right)}}{4 B{\\left(u,v,w \\right)} W{\\left(t \\right)} f{\\left(t,u,v \\right)} g{\\left(t,u,v \\right)}}$"
      ],
      "text/plain": [
       "                        d        ∂                                ∂           \n",
       "2⋅B(u, v, w)⋅f(t, u, v)⋅──(W(t))⋅──(g(t, u, v)) + W(t)⋅g(t, u, v)⋅──(B(u, v, w\n",
       "                        dt       ∂u                               ∂u          \n",
       "──────────────────────────────────────────────────────────────────────────────\n",
       "                            4⋅B(u, v, w)⋅W(t)⋅f(t, u, v)⋅g(t, u, v)           \n",
       "\n",
       "   ∂             \n",
       "))⋅──(f(t, u, v))\n",
       "   ∂t            \n",
       "─────────────────\n",
       "                 "
      ]
     },
     "metadata": {},
     "output_type": "display_data"
    },
    {
     "name": "stdout",
     "output_type": "stream",
     "text": [
      "\n",
      "\n",
      "\n"
     ]
    },
    {
     "data": {
      "text/plain": [
       "\"Element ('u', 'u'), of Einstein tensor\""
      ]
     },
     "metadata": {},
     "output_type": "display_data"
    },
    {
     "data": {
      "image/png": "[encoded data removed]",
      "text/latex": [
       "$\\displaystyle \\frac{1.0 \\left(0.5 A^{2}{\\left(w \\right)} B^{2}{\\left(u,v,w \\right)} f{\\left(t,u,v \\right)} g{\\left(t,u,v \\right)} \\frac{\\partial^{2}}{\\partial v^{2}} g{\\left(t,u,v \\right)} - 0.25 A^{2}{\\left(w \\right)} B^{2}{\\left(u,v,w \\right)} f{\\left(t,u,v \\right)} \\left(\\frac{\\partial}{\\partial v} g{\\left(t,u,v \\right)}\\right)^{2} + 0.25 A^{2}{\\left(w \\right)} B{\\left(u,v,w \\right)} W^{2}{\\left(t \\right)} g{\\left(t,u,v \\right)} \\frac{\\partial}{\\partial u} B{\\left(u,v,w \\right)} \\frac{\\partial}{\\partial u} g{\\left(t,u,v \\right)} + 0.5 A^{2}{\\left(w \\right)} B{\\left(u,v,w \\right)} f{\\left(t,u,v \\right)} g^{2}{\\left(t,u,v \\right)} \\frac{\\partial^{2}}{\\partial v^{2}} B{\\left(u,v,w \\right)} + 0.25 A^{2}{\\left(w \\right)} B{\\left(u,v,w \\right)} f{\\left(t,u,v \\right)} g{\\left(t,u,v \\right)} \\frac{\\partial}{\\partial v} B{\\left(u,v,w \\right)} \\frac{\\partial}{\\partial v} g{\\left(t,u,v \\right)} - 0.25 A^{2}{\\left(w \\right)} f{\\left(t,u,v \\right)} g^{2}{\\left(t,u,v \\right)} \\left(\\frac{\\partial}{\\partial v} B{\\left(u,v,w \\right)}\\right)^{2} - 1.0 A{\\left(w \\right)} B^{2}{\\left(u,v,w \\right)} W{\\left(t \\right)} f{\\left(t,u,v \\right)} g{\\left(t,u,v \\right)} \\frac{d^{2}}{d t^{2}} W{\\left(t \\right)} + 0.5 A{\\left(w \\right)} B^{2}{\\left(u,v,w \\right)} W{\\left(t \\right)} f{\\left(t,u,v \\right)} \\frac{d}{d t} W{\\left(t \\right)} \\frac{\\partial}{\\partial t} g{\\left(t,u,v \\right)} + 0.5 A{\\left(w \\right)} B{\\left(u,v,w \\right)} W^{2}{\\left(t \\right)} f{\\left(t,u,v \\right)} g^{2}{\\left(t,u,v \\right)} \\frac{d^{2}}{d w^{2}} A{\\left(w \\right)} - 0.25 A{\\left(w \\right)} W^{2}{\\left(t \\right)} f{\\left(t,u,v \\right)} g^{2}{\\left(t,u,v \\right)} \\frac{d}{d w} A{\\left(w \\right)} \\frac{\\partial}{\\partial w} B{\\left(u,v,w \\right)} - 0.25 B{\\left(u,v,w \\right)} W^{2}{\\left(t \\right)} f{\\left(t,u,v \\right)} g^{2}{\\left(t,u,v \\right)} \\left(\\frac{d}{d w} A{\\left(w \\right)}\\right)^{2}\\right)}{A^{2}{\\left(w \\right)} B^{2}{\\left(u,v,w \\right)} W^{2}{\\left(t \\right)} g^{2}{\\left(t,u,v \\right)}}$"
      ],
      "text/plain": [
       "    ⎛                                              2                          \n",
       "    ⎜     2     2                                 ∂                      2    \n",
       "1.0⋅⎜0.5⋅A (w)⋅B (u, v, w)⋅f(t, u, v)⋅g(t, u, v)⋅───(g(t, u, v)) - 0.25⋅A (w)⋅\n",
       "    ⎜                                              2                          \n",
       "    ⎝                                            ∂v                           \n",
       "──────────────────────────────────────────────────────────────────────────────\n",
       "                                                                              \n",
       "                                                                              \n",
       "\n",
       "                                       2                                      \n",
       " 2                     ⎛∂             ⎞          2                2           \n",
       "B (u, v, w)⋅f(t, u, v)⋅⎜──(g(t, u, v))⎟  + 0.25⋅A (w)⋅B(u, v, w)⋅W (t)⋅g(t, u,\n",
       "                       ⎝∂v            ⎠                                       \n",
       "                                                                              \n",
       "──────────────────────────────────────────────────────────────────────────────\n",
       "                                                                              \n",
       "                                                                              \n",
       "\n",
       "                                                                              \n",
       "    ∂              ∂                     2                           2        \n",
       " v)⋅──(B(u, v, w))⋅──(g(t, u, v)) + 0.5⋅A (w)⋅B(u, v, w)⋅f(t, u, v)⋅g (t, u, v\n",
       "    ∂u             ∂u                                                         \n",
       "                                                                              \n",
       "──────────────────────────────────────────────────────────────────────────────\n",
       "                                                                              \n",
       "                                                                              \n",
       "\n",
       "    2                                                                         \n",
       "   ∂                      2                                     ∂             \n",
       ")⋅───(B(u, v, w)) + 0.25⋅A (w)⋅B(u, v, w)⋅f(t, u, v)⋅g(t, u, v)⋅──(B(u, v, w))\n",
       "    2                                                           ∂v            \n",
       "  ∂v                                                                          \n",
       "──────────────────────────────────────────────────────────────────────────────\n",
       "                                                                              \n",
       "                                                                              \n",
       "\n",
       "                                                                    2         \n",
       " ∂                      2                2          ⎛∂             ⎞          \n",
       "⋅──(g(t, u, v)) - 0.25⋅A (w)⋅f(t, u, v)⋅g (t, u, v)⋅⎜──(B(u, v, w))⎟  - A(w)⋅B\n",
       " ∂v                                                 ⎝∂v            ⎠          \n",
       "                                                                              \n",
       "──────────────────────────────────────────────────────────────────────────────\n",
       "              2     2           2     2                                       \n",
       "             A (w)⋅B (u, v, w)⋅W (t)⋅g (t, u, v)                              \n",
       "\n",
       "                                        2                                     \n",
       "2                                      d                    2                 \n",
       " (u, v, w)⋅W(t)⋅f(t, u, v)⋅g(t, u, v)⋅───(W(t)) + 0.5⋅A(w)⋅B (u, v, w)⋅W(t)⋅f(\n",
       "                                        2                                     \n",
       "                                      dt                                      \n",
       "──────────────────────────────────────────────────────────────────────────────\n",
       "                                                                              \n",
       "                                                                              \n",
       "\n",
       "                                                                              \n",
       "         d        ∂                                     2                2    \n",
       "t, u, v)⋅──(W(t))⋅──(g(t, u, v)) + 0.5⋅A(w)⋅B(u, v, w)⋅W (t)⋅f(t, u, v)⋅g (t, \n",
       "         dt       ∂t                                                          \n",
       "                                                                              \n",
       "──────────────────────────────────────────────────────────────────────────────\n",
       "                                                                              \n",
       "                                                                              \n",
       "\n",
       "        2                                                                     \n",
       "       d                     2                2          d        ∂           \n",
       "u, v)⋅───(A(w)) - 0.25⋅A(w)⋅W (t)⋅f(t, u, v)⋅g (t, u, v)⋅──(A(w))⋅──(B(u, v, w\n",
       "        2                                                dw       ∂w          \n",
       "      dw                                                                      \n",
       "──────────────────────────────────────────────────────────────────────────────\n",
       "                                                                              \n",
       "                                                                              \n",
       "\n",
       "                                                            2⎞\n",
       "                      2                2          ⎛d       ⎞ ⎟\n",
       ")) - 0.25⋅B(u, v, w)⋅W (t)⋅f(t, u, v)⋅g (t, u, v)⋅⎜──(A(w))⎟ ⎟\n",
       "                                                  ⎝dw      ⎠ ⎟\n",
       "                                                             ⎠\n",
       "──────────────────────────────────────────────────────────────\n",
       "                                                              \n",
       "                                                              "
      ]
     },
     "metadata": {},
     "output_type": "display_data"
    },
    {
     "name": "stdout",
     "output_type": "stream",
     "text": [
      "\n",
      "\n",
      "\n"
     ]
    },
    {
     "data": {
      "text/plain": [
       "\"Element ('u', 'v'), of Einstein tensor\""
      ]
     },
     "metadata": {},
     "output_type": "display_data"
    },
    {
     "data": {
      "image/png": "[encoded data removed]",
      "text/latex": [
       "$\\displaystyle \\frac{- 2 B^{2}{\\left(u,v,w \\right)} f{\\left(t,u,v \\right)} g{\\left(t,u,v \\right)} \\frac{\\partial^{2}}{\\partial v\\partial u} g{\\left(t,u,v \\right)} + B^{2}{\\left(u,v,w \\right)} f{\\left(t,u,v \\right)} \\frac{\\partial}{\\partial u} g{\\left(t,u,v \\right)} \\frac{\\partial}{\\partial v} g{\\left(t,u,v \\right)} + B^{2}{\\left(u,v,w \\right)} g{\\left(t,u,v \\right)} \\frac{\\partial}{\\partial v} f{\\left(t,u,v \\right)} \\frac{\\partial}{\\partial u} g{\\left(t,u,v \\right)} - 2 B{\\left(u,v,w \\right)} f{\\left(t,u,v \\right)} g^{2}{\\left(t,u,v \\right)} \\frac{\\partial^{2}}{\\partial v\\partial u} B{\\left(u,v,w \\right)} + B{\\left(u,v,w \\right)} g^{2}{\\left(t,u,v \\right)} \\frac{\\partial}{\\partial u} B{\\left(u,v,w \\right)} \\frac{\\partial}{\\partial v} f{\\left(t,u,v \\right)} + f{\\left(t,u,v \\right)} g^{2}{\\left(t,u,v \\right)} \\frac{\\partial}{\\partial u} B{\\left(u,v,w \\right)} \\frac{\\partial}{\\partial v} B{\\left(u,v,w \\right)}}{4 B^{2}{\\left(u,v,w \\right)} f{\\left(t,u,v \\right)} g^{2}{\\left(t,u,v \\right)}}$"
      ],
      "text/plain": [
       "                                         2                                    \n",
       "     2                                  ∂                  2                  \n",
       "- 2⋅B (u, v, w)⋅f(t, u, v)⋅g(t, u, v)⋅─────(g(t, u, v)) + B (u, v, w)⋅f(t, u, \n",
       "                                      ∂v ∂u                                   \n",
       "──────────────────────────────────────────────────────────────────────────────\n",
       "                                                                              \n",
       "                                                                              \n",
       "\n",
       "                                                                              \n",
       "   ∂              ∂                 2                     ∂              ∂    \n",
       "v)⋅──(g(t, u, v))⋅──(g(t, u, v)) + B (u, v, w)⋅g(t, u, v)⋅──(f(t, u, v))⋅──(g(\n",
       "   ∂u             ∂v                                      ∂v             ∂u   \n",
       "──────────────────────────────────────────────────────────────────────────────\n",
       "                                                                         2    \n",
       "                                                                      4⋅B (u, \n",
       "\n",
       "                                                   2                          \n",
       "                                     2            ∂                           \n",
       "t, u, v)) - 2⋅B(u, v, w)⋅f(t, u, v)⋅g (t, u, v)⋅─────(B(u, v, w)) + B(u, v, w)\n",
       "                                                ∂v ∂u                         \n",
       "──────────────────────────────────────────────────────────────────────────────\n",
       "                  2                                                           \n",
       "v, w)⋅f(t, u, v)⋅g (t, u, v)                                                  \n",
       "\n",
       "                                                                              \n",
       "  2          ∂              ∂                            2          ∂         \n",
       "⋅g (t, u, v)⋅──(B(u, v, w))⋅──(f(t, u, v)) + f(t, u, v)⋅g (t, u, v)⋅──(B(u, v,\n",
       "             ∂u             ∂v                                      ∂u        \n",
       "──────────────────────────────────────────────────────────────────────────────\n",
       "                                                                              \n",
       "                                                                              \n",
       "\n",
       "                   \n",
       "     ∂             \n",
       " w))⋅──(B(u, v, w))\n",
       "     ∂v            \n",
       "───────────────────\n",
       "                   \n",
       "                   "
      ]
     },
     "metadata": {},
     "output_type": "display_data"
    },
    {
     "name": "stdout",
     "output_type": "stream",
     "text": [
      "\n",
      "\n",
      "\n"
     ]
    },
    {
     "data": {
      "text/plain": [
       "\"Element ('u', 'w'), of Einstein tensor\""
      ]
     },
     "metadata": {},
     "output_type": "display_data"
    },
    {
     "data": {
      "image/png": "[encoded data removed]",
      "text/latex": [
       "$\\displaystyle - \\frac{\\left(B{\\left(u,v,w \\right)} \\frac{\\partial}{\\partial u} g{\\left(t,u,v \\right)} - g{\\left(t,u,v \\right)} \\frac{\\partial}{\\partial u} B{\\left(u,v,w \\right)}\\right) \\frac{d}{d w} A{\\left(w \\right)}}{4 A{\\left(w \\right)} B{\\left(u,v,w \\right)} g{\\left(t,u,v \\right)}}$"
      ],
      "text/plain": [
       " ⎛           ∂                           ∂             ⎞ d        \n",
       "-⎜B(u, v, w)⋅──(g(t, u, v)) - g(t, u, v)⋅──(B(u, v, w))⎟⋅──(A(w)) \n",
       " ⎝           ∂u                          ∂u            ⎠ dw       \n",
       "──────────────────────────────────────────────────────────────────\n",
       "                   4⋅A(w)⋅B(u, v, w)⋅g(t, u, v)                   "
      ]
     },
     "metadata": {},
     "output_type": "display_data"
    },
    {
     "name": "stdout",
     "output_type": "stream",
     "text": [
      "\n",
      "\n",
      "\n"
     ]
    },
    {
     "data": {
      "text/plain": [
       "\"Element ('v', 't'), of Einstein tensor\""
      ]
     },
     "metadata": {},
     "output_type": "display_data"
    },
    {
     "data": {
      "image/png": "[encoded data removed]",
      "text/latex": [
       "$\\displaystyle \\frac{- 2 B{\\left(u,v,w \\right)} W{\\left(t \\right)} f{\\left(t,u,v \\right)} g{\\left(t,u,v \\right)} \\frac{\\partial^{2}}{\\partial v\\partial t} f{\\left(t,u,v \\right)} + B{\\left(u,v,w \\right)} W{\\left(t \\right)} f{\\left(t,u,v \\right)} \\frac{\\partial}{\\partial t} f{\\left(t,u,v \\right)} \\frac{\\partial}{\\partial v} g{\\left(t,u,v \\right)} + B{\\left(u,v,w \\right)} W{\\left(t \\right)} g{\\left(t,u,v \\right)} \\frac{\\partial}{\\partial t} f{\\left(t,u,v \\right)} \\frac{\\partial}{\\partial v} f{\\left(t,u,v \\right)} + 2 B{\\left(u,v,w \\right)} f{\\left(t,u,v \\right)} g{\\left(t,u,v \\right)} \\frac{d}{d t} W{\\left(t \\right)} \\frac{\\partial}{\\partial v} f{\\left(t,u,v \\right)} + 2 f^{2}{\\left(t,u,v \\right)} g{\\left(t,u,v \\right)} \\frac{\\partial}{\\partial v} B{\\left(u,v,w \\right)} \\frac{d}{d t} W{\\left(t \\right)}}{4 B{\\left(u,v,w \\right)} W{\\left(t \\right)} f^{2}{\\left(t,u,v \\right)} g{\\left(t,u,v \\right)}}$"
      ],
      "text/plain": [
       "                                             2                                \n",
       "                                            ∂                                 \n",
       "- 2⋅B(u, v, w)⋅W(t)⋅f(t, u, v)⋅g(t, u, v)⋅─────(f(t, u, v)) + B(u, v, w)⋅W(t)⋅\n",
       "                                          ∂v ∂t                               \n",
       "──────────────────────────────────────────────────────────────────────────────\n",
       "                                                                              \n",
       "                                                                              \n",
       "\n",
       "                                                                              \n",
       "           ∂              ∂                                           ∂       \n",
       "f(t, u, v)⋅──(f(t, u, v))⋅──(g(t, u, v)) + B(u, v, w)⋅W(t)⋅g(t, u, v)⋅──(f(t, \n",
       "           ∂t             ∂v                                          ∂t      \n",
       "──────────────────────────────────────────────────────────────────────────────\n",
       "                                                                  2           \n",
       "                                               4⋅B(u, v, w)⋅W(t)⋅f (t, u, v)⋅g\n",
       "\n",
       "                                                                              \n",
       "       ∂                                                   d        ∂         \n",
       "u, v))⋅──(f(t, u, v)) + 2⋅B(u, v, w)⋅f(t, u, v)⋅g(t, u, v)⋅──(W(t))⋅──(f(t, u,\n",
       "       ∂v                                                  dt       ∂v        \n",
       "──────────────────────────────────────────────────────────────────────────────\n",
       "                                                                              \n",
       "(t, u, v)                                                                     \n",
       "\n",
       "                                                       \n",
       "          2                     ∂              d       \n",
       " v)) + 2⋅f (t, u, v)⋅g(t, u, v)⋅──(B(u, v, w))⋅──(W(t))\n",
       "                                ∂v             dt      \n",
       "───────────────────────────────────────────────────────\n",
       "                                                       \n",
       "                                                       "
      ]
     },
     "metadata": {},
     "output_type": "display_data"
    },
    {
     "name": "stdout",
     "output_type": "stream",
     "text": [
      "\n",
      "\n",
      "\n"
     ]
    },
    {
     "data": {
      "text/plain": [
       "\"Element ('v', 'u'), of Einstein tensor\""
      ]
     },
     "metadata": {},
     "output_type": "display_data"
    },
    {
     "data": {
      "image/png": "[encoded data removed]",
      "text/latex": [
       "$\\displaystyle \\frac{- 2 B^{2}{\\left(u,v,w \\right)} f{\\left(t,u,v \\right)} g{\\left(t,u,v \\right)} \\frac{\\partial^{2}}{\\partial v\\partial u} g{\\left(t,u,v \\right)} + B^{2}{\\left(u,v,w \\right)} f{\\left(t,u,v \\right)} \\frac{\\partial}{\\partial u} g{\\left(t,u,v \\right)} \\frac{\\partial}{\\partial v} g{\\left(t,u,v \\right)} + B^{2}{\\left(u,v,w \\right)} g{\\left(t,u,v \\right)} \\frac{\\partial}{\\partial v} f{\\left(t,u,v \\right)} \\frac{\\partial}{\\partial u} g{\\left(t,u,v \\right)} - 2 B{\\left(u,v,w \\right)} f{\\left(t,u,v \\right)} g^{2}{\\left(t,u,v \\right)} \\frac{\\partial^{2}}{\\partial v\\partial u} B{\\left(u,v,w \\right)} + B{\\left(u,v,w \\right)} g^{2}{\\left(t,u,v \\right)} \\frac{\\partial}{\\partial u} B{\\left(u,v,w \\right)} \\frac{\\partial}{\\partial v} f{\\left(t,u,v \\right)} + f{\\left(t,u,v \\right)} g^{2}{\\left(t,u,v \\right)} \\frac{\\partial}{\\partial u} B{\\left(u,v,w \\right)} \\frac{\\partial}{\\partial v} B{\\left(u,v,w \\right)}}{4 B^{2}{\\left(u,v,w \\right)} f{\\left(t,u,v \\right)} g^{2}{\\left(t,u,v \\right)}}$"
      ],
      "text/plain": [
       "                                         2                                    \n",
       "     2                                  ∂                  2                  \n",
       "- 2⋅B (u, v, w)⋅f(t, u, v)⋅g(t, u, v)⋅─────(g(t, u, v)) + B (u, v, w)⋅f(t, u, \n",
       "                                      ∂v ∂u                                   \n",
       "──────────────────────────────────────────────────────────────────────────────\n",
       "                                                                              \n",
       "                                                                              \n",
       "\n",
       "                                                                              \n",
       "   ∂              ∂                 2                     ∂              ∂    \n",
       "v)⋅──(g(t, u, v))⋅──(g(t, u, v)) + B (u, v, w)⋅g(t, u, v)⋅──(f(t, u, v))⋅──(g(\n",
       "   ∂u             ∂v                                      ∂v             ∂u   \n",
       "──────────────────────────────────────────────────────────────────────────────\n",
       "                                                                         2    \n",
       "                                                                      4⋅B (u, \n",
       "\n",
       "                                                   2                          \n",
       "                                     2            ∂                           \n",
       "t, u, v)) - 2⋅B(u, v, w)⋅f(t, u, v)⋅g (t, u, v)⋅─────(B(u, v, w)) + B(u, v, w)\n",
       "                                                ∂v ∂u                         \n",
       "──────────────────────────────────────────────────────────────────────────────\n",
       "                  2                                                           \n",
       "v, w)⋅f(t, u, v)⋅g (t, u, v)                                                  \n",
       "\n",
       "                                                                              \n",
       "  2          ∂              ∂                            2          ∂         \n",
       "⋅g (t, u, v)⋅──(B(u, v, w))⋅──(f(t, u, v)) + f(t, u, v)⋅g (t, u, v)⋅──(B(u, v,\n",
       "             ∂u             ∂v                                      ∂u        \n",
       "──────────────────────────────────────────────────────────────────────────────\n",
       "                                                                              \n",
       "                                                                              \n",
       "\n",
       "                   \n",
       "     ∂             \n",
       " w))⋅──(B(u, v, w))\n",
       "     ∂v            \n",
       "───────────────────\n",
       "                   \n",
       "                   "
      ]
     },
     "metadata": {},
     "output_type": "display_data"
    },
    {
     "name": "stdout",
     "output_type": "stream",
     "text": [
      "\n",
      "\n",
      "\n"
     ]
    },
    {
     "data": {
      "text/plain": [
       "\"Element ('v', 'v'), of Einstein tensor\""
      ]
     },
     "metadata": {},
     "output_type": "display_data"
    },
    {
     "data": {
      "image/png": "[encoded data removed]",
      "text/latex": [
       "$\\displaystyle - \\frac{0.5 \\left(- 1.0 A^{2}{\\left(w \\right)} B^{2}{\\left(u,v,w \\right)} W^{2}{\\left(t \\right)} f{\\left(t,u,v \\right)} g{\\left(t,u,v \\right)} \\frac{\\partial^{2}}{\\partial u^{2}} g{\\left(t,u,v \\right)} + 0.5 A^{2}{\\left(w \\right)} B^{2}{\\left(u,v,w \\right)} W^{2}{\\left(t \\right)} f{\\left(t,u,v \\right)} \\left(\\frac{\\partial}{\\partial u} g{\\left(t,u,v \\right)}\\right)^{2} + 0.5 A^{2}{\\left(w \\right)} B^{2}{\\left(u,v,w \\right)} W^{2}{\\left(t \\right)} g{\\left(t,u,v \\right)} \\frac{\\partial}{\\partial u} f{\\left(t,u,v \\right)} \\frac{\\partial}{\\partial u} g{\\left(t,u,v \\right)} - 0.5 A^{2}{\\left(w \\right)} B^{2}{\\left(u,v,w \\right)} f{\\left(t,u,v \\right)} g{\\left(t,u,v \\right)} \\frac{\\partial}{\\partial v} f{\\left(t,u,v \\right)} \\frac{\\partial}{\\partial v} g{\\left(t,u,v \\right)} - 1.0 A^{2}{\\left(w \\right)} B{\\left(u,v,w \\right)} W^{2}{\\left(t \\right)} f{\\left(t,u,v \\right)} g^{2}{\\left(t,u,v \\right)} \\frac{\\partial^{2}}{\\partial u^{2}} B{\\left(u,v,w \\right)} - 0.5 A^{2}{\\left(w \\right)} B{\\left(u,v,w \\right)} W^{2}{\\left(t \\right)} f{\\left(t,u,v \\right)} g{\\left(t,u,v \\right)} \\frac{\\partial}{\\partial u} B{\\left(u,v,w \\right)} \\frac{\\partial}{\\partial u} g{\\left(t,u,v \\right)} + 0.5 A^{2}{\\left(w \\right)} B{\\left(u,v,w \\right)} W^{2}{\\left(t \\right)} g^{2}{\\left(t,u,v \\right)} \\frac{\\partial}{\\partial u} B{\\left(u,v,w \\right)} \\frac{\\partial}{\\partial u} f{\\left(t,u,v \\right)} - 0.5 A^{2}{\\left(w \\right)} B{\\left(u,v,w \\right)} f^{2}{\\left(t,u,v \\right)} g{\\left(t,u,v \\right)} \\frac{\\partial}{\\partial v} B{\\left(u,v,w \\right)} \\frac{\\partial}{\\partial v} g{\\left(t,u,v \\right)} - 0.5 A^{2}{\\left(w \\right)} B{\\left(u,v,w \\right)} f{\\left(t,u,v \\right)} g^{2}{\\left(t,u,v \\right)} \\frac{\\partial}{\\partial v} B{\\left(u,v,w \\right)} \\frac{\\partial}{\\partial v} f{\\left(t,u,v \\right)} + 0.5 A^{2}{\\left(w \\right)} W^{2}{\\left(t \\right)} f{\\left(t,u,v \\right)} g^{2}{\\left(t,u,v \\right)} \\left(\\frac{\\partial}{\\partial u} B{\\left(u,v,w \\right)}\\right)^{2} + 1.0 A{\\left(w \\right)} B^{2}{\\left(u,v,w \\right)} W^{2}{\\left(t \\right)} f{\\left(t,u,v \\right)} g{\\left(t,u,v \\right)} \\frac{\\partial^{2}}{\\partial t^{2}} f{\\left(t,u,v \\right)} - 0.5 A{\\left(w \\right)} B^{2}{\\left(u,v,w \\right)} W^{2}{\\left(t \\right)} f{\\left(t,u,v \\right)} \\frac{\\partial}{\\partial t} f{\\left(t,u,v \\right)} \\frac{\\partial}{\\partial t} g{\\left(t,u,v \\right)} - 0.5 A{\\left(w \\right)} B^{2}{\\left(u,v,w \\right)} W^{2}{\\left(t \\right)} g{\\left(t,u,v \\right)} \\left(\\frac{\\partial}{\\partial t} f{\\left(t,u,v \\right)}\\right)^{2} - 1.0 A{\\left(w \\right)} B{\\left(u,v,w \\right)} W^{2}{\\left(t \\right)} f^{2}{\\left(t,u,v \\right)} g^{2}{\\left(t,u,v \\right)} \\frac{d^{2}}{d w^{2}} A{\\left(w \\right)} + 0.5 A{\\left(w \\right)} W^{2}{\\left(t \\right)} f^{2}{\\left(t,u,v \\right)} g^{2}{\\left(t,u,v \\right)} \\frac{d}{d w} A{\\left(w \\right)} \\frac{\\partial}{\\partial w} B{\\left(u,v,w \\right)} + 0.5 B{\\left(u,v,w \\right)} W^{2}{\\left(t \\right)} f^{2}{\\left(t,u,v \\right)} g^{2}{\\left(t,u,v \\right)} \\left(\\frac{d}{d w} A{\\left(w \\right)}\\right)^{2}\\right)}{A^{2}{\\left(w \\right)} B^{2}{\\left(u,v,w \\right)} f^{2}{\\left(t,u,v \\right)} g^{2}{\\left(t,u,v \\right)}}$"
      ],
      "text/plain": [
       "     ⎛                                                  2                     \n",
       "     ⎜   2     2           2                           ∂                     2\n",
       "-0.5⋅⎜- A (w)⋅B (u, v, w)⋅W (t)⋅f(t, u, v)⋅g(t, u, v)⋅───(g(t, u, v)) + 0.5⋅A \n",
       "     ⎜                                                  2                     \n",
       "     ⎝                                                ∂u                      \n",
       "──────────────────────────────────────────────────────────────────────────────\n",
       "                                                                              \n",
       "                                                                              \n",
       "\n",
       "                                                 2                            \n",
       "     2           2               ⎛∂             ⎞         2     2           2 \n",
       "(w)⋅B (u, v, w)⋅W (t)⋅f(t, u, v)⋅⎜──(g(t, u, v))⎟  + 0.5⋅A (w)⋅B (u, v, w)⋅W (\n",
       "                                 ⎝∂u            ⎠                             \n",
       "                                                                              \n",
       "──────────────────────────────────────────────────────────────────────────────\n",
       "                                                                              \n",
       "                                                                              \n",
       "\n",
       "                                                                              \n",
       "              ∂              ∂                     2     2                    \n",
       "t)⋅g(t, u, v)⋅──(f(t, u, v))⋅──(g(t, u, v)) - 0.5⋅A (w)⋅B (u, v, w)⋅f(t, u, v)\n",
       "              ∂u             ∂u                                               \n",
       "                                                                              \n",
       "──────────────────────────────────────────────────────────────────────────────\n",
       "                                                                              \n",
       "                                                                              \n",
       "\n",
       "                                                                              \n",
       "            ∂              ∂                 2                2               \n",
       "⋅g(t, u, v)⋅──(f(t, u, v))⋅──(g(t, u, v)) - A (w)⋅B(u, v, w)⋅W (t)⋅f(t, u, v)⋅\n",
       "            ∂v             ∂v                                                 \n",
       "                                                                              \n",
       "──────────────────────────────────────────────────────────────────────────────\n",
       "                                                                              \n",
       "                                                                              \n",
       "\n",
       "              2                                                               \n",
       " 2           ∂                     2                2                         \n",
       "g (t, u, v)⋅───(B(u, v, w)) - 0.5⋅A (w)⋅B(u, v, w)⋅W (t)⋅f(t, u, v)⋅g(t, u, v)\n",
       "              2                                                               \n",
       "            ∂u                                                                \n",
       "──────────────────────────────────────────────────────────────────────────────\n",
       "                                                                              \n",
       "                                                                              \n",
       "\n",
       "                                                                              \n",
       " ∂              ∂                     2                2     2          ∂     \n",
       "⋅──(B(u, v, w))⋅──(g(t, u, v)) + 0.5⋅A (w)⋅B(u, v, w)⋅W (t)⋅g (t, u, v)⋅──(B(u\n",
       " ∂u             ∂u                                                      ∂u    \n",
       "                                                                              \n",
       "──────────────────────────────────────────────────────────────────────────────\n",
       "                                                                              \n",
       "                                                                              \n",
       "\n",
       "                                                                              \n",
       "         ∂                     2                2                     ∂       \n",
       ", v, w))⋅──(f(t, u, v)) - 0.5⋅A (w)⋅B(u, v, w)⋅f (t, u, v)⋅g(t, u, v)⋅──(B(u, \n",
       "         ∂u                                                           ∂v      \n",
       "                                                                              \n",
       "──────────────────────────────────────────────────────────────────────────────\n",
       "                                                     2     2           2      \n",
       "                                                    A (w)⋅B (u, v, w)⋅f (t, u,\n",
       "\n",
       "                                                                              \n",
       "       ∂                     2                           2          ∂         \n",
       "v, w))⋅──(g(t, u, v)) - 0.5⋅A (w)⋅B(u, v, w)⋅f(t, u, v)⋅g (t, u, v)⋅──(B(u, v,\n",
       "       ∂v                                                           ∂v        \n",
       "                                                                              \n",
       "──────────────────────────────────────────────────────────────────────────────\n",
       "     2                                                                        \n",
       " v)⋅g (t, u, v)                                                               \n",
       "\n",
       "                                                                             2\n",
       "     ∂                     2     2                2          ⎛∂             ⎞ \n",
       " w))⋅──(f(t, u, v)) + 0.5⋅A (w)⋅W (t)⋅f(t, u, v)⋅g (t, u, v)⋅⎜──(B(u, v, w))⎟ \n",
       "     ∂v                                                      ⎝∂u            ⎠ \n",
       "                                                                              \n",
       "──────────────────────────────────────────────────────────────────────────────\n",
       "                                                                              \n",
       "                                                                              \n",
       "\n",
       "                                                      2                       \n",
       "             2           2                           ∂                        \n",
       " + 1.0⋅A(w)⋅B (u, v, w)⋅W (t)⋅f(t, u, v)⋅g(t, u, v)⋅───(f(t, u, v)) - 0.5⋅A(w)\n",
       "                                                      2                       \n",
       "                                                    ∂t                        \n",
       "──────────────────────────────────────────────────────────────────────────────\n",
       "                                                                              \n",
       "                                                                              \n",
       "\n",
       "                                                                              \n",
       "  2           2               ∂              ∂                          2     \n",
       "⋅B (u, v, w)⋅W (t)⋅f(t, u, v)⋅──(f(t, u, v))⋅──(g(t, u, v)) - 0.5⋅A(w)⋅B (u, v\n",
       "                              ∂t             ∂t                               \n",
       "                                                                              \n",
       "──────────────────────────────────────────────────────────────────────────────\n",
       "                                                                              \n",
       "                                                                              \n",
       "\n",
       "                                      2                                       \n",
       "      2               ⎛∂             ⎞                     2     2           2\n",
       ", w)⋅W (t)⋅g(t, u, v)⋅⎜──(f(t, u, v))⎟  - A(w)⋅B(u, v, w)⋅W (t)⋅f (t, u, v)⋅g \n",
       "                      ⎝∂t            ⎠                                        \n",
       "                                                                              \n",
       "──────────────────────────────────────────────────────────────────────────────\n",
       "                                                                              \n",
       "                                                                              \n",
       "\n",
       "            2                                                                 \n",
       "           d                    2     2           2          d        ∂       \n",
       "(t, u, v)⋅───(A(w)) + 0.5⋅A(w)⋅W (t)⋅f (t, u, v)⋅g (t, u, v)⋅──(A(w))⋅──(B(u, \n",
       "            2                                                dw       ∂w      \n",
       "          dw                                                                  \n",
       "──────────────────────────────────────────────────────────────────────────────\n",
       "                                                                              \n",
       "                                                                              \n",
       "\n",
       "                                                                2⎞ \n",
       "                         2     2           2          ⎛d       ⎞ ⎟ \n",
       "v, w)) + 0.5⋅B(u, v, w)⋅W (t)⋅f (t, u, v)⋅g (t, u, v)⋅⎜──(A(w))⎟ ⎟ \n",
       "                                                      ⎝dw      ⎠ ⎟ \n",
       "                                                                 ⎠ \n",
       "───────────────────────────────────────────────────────────────────\n",
       "                                                                   \n",
       "                                                                   "
      ]
     },
     "metadata": {},
     "output_type": "display_data"
    },
    {
     "name": "stdout",
     "output_type": "stream",
     "text": [
      "\n",
      "\n",
      "\n"
     ]
    },
    {
     "data": {
      "text/plain": [
       "\"Element ('v', 'w'), of Einstein tensor\""
      ]
     },
     "metadata": {},
     "output_type": "display_data"
    },
    {
     "data": {
      "image/png": "[encoded data removed]",
      "text/latex": [
       "$\\displaystyle - \\frac{\\left(B{\\left(u,v,w \\right)} \\frac{\\partial}{\\partial v} g{\\left(t,u,v \\right)} - g{\\left(t,u,v \\right)} \\frac{\\partial}{\\partial v} B{\\left(u,v,w \\right)}\\right) \\frac{d}{d w} A{\\left(w \\right)}}{4 A{\\left(w \\right)} B{\\left(u,v,w \\right)} g{\\left(t,u,v \\right)}}$"
      ],
      "text/plain": [
       " ⎛           ∂                           ∂             ⎞ d        \n",
       "-⎜B(u, v, w)⋅──(g(t, u, v)) - g(t, u, v)⋅──(B(u, v, w))⎟⋅──(A(w)) \n",
       " ⎝           ∂v                          ∂v            ⎠ dw       \n",
       "──────────────────────────────────────────────────────────────────\n",
       "                   4⋅A(w)⋅B(u, v, w)⋅g(t, u, v)                   "
      ]
     },
     "metadata": {},
     "output_type": "display_data"
    },
    {
     "name": "stdout",
     "output_type": "stream",
     "text": [
      "\n",
      "\n",
      "\n"
     ]
    },
    {
     "data": {
      "text/plain": [
       "\"Element ('w', 't'), of Einstein tensor\""
      ]
     },
     "metadata": {},
     "output_type": "display_data"
    },
    {
     "data": {
      "image/png": "[encoded data removed]",
      "text/latex": [
       "$\\displaystyle \\frac{\\left(W{\\left(t \\right)} \\frac{\\partial}{\\partial t} f{\\left(t,u,v \\right)} + 2 f{\\left(t,u,v \\right)} \\frac{d}{d t} W{\\left(t \\right)}\\right) \\frac{d}{d w} A{\\left(w \\right)}}{4 A{\\left(w \\right)} W{\\left(t \\right)} f{\\left(t,u,v \\right)}}$"
      ],
      "text/plain": [
       "⎛     ∂                             d       ⎞ d       \n",
       "⎜W(t)⋅──(f(t, u, v)) + 2⋅f(t, u, v)⋅──(W(t))⎟⋅──(A(w))\n",
       "⎝     ∂t                            dt      ⎠ dw      \n",
       "──────────────────────────────────────────────────────\n",
       "                4⋅A(w)⋅W(t)⋅f(t, u, v)                "
      ]
     },
     "metadata": {},
     "output_type": "display_data"
    },
    {
     "name": "stdout",
     "output_type": "stream",
     "text": [
      "\n",
      "\n",
      "\n"
     ]
    },
    {
     "data": {
      "text/plain": [
       "\"Element ('w', 'u'), of Einstein tensor\""
      ]
     },
     "metadata": {},
     "output_type": "display_data"
    },
    {
     "data": {
      "image/png": "[encoded data removed]",
      "text/latex": [
       "$\\displaystyle - \\frac{\\left(B{\\left(u,v,w \\right)} \\frac{\\partial}{\\partial u} g{\\left(t,u,v \\right)} - g{\\left(t,u,v \\right)} \\frac{\\partial}{\\partial u} B{\\left(u,v,w \\right)}\\right) \\frac{d}{d w} A{\\left(w \\right)}}{4 A{\\left(w \\right)} B{\\left(u,v,w \\right)} g{\\left(t,u,v \\right)}}$"
      ],
      "text/plain": [
       " ⎛           ∂                           ∂             ⎞ d        \n",
       "-⎜B(u, v, w)⋅──(g(t, u, v)) - g(t, u, v)⋅──(B(u, v, w))⎟⋅──(A(w)) \n",
       " ⎝           ∂u                          ∂u            ⎠ dw       \n",
       "──────────────────────────────────────────────────────────────────\n",
       "                   4⋅A(w)⋅B(u, v, w)⋅g(t, u, v)                   "
      ]
     },
     "metadata": {},
     "output_type": "display_data"
    },
    {
     "name": "stdout",
     "output_type": "stream",
     "text": [
      "\n",
      "\n",
      "\n"
     ]
    },
    {
     "data": {
      "text/plain": [
       "\"Element ('w', 'v'), of Einstein tensor\""
      ]
     },
     "metadata": {},
     "output_type": "display_data"
    },
    {
     "data": {
      "image/png": "[encoded data removed]",
      "text/latex": [
       "$\\displaystyle - \\frac{\\left(B{\\left(u,v,w \\right)} \\frac{\\partial}{\\partial v} g{\\left(t,u,v \\right)} - g{\\left(t,u,v \\right)} \\frac{\\partial}{\\partial v} B{\\left(u,v,w \\right)}\\right) \\frac{d}{d w} A{\\left(w \\right)}}{4 A{\\left(w \\right)} B{\\left(u,v,w \\right)} g{\\left(t,u,v \\right)}}$"
      ],
      "text/plain": [
       " ⎛           ∂                           ∂             ⎞ d        \n",
       "-⎜B(u, v, w)⋅──(g(t, u, v)) - g(t, u, v)⋅──(B(u, v, w))⎟⋅──(A(w)) \n",
       " ⎝           ∂v                          ∂v            ⎠ dw       \n",
       "──────────────────────────────────────────────────────────────────\n",
       "                   4⋅A(w)⋅B(u, v, w)⋅g(t, u, v)                   "
      ]
     },
     "metadata": {},
     "output_type": "display_data"
    },
    {
     "name": "stdout",
     "output_type": "stream",
     "text": [
      "\n",
      "\n",
      "\n"
     ]
    },
    {
     "data": {
      "text/plain": [
       "\"Element ('w', 'w'), of Einstein tensor\""
      ]
     },
     "metadata": {},
     "output_type": "display_data"
    },
    {
     "data": {
      "image/png": "[encoded data removed]",
      "text/latex": [
       "$\\displaystyle \\frac{1.0 \\left(0.5 A{\\left(w \\right)} W^{2}{\\left(t \\right)} f{\\left(t,u,v \\right)} g{\\left(t,u,v \\right)} \\frac{\\partial^{2}}{\\partial u^{2}} g{\\left(t,u,v \\right)} - 0.25 A{\\left(w \\right)} W^{2}{\\left(t \\right)} f{\\left(t,u,v \\right)} \\left(\\frac{\\partial}{\\partial u} g{\\left(t,u,v \\right)}\\right)^{2} - 0.25 A{\\left(w \\right)} W^{2}{\\left(t \\right)} g{\\left(t,u,v \\right)} \\frac{\\partial}{\\partial u} f{\\left(t,u,v \\right)} \\frac{\\partial}{\\partial u} g{\\left(t,u,v \\right)} + 0.5 A{\\left(w \\right)} f^{2}{\\left(t,u,v \\right)} g{\\left(t,u,v \\right)} \\frac{\\partial^{2}}{\\partial v^{2}} g{\\left(t,u,v \\right)} - 0.25 A{\\left(w \\right)} f^{2}{\\left(t,u,v \\right)} \\left(\\frac{\\partial}{\\partial v} g{\\left(t,u,v \\right)}\\right)^{2} + 0.5 A{\\left(w \\right)} f{\\left(t,u,v \\right)} g^{2}{\\left(t,u,v \\right)} \\frac{\\partial^{2}}{\\partial v^{2}} f{\\left(t,u,v \\right)} + 0.25 A{\\left(w \\right)} f{\\left(t,u,v \\right)} g{\\left(t,u,v \\right)} \\frac{\\partial}{\\partial v} f{\\left(t,u,v \\right)} \\frac{\\partial}{\\partial v} g{\\left(t,u,v \\right)} - 0.25 A{\\left(w \\right)} g^{2}{\\left(t,u,v \\right)} \\left(\\frac{\\partial}{\\partial v} f{\\left(t,u,v \\right)}\\right)^{2} - 0.5 W^{2}{\\left(t \\right)} f{\\left(t,u,v \\right)} g{\\left(t,u,v \\right)} \\frac{\\partial^{2}}{\\partial t^{2}} f{\\left(t,u,v \\right)} + 0.25 W^{2}{\\left(t \\right)} f{\\left(t,u,v \\right)} \\frac{\\partial}{\\partial t} f{\\left(t,u,v \\right)} \\frac{\\partial}{\\partial t} g{\\left(t,u,v \\right)} + 0.25 W^{2}{\\left(t \\right)} g{\\left(t,u,v \\right)} \\left(\\frac{\\partial}{\\partial t} f{\\left(t,u,v \\right)}\\right)^{2} - 1.0 W{\\left(t \\right)} f^{2}{\\left(t,u,v \\right)} g{\\left(t,u,v \\right)} \\frac{d^{2}}{d t^{2}} W{\\left(t \\right)} + 0.5 W{\\left(t \\right)} f^{2}{\\left(t,u,v \\right)} \\frac{d}{d t} W{\\left(t \\right)} \\frac{\\partial}{\\partial t} g{\\left(t,u,v \\right)} - 0.5 W{\\left(t \\right)} f{\\left(t,u,v \\right)} g{\\left(t,u,v \\right)} \\frac{d}{d t} W{\\left(t \\right)} \\frac{\\partial}{\\partial t} f{\\left(t,u,v \\right)}\\right) B{\\left(u,v,w \\right)}}{A{\\left(w \\right)} W^{2}{\\left(t \\right)} f^{2}{\\left(t,u,v \\right)} g^{2}{\\left(t,u,v \\right)}}$"
      ],
      "text/plain": [
       "    ⎛                                       2                                 \n",
       "    ⎜          2                           ∂                           2      \n",
       "1.0⋅⎜0.5⋅A(w)⋅W (t)⋅f(t, u, v)⋅g(t, u, v)⋅───(g(t, u, v)) - 0.25⋅A(w)⋅W (t)⋅f(\n",
       "    ⎜                                       2                                 \n",
       "    ⎝                                     ∂u                                  \n",
       "──────────────────────────────────────────────────────────────────────────────\n",
       "                                                                              \n",
       "                                                                              \n",
       "\n",
       "                         2                                                    \n",
       "         ⎛∂             ⎞               2               ∂              ∂      \n",
       "t, u, v)⋅⎜──(g(t, u, v))⎟  - 0.25⋅A(w)⋅W (t)⋅g(t, u, v)⋅──(f(t, u, v))⋅──(g(t,\n",
       "         ⎝∂u            ⎠                               ∂u             ∂u     \n",
       "                                                                              \n",
       "──────────────────────────────────────────────────────────────────────────────\n",
       "                                                                              \n",
       "                                                                              \n",
       "\n",
       "                                            2                                 \n",
       "                    2                      ∂                           2      \n",
       " u, v)) + 0.5⋅A(w)⋅f (t, u, v)⋅g(t, u, v)⋅───(g(t, u, v)) - 0.25⋅A(w)⋅f (t, u,\n",
       "                                            2                                 \n",
       "                                          ∂v                                  \n",
       "──────────────────────────────────────────────────────────────────────────────\n",
       "                                                                              \n",
       "                                                                              \n",
       "\n",
       "                    2                                     2                   \n",
       "    ⎛∂             ⎞                         2           ∂                    \n",
       " v)⋅⎜──(g(t, u, v))⎟  + 0.5⋅A(w)⋅f(t, u, v)⋅g (t, u, v)⋅───(f(t, u, v)) + 0.25\n",
       "    ⎝∂v            ⎠                                      2                   \n",
       "                                                        ∂v                    \n",
       "──────────────────────────────────────────────────────────────────────────────\n",
       "                                                                              \n",
       "                                                                              \n",
       "\n",
       "                                                                              \n",
       "                            ∂              ∂                           2      \n",
       "⋅A(w)⋅f(t, u, v)⋅g(t, u, v)⋅──(f(t, u, v))⋅──(g(t, u, v)) - 0.25⋅A(w)⋅g (t, u,\n",
       "                            ∂v             ∂v                                 \n",
       "                                                                              \n",
       "──────────────────────────────────────────────────────────────────────────────\n",
       "                                  2     2           2                         \n",
       "                            A(w)⋅W (t)⋅f (t, u, v)⋅g (t, u, v)                \n",
       "\n",
       "                    2                                     2                   \n",
       "    ⎛∂             ⎞         2                           ∂                    \n",
       " v)⋅⎜──(f(t, u, v))⎟  - 0.5⋅W (t)⋅f(t, u, v)⋅g(t, u, v)⋅───(f(t, u, v)) + 0.25\n",
       "    ⎝∂v            ⎠                                      2                   \n",
       "                                                        ∂t                    \n",
       "──────────────────────────────────────────────────────────────────────────────\n",
       "                                                                              \n",
       "                                                                              \n",
       "\n",
       "                                                                              \n",
       "  2               ∂              ∂                      2               ⎛∂    \n",
       "⋅W (t)⋅f(t, u, v)⋅──(f(t, u, v))⋅──(g(t, u, v)) + 0.25⋅W (t)⋅g(t, u, v)⋅⎜──(f(\n",
       "                  ∂t             ∂t                                     ⎝∂t   \n",
       "                                                                              \n",
       "──────────────────────────────────────────────────────────────────────────────\n",
       "                                                                              \n",
       "                                                                              \n",
       "\n",
       "          2                                 2                                 \n",
       "         ⎞          2                      d                    2          d  \n",
       "t, u, v))⎟  - W(t)⋅f (t, u, v)⋅g(t, u, v)⋅───(W(t)) + 0.5⋅W(t)⋅f (t, u, v)⋅──(\n",
       "         ⎠                                  2                              dt \n",
       "                                          dt                                  \n",
       "──────────────────────────────────────────────────────────────────────────────\n",
       "                                                                              \n",
       "                                                                              \n",
       "\n",
       "                                                                             ⎞\n",
       "      ∂                                               d        ∂             ⎟\n",
       "W(t))⋅──(g(t, u, v)) - 0.5⋅W(t)⋅f(t, u, v)⋅g(t, u, v)⋅──(W(t))⋅──(f(t, u, v))⎟\n",
       "      ∂t                                              dt       ∂t            ⎟\n",
       "                                                                             ⎠\n",
       "──────────────────────────────────────────────────────────────────────────────\n",
       "                                                                              \n",
       "                                                                              \n",
       "\n",
       "           \n",
       "           \n",
       "⋅B(u, v, w)\n",
       "           \n",
       "           \n",
       "───────────\n",
       "           \n",
       "           "
      ]
     },
     "metadata": {},
     "output_type": "display_data"
    },
    {
     "name": "stdout",
     "output_type": "stream",
     "text": [
      "\n",
      "\n",
      "\n"
     ]
    }
   ],
   "source": [
    "A = sp.Function(\"A\")(w)\n",
    "B = sp.Function(\"B\")(u, v, w)\n",
    "C = sp.Function(\"C\")(w)\n",
    "\n",
    "g_ = MetricTensor(\n",
    "    sp.Array(\n",
    "        np.diag([A*g, -f, -W**2, -B]\n",
    "               )\n",
    "    ),\n",
    "    syms=[t, u, v, w]\n",
    ")\n",
    "    \n",
    "g_.tensor()\n",
    "\n",
    "einstein = EinsteinTensor.from_metric(g_)\n",
    "einstein.tensor()\n",
    "\n",
    "out = \"ds^2 =\"\n",
    "vars_ = [\"t\", \"u\", \"v\", \"w\"] \n",
    "\n",
    "print_ein(einstein)"
   ]
  },
  {
   "cell_type": "code",
   "execution_count": 4,
   "id": "62b1797e-8980-41e4-945b-db6a6625341e",
   "metadata": {},
   "outputs": [
    {
     "data": {
      "text/plain": [
       "\"Element ('t', 't'), of Einstein tensor\""
      ]
     },
     "metadata": {},
     "output_type": "display_data"
    },
    {
     "data": {
      "image/png": "[encoded data removed]",
      "text/latex": [
       "$\\displaystyle - \\frac{0.5 \\left(1.0 A W^{2}{\\left(t \\right)} f{\\left(t,u,v \\right)} g{\\left(t,u,v \\right)} \\frac{\\partial^{2}}{\\partial u^{2}} g{\\left(t,u,v \\right)} - 0.5 A W^{2}{\\left(t \\right)} f{\\left(t,u,v \\right)} \\left(\\frac{\\partial}{\\partial u} g{\\left(t,u,v \\right)}\\right)^{2} - 0.5 A W^{2}{\\left(t \\right)} g{\\left(t,u,v \\right)} \\frac{\\partial}{\\partial u} f{\\left(t,u,v \\right)} \\frac{\\partial}{\\partial u} g{\\left(t,u,v \\right)} + 1.0 A f^{2}{\\left(t,u,v \\right)} g{\\left(t,u,v \\right)} \\frac{\\partial^{2}}{\\partial v^{2}} g{\\left(t,u,v \\right)} - 0.5 A f^{2}{\\left(t,u,v \\right)} \\left(\\frac{\\partial}{\\partial v} g{\\left(t,u,v \\right)}\\right)^{2} + 1.0 A f{\\left(t,u,v \\right)} g^{2}{\\left(t,u,v \\right)} \\frac{\\partial^{2}}{\\partial v^{2}} f{\\left(t,u,v \\right)} + 0.5 A f{\\left(t,u,v \\right)} g{\\left(t,u,v \\right)} \\frac{\\partial}{\\partial v} f{\\left(t,u,v \\right)} \\frac{\\partial}{\\partial v} g{\\left(t,u,v \\right)} - 0.5 A g^{2}{\\left(t,u,v \\right)} \\left(\\frac{\\partial}{\\partial v} f{\\left(t,u,v \\right)}\\right)^{2} - 0.5 W^{2}{\\left(t \\right)} f{\\left(t,u,v \\right)} \\frac{\\partial}{\\partial t} f{\\left(t,u,v \\right)} \\frac{\\partial}{\\partial t} g{\\left(t,u,v \\right)} - 1.0 W{\\left(t \\right)} f^{2}{\\left(t,u,v \\right)} \\frac{d}{d t} W{\\left(t \\right)} \\frac{\\partial}{\\partial t} g{\\left(t,u,v \\right)} - 1.0 W{\\left(t \\right)} f{\\left(t,u,v \\right)} g{\\left(t,u,v \\right)} \\frac{d}{d t} W{\\left(t \\right)} \\frac{\\partial}{\\partial t} f{\\left(t,u,v \\right)}\\right)}{W^{2}{\\left(t \\right)} f^{2}{\\left(t,u,v \\right)} g{\\left(t,u,v \\right)}}$"
      ],
      "text/plain": [
       "     ⎛                                    2                                   \n",
       "     ⎜       2                           ∂                       2            \n",
       "-0.5⋅⎜1.0⋅A⋅W (t)⋅f(t, u, v)⋅g(t, u, v)⋅───(g(t, u, v)) - 0.5⋅A⋅W (t)⋅f(t, u, \n",
       "     ⎜                                    2                                   \n",
       "     ⎝                                  ∂u                                    \n",
       "──────────────────────────────────────────────────────────────────────────────\n",
       "                                                                              \n",
       "                                                                              \n",
       "\n",
       "                   2                                                          \n",
       "   ⎛∂             ⎞           2               ∂              ∂                \n",
       "v)⋅⎜──(g(t, u, v))⎟  - 0.5⋅A⋅W (t)⋅g(t, u, v)⋅──(f(t, u, v))⋅──(g(t, u, v)) + \n",
       "   ⎝∂u            ⎠                           ∂u             ∂u               \n",
       "                                                                              \n",
       "──────────────────────────────────────────────────────────────────────────────\n",
       "                                                                              \n",
       "                                                                              \n",
       "\n",
       "                               2                                              \n",
       "       2                      ∂                       2          ⎛∂           \n",
       "1.0⋅A⋅f (t, u, v)⋅g(t, u, v)⋅───(g(t, u, v)) - 0.5⋅A⋅f (t, u, v)⋅⎜──(g(t, u, v\n",
       "                               2                                 ⎝∂v          \n",
       "                             ∂v                                               \n",
       "──────────────────────────────────────────────────────────────────────────────\n",
       "                                                                              \n",
       "                                                                              \n",
       "\n",
       "   2                                  2                                       \n",
       "  ⎞                      2           ∂                                        \n",
       "))⎟  + 1.0⋅A⋅f(t, u, v)⋅g (t, u, v)⋅───(f(t, u, v)) + 0.5⋅A⋅f(t, u, v)⋅g(t, u,\n",
       "  ⎠                                   2                                       \n",
       "                                    ∂v                                        \n",
       "──────────────────────────────────────────────────────────────────────────────\n",
       "                    2     2                                                   \n",
       "                   W (t)⋅f (t, u, v)⋅g(t, u, v)                               \n",
       "\n",
       "                                                                      2       \n",
       "    ∂              ∂                       2          ⎛∂             ⎞        \n",
       " v)⋅──(f(t, u, v))⋅──(g(t, u, v)) - 0.5⋅A⋅g (t, u, v)⋅⎜──(f(t, u, v))⎟  - 0.5⋅\n",
       "    ∂v             ∂v                                 ⎝∂v            ⎠        \n",
       "                                                                              \n",
       "──────────────────────────────────────────────────────────────────────────────\n",
       "                                                                              \n",
       "                                                                              \n",
       "\n",
       "                                                                              \n",
       " 2               ∂              ∂                      2          d        ∂  \n",
       "W (t)⋅f(t, u, v)⋅──(f(t, u, v))⋅──(g(t, u, v)) - W(t)⋅f (t, u, v)⋅──(W(t))⋅──(\n",
       "                 ∂t             ∂t                                dt       ∂t \n",
       "                                                                              \n",
       "──────────────────────────────────────────────────────────────────────────────\n",
       "                                                                              \n",
       "                                                                              \n",
       "\n",
       "                                                                ⎞ \n",
       "                                         d        ∂             ⎟ \n",
       "g(t, u, v)) - W(t)⋅f(t, u, v)⋅g(t, u, v)⋅──(W(t))⋅──(f(t, u, v))⎟ \n",
       "                                         dt       ∂t            ⎟ \n",
       "                                                                ⎠ \n",
       "──────────────────────────────────────────────────────────────────\n",
       "                                                                  \n",
       "                                                                  "
      ]
     },
     "metadata": {},
     "output_type": "display_data"
    },
    {
     "name": "stdout",
     "output_type": "stream",
     "text": [
      "\n",
      "\n",
      "\n"
     ]
    },
    {
     "data": {
      "text/plain": [
       "\"Element ('t', 'u'), of Einstein tensor\""
      ]
     },
     "metadata": {},
     "output_type": "display_data"
    },
    {
     "data": {
      "image/png": "[encoded data removed]",
      "text/latex": [
       "$\\displaystyle \\frac{- 2 W{\\left(t \\right)} f{\\left(t,u,v \\right)} g{\\left(t,u,v \\right)} \\frac{\\partial^{2}}{\\partial u\\partial t} g{\\left(t,u,v \\right)} + 2 W{\\left(t \\right)} f{\\left(t,u,v \\right)} \\frac{\\partial}{\\partial t} g{\\left(t,u,v \\right)} \\frac{\\partial}{\\partial u} g{\\left(t,u,v \\right)} + W{\\left(t \\right)} g{\\left(t,u,v \\right)} \\frac{\\partial}{\\partial t} f{\\left(t,u,v \\right)} \\frac{\\partial}{\\partial u} g{\\left(t,u,v \\right)} + 2 f{\\left(t,u,v \\right)} g{\\left(t,u,v \\right)} \\frac{d}{d t} W{\\left(t \\right)} \\frac{\\partial}{\\partial u} g{\\left(t,u,v \\right)}}{4 W{\\left(t \\right)} f{\\left(t,u,v \\right)} g^{2}{\\left(t,u,v \\right)}}$"
      ],
      "text/plain": [
       "                                  2                                           \n",
       "                                 ∂                                   ∂        \n",
       "- 2⋅W(t)⋅f(t, u, v)⋅g(t, u, v)⋅─────(g(t, u, v)) + 2⋅W(t)⋅f(t, u, v)⋅──(g(t, u\n",
       "                               ∂u ∂t                                 ∂t       \n",
       "──────────────────────────────────────────────────────────────────────────────\n",
       "                                                                              \n",
       "                                                                              \n",
       "\n",
       "                                                                              \n",
       "      ∂                                ∂              ∂                       \n",
       ", v))⋅──(g(t, u, v)) + W(t)⋅g(t, u, v)⋅──(f(t, u, v))⋅──(g(t, u, v)) + 2⋅f(t, \n",
       "      ∂u                               ∂t             ∂u                      \n",
       "──────────────────────────────────────────────────────────────────────────────\n",
       "                        2                                                     \n",
       "     4⋅W(t)⋅f(t, u, v)⋅g (t, u, v)                                            \n",
       "\n",
       "                                        \n",
       "                 d        ∂             \n",
       "u, v)⋅g(t, u, v)⋅──(W(t))⋅──(g(t, u, v))\n",
       "                 dt       ∂u            \n",
       "────────────────────────────────────────\n",
       "                                        \n",
       "                                        "
      ]
     },
     "metadata": {},
     "output_type": "display_data"
    },
    {
     "name": "stdout",
     "output_type": "stream",
     "text": [
      "\n",
      "\n",
      "\n"
     ]
    },
    {
     "data": {
      "text/plain": [
       "\"Element ('t', 'v'), of Einstein tensor\""
      ]
     },
     "metadata": {},
     "output_type": "display_data"
    },
    {
     "data": {
      "image/png": "[encoded data removed]",
      "text/latex": [
       "$\\displaystyle \\frac{- 2 W{\\left(t \\right)} f^{2}{\\left(t,u,v \\right)} g{\\left(t,u,v \\right)} \\frac{\\partial^{2}}{\\partial v\\partial t} g{\\left(t,u,v \\right)} + 2 W{\\left(t \\right)} f^{2}{\\left(t,u,v \\right)} \\frac{\\partial}{\\partial t} g{\\left(t,u,v \\right)} \\frac{\\partial}{\\partial v} g{\\left(t,u,v \\right)} - 2 W{\\left(t \\right)} f{\\left(t,u,v \\right)} g^{2}{\\left(t,u,v \\right)} \\frac{\\partial^{2}}{\\partial v\\partial t} f{\\left(t,u,v \\right)} + W{\\left(t \\right)} f{\\left(t,u,v \\right)} g{\\left(t,u,v \\right)} \\frac{\\partial}{\\partial t} f{\\left(t,u,v \\right)} \\frac{\\partial}{\\partial v} g{\\left(t,u,v \\right)} + W{\\left(t \\right)} g^{2}{\\left(t,u,v \\right)} \\frac{\\partial}{\\partial t} f{\\left(t,u,v \\right)} \\frac{\\partial}{\\partial v} f{\\left(t,u,v \\right)} + 2 f^{2}{\\left(t,u,v \\right)} g{\\left(t,u,v \\right)} \\frac{d}{d t} W{\\left(t \\right)} \\frac{\\partial}{\\partial v} g{\\left(t,u,v \\right)} + 2 f{\\left(t,u,v \\right)} g^{2}{\\left(t,u,v \\right)} \\frac{d}{d t} W{\\left(t \\right)} \\frac{\\partial}{\\partial v} f{\\left(t,u,v \\right)}}{4 W{\\left(t \\right)} f^{2}{\\left(t,u,v \\right)} g^{2}{\\left(t,u,v \\right)}}$"
      ],
      "text/plain": [
       "                                   2                                          \n",
       "          2                       ∂                         2          ∂      \n",
       "- 2⋅W(t)⋅f (t, u, v)⋅g(t, u, v)⋅─────(g(t, u, v)) + 2⋅W(t)⋅f (t, u, v)⋅──(g(t,\n",
       "                                ∂v ∂t                                  ∂t     \n",
       "──────────────────────────────────────────────────────────────────────────────\n",
       "                                                                              \n",
       "                                                                              \n",
       "\n",
       "                                                          2                   \n",
       "        ∂                                   2            ∂                    \n",
       " u, v))⋅──(g(t, u, v)) - 2⋅W(t)⋅f(t, u, v)⋅g (t, u, v)⋅─────(f(t, u, v)) + W(t\n",
       "        ∂v                                             ∂v ∂t                  \n",
       "──────────────────────────────────────────────────────────────────────────────\n",
       "                                                                              \n",
       "                                                                              \n",
       "\n",
       "                                                                              \n",
       "                        ∂              ∂                      2          ∂    \n",
       ")⋅f(t, u, v)⋅g(t, u, v)⋅──(f(t, u, v))⋅──(g(t, u, v)) + W(t)⋅g (t, u, v)⋅──(f(\n",
       "                        ∂t             ∂v                                ∂t   \n",
       "──────────────────────────────────────────────────────────────────────────────\n",
       "                 2           2                                                \n",
       "         4⋅W(t)⋅f (t, u, v)⋅g (t, u, v)                                       \n",
       "\n",
       "                                                                              \n",
       "          ∂                   2                     d        ∂                \n",
       "t, u, v))⋅──(f(t, u, v)) + 2⋅f (t, u, v)⋅g(t, u, v)⋅──(W(t))⋅──(g(t, u, v)) + \n",
       "          ∂v                                        dt       ∂v               \n",
       "──────────────────────────────────────────────────────────────────────────────\n",
       "                                                                              \n",
       "                                                                              \n",
       "\n",
       "                                                \n",
       "              2          d        ∂             \n",
       "2⋅f(t, u, v)⋅g (t, u, v)⋅──(W(t))⋅──(f(t, u, v))\n",
       "                         dt       ∂v            \n",
       "────────────────────────────────────────────────\n",
       "                                                \n",
       "                                                "
      ]
     },
     "metadata": {},
     "output_type": "display_data"
    },
    {
     "name": "stdout",
     "output_type": "stream",
     "text": [
      "\n",
      "\n",
      "\n"
     ]
    },
    {
     "data": {
      "text/plain": [
       "\"Element ('u', 't'), of Einstein tensor\""
      ]
     },
     "metadata": {},
     "output_type": "display_data"
    },
    {
     "data": {
      "image/png": "[encoded data removed]",
      "text/latex": [
       "$\\displaystyle \\frac{- 2 W{\\left(t \\right)} f{\\left(t,u,v \\right)} g{\\left(t,u,v \\right)} \\frac{\\partial^{2}}{\\partial u\\partial t} g{\\left(t,u,v \\right)} + 2 W{\\left(t \\right)} f{\\left(t,u,v \\right)} \\frac{\\partial}{\\partial t} g{\\left(t,u,v \\right)} \\frac{\\partial}{\\partial u} g{\\left(t,u,v \\right)} + W{\\left(t \\right)} g{\\left(t,u,v \\right)} \\frac{\\partial}{\\partial t} f{\\left(t,u,v \\right)} \\frac{\\partial}{\\partial u} g{\\left(t,u,v \\right)} + 2 f{\\left(t,u,v \\right)} g{\\left(t,u,v \\right)} \\frac{d}{d t} W{\\left(t \\right)} \\frac{\\partial}{\\partial u} g{\\left(t,u,v \\right)}}{4 W{\\left(t \\right)} f{\\left(t,u,v \\right)} g^{2}{\\left(t,u,v \\right)}}$"
      ],
      "text/plain": [
       "                                  2                                           \n",
       "                                 ∂                                   ∂        \n",
       "- 2⋅W(t)⋅f(t, u, v)⋅g(t, u, v)⋅─────(g(t, u, v)) + 2⋅W(t)⋅f(t, u, v)⋅──(g(t, u\n",
       "                               ∂u ∂t                                 ∂t       \n",
       "──────────────────────────────────────────────────────────────────────────────\n",
       "                                                                              \n",
       "                                                                              \n",
       "\n",
       "                                                                              \n",
       "      ∂                                ∂              ∂                       \n",
       ", v))⋅──(g(t, u, v)) + W(t)⋅g(t, u, v)⋅──(f(t, u, v))⋅──(g(t, u, v)) + 2⋅f(t, \n",
       "      ∂u                               ∂t             ∂u                      \n",
       "──────────────────────────────────────────────────────────────────────────────\n",
       "                        2                                                     \n",
       "     4⋅W(t)⋅f(t, u, v)⋅g (t, u, v)                                            \n",
       "\n",
       "                                        \n",
       "                 d        ∂             \n",
       "u, v)⋅g(t, u, v)⋅──(W(t))⋅──(g(t, u, v))\n",
       "                 dt       ∂u            \n",
       "────────────────────────────────────────\n",
       "                                        \n",
       "                                        "
      ]
     },
     "metadata": {},
     "output_type": "display_data"
    },
    {
     "name": "stdout",
     "output_type": "stream",
     "text": [
      "\n",
      "\n",
      "\n"
     ]
    },
    {
     "data": {
      "text/plain": [
       "\"Element ('u', 'u'), of Einstein tensor\""
      ]
     },
     "metadata": {},
     "output_type": "display_data"
    },
    {
     "data": {
      "image/png": "[encoded data removed]",
      "text/latex": [
       "$\\displaystyle \\frac{1.0 \\left(0.25 A W^{2}{\\left(t \\right)} g{\\left(t,u,v \\right)} \\left(\\frac{\\partial}{\\partial u} g{\\left(t,u,v \\right)}\\right)^{2} + 1.0 A f{\\left(t,u,v \\right)} g^{2}{\\left(t,u,v \\right)} \\frac{\\partial^{2}}{\\partial v^{2}} g{\\left(t,u,v \\right)} - 0.25 A f{\\left(t,u,v \\right)} g{\\left(t,u,v \\right)} \\left(\\frac{\\partial}{\\partial v} g{\\left(t,u,v \\right)}\\right)^{2} - 0.5 W^{2}{\\left(t \\right)} f{\\left(t,u,v \\right)} g{\\left(t,u,v \\right)} \\frac{\\partial^{2}}{\\partial t^{2}} g{\\left(t,u,v \\right)} + 0.5 W^{2}{\\left(t \\right)} f{\\left(t,u,v \\right)} \\left(\\frac{\\partial}{\\partial t} g{\\left(t,u,v \\right)}\\right)^{2} - 1.0 W{\\left(t \\right)} f{\\left(t,u,v \\right)} g^{2}{\\left(t,u,v \\right)} \\frac{d^{2}}{d t^{2}} W{\\left(t \\right)}\\right)}{A W^{2}{\\left(t \\right)} g^{3}{\\left(t,u,v \\right)}}$"
      ],
      "text/plain": [
       "    ⎛                                        2                                \n",
       "    ⎜        2               ⎛∂             ⎞                      2          \n",
       "1.0⋅⎜0.25⋅A⋅W (t)⋅g(t, u, v)⋅⎜──(g(t, u, v))⎟  + 1.0⋅A⋅f(t, u, v)⋅g (t, u, v)⋅\n",
       "    ⎜                        ⎝∂u            ⎠                                 \n",
       "    ⎝                                                                         \n",
       "──────────────────────────────────────────────────────────────────────────────\n",
       "                                                                              \n",
       "                                                                              \n",
       "\n",
       "  2                                                            2              \n",
       " ∂                                             ⎛∂             ⎞         2     \n",
       "───(g(t, u, v)) - 0.25⋅A⋅f(t, u, v)⋅g(t, u, v)⋅⎜──(g(t, u, v))⎟  - 0.5⋅W (t)⋅f\n",
       "  2                                            ⎝∂v            ⎠               \n",
       "∂v                                                                            \n",
       "──────────────────────────────────────────────────────────────────────────────\n",
       "                                                    2     3                   \n",
       "                                                 A⋅W (t)⋅g (t, u, v)          \n",
       "\n",
       "                       2                                                    2 \n",
       "                      ∂                     2               ⎛∂             ⎞  \n",
       "(t, u, v)⋅g(t, u, v)⋅───(g(t, u, v)) + 0.5⋅W (t)⋅f(t, u, v)⋅⎜──(g(t, u, v))⎟  \n",
       "                       2                                    ⎝∂t            ⎠  \n",
       "                     ∂t                                                       \n",
       "──────────────────────────────────────────────────────────────────────────────\n",
       "                                                                              \n",
       "                                                                              \n",
       "\n",
       "                                2      ⎞\n",
       "                   2           d       ⎟\n",
       "- W(t)⋅f(t, u, v)⋅g (t, u, v)⋅───(W(t))⎟\n",
       "                                2      ⎟\n",
       "                              dt       ⎠\n",
       "────────────────────────────────────────\n",
       "                                        \n",
       "                                        "
      ]
     },
     "metadata": {},
     "output_type": "display_data"
    },
    {
     "name": "stdout",
     "output_type": "stream",
     "text": [
      "\n",
      "\n",
      "\n"
     ]
    },
    {
     "data": {
      "text/plain": [
       "\"Element ('u', 'v'), of Einstein tensor\""
      ]
     },
     "metadata": {},
     "output_type": "display_data"
    },
    {
     "data": {
      "image/png": "[encoded data removed]",
      "text/latex": [
       "$\\displaystyle \\frac{- 2 f{\\left(t,u,v \\right)} g{\\left(t,u,v \\right)} \\frac{\\partial^{2}}{\\partial v\\partial u} g{\\left(t,u,v \\right)} + f{\\left(t,u,v \\right)} \\frac{\\partial}{\\partial u} g{\\left(t,u,v \\right)} \\frac{\\partial}{\\partial v} g{\\left(t,u,v \\right)} + g{\\left(t,u,v \\right)} \\frac{\\partial}{\\partial v} f{\\left(t,u,v \\right)} \\frac{\\partial}{\\partial u} g{\\left(t,u,v \\right)}}{2 f{\\left(t,u,v \\right)} g^{2}{\\left(t,u,v \\right)}}$"
      ],
      "text/plain": [
       "                             2                                                \n",
       "                            ∂                            ∂              ∂     \n",
       "- 2⋅f(t, u, v)⋅g(t, u, v)⋅─────(g(t, u, v)) + f(t, u, v)⋅──(g(t, u, v))⋅──(g(t\n",
       "                          ∂v ∂u                          ∂u             ∂v    \n",
       "──────────────────────────────────────────────────────────────────────────────\n",
       "                                                                   2          \n",
       "                                                     2⋅f(t, u, v)⋅g (t, u, v) \n",
       "\n",
       "                                                   \n",
       "                      ∂              ∂             \n",
       ", u, v)) + g(t, u, v)⋅──(f(t, u, v))⋅──(g(t, u, v))\n",
       "                      ∂v             ∂u            \n",
       "───────────────────────────────────────────────────\n",
       "                                                   \n",
       "                                                   "
      ]
     },
     "metadata": {},
     "output_type": "display_data"
    },
    {
     "name": "stdout",
     "output_type": "stream",
     "text": [
      "\n",
      "\n",
      "\n"
     ]
    },
    {
     "data": {
      "text/plain": [
       "\"Element ('v', 't'), of Einstein tensor\""
      ]
     },
     "metadata": {},
     "output_type": "display_data"
    },
    {
     "data": {
      "image/png": "[encoded data removed]",
      "text/latex": [
       "$\\displaystyle \\frac{- 2 W{\\left(t \\right)} f^{2}{\\left(t,u,v \\right)} g{\\left(t,u,v \\right)} \\frac{\\partial^{2}}{\\partial v\\partial t} g{\\left(t,u,v \\right)} + 2 W{\\left(t \\right)} f^{2}{\\left(t,u,v \\right)} \\frac{\\partial}{\\partial t} g{\\left(t,u,v \\right)} \\frac{\\partial}{\\partial v} g{\\left(t,u,v \\right)} - 2 W{\\left(t \\right)} f{\\left(t,u,v \\right)} g^{2}{\\left(t,u,v \\right)} \\frac{\\partial^{2}}{\\partial v\\partial t} f{\\left(t,u,v \\right)} + W{\\left(t \\right)} f{\\left(t,u,v \\right)} g{\\left(t,u,v \\right)} \\frac{\\partial}{\\partial t} f{\\left(t,u,v \\right)} \\frac{\\partial}{\\partial v} g{\\left(t,u,v \\right)} + W{\\left(t \\right)} g^{2}{\\left(t,u,v \\right)} \\frac{\\partial}{\\partial t} f{\\left(t,u,v \\right)} \\frac{\\partial}{\\partial v} f{\\left(t,u,v \\right)} + 2 f^{2}{\\left(t,u,v \\right)} g{\\left(t,u,v \\right)} \\frac{d}{d t} W{\\left(t \\right)} \\frac{\\partial}{\\partial v} g{\\left(t,u,v \\right)} + 2 f{\\left(t,u,v \\right)} g^{2}{\\left(t,u,v \\right)} \\frac{d}{d t} W{\\left(t \\right)} \\frac{\\partial}{\\partial v} f{\\left(t,u,v \\right)}}{4 W{\\left(t \\right)} f^{2}{\\left(t,u,v \\right)} g^{2}{\\left(t,u,v \\right)}}$"
      ],
      "text/plain": [
       "                                   2                                          \n",
       "          2                       ∂                         2          ∂      \n",
       "- 2⋅W(t)⋅f (t, u, v)⋅g(t, u, v)⋅─────(g(t, u, v)) + 2⋅W(t)⋅f (t, u, v)⋅──(g(t,\n",
       "                                ∂v ∂t                                  ∂t     \n",
       "──────────────────────────────────────────────────────────────────────────────\n",
       "                                                                              \n",
       "                                                                              \n",
       "\n",
       "                                                          2                   \n",
       "        ∂                                   2            ∂                    \n",
       " u, v))⋅──(g(t, u, v)) - 2⋅W(t)⋅f(t, u, v)⋅g (t, u, v)⋅─────(f(t, u, v)) + W(t\n",
       "        ∂v                                             ∂v ∂t                  \n",
       "──────────────────────────────────────────────────────────────────────────────\n",
       "                                                                              \n",
       "                                                                              \n",
       "\n",
       "                                                                              \n",
       "                        ∂              ∂                      2          ∂    \n",
       ")⋅f(t, u, v)⋅g(t, u, v)⋅──(f(t, u, v))⋅──(g(t, u, v)) + W(t)⋅g (t, u, v)⋅──(f(\n",
       "                        ∂t             ∂v                                ∂t   \n",
       "──────────────────────────────────────────────────────────────────────────────\n",
       "                 2           2                                                \n",
       "         4⋅W(t)⋅f (t, u, v)⋅g (t, u, v)                                       \n",
       "\n",
       "                                                                              \n",
       "          ∂                   2                     d        ∂                \n",
       "t, u, v))⋅──(f(t, u, v)) + 2⋅f (t, u, v)⋅g(t, u, v)⋅──(W(t))⋅──(g(t, u, v)) + \n",
       "          ∂v                                        dt       ∂v               \n",
       "──────────────────────────────────────────────────────────────────────────────\n",
       "                                                                              \n",
       "                                                                              \n",
       "\n",
       "                                                \n",
       "              2          d        ∂             \n",
       "2⋅f(t, u, v)⋅g (t, u, v)⋅──(W(t))⋅──(f(t, u, v))\n",
       "                         dt       ∂v            \n",
       "────────────────────────────────────────────────\n",
       "                                                \n",
       "                                                "
      ]
     },
     "metadata": {},
     "output_type": "display_data"
    },
    {
     "name": "stdout",
     "output_type": "stream",
     "text": [
      "\n",
      "\n",
      "\n"
     ]
    },
    {
     "data": {
      "text/plain": [
       "\"Element ('v', 'u'), of Einstein tensor\""
      ]
     },
     "metadata": {},
     "output_type": "display_data"
    },
    {
     "data": {
      "image/png": "[encoded data removed]",
      "text/latex": [
       "$\\displaystyle \\frac{- 2 f{\\left(t,u,v \\right)} g{\\left(t,u,v \\right)} \\frac{\\partial^{2}}{\\partial v\\partial u} g{\\left(t,u,v \\right)} + f{\\left(t,u,v \\right)} \\frac{\\partial}{\\partial u} g{\\left(t,u,v \\right)} \\frac{\\partial}{\\partial v} g{\\left(t,u,v \\right)} + g{\\left(t,u,v \\right)} \\frac{\\partial}{\\partial v} f{\\left(t,u,v \\right)} \\frac{\\partial}{\\partial u} g{\\left(t,u,v \\right)}}{2 f{\\left(t,u,v \\right)} g^{2}{\\left(t,u,v \\right)}}$"
      ],
      "text/plain": [
       "                             2                                                \n",
       "                            ∂                            ∂              ∂     \n",
       "- 2⋅f(t, u, v)⋅g(t, u, v)⋅─────(g(t, u, v)) + f(t, u, v)⋅──(g(t, u, v))⋅──(g(t\n",
       "                          ∂v ∂u                          ∂u             ∂v    \n",
       "──────────────────────────────────────────────────────────────────────────────\n",
       "                                                                   2          \n",
       "                                                     2⋅f(t, u, v)⋅g (t, u, v) \n",
       "\n",
       "                                                   \n",
       "                      ∂              ∂             \n",
       ", u, v)) + g(t, u, v)⋅──(f(t, u, v))⋅──(g(t, u, v))\n",
       "                      ∂v             ∂u            \n",
       "───────────────────────────────────────────────────\n",
       "                                                   \n",
       "                                                   "
      ]
     },
     "metadata": {},
     "output_type": "display_data"
    },
    {
     "name": "stdout",
     "output_type": "stream",
     "text": [
      "\n",
      "\n",
      "\n"
     ]
    },
    {
     "data": {
      "text/plain": [
       "\"Element ('v', 'v'), of Einstein tensor\""
      ]
     },
     "metadata": {},
     "output_type": "display_data"
    },
    {
     "data": {
      "image/png": "[encoded data removed]",
      "text/latex": [
       "$\\displaystyle - \\frac{1.0 \\left(- 1.0 A W^{2}{\\left(t \\right)} f{\\left(t,u,v \\right)} g^{2}{\\left(t,u,v \\right)} \\frac{\\partial^{2}}{\\partial u^{2}} g{\\left(t,u,v \\right)} + 0.25 A W^{2}{\\left(t \\right)} f{\\left(t,u,v \\right)} g{\\left(t,u,v \\right)} \\left(\\frac{\\partial}{\\partial u} g{\\left(t,u,v \\right)}\\right)^{2} + 0.5 A W^{2}{\\left(t \\right)} g^{2}{\\left(t,u,v \\right)} \\frac{\\partial}{\\partial u} f{\\left(t,u,v \\right)} \\frac{\\partial}{\\partial u} g{\\left(t,u,v \\right)} - 0.25 A f^{2}{\\left(t,u,v \\right)} g{\\left(t,u,v \\right)} \\left(\\frac{\\partial}{\\partial v} g{\\left(t,u,v \\right)}\\right)^{2} - 0.5 A f{\\left(t,u,v \\right)} g^{2}{\\left(t,u,v \\right)} \\frac{\\partial}{\\partial v} f{\\left(t,u,v \\right)} \\frac{\\partial}{\\partial v} g{\\left(t,u,v \\right)} + 0.5 W^{2}{\\left(t \\right)} f^{2}{\\left(t,u,v \\right)} g{\\left(t,u,v \\right)} \\frac{\\partial^{2}}{\\partial t^{2}} g{\\left(t,u,v \\right)} - 0.5 W^{2}{\\left(t \\right)} f^{2}{\\left(t,u,v \\right)} \\left(\\frac{\\partial}{\\partial t} g{\\left(t,u,v \\right)}\\right)^{2} + 0.5 W^{2}{\\left(t \\right)} f{\\left(t,u,v \\right)} g^{2}{\\left(t,u,v \\right)} \\frac{\\partial^{2}}{\\partial t^{2}} f{\\left(t,u,v \\right)} - 0.25 W^{2}{\\left(t \\right)} g^{2}{\\left(t,u,v \\right)} \\left(\\frac{\\partial}{\\partial t} f{\\left(t,u,v \\right)}\\right)^{2}\\right)}{A f^{2}{\\left(t,u,v \\right)} g^{3}{\\left(t,u,v \\right)}}$"
      ],
      "text/plain": [
       "     ⎛                                   2                                    \n",
       "     ⎜     2                2           ∂                        2            \n",
       "-1.0⋅⎜- A⋅W (t)⋅f(t, u, v)⋅g (t, u, v)⋅───(g(t, u, v)) + 0.25⋅A⋅W (t)⋅f(t, u, \n",
       "     ⎜                                   2                                    \n",
       "     ⎝                                 ∂u                                     \n",
       "──────────────────────────────────────────────────────────────────────────────\n",
       "                                                                              \n",
       "                                                                              \n",
       "\n",
       "                              2                                               \n",
       "              ⎛∂             ⎞           2     2          ∂              ∂    \n",
       "v)⋅g(t, u, v)⋅⎜──(g(t, u, v))⎟  + 0.5⋅A⋅W (t)⋅g (t, u, v)⋅──(f(t, u, v))⋅──(g(\n",
       "              ⎝∂u            ⎠                            ∂u             ∂u   \n",
       "                                                                              \n",
       "──────────────────────────────────────────────────────────────────────────────\n",
       "                                                                              \n",
       "                                                                              \n",
       "\n",
       "                                                          2                   \n",
       "                    2                     ⎛∂             ⎞                    \n",
       "t, u, v)) - 0.25⋅A⋅f (t, u, v)⋅g(t, u, v)⋅⎜──(g(t, u, v))⎟  - 0.5⋅A⋅f(t, u, v)\n",
       "                                          ⎝∂v            ⎠                    \n",
       "                                                                              \n",
       "──────────────────────────────────────────────────────────────────────────────\n",
       "                                                                   2          \n",
       "                                                                A⋅f (t, u, v)⋅\n",
       "\n",
       "                                                                              \n",
       "  2          ∂              ∂                     2     2                     \n",
       "⋅g (t, u, v)⋅──(f(t, u, v))⋅──(g(t, u, v)) + 0.5⋅W (t)⋅f (t, u, v)⋅g(t, u, v)⋅\n",
       "             ∂v             ∂v                                                \n",
       "                                                                              \n",
       "──────────────────────────────────────────────────────────────────────────────\n",
       " 3                                                                            \n",
       "g (t, u, v)                                                                   \n",
       "\n",
       "  2                                                     2                     \n",
       " ∂                     2     2          ⎛∂             ⎞         2            \n",
       "───(g(t, u, v)) - 0.5⋅W (t)⋅f (t, u, v)⋅⎜──(g(t, u, v))⎟  + 0.5⋅W (t)⋅f(t, u, \n",
       "  2                                     ⎝∂t            ⎠                      \n",
       "∂t                                                                            \n",
       "──────────────────────────────────────────────────────────────────────────────\n",
       "                                                                              \n",
       "                                                                              \n",
       "\n",
       "                 2                                                      2⎞ \n",
       "    2           ∂                      2     2          ⎛∂             ⎞ ⎟ \n",
       "v)⋅g (t, u, v)⋅───(f(t, u, v)) - 0.25⋅W (t)⋅g (t, u, v)⋅⎜──(f(t, u, v))⎟ ⎟ \n",
       "                 2                                      ⎝∂t            ⎠ ⎟ \n",
       "               ∂t                                                        ⎠ \n",
       "───────────────────────────────────────────────────────────────────────────\n",
       "                                                                           \n",
       "                                                                           "
      ]
     },
     "metadata": {},
     "output_type": "display_data"
    },
    {
     "name": "stdout",
     "output_type": "stream",
     "text": [
      "\n",
      "\n",
      "\n"
     ]
    },
    {
     "data": {
      "text/plain": [
       "\"Element ('w', 'w'), of Einstein tensor\""
      ]
     },
     "metadata": {},
     "output_type": "display_data"
    },
    {
     "data": {
      "image/png": "[encoded data removed]",
      "text/latex": [
       "$\\displaystyle \\frac{1.0 \\left(0.5 A W^{2}{\\left(t \\right)} f{\\left(t,u,v \\right)} g{\\left(t,u,v \\right)} \\frac{\\partial^{2}}{\\partial u^{2}} g{\\left(t,u,v \\right)} - 0.25 A W^{2}{\\left(t \\right)} f{\\left(t,u,v \\right)} \\left(\\frac{\\partial}{\\partial u} g{\\left(t,u,v \\right)}\\right)^{2} - 0.25 A W^{2}{\\left(t \\right)} g{\\left(t,u,v \\right)} \\frac{\\partial}{\\partial u} f{\\left(t,u,v \\right)} \\frac{\\partial}{\\partial u} g{\\left(t,u,v \\right)} + 0.5 A f^{2}{\\left(t,u,v \\right)} g{\\left(t,u,v \\right)} \\frac{\\partial^{2}}{\\partial v^{2}} g{\\left(t,u,v \\right)} - 0.25 A f^{2}{\\left(t,u,v \\right)} \\left(\\frac{\\partial}{\\partial v} g{\\left(t,u,v \\right)}\\right)^{2} + 0.5 A f{\\left(t,u,v \\right)} g^{2}{\\left(t,u,v \\right)} \\frac{\\partial^{2}}{\\partial v^{2}} f{\\left(t,u,v \\right)} + 0.25 A f{\\left(t,u,v \\right)} g{\\left(t,u,v \\right)} \\frac{\\partial}{\\partial v} f{\\left(t,u,v \\right)} \\frac{\\partial}{\\partial v} g{\\left(t,u,v \\right)} - 0.25 A g^{2}{\\left(t,u,v \\right)} \\left(\\frac{\\partial}{\\partial v} f{\\left(t,u,v \\right)}\\right)^{2} - 0.5 W^{2}{\\left(t \\right)} f{\\left(t,u,v \\right)} g{\\left(t,u,v \\right)} \\frac{\\partial^{2}}{\\partial t^{2}} f{\\left(t,u,v \\right)} + 0.25 W^{2}{\\left(t \\right)} f{\\left(t,u,v \\right)} \\frac{\\partial}{\\partial t} f{\\left(t,u,v \\right)} \\frac{\\partial}{\\partial t} g{\\left(t,u,v \\right)} + 0.25 W^{2}{\\left(t \\right)} g{\\left(t,u,v \\right)} \\left(\\frac{\\partial}{\\partial t} f{\\left(t,u,v \\right)}\\right)^{2} - 1.0 W{\\left(t \\right)} f^{2}{\\left(t,u,v \\right)} g{\\left(t,u,v \\right)} \\frac{d^{2}}{d t^{2}} W{\\left(t \\right)} + 0.5 W{\\left(t \\right)} f^{2}{\\left(t,u,v \\right)} \\frac{d}{d t} W{\\left(t \\right)} \\frac{\\partial}{\\partial t} g{\\left(t,u,v \\right)} - 0.5 W{\\left(t \\right)} f{\\left(t,u,v \\right)} g{\\left(t,u,v \\right)} \\frac{d}{d t} W{\\left(t \\right)} \\frac{\\partial}{\\partial t} f{\\left(t,u,v \\right)}\\right) C{\\left(w \\right)}}{A W^{2}{\\left(t \\right)} f^{2}{\\left(t,u,v \\right)} g{\\left(t,u,v \\right)}}$"
      ],
      "text/plain": [
       "    ⎛                                    2                                    \n",
       "    ⎜       2                           ∂                        2            \n",
       "1.0⋅⎜0.5⋅A⋅W (t)⋅f(t, u, v)⋅g(t, u, v)⋅───(g(t, u, v)) - 0.25⋅A⋅W (t)⋅f(t, u, \n",
       "    ⎜                                    2                                    \n",
       "    ⎝                                  ∂u                                     \n",
       "──────────────────────────────────────────────────────────────────────────────\n",
       "                                                                              \n",
       "                                                                              \n",
       "\n",
       "                   2                                                          \n",
       "   ⎛∂             ⎞            2               ∂              ∂               \n",
       "v)⋅⎜──(g(t, u, v))⎟  - 0.25⋅A⋅W (t)⋅g(t, u, v)⋅──(f(t, u, v))⋅──(g(t, u, v)) +\n",
       "   ⎝∂u            ⎠                            ∂u             ∂u              \n",
       "                                                                              \n",
       "──────────────────────────────────────────────────────────────────────────────\n",
       "                                                                              \n",
       "                                                                              \n",
       "\n",
       "                                2                                             \n",
       "        2                      ∂                        2          ⎛∂         \n",
       " 0.5⋅A⋅f (t, u, v)⋅g(t, u, v)⋅───(g(t, u, v)) - 0.25⋅A⋅f (t, u, v)⋅⎜──(g(t, u,\n",
       "                                2                                  ⎝∂v        \n",
       "                              ∂v                                              \n",
       "──────────────────────────────────────────────────────────────────────────────\n",
       "                                                                              \n",
       "                                                                              \n",
       "\n",
       "     2                                  2                                     \n",
       "    ⎞                      2           ∂                                      \n",
       " v))⎟  + 0.5⋅A⋅f(t, u, v)⋅g (t, u, v)⋅───(f(t, u, v)) + 0.25⋅A⋅f(t, u, v)⋅g(t,\n",
       "    ⎠                                   2                                     \n",
       "                                      ∂v                                      \n",
       "──────────────────────────────────────────────────────────────────────────────\n",
       "                                                                              \n",
       "                                                                              \n",
       "\n",
       "                                                                          2   \n",
       "       ∂              ∂                        2          ⎛∂             ⎞    \n",
       " u, v)⋅──(f(t, u, v))⋅──(g(t, u, v)) - 0.25⋅A⋅g (t, u, v)⋅⎜──(f(t, u, v))⎟  - \n",
       "       ∂v             ∂v                                  ⎝∂v            ⎠    \n",
       "                                                                              \n",
       "──────────────────────────────────────────────────────────────────────────────\n",
       "                  2     2                                                     \n",
       "               A⋅W (t)⋅f (t, u, v)⋅g(t, u, v)                                 \n",
       "\n",
       "                                  2                                           \n",
       "     2                           ∂                      2               ∂     \n",
       "0.5⋅W (t)⋅f(t, u, v)⋅g(t, u, v)⋅───(f(t, u, v)) + 0.25⋅W (t)⋅f(t, u, v)⋅──(f(t\n",
       "                                  2                                     ∂t    \n",
       "                                ∂t                                            \n",
       "──────────────────────────────────────────────────────────────────────────────\n",
       "                                                                              \n",
       "                                                                              \n",
       "\n",
       "                                                                2             \n",
       "         ∂                      2               ⎛∂             ⎞          2   \n",
       ", u, v))⋅──(g(t, u, v)) + 0.25⋅W (t)⋅g(t, u, v)⋅⎜──(f(t, u, v))⎟  - W(t)⋅f (t,\n",
       "         ∂t                                     ⎝∂t            ⎠              \n",
       "                                                                              \n",
       "──────────────────────────────────────────────────────────────────────────────\n",
       "                                                                              \n",
       "                                                                              \n",
       "\n",
       "                    2                                                         \n",
       "                   d                    2          d        ∂                 \n",
       " u, v)⋅g(t, u, v)⋅───(W(t)) + 0.5⋅W(t)⋅f (t, u, v)⋅──(W(t))⋅──(g(t, u, v)) - 0\n",
       "                    2                              dt       ∂t                \n",
       "                  dt                                                          \n",
       "──────────────────────────────────────────────────────────────────────────────\n",
       "                                                                              \n",
       "                                                                              \n",
       "\n",
       "                                                     ⎞     \n",
       "                              d        ∂             ⎟     \n",
       ".5⋅W(t)⋅f(t, u, v)⋅g(t, u, v)⋅──(W(t))⋅──(f(t, u, v))⎟⋅C(w)\n",
       "                              dt       ∂t            ⎟     \n",
       "                                                     ⎠     \n",
       "───────────────────────────────────────────────────────────\n",
       "                                                           \n",
       "                                                           "
      ]
     },
     "metadata": {},
     "output_type": "display_data"
    },
    {
     "name": "stdout",
     "output_type": "stream",
     "text": [
      "\n",
      "\n",
      "\n"
     ]
    }
   ],
   "source": [
    "A = sp.Symbol(\"A\")\n",
    "\n",
    "C = sp.Function(\"C\")(w)\n",
    "B = C*g\n",
    "\n",
    "\n",
    "g_ = MetricTensor(\n",
    "    sp.Array(\n",
    "        np.diag([A*g, -f, -W**2, -B]\n",
    "               )\n",
    "    ),\n",
    "    syms=[t, u, v, w]\n",
    ")\n",
    "    \n",
    "g_.tensor()\n",
    "\n",
    "einstein = EinsteinTensor.from_metric(g_)\n",
    "einstein.tensor()\n",
    "\n",
    "out = \"ds^2 =\"\n",
    "vars_ = [\"t\", \"u\", \"v\", \"w\"] \n",
    "\n",
    "print_ein(einstein)"
   ]
  },
  {
   "cell_type": "code",
   "execution_count": 7,
   "id": "f081ea62-663a-4548-b9a9-40fc24838c41",
   "metadata": {},
   "outputs": [
    {
     "data": {
      "image/png": "[encoded data removed]",
      "text/latex": [
       "$\\displaystyle 2 f{\\left(t,u,v \\right)} g{\\left(t,u,v \\right)} \\frac{\\partial^{2}}{\\partial v\\partial u} g{\\left(t,u,v \\right)} + 2 f{\\left(t,u,v \\right)} \\frac{\\partial}{\\partial u} g{\\left(t,u,v \\right)} \\frac{\\partial}{\\partial v} g{\\left(t,u,v \\right)} + g^{2}{\\left(t,u,v \\right)} \\frac{\\partial^{2}}{\\partial v\\partial u} f{\\left(t,u,v \\right)} + 2 g{\\left(t,u,v \\right)} \\frac{\\partial}{\\partial u} f{\\left(t,u,v \\right)} \\frac{\\partial}{\\partial v} g{\\left(t,u,v \\right)} + 2 g{\\left(t,u,v \\right)} \\frac{\\partial}{\\partial v} f{\\left(t,u,v \\right)} \\frac{\\partial}{\\partial u} g{\\left(t,u,v \\right)}$"
      ],
      "text/plain": [
       "                           2                                                  \n",
       "                          ∂                              ∂              ∂     \n",
       "2⋅f(t, u, v)⋅g(t, u, v)⋅─────(g(t, u, v)) + 2⋅f(t, u, v)⋅──(g(t, u, v))⋅──(g(t\n",
       "                        ∂v ∂u                            ∂u             ∂v    \n",
       "\n",
       "                          2                                                   \n",
       "            2            ∂                              ∂              ∂      \n",
       ", u, v)) + g (t, u, v)⋅─────(f(t, u, v)) + 2⋅g(t, u, v)⋅──(f(t, u, v))⋅──(g(t,\n",
       "                       ∂v ∂u                            ∂u             ∂v     \n",
       "\n",
       "                                                    \n",
       "                       ∂              ∂             \n",
       " u, v)) + 2⋅g(t, u, v)⋅──(f(t, u, v))⋅──(g(t, u, v))\n",
       "                       ∂v             ∂u            "
      ]
     },
     "execution_count": 7,
     "metadata": {},
     "output_type": "execute_result"
    }
   ],
   "source": [
    "(g**2*f).diff(u).diff(v)"
   ]
  }
 ],
 "metadata": {
  "kernelspec": {
   "display_name": "Python 3",
   "language": "python",
   "name": "python3"
  },
  "language_info": {
   "codemirror_mode": {
    "name": "ipython",
    "version": 3
   },
   "file_extension": ".py",
   "mimetype": "text/x-python",
   "name": "python",
   "nbconvert_exporter": "python",
   "pygments_lexer": "ipython3",
   "version": "3.8.5"
  }
 },
 "nbformat": 4,
 "nbformat_minor": 5
}
