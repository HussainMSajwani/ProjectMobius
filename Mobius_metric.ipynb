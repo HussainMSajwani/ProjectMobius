{
 "cells": [
  {
   "cell_type": "markdown",
   "id": "driven-evanescence",
   "metadata": {},
   "source": [
    "### Setup:"
   ]
  },
  {
   "cell_type": "code",
   "execution_count": 1,
   "id": "becoming-puzzle",
   "metadata": {},
   "outputs": [],
   "source": [
    "import numpy as np\n",
    "import sympy as sp\n",
    "from sympy.abc import u, v"
   ]
  },
  {
   "cell_type": "markdown",
   "id": "supposed-gothic",
   "metadata": {},
   "source": [
    "From Wikipedia we have that the Mobius strip is parametrized by\n",
    "\\begin{align*}\n",
    "x(u, v) &= \\bigg(1+\\frac{v}{2}\\cos\\bigg(\\frac{u}{2}\\bigg)\\bigg)\\cos u \\\\\n",
    "y(u, v) &= \\bigg(1+\\frac{v}{2}\\cos\\bigg(\\frac{u}{2}\\bigg)\\bigg)\\sin u \\\\\n",
    "z(u, v) &= \\frac{v}{2}\\sin \\bigg(\\frac{u}{2} \\bigg),\n",
    "\\end{align*}\n",
    "for $(u, v) \\in [0, 2\\pi) \\times [-1, 1]$. Translated into python:"
   ]
  },
  {
   "cell_type": "code",
   "execution_count": 2,
   "id": "surface-dayton",
   "metadata": {},
   "outputs": [],
   "source": [
    "x = (1+v * sp.cos(u/2))*sp.cos(u)\n",
    "y = (1+v * sp.cos(u/2))*sp.sin(u)\n",
    "z = v * sp.sin(u/2)"
   ]
  },
  {
   "cell_type": "code",
   "execution_count": 2,
   "id": "urban-luther",
   "metadata": {},
   "outputs": [],
   "source": [
    "r0 = 0.5\n",
    "\n",
    "alpha = v - 1/v\n",
    "beta = v**2 + v**(-2)\n",
    "gamma = (1/3)*(v**3 - v**(-3))\n",
    "\n",
    "x = -alpha*sp.sin(u) - beta*sp.sin(2*u) - gamma*sp.sin(3*u)\n",
    "y = -alpha*sp.cos(u) - beta*sp.cos(2*u) - gamma*sp.cos(3*u)\n",
    "z = -2*alpha*sp.sin(u)"
   ]
  },
  {
   "cell_type": "markdown",
   "id": "future-tragedy",
   "metadata": {},
   "source": [
    "Below, $\\text{dxu} = \\partial_u x.$ We will use the same notation for other derivatives"
   ]
  },
  {
   "cell_type": "code",
   "execution_count": 3,
   "id": "normal-offset",
   "metadata": {},
   "outputs": [
    {
     "data": {
      "text/latex": [
       "$\\displaystyle \\left(- v + \\frac{1}{v}\\right) \\cos{\\left(u \\right)} + 2 \\left(- v^{2} - \\frac{1}{v^{2}}\\right) \\cos{\\left(2 u \\right)} + 3 \\left(- 0.333333333333333 v^{3} + \\frac{0.333333333333333}{v^{3}}\\right) \\cos{\\left(3 u \\right)}$"
      ],
      "text/plain": [
       "(-v + 1/v)*cos(u) + 2*(-v**2 - 1/v**2)*cos(2*u) + 3*(-0.333333333333333*v**3 + 0.333333333333333/v**3)*cos(3*u)"
      ]
     },
     "execution_count": 3,
     "metadata": {},
     "output_type": "execute_result"
    }
   ],
   "source": [
    "dxu = x.diff(u)\n",
    "dxu"
   ]
  },
  {
   "cell_type": "code",
   "execution_count": 4,
   "id": "knowing-allah",
   "metadata": {},
   "outputs": [
    {
     "data": {
      "text/latex": [
       "$\\displaystyle \\left(-1 - \\frac{1}{v^{2}}\\right) \\sin{\\left(u \\right)} + \\left(- 2 v + \\frac{2}{v^{3}}\\right) \\sin{\\left(2 u \\right)} + \\left(- 1.0 v^{2} - \\frac{1.0}{v^{4}}\\right) \\sin{\\left(3 u \\right)}$"
      ],
      "text/plain": [
       "(-1 - 1/v**2)*sin(u) + (-2*v + 2/v**3)*sin(2*u) + (-1.0*v**2 - 1.0/v**4)*sin(3*u)"
      ]
     },
     "execution_count": 4,
     "metadata": {},
     "output_type": "execute_result"
    }
   ],
   "source": [
    "dxv = x.diff(v)\n",
    "dxv"
   ]
  },
  {
   "cell_type": "code",
   "execution_count": 5,
   "id": "fuzzy-container",
   "metadata": {},
   "outputs": [
    {
     "data": {
      "text/latex": [
       "$\\displaystyle - \\left(- v + \\frac{1}{v}\\right) \\sin{\\left(u \\right)} - 2 \\left(- v^{2} - \\frac{1}{v^{2}}\\right) \\sin{\\left(2 u \\right)} - 3 \\left(- 0.333333333333333 v^{3} + \\frac{0.333333333333333}{v^{3}}\\right) \\sin{\\left(3 u \\right)}$"
      ],
      "text/plain": [
       "-(-v + 1/v)*sin(u) - 2*(-v**2 - 1/v**2)*sin(2*u) - 3*(-0.333333333333333*v**3 + 0.333333333333333/v**3)*sin(3*u)"
      ]
     },
     "execution_count": 5,
     "metadata": {},
     "output_type": "execute_result"
    }
   ],
   "source": [
    "dyu = y.diff(u)\n",
    "dyu"
   ]
  },
  {
   "cell_type": "code",
   "execution_count": 6,
   "id": "ancient-hometown",
   "metadata": {},
   "outputs": [
    {
     "data": {
      "text/latex": [
       "$\\displaystyle \\left(-1 - \\frac{1}{v^{2}}\\right) \\cos{\\left(u \\right)} + \\left(- 2 v + \\frac{2}{v^{3}}\\right) \\cos{\\left(2 u \\right)} + \\left(- 1.0 v^{2} - \\frac{1.0}{v^{4}}\\right) \\cos{\\left(3 u \\right)}$"
      ],
      "text/plain": [
       "(-1 - 1/v**2)*cos(u) + (-2*v + 2/v**3)*cos(2*u) + (-1.0*v**2 - 1.0/v**4)*cos(3*u)"
      ]
     },
     "execution_count": 6,
     "metadata": {},
     "output_type": "execute_result"
    }
   ],
   "source": [
    "dyv = y.diff(v)\n",
    "dyv"
   ]
  },
  {
   "cell_type": "code",
   "execution_count": 7,
   "id": "liked-spray",
   "metadata": {},
   "outputs": [
    {
     "data": {
      "text/latex": [
       "$\\displaystyle \\left(- 2 v + \\frac{2}{v}\\right) \\cos{\\left(u \\right)}$"
      ],
      "text/plain": [
       "(-2*v + 2/v)*cos(u)"
      ]
     },
     "execution_count": 7,
     "metadata": {},
     "output_type": "execute_result"
    }
   ],
   "source": [
    "dzu = z.diff(u)\n",
    "dzu"
   ]
  },
  {
   "cell_type": "code",
   "execution_count": 8,
   "id": "adapted-identification",
   "metadata": {},
   "outputs": [
    {
     "data": {
      "text/latex": [
       "$\\displaystyle \\left(-2 - \\frac{2}{v^{2}}\\right) \\sin{\\left(u \\right)}$"
      ],
      "text/plain": [
       "(-2 - 2/v**2)*sin(u)"
      ]
     },
     "execution_count": 8,
     "metadata": {},
     "output_type": "execute_result"
    }
   ],
   "source": [
    "dzv = z.diff(v)\n",
    "dzv"
   ]
  },
  {
   "cell_type": "markdown",
   "id": "encouraging-costs",
   "metadata": {},
   "source": [
    "### Finally we can calculate $ds^2 = dx^2 + dy^2 + dz^2$"
   ]
  },
  {
   "cell_type": "markdown",
   "id": "simplified-tackle",
   "metadata": {},
   "source": [
    "$du^2$ term:"
   ]
  },
  {
   "cell_type": "code",
   "execution_count": 9,
   "id": "wrapped-workshop",
   "metadata": {},
   "outputs": [
    {
     "data": {
      "text/latex": [
       "$\\displaystyle \\frac{4 v^{4} \\left(v^{2} - 1\\right)^{2} \\cos^{2}{\\left(u \\right)} + \\left(v^{2} \\left(v^{2} - 1\\right) \\sin{\\left(u \\right)} + 2 v \\left(v^{4} + 1\\right) \\sin{\\left(2 u \\right)} + \\left(v^{6} - 1\\right) \\sin{\\left(3 u \\right)}\\right)^{2} + \\left(v^{2} \\left(v^{2} - 1\\right) \\cos{\\left(u \\right)} + 2 v \\left(v^{4} + 1\\right) \\cos{\\left(2 u \\right)} + \\left(v^{6} - 1\\right) \\cos{\\left(3 u \\right)}\\right)^{2}}{v^{6}}$"
      ],
      "text/plain": [
       "(4*v**4*(v**2 - 1)**2*cos(u)**2 + (v**2*(v**2 - 1)*sin(u) + 2*v*(v**4 + 1)*sin(2*u) + (v**6 - 1)*sin(3*u))**2 + (v**2*(v**2 - 1)*cos(u) + 2*v*(v**4 + 1)*cos(2*u) + (v**6 - 1)*cos(3*u))**2)/v**6"
      ]
     },
     "execution_count": 9,
     "metadata": {},
     "output_type": "execute_result"
    }
   ],
   "source": [
    "(dxu**2 + dyu**2 + dzu**2).simplify()"
   ]
  },
  {
   "cell_type": "markdown",
   "id": "serial-soundtrack",
   "metadata": {},
   "source": [
    "$dv^2$ term:"
   ]
  },
  {
   "cell_type": "code",
   "execution_count": 10,
   "id": "paperback-daughter",
   "metadata": {},
   "outputs": [
    {
     "data": {
      "text/latex": [
       "$\\displaystyle \\frac{4 v^{4} \\left(v^{2} + 1\\right)^{2} \\sin^{2}{\\left(u \\right)} + \\left(v^{2} \\left(v^{2} + 1\\right) \\sin{\\left(u \\right)} + 2 v \\left(v^{4} - 1\\right) \\sin{\\left(2 u \\right)} + \\left(v^{6} + 1\\right) \\sin{\\left(3 u \\right)}\\right)^{2} + \\left(v^{2} \\left(v^{2} + 1\\right) \\cos{\\left(u \\right)} + 2 v \\left(v^{4} - 1\\right) \\cos{\\left(2 u \\right)} + \\left(v^{6} + 1\\right) \\cos{\\left(3 u \\right)}\\right)^{2}}{v^{8}}$"
      ],
      "text/plain": [
       "(4*v**4*(v**2 + 1)**2*sin(u)**2 + (v**2*(v**2 + 1)*sin(u) + 2*v*(v**4 - 1)*sin(2*u) + (v**6 + 1)*sin(3*u))**2 + (v**2*(v**2 + 1)*cos(u) + 2*v*(v**4 - 1)*cos(2*u) + (v**6 + 1)*cos(3*u))**2)/v**8"
      ]
     },
     "execution_count": 10,
     "metadata": {},
     "output_type": "execute_result"
    }
   ],
   "source": [
    "(dxv**2 + dyv**2 + dzv**2).simplify()"
   ]
  },
  {
   "cell_type": "markdown",
   "id": "welcome-wilson",
   "metadata": {},
   "source": [
    "$dudv$ term:"
   ]
  },
  {
   "cell_type": "code",
   "execution_count": 11,
   "id": "flying-cinema",
   "metadata": {},
   "outputs": [
    {
     "data": {
      "text/latex": [
       "$\\displaystyle 0$"
      ],
      "text/plain": [
       "0"
      ]
     },
     "execution_count": 11,
     "metadata": {},
     "output_type": "execute_result"
    }
   ],
   "source": [
    "(2*dxu*dxv + 2*dyu*dyv + 2*dzu*dzv).simplify()"
   ]
  },
  {
   "cell_type": "markdown",
   "id": "foreign-russian",
   "metadata": {},
   "source": [
    "Thus we finally have \n",
    "$$\n",
    "ds^2 = \\bigg[ \\bigg(\\frac{1}{4} \\cos^2 \\frac{u}{2} + \\frac{1}{16}\\bigg)v^2 + v \\cos \\frac{u}{2} + 1 \\bigg] du^2 + \\frac{1}{4} dv^2 \n",
    "$$"
   ]
  },
  {
   "cell_type": "code",
   "execution_count": null,
   "id": "nonprofit-increase",
   "metadata": {},
   "outputs": [],
   "source": []
  }
 ],
 "metadata": {
  "kernelspec": {
   "display_name": "Python 3",
   "language": "python",
   "name": "python3"
  },
  "language_info": {
   "codemirror_mode": {
    "name": "ipython",
    "version": 3
   },
   "file_extension": ".py",
   "mimetype": "text/x-python",
   "name": "python",
   "nbconvert_exporter": "python",
   "pygments_lexer": "ipython3",
   "version": "3.7.7"
  }
 },
 "nbformat": 4,
 "nbformat_minor": 5
}
