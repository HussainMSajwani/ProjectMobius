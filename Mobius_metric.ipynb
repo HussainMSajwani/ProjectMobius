{
 "cells": [
  {
   "cell_type": "markdown",
   "id": "prime-narrow",
   "metadata": {},
   "source": [
    "### Setup:"
   ]
  },
  {
   "cell_type": "code",
   "execution_count": 13,
   "id": "saved-right",
   "metadata": {},
   "outputs": [],
   "source": [
    "import numpy as np\n",
    "import sympy as sp\n",
    "from sympy.abc import u, v, x"
   ]
  },
  {
   "cell_type": "markdown",
   "id": "therapeutic-billion",
   "metadata": {},
   "source": [
    "From Wikipedia we have that the Mobius strip is parametrized by\n",
    "\\begin{align*}\n",
    "x(u, v) &= \\bigg(1+\\frac{v}{2}\\cos\\bigg(\\frac{u}{2}\\bigg)\\bigg)\\cos u \\\\\n",
    "y(u, v) &= \\bigg(1+\\frac{v}{2}\\cos\\bigg(\\frac{u}{2}\\bigg)\\bigg)\\sin u \\\\\n",
    "z(u, v) &= \\frac{v}{2}\\sin \\bigg(\\frac{u}{2} \\bigg),\n",
    "\\end{align*}\n",
    "for $(u, v) \\in [0, 2\\pi) \\times [-1, 1]$. Translated into python:"
   ]
  },
  {
   "cell_type": "code",
   "execution_count": 2,
   "id": "piano-usage",
   "metadata": {},
   "outputs": [],
   "source": [
    "x = (1+v * sp.cos(u/2))*sp.cos(u)\n",
    "y = (1+v * sp.cos(u/2))*sp.sin(u)\n",
    "z = v * sp.sin(u/2)"
   ]
  },
  {
   "cell_type": "code",
   "execution_count": 3,
   "id": "julian-glass",
   "metadata": {},
   "outputs": [
    {
     "ename": "NameError",
     "evalue": "name 'lambdify' is not defined",
     "output_type": "error",
     "traceback": [
      "\u001b[1;31m---------------------------------------------------------------------------\u001b[0m",
      "\u001b[1;31mNameError\u001b[0m                                 Traceback (most recent call last)",
      "\u001b[1;32m<ipython-input-3-946eee24eb66>\u001b[0m in \u001b[0;36m<module>\u001b[1;34m\u001b[0m\n\u001b[1;32m----> 1\u001b[1;33m \u001b[0mlambdify\u001b[0m\u001b[1;33m(\u001b[0m\u001b[1;33m(\u001b[0m\u001b[0mu\u001b[0m\u001b[1;33m,\u001b[0m \u001b[0mv\u001b[0m\u001b[1;33m)\u001b[0m\u001b[1;33m,\u001b[0m \u001b[0msp\u001b[0m\u001b[1;33m.\u001b[0m\u001b[0mArray\u001b[0m\u001b[1;33m(\u001b[0m\u001b[1;33m[\u001b[0m\u001b[0mx\u001b[0m\u001b[1;33m,\u001b[0m \u001b[0my\u001b[0m\u001b[1;33m,\u001b[0m \u001b[0mz\u001b[0m\u001b[1;33m]\u001b[0m\u001b[1;33m)\u001b[0m\u001b[1;33m.\u001b[0m\u001b[0mdiff\u001b[0m\u001b[1;33m(\u001b[0m\u001b[0mu\u001b[0m\u001b[1;33m)\u001b[0m\u001b[1;33m)\u001b[0m\u001b[1;33m(\u001b[0m\u001b[1;36m0\u001b[0m\u001b[1;33m,\u001b[0m \u001b[1;36m1\u001b[0m\u001b[1;33m)\u001b[0m\u001b[1;33m\u001b[0m\u001b[1;33m\u001b[0m\u001b[0m\n\u001b[0m",
      "\u001b[1;31mNameError\u001b[0m: name 'lambdify' is not defined"
     ]
    }
   ],
   "source": [
    "lambdify((u, v), sp.Array([x, y, z]).diff(u))(0, 1)"
   ]
  },
  {
   "cell_type": "code",
   "execution_count": 3,
   "id": "occupational-sending",
   "metadata": {},
   "outputs": [],
   "source": [
    "r0 = 0.5\n",
    "\n",
    "alpha = v - 1/v\n",
    "beta = v**2 + v**(-2)\n",
    "gamma = (1/3)*(v**3 - v**(-3))\n",
    "\n",
    "x = -alpha*sp.sin(u) - beta*sp.sin(2*u) - gamma*sp.sin(3*u)\n",
    "y = -alpha*sp.cos(u) - beta*sp.cos(2*u) - gamma*sp.cos(3*u)\n",
    "z = -2*alpha*sp.sin(u)"
   ]
  },
  {
   "cell_type": "markdown",
   "id": "seasonal-wireless",
   "metadata": {},
   "source": [
    "Below, $\\text{dxu} = \\partial_u x.$ We will use the same notation for other derivatives"
   ]
  },
  {
   "cell_type": "code",
   "execution_count": 4,
   "id": "formed-amplifier",
   "metadata": {},
   "outputs": [
    {
     "data": {
      "text/latex": [
       "$\\displaystyle - \\frac{v \\sin{\\left(\\frac{u}{2} \\right)} \\cos{\\left(u \\right)}}{2} - \\left(v \\cos{\\left(\\frac{u}{2} \\right)} + 1\\right) \\sin{\\left(u \\right)}$"
      ],
      "text/plain": [
       "-v*sin(u/2)*cos(u)/2 - (v*cos(u/2) + 1)*sin(u)"
      ]
     },
     "execution_count": 4,
     "metadata": {},
     "output_type": "execute_result"
    }
   ],
   "source": [
    "dxu = x.diff(u)\n",
    "dxu"
   ]
  },
  {
   "cell_type": "code",
   "execution_count": 6,
   "id": "inner-package",
   "metadata": {},
   "outputs": [
    {
     "data": {
      "text/latex": [
       "$\\displaystyle \\cos{\\left(\\frac{u}{2} \\right)} \\cos{\\left(u \\right)}$"
      ],
      "text/plain": [
       "cos(u/2)*cos(u)"
      ]
     },
     "execution_count": 6,
     "metadata": {},
     "output_type": "execute_result"
    }
   ],
   "source": [
    "dxv = x.diff(v)\n",
    "dxv"
   ]
  },
  {
   "cell_type": "code",
   "execution_count": 7,
   "id": "continent-treatment",
   "metadata": {},
   "outputs": [
    {
     "data": {
      "text/latex": [
       "$\\displaystyle - \\frac{v \\sin{\\left(\\frac{u}{2} \\right)} \\sin{\\left(u \\right)}}{2} + \\left(v \\cos{\\left(\\frac{u}{2} \\right)} + 1\\right) \\cos{\\left(u \\right)}$"
      ],
      "text/plain": [
       "-v*sin(u/2)*sin(u)/2 + (v*cos(u/2) + 1)*cos(u)"
      ]
     },
     "execution_count": 7,
     "metadata": {},
     "output_type": "execute_result"
    }
   ],
   "source": [
    "dyu = y.diff(u)\n",
    "dyu"
   ]
  },
  {
   "cell_type": "code",
   "execution_count": 8,
   "id": "alpine-computer",
   "metadata": {},
   "outputs": [
    {
     "data": {
      "text/latex": [
       "$\\displaystyle \\sin{\\left(u \\right)} \\cos{\\left(\\frac{u}{2} \\right)}$"
      ],
      "text/plain": [
       "sin(u)*cos(u/2)"
      ]
     },
     "execution_count": 8,
     "metadata": {},
     "output_type": "execute_result"
    }
   ],
   "source": [
    "dyv = y.diff(v)\n",
    "dyv"
   ]
  },
  {
   "cell_type": "code",
   "execution_count": 9,
   "id": "distributed-binding",
   "metadata": {},
   "outputs": [
    {
     "data": {
      "text/latex": [
       "$\\displaystyle \\frac{v \\cos{\\left(\\frac{u}{2} \\right)}}{2}$"
      ],
      "text/plain": [
       "v*cos(u/2)/2"
      ]
     },
     "execution_count": 9,
     "metadata": {},
     "output_type": "execute_result"
    }
   ],
   "source": [
    "dzu = z.diff(u)\n",
    "dzu"
   ]
  },
  {
   "cell_type": "code",
   "execution_count": 10,
   "id": "finished-audio",
   "metadata": {},
   "outputs": [
    {
     "data": {
      "text/latex": [
       "$\\displaystyle \\sin{\\left(\\frac{u}{2} \\right)}$"
      ],
      "text/plain": [
       "sin(u/2)"
      ]
     },
     "execution_count": 10,
     "metadata": {},
     "output_type": "execute_result"
    }
   ],
   "source": [
    "dzv = z.diff(v)\n",
    "dzv"
   ]
  },
  {
   "cell_type": "markdown",
   "id": "novel-glucose",
   "metadata": {},
   "source": [
    "### Finally we can calculate $ds^2 = dx^2 + dy^2 + dz^2$"
   ]
  },
  {
   "cell_type": "markdown",
   "id": "geological-serbia",
   "metadata": {},
   "source": [
    "$du^2$ term:"
   ]
  },
  {
   "cell_type": "code",
   "execution_count": 11,
   "id": "moral-water",
   "metadata": {},
   "outputs": [
    {
     "data": {
      "text/latex": [
       "$\\displaystyle v^{2} \\cos^{2}{\\left(\\frac{u}{2} \\right)} + \\frac{v^{2}}{4} + 2 v \\cos{\\left(\\frac{u}{2} \\right)} + 1$"
      ],
      "text/plain": [
       "v**2*cos(u/2)**2 + v**2/4 + 2*v*cos(u/2) + 1"
      ]
     },
     "execution_count": 11,
     "metadata": {},
     "output_type": "execute_result"
    }
   ],
   "source": [
    "(dxu**2 + dyu**2 + dzu**2).simplify()"
   ]
  },
  {
   "cell_type": "markdown",
   "id": "outer-founder",
   "metadata": {},
   "source": [
    "$dv^2$ term:"
   ]
  },
  {
   "cell_type": "code",
   "execution_count": 12,
   "id": "secret-combination",
   "metadata": {},
   "outputs": [
    {
     "data": {
      "text/latex": [
       "$\\displaystyle 1$"
      ],
      "text/plain": [
       "1"
      ]
     },
     "execution_count": 12,
     "metadata": {},
     "output_type": "execute_result"
    }
   ],
   "source": [
    "(dxv**2 + dyv**2 + dzv**2).simplify()"
   ]
  },
  {
   "cell_type": "markdown",
   "id": "express-pulse",
   "metadata": {},
   "source": [
    "$dudv$ term:"
   ]
  },
  {
   "cell_type": "code",
   "execution_count": 11,
   "id": "powered-frank",
   "metadata": {},
   "outputs": [
    {
     "data": {
      "text/latex": [
       "$\\displaystyle 0$"
      ],
      "text/plain": [
       "0"
      ]
     },
     "execution_count": 11,
     "metadata": {},
     "output_type": "execute_result"
    }
   ],
   "source": [
    "(2*dxu*dxv + 2*dyu*dyv + 2*dzu*dzv).simplify()"
   ]
  },
  {
   "cell_type": "markdown",
   "id": "behavioral-scottish",
   "metadata": {},
   "source": [
    "Thus we finally have \n",
    "$$\n",
    "ds^2 = \\bigg[ \\bigg( \\cos^2 \\frac{u}{2} + \\frac{1}{4}\\bigg)v^2 + 2v \\cos \\frac{u}{2} + 1 \\bigg] du^2 + dv^2 \n",
    "$$"
   ]
  },
  {
   "cell_type": "code",
   "execution_count": null,
   "id": "bulgarian-fishing",
   "metadata": {},
   "outputs": [],
   "source": []
  }
 ],
 "metadata": {
  "kernelspec": {
   "display_name": "Python 3",
   "language": "python",
   "name": "python3"
  },
  "language_info": {
   "codemirror_mode": {
    "name": "ipython",
    "version": 3
   },
   "file_extension": ".py",
   "mimetype": "text/x-python",
   "name": "python",
   "nbconvert_exporter": "python",
   "pygments_lexer": "ipython3",
   "version": "3.8.5"
  }
 },
 "nbformat": 4,
 "nbformat_minor": 5
}
