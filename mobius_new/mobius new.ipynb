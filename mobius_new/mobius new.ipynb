{
 "cells": [
  {
   "cell_type": "code",
   "execution_count": 34,
   "id": "6c68d7cb-d9c2-40e1-a2a9-0a5589f8da0e",
   "metadata": {},
   "outputs": [],
   "source": [
    "from sympy.abc import t, r, u, v, a, b\n",
    "import sympy as sp\n",
    "import numpy as np\n",
    "import matplotlib.pyplot as plt\n",
    "\n",
    "\n",
    "x = (a + b*v/2*sp.cos(u/2))*sp.cos(u)\n",
    "y = (a + b*v/2*sp.cos(u/2))*sp.sin(u)\n",
    "z = v/2 * sp.sin(u/2)\n",
    "\n",
    "param = (x, y, z)"
   ]
  },
  {
   "cell_type": "code",
   "execution_count": 35,
   "id": "49f208f1-e3ac-4452-9534-9daf7a97c55c",
   "metadata": {},
   "outputs": [
    {
     "data": {
      "text/latex": [
       "$\\displaystyle \\left[\\begin{matrix}a^{2} + a b v \\cos{\\left(\\frac{u}{2} \\right)} + \\frac{3 b^{2} v^{2} \\cos^{2}{\\left(\\frac{u}{2} \\right)}}{16} + \\frac{b^{2} v^{2}}{16} + \\frac{v^{2} \\cos^{2}{\\left(\\frac{u}{2} \\right)}}{16} & \\frac{v \\left(1 - b^{2}\\right) \\sin{\\left(u \\right)}}{16}\\\\\\frac{v \\left(1 - b^{2}\\right) \\sin{\\left(u \\right)}}{16} & \\frac{b^{2} \\cos^{2}{\\left(\\frac{u}{2} \\right)}}{4} - \\frac{\\cos^{2}{\\left(\\frac{u}{2} \\right)}}{4} + \\frac{1}{4}\\end{matrix}\\right]$"
      ],
      "text/plain": [
       "[[a**2 + a*b*v*cos(u/2) + 3*b**2*v**2*cos(u/2)**2/16 + b**2*v**2/16 + v**2*cos(u/2)**2/16, v*(1 - b**2)*sin(u)/16], [v*(1 - b**2)*sin(u)/16, b**2*cos(u/2)**2/4 - cos(u/2)**2/4 + 1/4]]"
      ]
     },
     "execution_count": 35,
     "metadata": {},
     "output_type": "execute_result"
    }
   ],
   "source": [
    "from itertools import product\n",
    "from functools import reduce\n",
    "\n",
    "def d2(expr, syms):\n",
    "    n = len(syms)\n",
    "    combs = product(*(n*[syms]))\n",
    "    ijth_term = lambda i, j: expr.diff(i)*expr.diff(j)\n",
    "    return sp.Array([reduce(ijth_term, comb) for comb in combs]).reshape(2, 2)\n",
    "\n",
    "def line_element(param, syms):\n",
    "    n = len(syms)\n",
    "    componenets = sp.Array([d2(c, syms=syms) for c in param])\n",
    "    return reduce(sp.Array.__add__, componenets).simplify()\n",
    "\n",
    "le = line_element(param, (u, v))\n",
    "le"
   ]
  },
  {
   "cell_type": "code",
   "execution_count": null,
   "id": "43c3c07a-9707-402a-a69a-cb8bd093ed5b",
   "metadata": {},
   "outputs": [],
   "source": []
  },
  {
   "cell_type": "code",
   "execution_count": 38,
   "id": "c999a121-ecbe-4509-80d9-cdc901d7973b",
   "metadata": {},
   "outputs": [
    {
     "data": {
      "text/latex": [
       "$\\displaystyle a^{2} + a b v \\cos{\\left(\\frac{u}{2} \\right)} + \\frac{b^{2} v^{2} \\cos^{2}{\\left(\\frac{u}{2} \\right)}}{4} - \\frac{v^{2} \\cos^{2}{\\left(\\frac{u}{2} \\right)}}{4} + \\frac{v^{2}}{4}$"
      ],
      "text/plain": [
       "a**2 + a*b*v*cos(u/2) + b**2*v**2*cos(u/2)**2/4 - v**2*cos(u/2)**2/4 + v**2/4"
      ]
     },
     "execution_count": 38,
     "metadata": {},
     "output_type": "execute_result"
    }
   ],
   "source": [
    "(x**2 + y**2 + z**2).simplify()"
   ]
  },
  {
   "cell_type": "code",
   "execution_count": 31,
   "id": "841cece9-b97a-4a6a-8a7a-757e8e9d227f",
   "metadata": {},
   "outputs": [],
   "source": [
    "def mob(u, v):\n",
    "    x = (a + b*v/2*np.cos(u/2))*np.cos(u)\n",
    "    y = (a + b*v/2*np.cos(u/2))*np.sin(u)\n",
    "    z = v/2 * np.sin(u/2)\n",
    "\n",
    "    return x, y, z\n",
    "\n",
    "def d(x, y, z, a, b, c):\n",
    "    return np.sqrt((x-a)**2 + (y-b)**2 + (z-c)**2)\n",
    "\n",
    "u = np.linspace(0, 2*np.pi, 100)\n",
    "v = np.linspace(-1, 1, 100)\n",
    "\n",
    "a = 5\n",
    "b = 2\n",
    "\n",
    "u, v = np.meshgrid(u, v)\n",
    "\n",
    "x = (a + b*v/2*np.cos(u/2))*np.cos(u)\n",
    "y = (a + b*v/2*np.cos(u/2))*np.sin(u)\n",
    "z = v/2 * np.sin(u/2)\n",
    "\n",
    "n=600\n",
    "\n",
    "u_ = np.linspace(0, 6*np.pi, n)\n",
    "Xn, Yn, Zn = np.zeros((3, n))#mob(u_, np.array(n*[-1]))\n",
    "Xp, Yp, Zp = mob(u_, np.array(n*[1]))"
   ]
  },
  {
   "cell_type": "code",
   "execution_count": 32,
   "id": "a88e32b1-1088-4f47-8949-912032e6439e",
   "metadata": {},
   "outputs": [
    {
     "data": {
      "text/plain": [
       "[<matplotlib.lines.Line2D at 0x7f66c6f6d550>]"
      ]
     },
     "execution_count": 32,
     "metadata": {},
     "output_type": "execute_result"
    },
    {
     "data": {
      "image/png": "[encoded data removed]",
      "text/plain": [
       "<Figure size 432x288 with 1 Axes>"
      ]
     },
     "metadata": {
      "needs_background": "light"
     },
     "output_type": "display_data"
    }
   ],
   "source": [
    "plt.plot(u_, d(Xn, Yn, Zn, Xp, Yp, Zp))"
   ]
  },
  {
   "cell_type": "code",
   "execution_count": null,
   "id": "47e9025e-aeb6-4b4c-9519-ac60de1dc86f",
   "metadata": {},
   "outputs": [],
   "source": []
  }
 ],
 "metadata": {
  "kernelspec": {
   "display_name": "Python 3",
   "language": "python",
   "name": "python3"
  },
  "language_info": {
   "codemirror_mode": {
    "name": "ipython",
    "version": 3
   },
   "file_extension": ".py",
   "mimetype": "text/x-python",
   "name": "python",
   "nbconvert_exporter": "python",
   "pygments_lexer": "ipython3",
   "version": "3.8.5"
  }
 },
 "nbformat": 4,
 "nbformat_minor": 5
}
