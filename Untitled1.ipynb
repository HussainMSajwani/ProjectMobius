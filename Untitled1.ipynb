{
 "cells": [
  {
   "cell_type": "code",
   "execution_count": 2,
   "id": "d34f323d-2e84-44f4-acc3-bce20dc9ee42",
   "metadata": {},
   "outputs": [
    {
     "data": {
      "text/markdown": [
       "Line element: \n",
       "$$ds^2 =+\\left(v^{2} \\left(\\frac{d}{d t} R{\\left(t \\right)}\\right)^{2}\\right)dt^2+\\left(v^{2} R^{2}{\\left(t \\right)} \\sin^{2}{\\left(\\frac{u}{2} \\right)} - \\frac{5 v^{2} R^{2}{\\left(t \\right)}}{4} - 2 v R{\\left(t \\right)} \\cos{\\left(\\frac{u}{2} \\right)} - 1\\right)du^2+\\left(- R^{2}{\\left(t \\right)}\\right)dv^2$$"
      ],
      "text/plain": [
       "<IPython.core.display.Markdown object>"
      ]
     },
     "execution_count": 2,
     "metadata": {},
     "output_type": "execute_result"
    }
   ],
   "source": [
    "import sympy as sp\n",
    "from sympy.abc import t, u, v, w\n",
    "from einsteinpy.symbolic import MetricTensor, RicciTensor, RicciScalar, RiemannCurvatureTensor, EinsteinTensor\n",
    "from einsteinpy.symbolic.christoffel import ChristoffelSymbols\n",
    "import numpy as np\n",
    "from IPython.display import Markdown as md\n",
    "from IPython.display import display, Latex\n",
    "import warnings\n",
    "warnings.filterwarnings(\"ignore\")\n",
    "\n",
    "sp.init_printing()\n",
    "f = sp.Function('f')(t, u, v)\n",
    "R = sp.Function('R')(t)\n",
    "\n",
    "vars_ = [\"t\", \"u\", \"v\", \"w\"] \n",
    "\n",
    "def print_ein(ein):\n",
    "    ein = ein.simplify()\n",
    "    for i, c1 in enumerate(vars_):\n",
    "        for j, c2 in enumerate(vars_):\n",
    "            if ein[i, j] != (u - u).simplify():\n",
    "                display(f\"Element {(c1, c2)}, of Einstein tensor\", sp.factor(ein[i, j]))\n",
    "                print(\"\\n\\n\")\n",
    "\n",
    "x = (1 + R * v * sp.cos(u/2))*sp.cos(u)\n",
    "y = (1 + R * v * sp.cos(u/2))*sp.sin(u)\n",
    "z = R * v * sp.sin(u/2)\n",
    "\n",
    "dxu = x.diff(u)\n",
    "dxv = x.diff(v)\n",
    "dxt = x.diff(t)\n",
    "dyu = y.diff(u)\n",
    "dyv = y.diff(v)\n",
    "dyt = y.diff(t)\n",
    "dzu = z.diff(u)\n",
    "dzv = z.diff(v)\n",
    "dzt = z.diff(t)\n",
    "\n",
    "du2 = (dxu**2 + dyu**2 + dzu**2).simplify()\n",
    "dv2 = (dxv**2 + dyv**2 + dzv**2).simplify()\n",
    "dt2 = (dxt**2 + dyt**2 + dzt**2).simplify()\n",
    "\n",
    "ds_ = [dt2, -du2, -dv2]\n",
    "\n",
    "out = \"ds^2 =\"\n",
    "vars_ = [\"t\", \"u\", \"v\"] \n",
    "\n",
    "for i in range(3):\n",
    "    out += f\"+\\\\left({sp.latex(ds_[i].simplify())}\\\\right)d{vars_[i]}^2\"\n",
    "    \n",
    "md(\"Line element: \\n$${}$$\".format(out))"
   ]
  },
  {
   "cell_type": "code",
   "execution_count": 5,
   "id": "66ae37c7-6c09-47f8-a125-77885bd83d7d",
   "metadata": {},
   "outputs": [
    {
     "data": {
      "text/plain": [
       "\"Element ('t', 't'), of Einstein tensor\""
      ]
     },
     "metadata": {},
     "output_type": "display_data"
    },
    {
     "data": {
      "image/png": "[encoded data removed]",
      "text/latex": [
       "$\\displaystyle - \\frac{1.0 \\left(0.5 v^{2} A{\\left(u \\right)} B^{2}{\\left(u,v \\right)} C{\\left(w \\right)} f{\\left(t,u,v \\right)} \\frac{d}{d t} R{\\left(t \\right)} \\frac{\\partial^{2}}{\\partial v^{2}} f{\\left(t,u,v \\right)} - 0.25 v^{2} A{\\left(u \\right)} B^{2}{\\left(u,v \\right)} C{\\left(w \\right)} \\frac{d}{d t} R{\\left(t \\right)} \\left(\\frac{\\partial}{\\partial v} f{\\left(t,u,v \\right)}\\right)^{2} + 1.0 v^{2} A{\\left(u \\right)} B{\\left(u,v \\right)} C{\\left(w \\right)} R^{2}{\\left(t \\right)} f^{2}{\\left(t,u,v \\right)} \\frac{d^{2}}{d w^{2}} C{\\left(w \\right)} \\frac{d}{d t} R{\\left(t \\right)} + 0.5 v^{2} A{\\left(u \\right)} B{\\left(u,v \\right)} C{\\left(w \\right)} R^{2}{\\left(t \\right)} f{\\left(t,u,v \\right)} \\frac{\\partial^{2}}{\\partial u^{2}} B{\\left(u,v \\right)} \\frac{d}{d t} R{\\left(t \\right)} - 0.25 v^{2} A{\\left(u \\right)} B{\\left(u,v \\right)} C{\\left(w \\right)} R^{2}{\\left(t \\right)} \\frac{\\partial}{\\partial u} B{\\left(u,v \\right)} \\frac{d}{d t} R{\\left(t \\right)} \\frac{\\partial}{\\partial u} f{\\left(t,u,v \\right)} + 0.5 v^{2} A{\\left(u \\right)} B{\\left(u,v \\right)} C{\\left(w \\right)} f^{2}{\\left(t,u,v \\right)} \\frac{\\partial^{2}}{\\partial v^{2}} B{\\left(u,v \\right)} \\frac{d}{d t} R{\\left(t \\right)} + 0.25 v^{2} A{\\left(u \\right)} B{\\left(u,v \\right)} C{\\left(w \\right)} f{\\left(t,u,v \\right)} \\frac{\\partial}{\\partial v} B{\\left(u,v \\right)} \\frac{d}{d t} R{\\left(t \\right)} \\frac{\\partial}{\\partial v} f{\\left(t,u,v \\right)} - 0.25 v^{2} A{\\left(u \\right)} B{\\left(u,v \\right)} R^{2}{\\left(t \\right)} f^{2}{\\left(t,u,v \\right)} \\left(\\frac{d}{d w} C{\\left(w \\right)}\\right)^{2} \\frac{d}{d t} R{\\left(t \\right)} - 0.25 v^{2} A{\\left(u \\right)} C{\\left(w \\right)} R^{2}{\\left(t \\right)} f{\\left(t,u,v \\right)} \\left(\\frac{\\partial}{\\partial u} B{\\left(u,v \\right)}\\right)^{2} \\frac{d}{d t} R{\\left(t \\right)} - 0.25 v^{2} A{\\left(u \\right)} C{\\left(w \\right)} f^{2}{\\left(t,u,v \\right)} \\left(\\frac{\\partial}{\\partial v} B{\\left(u,v \\right)}\\right)^{2} \\frac{d}{d t} R{\\left(t \\right)} - 0.5 B^{2}{\\left(u,v \\right)} C^{2}{\\left(w \\right)} R{\\left(t \\right)} f{\\left(t,u,v \\right)} \\frac{\\partial}{\\partial t} f{\\left(t,u,v \\right)}\\right) \\frac{d}{d t} R{\\left(t \\right)}}{B^{2}{\\left(u,v \\right)} C^{2}{\\left(w \\right)} R^{2}{\\left(t \\right)} f^{2}{\\left(t,u,v \\right)}}$"
      ],
      "text/plain": [
       "     ⎛                                                2                       \n",
       "     ⎜     2       2                       d         ∂                      2 \n",
       "-1.0⋅⎜0.5⋅v ⋅A(u)⋅B (u, v)⋅C(w)⋅f(t, u, v)⋅──(R(t))⋅───(f(t, u, v)) - 0.25⋅v ⋅\n",
       "     ⎜                                     dt         2                       \n",
       "     ⎝                                              ∂v                        \n",
       "──────────────────────────────────────────────────────────────────────────────\n",
       "                                                                              \n",
       "                                                                              \n",
       "\n",
       "                                            2                                 \n",
       "      2            d        ⎛∂             ⎞         2                    2   \n",
       "A(u)⋅B (u, v)⋅C(w)⋅──(R(t))⋅⎜──(f(t, u, v))⎟  + 1.0⋅v ⋅A(u)⋅B(u, v)⋅C(w)⋅R (t)\n",
       "                   dt       ⎝∂v            ⎠                                  \n",
       "                                                                              \n",
       "──────────────────────────────────────────────────────────────────────────────\n",
       "                                                                              \n",
       "                                                                              \n",
       "\n",
       "               2                                                              \n",
       "  2           d        d               2                    2                ∂\n",
       "⋅f (t, u, v)⋅───(C(w))⋅──(R(t)) + 0.5⋅v ⋅A(u)⋅B(u, v)⋅C(w)⋅R (t)⋅f(t, u, v)⋅──\n",
       "               2       dt                                                     \n",
       "             dw                                                             ∂u\n",
       "──────────────────────────────────────────────────────────────────────────────\n",
       "                                                                              \n",
       "                                                                              \n",
       "\n",
       "2                                                                             \n",
       "           d                2                    2    ∂           d        ∂  \n",
       "─(B(u, v))⋅──(R(t)) - 0.25⋅v ⋅A(u)⋅B(u, v)⋅C(w)⋅R (t)⋅──(B(u, v))⋅──(R(t))⋅──(\n",
       "2          dt                                         ∂u          dt       ∂u \n",
       "                                                                              \n",
       "──────────────────────────────────────────────────────────────────────────────\n",
       "                                                                              \n",
       "                                                                              \n",
       "\n",
       "                                                     2                        \n",
       "                   2                    2           ∂           d             \n",
       "f(t, u, v)) + 0.5⋅v ⋅A(u)⋅B(u, v)⋅C(w)⋅f (t, u, v)⋅───(B(u, v))⋅──(R(t)) + 0.2\n",
       "                                                     2          dt            \n",
       "                                                   ∂v                         \n",
       "──────────────────────────────────────────────────────────────────────────────\n",
       "                        2        2     2     2                                \n",
       "                       B (u, v)⋅C (w)⋅R (t)⋅f (t, u, v)                       \n",
       "\n",
       "                                                                              \n",
       "   2                              ∂           d        ∂                      \n",
       "5⋅v ⋅A(u)⋅B(u, v)⋅C(w)⋅f(t, u, v)⋅──(B(u, v))⋅──(R(t))⋅──(f(t, u, v)) - 0.25⋅v\n",
       "                                  ∂v          dt       ∂v                     \n",
       "                                                                              \n",
       "──────────────────────────────────────────────────────────────────────────────\n",
       "                                                                              \n",
       "                                                                              \n",
       "\n",
       "                                           2                                  \n",
       "2               2     2          ⎛d       ⎞  d                2            2  \n",
       " ⋅A(u)⋅B(u, v)⋅R (t)⋅f (t, u, v)⋅⎜──(C(w))⎟ ⋅──(R(t)) - 0.25⋅v ⋅A(u)⋅C(w)⋅R (t\n",
       "                                 ⎝dw      ⎠  dt                               \n",
       "                                                                              \n",
       "──────────────────────────────────────────────────────────────────────────────\n",
       "                                                                              \n",
       "                                                                              \n",
       "\n",
       "                          2                                                   \n",
       "             ⎛∂          ⎞  d                2            2          ⎛∂       \n",
       ")⋅f(t, u, v)⋅⎜──(B(u, v))⎟ ⋅──(R(t)) - 0.25⋅v ⋅A(u)⋅C(w)⋅f (t, u, v)⋅⎜──(B(u, \n",
       "             ⎝∂u         ⎠  dt                                       ⎝∂v      \n",
       "                                                                              \n",
       "──────────────────────────────────────────────────────────────────────────────\n",
       "                                                                              \n",
       "                                                                              \n",
       "\n",
       "    2                                                             ⎞          \n",
       "   ⎞  d               2        2                    ∂             ⎟ d        \n",
       "v))⎟ ⋅──(R(t)) - 0.5⋅B (u, v)⋅C (w)⋅R(t)⋅f(t, u, v)⋅──(f(t, u, v))⎟⋅──(R(t)) \n",
       "   ⎠  dt                                            ∂t            ⎟ dt       \n",
       "                                                                  ⎠          \n",
       "─────────────────────────────────────────────────────────────────────────────\n",
       "                                                                             \n",
       "                                                                             "
      ]
     },
     "metadata": {},
     "output_type": "display_data"
    },
    {
     "name": "stdout",
     "output_type": "stream",
     "text": [
      "\n",
      "\n",
      "\n"
     ]
    },
    {
     "data": {
      "text/plain": [
       "\"Element ('t', 'u'), of Einstein tensor\""
      ]
     },
     "metadata": {},
     "output_type": "display_data"
    },
    {
     "data": {
      "image/png": "[encoded data removed]",
      "text/latex": [
       "$\\displaystyle \\frac{A{\\left(u \\right)} R{\\left(t \\right)} \\frac{\\partial}{\\partial u} B{\\left(u,v \\right)} \\frac{\\partial}{\\partial t} f{\\left(t,u,v \\right)} + 2 B{\\left(u,v \\right)} f{\\left(t,u,v \\right)} \\frac{d}{d u} A{\\left(u \\right)} \\frac{d}{d t} R{\\left(t \\right)}}{4 A{\\left(u \\right)} B{\\left(u,v \\right)} R{\\left(t \\right)} f{\\left(t,u,v \\right)}}$"
      ],
      "text/plain": [
       "          ∂           ∂                                     d        d       \n",
       "A(u)⋅R(t)⋅──(B(u, v))⋅──(f(t, u, v)) + 2⋅B(u, v)⋅f(t, u, v)⋅──(A(u))⋅──(R(t))\n",
       "          ∂u          ∂t                                    du       dt      \n",
       "─────────────────────────────────────────────────────────────────────────────\n",
       "                        4⋅A(u)⋅B(u, v)⋅R(t)⋅f(t, u, v)                       "
      ]
     },
     "metadata": {},
     "output_type": "display_data"
    },
    {
     "name": "stdout",
     "output_type": "stream",
     "text": [
      "\n",
      "\n",
      "\n"
     ]
    },
    {
     "data": {
      "text/plain": [
       "\"Element ('t', 'v'), of Einstein tensor\""
      ]
     },
     "metadata": {},
     "output_type": "display_data"
    },
    {
     "data": {
      "image/png": "[encoded data removed]",
      "text/latex": [
       "$\\displaystyle \\frac{- 2 v B{\\left(u,v \\right)} R{\\left(t \\right)} f{\\left(t,u,v \\right)} \\frac{\\partial^{2}}{\\partial v\\partial t} f{\\left(t,u,v \\right)} + v B{\\left(u,v \\right)} R{\\left(t \\right)} \\frac{\\partial}{\\partial t} f{\\left(t,u,v \\right)} \\frac{\\partial}{\\partial v} f{\\left(t,u,v \\right)} + 2 v B{\\left(u,v \\right)} f{\\left(t,u,v \\right)} \\frac{d}{d t} R{\\left(t \\right)} \\frac{\\partial}{\\partial v} f{\\left(t,u,v \\right)} + 2 v f^{2}{\\left(t,u,v \\right)} \\frac{\\partial}{\\partial v} B{\\left(u,v \\right)} \\frac{d}{d t} R{\\left(t \\right)} + 2 B{\\left(u,v \\right)} R{\\left(t \\right)} f{\\left(t,u,v \\right)} \\frac{\\partial}{\\partial t} f{\\left(t,u,v \\right)}}{4 v B{\\left(u,v \\right)} R{\\left(t \\right)} f^{2}{\\left(t,u,v \\right)}}$"
      ],
      "text/plain": [
       "                                 2                                            \n",
       "                                ∂                                ∂            \n",
       "- 2⋅v⋅B(u, v)⋅R(t)⋅f(t, u, v)⋅─────(f(t, u, v)) + v⋅B(u, v)⋅R(t)⋅──(f(t, u, v)\n",
       "                              ∂v ∂t                              ∂t           \n",
       "──────────────────────────────────────────────────────────────────────────────\n",
       "                                                                              \n",
       "                                                                              \n",
       "\n",
       "                                                                              \n",
       "  ∂                                       d        ∂                     2    \n",
       ")⋅──(f(t, u, v)) + 2⋅v⋅B(u, v)⋅f(t, u, v)⋅──(R(t))⋅──(f(t, u, v)) + 2⋅v⋅f (t, \n",
       "  ∂v                                      dt       ∂v                         \n",
       "──────────────────────────────────────────────────────────────────────────────\n",
       "                                       2                                      \n",
       "                     4⋅v⋅B(u, v)⋅R(t)⋅f (t, u, v)                             \n",
       "\n",
       "                                                                     \n",
       "      ∂           d                                    ∂             \n",
       "u, v)⋅──(B(u, v))⋅──(R(t)) + 2⋅B(u, v)⋅R(t)⋅f(t, u, v)⋅──(f(t, u, v))\n",
       "      ∂v          dt                                   ∂t            \n",
       "─────────────────────────────────────────────────────────────────────\n",
       "                                                                     \n",
       "                                                                     "
      ]
     },
     "metadata": {},
     "output_type": "display_data"
    },
    {
     "name": "stdout",
     "output_type": "stream",
     "text": [
      "\n",
      "\n",
      "\n"
     ]
    },
    {
     "data": {
      "text/plain": [
       "\"Element ('t', 'w'), of Einstein tensor\""
      ]
     },
     "metadata": {},
     "output_type": "display_data"
    },
    {
     "data": {
      "image/png": "[encoded data removed]",
      "text/latex": [
       "$\\displaystyle - \\frac{\\left(R{\\left(t \\right)} \\frac{\\partial}{\\partial t} f{\\left(t,u,v \\right)} + 2 f{\\left(t,u,v \\right)} \\frac{d}{d t} R{\\left(t \\right)}\\right) \\frac{d}{d w} C{\\left(w \\right)}}{4 C{\\left(w \\right)} R{\\left(t \\right)} f{\\left(t,u,v \\right)}}$"
      ],
      "text/plain": [
       " ⎛     ∂                             d       ⎞ d        \n",
       "-⎜R(t)⋅──(f(t, u, v)) + 2⋅f(t, u, v)⋅──(R(t))⎟⋅──(C(w)) \n",
       " ⎝     ∂t                            dt      ⎠ dw       \n",
       "────────────────────────────────────────────────────────\n",
       "                 4⋅C(w)⋅R(t)⋅f(t, u, v)                 "
      ]
     },
     "metadata": {},
     "output_type": "display_data"
    },
    {
     "name": "stdout",
     "output_type": "stream",
     "text": [
      "\n",
      "\n",
      "\n"
     ]
    },
    {
     "data": {
      "text/plain": [
       "\"Element ('u', 't'), of Einstein tensor\""
      ]
     },
     "metadata": {},
     "output_type": "display_data"
    },
    {
     "data": {
      "image/png": "[encoded data removed]",
      "text/latex": [
       "$\\displaystyle \\frac{A{\\left(u \\right)} R{\\left(t \\right)} \\frac{\\partial}{\\partial u} B{\\left(u,v \\right)} \\frac{\\partial}{\\partial t} f{\\left(t,u,v \\right)} + 2 B{\\left(u,v \\right)} f{\\left(t,u,v \\right)} \\frac{d}{d u} A{\\left(u \\right)} \\frac{d}{d t} R{\\left(t \\right)}}{4 A{\\left(u \\right)} B{\\left(u,v \\right)} R{\\left(t \\right)} f{\\left(t,u,v \\right)}}$"
      ],
      "text/plain": [
       "          ∂           ∂                                     d        d       \n",
       "A(u)⋅R(t)⋅──(B(u, v))⋅──(f(t, u, v)) + 2⋅B(u, v)⋅f(t, u, v)⋅──(A(u))⋅──(R(t))\n",
       "          ∂u          ∂t                                    du       dt      \n",
       "─────────────────────────────────────────────────────────────────────────────\n",
       "                        4⋅A(u)⋅B(u, v)⋅R(t)⋅f(t, u, v)                       "
      ]
     },
     "metadata": {},
     "output_type": "display_data"
    },
    {
     "name": "stdout",
     "output_type": "stream",
     "text": [
      "\n",
      "\n",
      "\n"
     ]
    },
    {
     "data": {
      "text/plain": [
       "\"Element ('u', 'u'), of Einstein tensor\""
      ]
     },
     "metadata": {},
     "output_type": "display_data"
    },
    {
     "data": {
      "image/png": "[encoded data removed]",
      "text/latex": [
       "$\\displaystyle \\frac{0.5 \\left(1.0 v A{\\left(u \\right)} B{\\left(u,v \\right)} C{\\left(w \\right)} R^{2}{\\left(t \\right)} f{\\left(t,u,v \\right)} \\frac{d^{2}}{d w^{2}} C{\\left(w \\right)} + 1.0 v A{\\left(u \\right)} B{\\left(u,v \\right)} C{\\left(w \\right)} f{\\left(t,u,v \\right)} \\frac{\\partial^{2}}{\\partial v^{2}} B{\\left(u,v \\right)} - 0.5 v A{\\left(u \\right)} B{\\left(u,v \\right)} R^{2}{\\left(t \\right)} f{\\left(t,u,v \\right)} \\left(\\frac{d}{d w} C{\\left(w \\right)}\\right)^{2} - 0.5 v A{\\left(u \\right)} C{\\left(w \\right)} f{\\left(t,u,v \\right)} \\left(\\frac{\\partial}{\\partial v} B{\\left(u,v \\right)}\\right)^{2} + 0.5 v B{\\left(u,v \\right)} C{\\left(w \\right)} R^{2}{\\left(t \\right)} \\frac{d}{d u} A{\\left(u \\right)} \\frac{\\partial}{\\partial u} B{\\left(u,v \\right)} + 1.0 A{\\left(u \\right)} B{\\left(u,v \\right)} C{\\left(w \\right)} f{\\left(t,u,v \\right)} \\frac{\\partial}{\\partial v} B{\\left(u,v \\right)}\\right)}{v A{\\left(u \\right)} B^{2}{\\left(u,v \\right)} C{\\left(w \\right)} R^{2}{\\left(t \\right)}}$"
      ],
      "text/plain": [
       "    ⎛                                           2                             \n",
       "    ⎜                         2                d                              \n",
       "0.5⋅⎜1.0⋅v⋅A(u)⋅B(u, v)⋅C(w)⋅R (t)⋅f(t, u, v)⋅───(C(w)) + 1.0⋅v⋅A(u)⋅B(u, v)⋅C\n",
       "    ⎜                                           2                             \n",
       "    ⎝                                         dw                              \n",
       "──────────────────────────────────────────────────────────────────────────────\n",
       "                                                                              \n",
       "                                                                              \n",
       "\n",
       "                 2                                                          2 \n",
       "                ∂                                 2               ⎛d       ⎞  \n",
       "(w)⋅f(t, u, v)⋅───(B(u, v)) - 0.5⋅v⋅A(u)⋅B(u, v)⋅R (t)⋅f(t, u, v)⋅⎜──(C(w))⎟  \n",
       "                 2                                                ⎝dw      ⎠  \n",
       "               ∂v                                                             \n",
       "──────────────────────────────────────────────────────────────────────────────\n",
       "                                                                 2            \n",
       "                                                         v⋅A(u)⋅B (u, v)⋅C(w)⋅\n",
       "\n",
       "                                          2                                   \n",
       "                             ⎛∂          ⎞                        2    d      \n",
       "- 0.5⋅v⋅A(u)⋅C(w)⋅f(t, u, v)⋅⎜──(B(u, v))⎟  + 0.5⋅v⋅B(u, v)⋅C(w)⋅R (t)⋅──(A(u)\n",
       "                             ⎝∂v         ⎠                             du     \n",
       "                                                                              \n",
       "──────────────────────────────────────────────────────────────────────────────\n",
       " 2                                                                            \n",
       "R (t)                                                                         \n",
       "\n",
       "                                                            ⎞\n",
       "  ∂                                              ∂          ⎟\n",
       ")⋅──(B(u, v)) + 1.0⋅A(u)⋅B(u, v)⋅C(w)⋅f(t, u, v)⋅──(B(u, v))⎟\n",
       "  ∂u                                             ∂v         ⎟\n",
       "                                                            ⎠\n",
       "─────────────────────────────────────────────────────────────\n",
       "                                                             \n",
       "                                                             "
      ]
     },
     "metadata": {},
     "output_type": "display_data"
    },
    {
     "name": "stdout",
     "output_type": "stream",
     "text": [
      "\n",
      "\n",
      "\n"
     ]
    },
    {
     "data": {
      "text/plain": [
       "\"Element ('u', 'v'), of Einstein tensor\""
      ]
     },
     "metadata": {},
     "output_type": "display_data"
    },
    {
     "data": {
      "image/png": "[encoded data removed]",
      "text/latex": [
       "$\\displaystyle \\frac{- 2 v A{\\left(u \\right)} B{\\left(u,v \\right)} f{\\left(t,u,v \\right)} \\frac{\\partial^{2}}{\\partial v\\partial u} B{\\left(u,v \\right)} + v A{\\left(u \\right)} B{\\left(u,v \\right)} \\frac{\\partial}{\\partial u} B{\\left(u,v \\right)} \\frac{\\partial}{\\partial v} f{\\left(t,u,v \\right)} + v A{\\left(u \\right)} f{\\left(t,u,v \\right)} \\frac{\\partial}{\\partial u} B{\\left(u,v \\right)} \\frac{\\partial}{\\partial v} B{\\left(u,v \\right)} + v B^{2}{\\left(u,v \\right)} \\frac{d}{d u} A{\\left(u \\right)} \\frac{\\partial}{\\partial v} f{\\left(t,u,v \\right)} - 2 B^{2}{\\left(u,v \\right)} f{\\left(t,u,v \\right)} \\frac{d}{d u} A{\\left(u \\right)}}{4 v A{\\left(u \\right)} B^{2}{\\left(u,v \\right)} f{\\left(t,u,v \\right)}}$"
      ],
      "text/plain": [
       "                                 2                                            \n",
       "                                ∂                             ∂           ∂   \n",
       "- 2⋅v⋅A(u)⋅B(u, v)⋅f(t, u, v)⋅─────(B(u, v)) + v⋅A(u)⋅B(u, v)⋅──(B(u, v))⋅──(f\n",
       "                              ∂v ∂u                           ∂u          ∂v  \n",
       "──────────────────────────────────────────────────────────────────────────────\n",
       "                                                                              \n",
       "                                                                              \n",
       "\n",
       "                                                                              \n",
       "                               ∂           ∂                2       d        ∂\n",
       "(t, u, v)) + v⋅A(u)⋅f(t, u, v)⋅──(B(u, v))⋅──(B(u, v)) + v⋅B (u, v)⋅──(A(u))⋅─\n",
       "                               ∂u          ∂v                       du       ∂\n",
       "──────────────────────────────────────────────────────────────────────────────\n",
       "                   2                                                          \n",
       "         4⋅v⋅A(u)⋅B (u, v)⋅f(t, u, v)                                         \n",
       "\n",
       "                                              \n",
       "                   2                  d       \n",
       "─(f(t, u, v)) - 2⋅B (u, v)⋅f(t, u, v)⋅──(A(u))\n",
       "v                                     du      \n",
       "──────────────────────────────────────────────\n",
       "                                              \n",
       "                                              "
      ]
     },
     "metadata": {},
     "output_type": "display_data"
    },
    {
     "name": "stdout",
     "output_type": "stream",
     "text": [
      "\n",
      "\n",
      "\n"
     ]
    },
    {
     "data": {
      "text/plain": [
       "\"Element ('u', 'w'), of Einstein tensor\""
      ]
     },
     "metadata": {},
     "output_type": "display_data"
    },
    {
     "data": {
      "image/png": "[encoded data removed]",
      "text/latex": [
       "$\\displaystyle \\frac{\\left(A{\\left(u \\right)} \\frac{\\partial}{\\partial u} B{\\left(u,v \\right)} + B{\\left(u,v \\right)} \\frac{d}{d u} A{\\left(u \\right)}\\right) \\frac{d}{d w} C{\\left(w \\right)}}{4 A{\\left(u \\right)} B{\\left(u,v \\right)} C{\\left(w \\right)}}$"
      ],
      "text/plain": [
       "⎛     ∂                     d       ⎞ d       \n",
       "⎜A(u)⋅──(B(u, v)) + B(u, v)⋅──(A(u))⎟⋅──(C(w))\n",
       "⎝     ∂u                    du      ⎠ dw      \n",
       "──────────────────────────────────────────────\n",
       "             4⋅A(u)⋅B(u, v)⋅C(w)              "
      ]
     },
     "metadata": {},
     "output_type": "display_data"
    },
    {
     "name": "stdout",
     "output_type": "stream",
     "text": [
      "\n",
      "\n",
      "\n"
     ]
    },
    {
     "data": {
      "text/plain": [
       "\"Element ('v', 't'), of Einstein tensor\""
      ]
     },
     "metadata": {},
     "output_type": "display_data"
    },
    {
     "data": {
      "image/png": "[encoded data removed]",
      "text/latex": [
       "$\\displaystyle \\frac{- 2 v B{\\left(u,v \\right)} R{\\left(t \\right)} f{\\left(t,u,v \\right)} \\frac{\\partial^{2}}{\\partial v\\partial t} f{\\left(t,u,v \\right)} + v B{\\left(u,v \\right)} R{\\left(t \\right)} \\frac{\\partial}{\\partial t} f{\\left(t,u,v \\right)} \\frac{\\partial}{\\partial v} f{\\left(t,u,v \\right)} + 2 v B{\\left(u,v \\right)} f{\\left(t,u,v \\right)} \\frac{d}{d t} R{\\left(t \\right)} \\frac{\\partial}{\\partial v} f{\\left(t,u,v \\right)} + 2 v f^{2}{\\left(t,u,v \\right)} \\frac{\\partial}{\\partial v} B{\\left(u,v \\right)} \\frac{d}{d t} R{\\left(t \\right)} + 2 B{\\left(u,v \\right)} R{\\left(t \\right)} f{\\left(t,u,v \\right)} \\frac{\\partial}{\\partial t} f{\\left(t,u,v \\right)}}{4 v B{\\left(u,v \\right)} R{\\left(t \\right)} f^{2}{\\left(t,u,v \\right)}}$"
      ],
      "text/plain": [
       "                                 2                                            \n",
       "                                ∂                                ∂            \n",
       "- 2⋅v⋅B(u, v)⋅R(t)⋅f(t, u, v)⋅─────(f(t, u, v)) + v⋅B(u, v)⋅R(t)⋅──(f(t, u, v)\n",
       "                              ∂v ∂t                              ∂t           \n",
       "──────────────────────────────────────────────────────────────────────────────\n",
       "                                                                              \n",
       "                                                                              \n",
       "\n",
       "                                                                              \n",
       "  ∂                                       d        ∂                     2    \n",
       ")⋅──(f(t, u, v)) + 2⋅v⋅B(u, v)⋅f(t, u, v)⋅──(R(t))⋅──(f(t, u, v)) + 2⋅v⋅f (t, \n",
       "  ∂v                                      dt       ∂v                         \n",
       "──────────────────────────────────────────────────────────────────────────────\n",
       "                                       2                                      \n",
       "                     4⋅v⋅B(u, v)⋅R(t)⋅f (t, u, v)                             \n",
       "\n",
       "                                                                     \n",
       "      ∂           d                                    ∂             \n",
       "u, v)⋅──(B(u, v))⋅──(R(t)) + 2⋅B(u, v)⋅R(t)⋅f(t, u, v)⋅──(f(t, u, v))\n",
       "      ∂v          dt                                   ∂t            \n",
       "─────────────────────────────────────────────────────────────────────\n",
       "                                                                     \n",
       "                                                                     "
      ]
     },
     "metadata": {},
     "output_type": "display_data"
    },
    {
     "name": "stdout",
     "output_type": "stream",
     "text": [
      "\n",
      "\n",
      "\n"
     ]
    },
    {
     "data": {
      "text/plain": [
       "\"Element ('v', 'u'), of Einstein tensor\""
      ]
     },
     "metadata": {},
     "output_type": "display_data"
    },
    {
     "data": {
      "image/png": "[encoded data removed]",
      "text/latex": [
       "$\\displaystyle \\frac{- 2 v A{\\left(u \\right)} B{\\left(u,v \\right)} f{\\left(t,u,v \\right)} \\frac{\\partial^{2}}{\\partial v\\partial u} B{\\left(u,v \\right)} + v A{\\left(u \\right)} B{\\left(u,v \\right)} \\frac{\\partial}{\\partial u} B{\\left(u,v \\right)} \\frac{\\partial}{\\partial v} f{\\left(t,u,v \\right)} + v A{\\left(u \\right)} f{\\left(t,u,v \\right)} \\frac{\\partial}{\\partial u} B{\\left(u,v \\right)} \\frac{\\partial}{\\partial v} B{\\left(u,v \\right)} + v B^{2}{\\left(u,v \\right)} \\frac{d}{d u} A{\\left(u \\right)} \\frac{\\partial}{\\partial v} f{\\left(t,u,v \\right)} - 2 B^{2}{\\left(u,v \\right)} f{\\left(t,u,v \\right)} \\frac{d}{d u} A{\\left(u \\right)}}{4 v A{\\left(u \\right)} B^{2}{\\left(u,v \\right)} f{\\left(t,u,v \\right)}}$"
      ],
      "text/plain": [
       "                                 2                                            \n",
       "                                ∂                             ∂           ∂   \n",
       "- 2⋅v⋅A(u)⋅B(u, v)⋅f(t, u, v)⋅─────(B(u, v)) + v⋅A(u)⋅B(u, v)⋅──(B(u, v))⋅──(f\n",
       "                              ∂v ∂u                           ∂u          ∂v  \n",
       "──────────────────────────────────────────────────────────────────────────────\n",
       "                                                                              \n",
       "                                                                              \n",
       "\n",
       "                                                                              \n",
       "                               ∂           ∂                2       d        ∂\n",
       "(t, u, v)) + v⋅A(u)⋅f(t, u, v)⋅──(B(u, v))⋅──(B(u, v)) + v⋅B (u, v)⋅──(A(u))⋅─\n",
       "                               ∂u          ∂v                       du       ∂\n",
       "──────────────────────────────────────────────────────────────────────────────\n",
       "                   2                                                          \n",
       "         4⋅v⋅A(u)⋅B (u, v)⋅f(t, u, v)                                         \n",
       "\n",
       "                                              \n",
       "                   2                  d       \n",
       "─(f(t, u, v)) - 2⋅B (u, v)⋅f(t, u, v)⋅──(A(u))\n",
       "v                                     du      \n",
       "──────────────────────────────────────────────\n",
       "                                              \n",
       "                                              "
      ]
     },
     "metadata": {},
     "output_type": "display_data"
    },
    {
     "name": "stdout",
     "output_type": "stream",
     "text": [
      "\n",
      "\n",
      "\n"
     ]
    },
    {
     "data": {
      "text/plain": [
       "\"Element ('v', 'v'), of Einstein tensor\""
      ]
     },
     "metadata": {},
     "output_type": "display_data"
    },
    {
     "data": {
      "image/png": "[encoded data removed]",
      "text/latex": [
       "$\\displaystyle \\frac{0.5 \\left(1.0 v^{2} A^{2}{\\left(u \\right)} B{\\left(u,v \\right)} C{\\left(w \\right)} R^{2}{\\left(t \\right)} f^{2}{\\left(t,u,v \\right)} \\frac{d^{2}}{d w^{2}} C{\\left(w \\right)} \\left(\\frac{d}{d t} R{\\left(t \\right)}\\right)^{3} + 1.0 v^{2} A^{2}{\\left(u \\right)} B{\\left(u,v \\right)} C{\\left(w \\right)} R^{2}{\\left(t \\right)} f{\\left(t,u,v \\right)} \\frac{\\partial^{2}}{\\partial u^{2}} B{\\left(u,v \\right)} \\left(\\frac{d}{d t} R{\\left(t \\right)}\\right)^{3} - 0.5 v^{2} A^{2}{\\left(u \\right)} B{\\left(u,v \\right)} C{\\left(w \\right)} R^{2}{\\left(t \\right)} \\frac{\\partial}{\\partial u} B{\\left(u,v \\right)} \\left(\\frac{d}{d t} R{\\left(t \\right)}\\right)^{3} \\frac{\\partial}{\\partial u} f{\\left(t,u,v \\right)} + 0.5 v^{2} A^{2}{\\left(u \\right)} B{\\left(u,v \\right)} C{\\left(w \\right)} f{\\left(t,u,v \\right)} \\frac{\\partial}{\\partial v} B{\\left(u,v \\right)} \\left(\\frac{d}{d t} R{\\left(t \\right)}\\right)^{3} \\frac{\\partial}{\\partial v} f{\\left(t,u,v \\right)} - 0.5 v^{2} A^{2}{\\left(u \\right)} B{\\left(u,v \\right)} R^{2}{\\left(t \\right)} f^{2}{\\left(t,u,v \\right)} \\left(\\frac{d}{d w} C{\\left(w \\right)}\\right)^{2} \\left(\\frac{d}{d t} R{\\left(t \\right)}\\right)^{3} - 0.5 v^{2} A^{2}{\\left(u \\right)} C{\\left(w \\right)} R^{2}{\\left(t \\right)} f{\\left(t,u,v \\right)} \\left(\\frac{\\partial}{\\partial u} B{\\left(u,v \\right)}\\right)^{2} \\left(\\frac{d}{d t} R{\\left(t \\right)}\\right)^{3} + 1.0 v^{2} A{\\left(u \\right)} B^{2}{\\left(u,v \\right)} C{\\left(w \\right)} R^{2}{\\left(t \\right)} f{\\left(t,u,v \\right)} \\frac{d^{2}}{d u^{2}} A{\\left(u \\right)} \\left(\\frac{d}{d t} R{\\left(t \\right)}\\right)^{3} - 0.5 v^{2} A{\\left(u \\right)} B^{2}{\\left(u,v \\right)} C{\\left(w \\right)} R^{2}{\\left(t \\right)} \\frac{d}{d u} A{\\left(u \\right)} \\left(\\frac{d}{d t} R{\\left(t \\right)}\\right)^{3} \\frac{\\partial}{\\partial u} f{\\left(t,u,v \\right)} + 0.5 v^{2} A{\\left(u \\right)} B{\\left(u,v \\right)} C{\\left(w \\right)} R^{2}{\\left(t \\right)} f{\\left(t,u,v \\right)} \\frac{d}{d u} A{\\left(u \\right)} \\frac{\\partial}{\\partial u} B{\\left(u,v \\right)} \\left(\\frac{d}{d t} R{\\left(t \\right)}\\right)^{3} - 0.5 v^{2} B^{2}{\\left(u,v \\right)} C{\\left(w \\right)} R^{2}{\\left(t \\right)} f{\\left(t,u,v \\right)} \\left(\\frac{d}{d u} A{\\left(u \\right)}\\right)^{2} \\left(\\frac{d}{d t} R{\\left(t \\right)}\\right)^{3} + 1.0 v A^{2}{\\left(u \\right)} B^{2}{\\left(u,v \\right)} C{\\left(w \\right)} f{\\left(t,u,v \\right)} \\left(\\frac{d}{d t} R{\\left(t \\right)}\\right)^{3} \\frac{\\partial}{\\partial v} f{\\left(t,u,v \\right)} + 1.0 v A^{2}{\\left(u \\right)} B{\\left(u,v \\right)} C{\\left(w \\right)} f^{2}{\\left(t,u,v \\right)} \\frac{\\partial}{\\partial v} B{\\left(u,v \\right)} \\left(\\frac{d}{d t} R{\\left(t \\right)}\\right)^{3} - 1.0 A{\\left(u \\right)} B^{2}{\\left(u,v \\right)} C^{2}{\\left(w \\right)} R^{2}{\\left(t \\right)} f{\\left(t,u,v \\right)} \\frac{d}{d t} R{\\left(t \\right)} \\frac{\\partial^{2}}{\\partial t^{2}} f{\\left(t,u,v \\right)} + 1.0 A{\\left(u \\right)} B^{2}{\\left(u,v \\right)} C^{2}{\\left(w \\right)} R^{2}{\\left(t \\right)} f{\\left(t,u,v \\right)} \\frac{d^{2}}{d t^{2}} R{\\left(t \\right)} \\frac{\\partial}{\\partial t} f{\\left(t,u,v \\right)} + 0.5 A{\\left(u \\right)} B^{2}{\\left(u,v \\right)} C^{2}{\\left(w \\right)} R^{2}{\\left(t \\right)} \\frac{d}{d t} R{\\left(t \\right)} \\left(\\frac{\\partial}{\\partial t} f{\\left(t,u,v \\right)}\\right)^{2}\\right)}{v^{2} A^{2}{\\left(u \\right)} B^{2}{\\left(u,v \\right)} C{\\left(w \\right)} f^{2}{\\left(t,u,v \\right)} \\left(\\frac{d}{d t} R{\\left(t \\right)}\\right)^{3}}$"
      ],
      "text/plain": [
       "    ⎛                                              2                 3        \n",
       "    ⎜     2  2                  2     2           d        ⎛d       ⎞         \n",
       "0.5⋅⎜1.0⋅v ⋅A (u)⋅B(u, v)⋅C(w)⋅R (t)⋅f (t, u, v)⋅───(C(w))⋅⎜──(R(t))⎟  + 1.0⋅v\n",
       "    ⎜                                              2       ⎝dt      ⎠         \n",
       "    ⎝                                            dw                           \n",
       "──────────────────────────────────────────────────────────────────────────────\n",
       "                                                                              \n",
       "                                                                              \n",
       "                                                                              \n",
       "                                                                              \n",
       "\n",
       "                                        2                    3                \n",
       "2  2                  2                ∂           ⎛d       ⎞         2  2    \n",
       " ⋅A (u)⋅B(u, v)⋅C(w)⋅R (t)⋅f(t, u, v)⋅───(B(u, v))⋅⎜──(R(t))⎟  - 0.5⋅v ⋅A (u)⋅\n",
       "                                        2          ⎝dt      ⎠                 \n",
       "                                      ∂u                                      \n",
       "──────────────────────────────────────────────────────────────────────────────\n",
       "                                                                              \n",
       "                                                                              \n",
       "                                                                              \n",
       "                                                                              \n",
       "\n",
       "                                         3                                    \n",
       "              2    ∂           ⎛d       ⎞  ∂                     2  2         \n",
       "B(u, v)⋅C(w)⋅R (t)⋅──(B(u, v))⋅⎜──(R(t))⎟ ⋅──(f(t, u, v)) + 0.5⋅v ⋅A (u)⋅B(u, \n",
       "                   ∂u          ⎝dt      ⎠  ∂u                                 \n",
       "                                                                              \n",
       "──────────────────────────────────────────────────────────────────────────────\n",
       "                                                                              \n",
       "                                                                              \n",
       "                                                                              \n",
       "                                                                              \n",
       "\n",
       "                                         3                                    \n",
       "                   ∂           ⎛d       ⎞  ∂                     2  2         \n",
       "v)⋅C(w)⋅f(t, u, v)⋅──(B(u, v))⋅⎜──(R(t))⎟ ⋅──(f(t, u, v)) - 0.5⋅v ⋅A (u)⋅B(u, \n",
       "                   ∂v          ⎝dt      ⎠  ∂v                                 \n",
       "                                                                              \n",
       "──────────────────────────────────────────────────────────────────────────────\n",
       "                                                                              \n",
       "                                                                              \n",
       "                                                                              \n",
       "                                                                              \n",
       "\n",
       "                               2           3                                  \n",
       "    2     2          ⎛d       ⎞  ⎛d       ⎞         2  2          2           \n",
       "v)⋅R (t)⋅f (t, u, v)⋅⎜──(C(w))⎟ ⋅⎜──(R(t))⎟  - 0.5⋅v ⋅A (u)⋅C(w)⋅R (t)⋅f(t, u,\n",
       "                     ⎝dw      ⎠  ⎝dt      ⎠                                   \n",
       "                                                                              \n",
       "──────────────────────────────────────────────────────────────────────────────\n",
       "                                                                              \n",
       "                                                                              \n",
       "                                                                              \n",
       "                                                                              \n",
       "\n",
       "                 2           3                                                \n",
       "    ⎛∂          ⎞  ⎛d       ⎞         2       2             2                d\n",
       " v)⋅⎜──(B(u, v))⎟ ⋅⎜──(R(t))⎟  + 1.0⋅v ⋅A(u)⋅B (u, v)⋅C(w)⋅R (t)⋅f(t, u, v)⋅──\n",
       "    ⎝∂u         ⎠  ⎝dt      ⎠                                                 \n",
       "                                                                            du\n",
       "──────────────────────────────────────────────────────────────────────────────\n",
       "                                                                              \n",
       "                                                                              \n",
       "                                                                              \n",
       "                                                                              \n",
       "\n",
       "2                 3                                                      3    \n",
       "        ⎛d       ⎞         2       2             2    d        ⎛d       ⎞  ∂  \n",
       "─(A(u))⋅⎜──(R(t))⎟  - 0.5⋅v ⋅A(u)⋅B (u, v)⋅C(w)⋅R (t)⋅──(A(u))⋅⎜──(R(t))⎟ ⋅──(\n",
       "2       ⎝dt      ⎠                                    du       ⎝dt      ⎠  ∂u \n",
       "                                                                              \n",
       "──────────────────────────────────────────────────────────────────────────────\n",
       "                                                                3             \n",
       "                    2  2     2             2          ⎛d       ⎞              \n",
       "                   v ⋅A (u)⋅B (u, v)⋅C(w)⋅f (t, u, v)⋅⎜──(R(t))⎟              \n",
       "                                                      ⎝dt      ⎠              \n",
       "\n",
       "                                                                              \n",
       "                   2                    2               d        ∂           ⎛\n",
       "f(t, u, v)) + 0.5⋅v ⋅A(u)⋅B(u, v)⋅C(w)⋅R (t)⋅f(t, u, v)⋅──(A(u))⋅──(B(u, v))⋅⎜\n",
       "                                                        du       ∂u          ⎝\n",
       "                                                                              \n",
       "──────────────────────────────────────────────────────────────────────────────\n",
       "                                                                              \n",
       "                                                                              \n",
       "                                                                              \n",
       "                                                                              \n",
       "\n",
       "         3                                                   2           3    \n",
       "d       ⎞         2  2             2               ⎛d       ⎞  ⎛d       ⎞     \n",
       "──(R(t))⎟  - 0.5⋅v ⋅B (u, v)⋅C(w)⋅R (t)⋅f(t, u, v)⋅⎜──(A(u))⎟ ⋅⎜──(R(t))⎟  + 1\n",
       "dt      ⎠                                          ⎝du      ⎠  ⎝dt      ⎠     \n",
       "                                                                              \n",
       "──────────────────────────────────────────────────────────────────────────────\n",
       "                                                                              \n",
       "                                                                              \n",
       "                                                                              \n",
       "                                                                              \n",
       "\n",
       "                                              3                               \n",
       "      2     2                       ⎛d       ⎞  ∂                       2     \n",
       ".0⋅v⋅A (u)⋅B (u, v)⋅C(w)⋅f(t, u, v)⋅⎜──(R(t))⎟ ⋅──(f(t, u, v)) + 1.0⋅v⋅A (u)⋅B\n",
       "                                    ⎝dt      ⎠  ∂v                            \n",
       "                                                                              \n",
       "──────────────────────────────────────────────────────────────────────────────\n",
       "                                                                              \n",
       "                                                                              \n",
       "                                                                              \n",
       "                                                                              \n",
       "\n",
       "                                              3                               \n",
       "             2          ∂           ⎛d       ⎞          2        2     2      \n",
       "(u, v)⋅C(w)⋅f (t, u, v)⋅──(B(u, v))⋅⎜──(R(t))⎟  - A(u)⋅B (u, v)⋅C (w)⋅R (t)⋅f(\n",
       "                        ∂v          ⎝dt      ⎠                                \n",
       "                                                                              \n",
       "──────────────────────────────────────────────────────────────────────────────\n",
       "                                                                              \n",
       "                                                                              \n",
       "                                                                              \n",
       "                                                                              \n",
       "\n",
       "                    2                                                         \n",
       "         d         ∂                          2        2     2                \n",
       "t, u, v)⋅──(R(t))⋅───(f(t, u, v)) + 1.0⋅A(u)⋅B (u, v)⋅C (w)⋅R (t)⋅f(t, u, v)⋅─\n",
       "         dt         2                                                         \n",
       "                  ∂t                                                         d\n",
       "──────────────────────────────────────────────────────────────────────────────\n",
       "                                                                              \n",
       "                                                                              \n",
       "                                                                              \n",
       "                                                                              \n",
       "\n",
       " 2                                                                            \n",
       "d        ∂                          2        2     2    d        ⎛∂           \n",
       "──(R(t))⋅──(f(t, u, v)) + 0.5⋅A(u)⋅B (u, v)⋅C (w)⋅R (t)⋅──(R(t))⋅⎜──(f(t, u, v\n",
       " 2       ∂t                                             dt       ⎝∂t          \n",
       "t                                                                             \n",
       "──────────────────────────────────────────────────────────────────────────────\n",
       "                                                                              \n",
       "                                                                              \n",
       "                                                                              \n",
       "                                                                              \n",
       "\n",
       "   2⎞\n",
       "  ⎞ ⎟\n",
       "))⎟ ⎟\n",
       "  ⎠ ⎟\n",
       "    ⎠\n",
       "─────\n",
       "     \n",
       "     \n",
       "     \n",
       "     "
      ]
     },
     "metadata": {},
     "output_type": "display_data"
    },
    {
     "name": "stdout",
     "output_type": "stream",
     "text": [
      "\n",
      "\n",
      "\n"
     ]
    },
    {
     "data": {
      "text/plain": [
       "\"Element ('v', 'w'), of Einstein tensor\""
      ]
     },
     "metadata": {},
     "output_type": "display_data"
    },
    {
     "data": {
      "image/png": "[encoded data removed]",
      "text/latex": [
       "$\\displaystyle \\frac{\\left(v \\frac{\\partial}{\\partial v} B{\\left(u,v \\right)} + 2 B{\\left(u,v \\right)}\\right) \\frac{d}{d w} C{\\left(w \\right)}}{4 v B{\\left(u,v \\right)} C{\\left(w \\right)}}$"
      ],
      "text/plain": [
       "⎛  ∂                      ⎞ d       \n",
       "⎜v⋅──(B(u, v)) + 2⋅B(u, v)⎟⋅──(C(w))\n",
       "⎝  ∂v                     ⎠ dw      \n",
       "────────────────────────────────────\n",
       "          4⋅v⋅B(u, v)⋅C(w)          "
      ]
     },
     "metadata": {},
     "output_type": "display_data"
    },
    {
     "name": "stdout",
     "output_type": "stream",
     "text": [
      "\n",
      "\n",
      "\n"
     ]
    },
    {
     "data": {
      "text/plain": [
       "\"Element ('w', 't'), of Einstein tensor\""
      ]
     },
     "metadata": {},
     "output_type": "display_data"
    },
    {
     "data": {
      "image/png": "[encoded data removed]",
      "text/latex": [
       "$\\displaystyle - \\frac{\\left(R{\\left(t \\right)} \\frac{\\partial}{\\partial t} f{\\left(t,u,v \\right)} + 2 f{\\left(t,u,v \\right)} \\frac{d}{d t} R{\\left(t \\right)}\\right) \\frac{d}{d w} C{\\left(w \\right)}}{4 C{\\left(w \\right)} R{\\left(t \\right)} f{\\left(t,u,v \\right)}}$"
      ],
      "text/plain": [
       " ⎛     ∂                             d       ⎞ d        \n",
       "-⎜R(t)⋅──(f(t, u, v)) + 2⋅f(t, u, v)⋅──(R(t))⎟⋅──(C(w)) \n",
       " ⎝     ∂t                            dt      ⎠ dw       \n",
       "────────────────────────────────────────────────────────\n",
       "                 4⋅C(w)⋅R(t)⋅f(t, u, v)                 "
      ]
     },
     "metadata": {},
     "output_type": "display_data"
    },
    {
     "name": "stdout",
     "output_type": "stream",
     "text": [
      "\n",
      "\n",
      "\n"
     ]
    },
    {
     "data": {
      "text/plain": [
       "\"Element ('w', 'u'), of Einstein tensor\""
      ]
     },
     "metadata": {},
     "output_type": "display_data"
    },
    {
     "data": {
      "image/png": "[encoded data removed]",
      "text/latex": [
       "$\\displaystyle \\frac{\\left(A{\\left(u \\right)} \\frac{\\partial}{\\partial u} B{\\left(u,v \\right)} + B{\\left(u,v \\right)} \\frac{d}{d u} A{\\left(u \\right)}\\right) \\frac{d}{d w} C{\\left(w \\right)}}{4 A{\\left(u \\right)} B{\\left(u,v \\right)} C{\\left(w \\right)}}$"
      ],
      "text/plain": [
       "⎛     ∂                     d       ⎞ d       \n",
       "⎜A(u)⋅──(B(u, v)) + B(u, v)⋅──(A(u))⎟⋅──(C(w))\n",
       "⎝     ∂u                    du      ⎠ dw      \n",
       "──────────────────────────────────────────────\n",
       "             4⋅A(u)⋅B(u, v)⋅C(w)              "
      ]
     },
     "metadata": {},
     "output_type": "display_data"
    },
    {
     "name": "stdout",
     "output_type": "stream",
     "text": [
      "\n",
      "\n",
      "\n"
     ]
    },
    {
     "data": {
      "text/plain": [
       "\"Element ('w', 'v'), of Einstein tensor\""
      ]
     },
     "metadata": {},
     "output_type": "display_data"
    },
    {
     "data": {
      "image/png": "[encoded data removed]",
      "text/latex": [
       "$\\displaystyle \\frac{\\left(v \\frac{\\partial}{\\partial v} B{\\left(u,v \\right)} + 2 B{\\left(u,v \\right)}\\right) \\frac{d}{d w} C{\\left(w \\right)}}{4 v B{\\left(u,v \\right)} C{\\left(w \\right)}}$"
      ],
      "text/plain": [
       "⎛  ∂                      ⎞ d       \n",
       "⎜v⋅──(B(u, v)) + 2⋅B(u, v)⎟⋅──(C(w))\n",
       "⎝  ∂v                     ⎠ dw      \n",
       "────────────────────────────────────\n",
       "          4⋅v⋅B(u, v)⋅C(w)          "
      ]
     },
     "metadata": {},
     "output_type": "display_data"
    },
    {
     "name": "stdout",
     "output_type": "stream",
     "text": [
      "\n",
      "\n",
      "\n"
     ]
    },
    {
     "data": {
      "text/plain": [
       "\"Element ('w', 'w'), of Einstein tensor\""
      ]
     },
     "metadata": {},
     "output_type": "display_data"
    },
    {
     "data": {
      "image/png": "[encoded data removed]",
      "text/latex": [
       "$\\displaystyle \\frac{0.5 \\left(1.0 v^{2} A^{2}{\\left(u \\right)} B{\\left(u,v \\right)} C{\\left(w \\right)} f{\\left(t,u,v \\right)} \\left(\\frac{d}{d t} R{\\left(t \\right)}\\right)^{3} \\frac{\\partial^{2}}{\\partial v^{2}} f{\\left(t,u,v \\right)} - 0.5 v^{2} A^{2}{\\left(u \\right)} B{\\left(u,v \\right)} C{\\left(w \\right)} \\left(\\frac{d}{d t} R{\\left(t \\right)}\\right)^{3} \\left(\\frac{\\partial}{\\partial v} f{\\left(t,u,v \\right)}\\right)^{2} + 0.5 v^{2} A^{2}{\\left(u \\right)} R^{2}{\\left(t \\right)} f^{2}{\\left(t,u,v \\right)} \\left(\\frac{d}{d w} C{\\left(w \\right)}\\right)^{2} \\left(\\frac{d}{d t} R{\\left(t \\right)}\\right)^{3} + 1.0 v^{2} A{\\left(u \\right)} B{\\left(u,v \\right)} C{\\left(w \\right)} R^{2}{\\left(t \\right)} f{\\left(t,u,v \\right)} \\frac{d^{2}}{d u^{2}} A{\\left(u \\right)} \\left(\\frac{d}{d t} R{\\left(t \\right)}\\right)^{3} - 0.5 v^{2} A{\\left(u \\right)} B{\\left(u,v \\right)} C{\\left(w \\right)} R^{2}{\\left(t \\right)} \\frac{d}{d u} A{\\left(u \\right)} \\left(\\frac{d}{d t} R{\\left(t \\right)}\\right)^{3} \\frac{\\partial}{\\partial u} f{\\left(t,u,v \\right)} - 0.5 v^{2} B{\\left(u,v \\right)} C{\\left(w \\right)} R^{2}{\\left(t \\right)} f{\\left(t,u,v \\right)} \\left(\\frac{d}{d u} A{\\left(u \\right)}\\right)^{2} \\left(\\frac{d}{d t} R{\\left(t \\right)}\\right)^{3} + 1.0 v A^{2}{\\left(u \\right)} B{\\left(u,v \\right)} C{\\left(w \\right)} f{\\left(t,u,v \\right)} \\left(\\frac{d}{d t} R{\\left(t \\right)}\\right)^{3} \\frac{\\partial}{\\partial v} f{\\left(t,u,v \\right)} - 1.0 A{\\left(u \\right)} B{\\left(u,v \\right)} C^{2}{\\left(w \\right)} R^{2}{\\left(t \\right)} f{\\left(t,u,v \\right)} \\frac{d}{d t} R{\\left(t \\right)} \\frac{\\partial^{2}}{\\partial t^{2}} f{\\left(t,u,v \\right)} + 1.0 A{\\left(u \\right)} B{\\left(u,v \\right)} C^{2}{\\left(w \\right)} R^{2}{\\left(t \\right)} f{\\left(t,u,v \\right)} \\frac{d^{2}}{d t^{2}} R{\\left(t \\right)} \\frac{\\partial}{\\partial t} f{\\left(t,u,v \\right)} + 0.5 A{\\left(u \\right)} B{\\left(u,v \\right)} C^{2}{\\left(w \\right)} R^{2}{\\left(t \\right)} \\frac{d}{d t} R{\\left(t \\right)} \\left(\\frac{\\partial}{\\partial t} f{\\left(t,u,v \\right)}\\right)^{2} - 1.0 A{\\left(u \\right)} B{\\left(u,v \\right)} C^{2}{\\left(w \\right)} R{\\left(t \\right)} f{\\left(t,u,v \\right)} \\left(\\frac{d}{d t} R{\\left(t \\right)}\\right)^{2} \\frac{\\partial}{\\partial t} f{\\left(t,u,v \\right)}\\right)}{v^{2} A^{2}{\\left(u \\right)} C^{2}{\\left(w \\right)} R^{2}{\\left(t \\right)} f^{2}{\\left(t,u,v \\right)} \\left(\\frac{d}{d t} R{\\left(t \\right)}\\right)^{3}}$"
      ],
      "text/plain": [
       "    ⎛                                               3   2                     \n",
       "    ⎜     2  2                            ⎛d       ⎞   ∂                     2\n",
       "0.5⋅⎜1.0⋅v ⋅A (u)⋅B(u, v)⋅C(w)⋅f(t, u, v)⋅⎜──(R(t))⎟ ⋅───(f(t, u, v)) - 0.5⋅v \n",
       "    ⎜                                     ⎝dt      ⎠    2                     \n",
       "    ⎝                                                 ∂v                      \n",
       "──────────────────────────────────────────────────────────────────────────────\n",
       "                                                                              \n",
       "                                                                              \n",
       "                                                                              \n",
       "                                                                              \n",
       "\n",
       "                              3                 2                             \n",
       "  2                 ⎛d       ⎞  ⎛∂             ⎞         2  2     2     2     \n",
       "⋅A (u)⋅B(u, v)⋅C(w)⋅⎜──(R(t))⎟ ⋅⎜──(f(t, u, v))⎟  + 0.5⋅v ⋅A (u)⋅R (t)⋅f (t, u\n",
       "                    ⎝dt      ⎠  ⎝∂v            ⎠                              \n",
       "                                                                              \n",
       "──────────────────────────────────────────────────────────────────────────────\n",
       "                                                                              \n",
       "                                                                              \n",
       "                                                                              \n",
       "                                                                              \n",
       "\n",
       "               2           3                                               2  \n",
       "     ⎛d       ⎞  ⎛d       ⎞         2                    2                d   \n",
       ", v)⋅⎜──(C(w))⎟ ⋅⎜──(R(t))⎟  + 1.0⋅v ⋅A(u)⋅B(u, v)⋅C(w)⋅R (t)⋅f(t, u, v)⋅───(A\n",
       "     ⎝dw      ⎠  ⎝dt      ⎠                                                2  \n",
       "                                                                         du   \n",
       "──────────────────────────────────────────────────────────────────────────────\n",
       "                                                                              \n",
       "                                                                              \n",
       "                                                                              \n",
       "                                                                              \n",
       "\n",
       "               3                                                     3        \n",
       "     ⎛d       ⎞         2                    2    d        ⎛d       ⎞  ∂      \n",
       "(u))⋅⎜──(R(t))⎟  - 0.5⋅v ⋅A(u)⋅B(u, v)⋅C(w)⋅R (t)⋅──(A(u))⋅⎜──(R(t))⎟ ⋅──(f(t,\n",
       "     ⎝dt      ⎠                                   du       ⎝dt      ⎠  ∂u     \n",
       "                                                                              \n",
       "──────────────────────────────────────────────────────────────────────────────\n",
       "                                                                              \n",
       "                                                                              \n",
       "                                                                              \n",
       "                                                                              \n",
       "\n",
       "                                                         2           3        \n",
       "               2               2               ⎛d       ⎞  ⎛d       ⎞         \n",
       " u, v)) - 0.5⋅v ⋅B(u, v)⋅C(w)⋅R (t)⋅f(t, u, v)⋅⎜──(A(u))⎟ ⋅⎜──(R(t))⎟  + 1.0⋅v\n",
       "                                               ⎝du      ⎠  ⎝dt      ⎠         \n",
       "                                                                              \n",
       "──────────────────────────────────────────────────────────────────────────────\n",
       "                                                           3                  \n",
       "                 2  2     2     2     2          ⎛d       ⎞                   \n",
       "                v ⋅A (u)⋅C (w)⋅R (t)⋅f (t, u, v)⋅⎜──(R(t))⎟                   \n",
       "                                                 ⎝dt      ⎠                   \n",
       "\n",
       "                                         3                                    \n",
       "  2                            ⎛d       ⎞  ∂                              2   \n",
       "⋅A (u)⋅B(u, v)⋅C(w)⋅f(t, u, v)⋅⎜──(R(t))⎟ ⋅──(f(t, u, v)) - A(u)⋅B(u, v)⋅C (w)\n",
       "                               ⎝dt      ⎠  ∂v                                 \n",
       "                                                                              \n",
       "──────────────────────────────────────────────────────────────────────────────\n",
       "                                                                              \n",
       "                                                                              \n",
       "                                                                              \n",
       "                                                                              \n",
       "\n",
       "                             2                                                \n",
       "  2               d         ∂                                  2     2        \n",
       "⋅R (t)⋅f(t, u, v)⋅──(R(t))⋅───(f(t, u, v)) + 1.0⋅A(u)⋅B(u, v)⋅C (w)⋅R (t)⋅f(t,\n",
       "                  dt         2                                                \n",
       "                           ∂t                                                 \n",
       "──────────────────────────────────────────────────────────────────────────────\n",
       "                                                                              \n",
       "                                                                              \n",
       "                                                                              \n",
       "                                                                              \n",
       "\n",
       "         2                                                                    \n",
       "        d        ∂                                  2     2    d        ⎛∂    \n",
       " u, v)⋅───(R(t))⋅──(f(t, u, v)) + 0.5⋅A(u)⋅B(u, v)⋅C (w)⋅R (t)⋅──(R(t))⋅⎜──(f(\n",
       "         2       ∂t                                            dt       ⎝∂t   \n",
       "       dt                                                                     \n",
       "──────────────────────────────────────────────────────────────────────────────\n",
       "                                                                              \n",
       "                                                                              \n",
       "                                                                              \n",
       "                                                                              \n",
       "\n",
       "          2                                                2               ⎞\n",
       "         ⎞                  2                    ⎛d       ⎞  ∂             ⎟\n",
       "t, u, v))⎟  - A(u)⋅B(u, v)⋅C (w)⋅R(t)⋅f(t, u, v)⋅⎜──(R(t))⎟ ⋅──(f(t, u, v))⎟\n",
       "         ⎠                                       ⎝dt      ⎠  ∂t            ⎟\n",
       "                                                                           ⎠\n",
       "────────────────────────────────────────────────────────────────────────────\n",
       "                                                                            \n",
       "                                                                            \n",
       "                                                                            \n",
       "                                                                            "
      ]
     },
     "metadata": {},
     "output_type": "display_data"
    },
    {
     "name": "stdout",
     "output_type": "stream",
     "text": [
      "\n",
      "\n",
      "\n"
     ]
    }
   ],
   "source": [
    "A = sp.Function(\"A\")(u)\n",
    "B = sp.Function(\"B\")(u, v)\n",
    "C = sp.Function(\"C\")(w)\n",
    "\n",
    "g = MetricTensor(\n",
    "    sp.Array(\n",
    "        np.diag([A*v**2*R.diff(t)**2, -C*f, -C*R**2, -B]\n",
    "               )\n",
    "    ),\n",
    "    syms=[t, u, v, w]\n",
    ")\n",
    "    \n",
    "g.tensor()\n",
    "\n",
    "einstein = EinsteinTensor.from_metric(g)\n",
    "einstein.tensor()\n",
    "\n",
    "out = \"ds^2 =\"\n",
    "vars_ = [\"t\", \"u\", \"v\", \"w\"] \n",
    "\n",
    "print_ein(einstein)"
   ]
  },
  {
   "cell_type": "code",
   "execution_count": 13,
   "id": "929422bb-967e-4c81-8da3-6065d605f01d",
   "metadata": {},
   "outputs": [
    {
     "data": {
      "text/plain": [
       "\"Element ('t', 't'), of Einstein tensor\""
      ]
     },
     "metadata": {},
     "output_type": "display_data"
    },
    {
     "data": {
      "image/png": "[encoded data removed]",
      "text/latex": [
       "$\\displaystyle - \\frac{2.0 \\left(- 0.25 c_{1} c_{3} R{\\left(t \\right)} f{\\left(t,u,v \\right)} \\frac{\\partial}{\\partial t} f{\\left(t,u,v \\right)} + 0.25 v^{4} \\operatorname{c_{2}}{\\left(v \\right)} f{\\left(t,u,v \\right)} \\frac{d}{d t} R{\\left(t \\right)} \\frac{\\partial^{2}}{\\partial v^{2}} f{\\left(t,u,v \\right)} - 0.125 v^{4} \\operatorname{c_{2}}{\\left(v \\right)} \\frac{d}{d t} R{\\left(t \\right)} \\left(\\frac{\\partial}{\\partial v} f{\\left(t,u,v \\right)}\\right)^{2} - 0.25 v^{3} \\operatorname{c_{2}}{\\left(v \\right)} f{\\left(t,u,v \\right)} \\frac{d}{d t} R{\\left(t \\right)} \\frac{\\partial}{\\partial v} f{\\left(t,u,v \\right)} + 1.0 v^{2} \\operatorname{c_{2}}{\\left(v \\right)} f^{2}{\\left(t,u,v \\right)} \\frac{d}{d t} R{\\left(t \\right)}\\right) \\frac{d}{d t} R{\\left(t \\right)}}{c_{1} c_{3} R^{2}{\\left(t \\right)} f^{2}{\\left(t,u,v \\right)}}$"
      ],
      "text/plain": [
       "     ⎛                                                                        \n",
       "     ⎜                             ∂                      4                  d\n",
       "-2.0⋅⎜- 0.25⋅c₁⋅c₃⋅R(t)⋅f(t, u, v)⋅──(f(t, u, v)) + 0.25⋅v ⋅c₂(v)⋅f(t, u, v)⋅─\n",
       "     ⎜                             ∂t                                        d\n",
       "     ⎝                                                                        \n",
       "──────────────────────────────────────────────────────────────────────────────\n",
       "                                                                              \n",
       "                                                                              \n",
       "\n",
       "          2                                                       2           \n",
       "         ∂                       4       d        ⎛∂             ⎞          3 \n",
       "─(R(t))⋅───(f(t, u, v)) - 0.125⋅v ⋅c₂(v)⋅──(R(t))⋅⎜──(f(t, u, v))⎟  - 0.25⋅v ⋅\n",
       "t         2                              dt       ⎝∂v            ⎠            \n",
       "        ∂v                                                                    \n",
       "──────────────────────────────────────────────────────────────────────────────\n",
       "                                       2     2                                \n",
       "                                c₁⋅c₃⋅R (t)⋅f (t, u, v)                       \n",
       "\n",
       "                                                                            ⎞ \n",
       "                 d        ∂                     2        2          d       ⎟ \n",
       "c₂(v)⋅f(t, u, v)⋅──(R(t))⋅──(f(t, u, v)) + 1.0⋅v ⋅c₂(v)⋅f (t, u, v)⋅──(R(t))⎟⋅\n",
       "                 dt       ∂v                                        dt      ⎟ \n",
       "                                                                            ⎠ \n",
       "──────────────────────────────────────────────────────────────────────────────\n",
       "                                                                              \n",
       "                                                                              \n",
       "\n",
       "         \n",
       "d        \n",
       "──(R(t)) \n",
       "dt       \n",
       "         \n",
       "─────────\n",
       "         \n",
       "         "
      ]
     },
     "metadata": {},
     "output_type": "display_data"
    },
    {
     "name": "stdout",
     "output_type": "stream",
     "text": [
      "\n",
      "\n",
      "\n"
     ]
    },
    {
     "data": {
      "text/plain": [
       "\"Element ('t', 'v'), of Einstein tensor\""
      ]
     },
     "metadata": {},
     "output_type": "display_data"
    },
    {
     "data": {
      "image/png": "[encoded data removed]",
      "text/latex": [
       "$\\displaystyle \\frac{- 2 v R{\\left(t \\right)} \\operatorname{c_{2}}{\\left(v \\right)} f{\\left(t,u,v \\right)} \\frac{\\partial^{2}}{\\partial v\\partial t} f{\\left(t,u,v \\right)} + v R{\\left(t \\right)} \\operatorname{c_{2}}{\\left(v \\right)} \\frac{\\partial}{\\partial t} f{\\left(t,u,v \\right)} \\frac{\\partial}{\\partial v} f{\\left(t,u,v \\right)} + v R{\\left(t \\right)} f{\\left(t,u,v \\right)} \\frac{d}{d v} \\operatorname{c_{2}}{\\left(v \\right)} \\frac{\\partial}{\\partial t} f{\\left(t,u,v \\right)} + 2 v \\operatorname{c_{2}}{\\left(v \\right)} f{\\left(t,u,v \\right)} \\frac{d}{d t} R{\\left(t \\right)} \\frac{\\partial}{\\partial v} f{\\left(t,u,v \\right)} + 4 R{\\left(t \\right)} \\operatorname{c_{2}}{\\left(v \\right)} f{\\left(t,u,v \\right)} \\frac{\\partial}{\\partial t} f{\\left(t,u,v \\right)} - 4 \\operatorname{c_{2}}{\\left(v \\right)} f^{2}{\\left(t,u,v \\right)} \\frac{d}{d t} R{\\left(t \\right)}}{4 v R{\\left(t \\right)} \\operatorname{c_{2}}{\\left(v \\right)} f^{2}{\\left(t,u,v \\right)}}$"
      ],
      "text/plain": [
       "                               2                                              \n",
       "                              ∂                              ∂              ∂ \n",
       "- 2⋅v⋅R(t)⋅c₂(v)⋅f(t, u, v)⋅─────(f(t, u, v)) + v⋅R(t)⋅c₂(v)⋅──(f(t, u, v))⋅──\n",
       "                            ∂v ∂t                            ∂t             ∂v\n",
       "──────────────────────────────────────────────────────────────────────────────\n",
       "                                                                              \n",
       "                                                                              \n",
       "\n",
       "                                                                              \n",
       "                                 d         ∂                                  \n",
       "(f(t, u, v)) + v⋅R(t)⋅f(t, u, v)⋅──(c₂(v))⋅──(f(t, u, v)) + 2⋅v⋅c₂(v)⋅f(t, u, \n",
       "                                 dv        ∂t                                 \n",
       "──────────────────────────────────────────────────────────────────────────────\n",
       "                                                    2                         \n",
       "                                    4⋅v⋅R(t)⋅c₂(v)⋅f (t, u, v)                \n",
       "\n",
       "                                                                              \n",
       "   d        ∂                                        ∂                        \n",
       "v)⋅──(R(t))⋅──(f(t, u, v)) + 4⋅R(t)⋅c₂(v)⋅f(t, u, v)⋅──(f(t, u, v)) - 4⋅c₂(v)⋅\n",
       "   dt       ∂v                                       ∂t                       \n",
       "──────────────────────────────────────────────────────────────────────────────\n",
       "                                                                              \n",
       "                                                                              \n",
       "\n",
       "                    \n",
       " 2          d       \n",
       "f (t, u, v)⋅──(R(t))\n",
       "            dt      \n",
       "────────────────────\n",
       "                    \n",
       "                    "
      ]
     },
     "metadata": {},
     "output_type": "display_data"
    },
    {
     "name": "stdout",
     "output_type": "stream",
     "text": [
      "\n",
      "\n",
      "\n"
     ]
    },
    {
     "data": {
      "text/plain": [
       "\"Element ('u', 'u'), of Einstein tensor\""
      ]
     },
     "metadata": {},
     "output_type": "display_data"
    },
    {
     "data": {
      "image/png": "[encoded data removed]",
      "text/latex": [
       "$\\displaystyle \\frac{2.0 \\left(0.25 v^{2} \\operatorname{c_{2}}{\\left(v \\right)} \\frac{d^{2}}{d v^{2}} \\operatorname{c_{2}}{\\left(v \\right)} - 0.125 v^{2} \\left(\\frac{d}{d v} \\operatorname{c_{2}}{\\left(v \\right)}\\right)^{2} + 0.75 v \\operatorname{c_{2}}{\\left(v \\right)} \\frac{d}{d v} \\operatorname{c_{2}}{\\left(v \\right)} + 1.0 \\operatorname{c_{2}}^{2}{\\left(v \\right)}\\right) f{\\left(t,u,v \\right)}}{v^{2} R^{2}{\\left(t \\right)} \\operatorname{c_{2}}^{2}{\\left(v \\right)}}$"
      ],
      "text/plain": [
       "    ⎛                2                              2                         \n",
       "    ⎜      2        d                  2 ⎛d        ⎞                 d        \n",
       "2.0⋅⎜0.25⋅v ⋅c₂(v)⋅───(c₂(v)) - 0.125⋅v ⋅⎜──(c₂(v))⎟  + 0.75⋅v⋅c₂(v)⋅──(c₂(v))\n",
       "    ⎜                2                   ⎝dv       ⎠                 dv       \n",
       "    ⎝              dv                                                         \n",
       "──────────────────────────────────────────────────────────────────────────────\n",
       "                                             2  2      2                      \n",
       "                                            v ⋅R (t)⋅c₂ (v)                   \n",
       "\n",
       "             ⎞           \n",
       "         2   ⎟           \n",
       " + 1.0⋅c₂ (v)⎟⋅f(t, u, v)\n",
       "             ⎟           \n",
       "             ⎠           \n",
       "─────────────────────────\n",
       "                         \n",
       "                         "
      ]
     },
     "metadata": {},
     "output_type": "display_data"
    },
    {
     "name": "stdout",
     "output_type": "stream",
     "text": [
      "\n",
      "\n",
      "\n"
     ]
    },
    {
     "data": {
      "text/plain": [
       "\"Element ('v', 't'), of Einstein tensor\""
      ]
     },
     "metadata": {},
     "output_type": "display_data"
    },
    {
     "data": {
      "image/png": "[encoded data removed]",
      "text/latex": [
       "$\\displaystyle \\frac{- 2 v R{\\left(t \\right)} \\operatorname{c_{2}}{\\left(v \\right)} f{\\left(t,u,v \\right)} \\frac{\\partial^{2}}{\\partial v\\partial t} f{\\left(t,u,v \\right)} + v R{\\left(t \\right)} \\operatorname{c_{2}}{\\left(v \\right)} \\frac{\\partial}{\\partial t} f{\\left(t,u,v \\right)} \\frac{\\partial}{\\partial v} f{\\left(t,u,v \\right)} + v R{\\left(t \\right)} f{\\left(t,u,v \\right)} \\frac{d}{d v} \\operatorname{c_{2}}{\\left(v \\right)} \\frac{\\partial}{\\partial t} f{\\left(t,u,v \\right)} + 2 v \\operatorname{c_{2}}{\\left(v \\right)} f{\\left(t,u,v \\right)} \\frac{d}{d t} R{\\left(t \\right)} \\frac{\\partial}{\\partial v} f{\\left(t,u,v \\right)} + 4 R{\\left(t \\right)} \\operatorname{c_{2}}{\\left(v \\right)} f{\\left(t,u,v \\right)} \\frac{\\partial}{\\partial t} f{\\left(t,u,v \\right)} - 4 \\operatorname{c_{2}}{\\left(v \\right)} f^{2}{\\left(t,u,v \\right)} \\frac{d}{d t} R{\\left(t \\right)}}{4 v R{\\left(t \\right)} \\operatorname{c_{2}}{\\left(v \\right)} f^{2}{\\left(t,u,v \\right)}}$"
      ],
      "text/plain": [
       "                               2                                              \n",
       "                              ∂                              ∂              ∂ \n",
       "- 2⋅v⋅R(t)⋅c₂(v)⋅f(t, u, v)⋅─────(f(t, u, v)) + v⋅R(t)⋅c₂(v)⋅──(f(t, u, v))⋅──\n",
       "                            ∂v ∂t                            ∂t             ∂v\n",
       "──────────────────────────────────────────────────────────────────────────────\n",
       "                                                                              \n",
       "                                                                              \n",
       "\n",
       "                                                                              \n",
       "                                 d         ∂                                  \n",
       "(f(t, u, v)) + v⋅R(t)⋅f(t, u, v)⋅──(c₂(v))⋅──(f(t, u, v)) + 2⋅v⋅c₂(v)⋅f(t, u, \n",
       "                                 dv        ∂t                                 \n",
       "──────────────────────────────────────────────────────────────────────────────\n",
       "                                                    2                         \n",
       "                                    4⋅v⋅R(t)⋅c₂(v)⋅f (t, u, v)                \n",
       "\n",
       "                                                                              \n",
       "   d        ∂                                        ∂                        \n",
       "v)⋅──(R(t))⋅──(f(t, u, v)) + 4⋅R(t)⋅c₂(v)⋅f(t, u, v)⋅──(f(t, u, v)) - 4⋅c₂(v)⋅\n",
       "   dt       ∂v                                       ∂t                       \n",
       "──────────────────────────────────────────────────────────────────────────────\n",
       "                                                                              \n",
       "                                                                              \n",
       "\n",
       "                    \n",
       " 2          d       \n",
       "f (t, u, v)⋅──(R(t))\n",
       "            dt      \n",
       "────────────────────\n",
       "                    \n",
       "                    "
      ]
     },
     "metadata": {},
     "output_type": "display_data"
    },
    {
     "name": "stdout",
     "output_type": "stream",
     "text": [
      "\n",
      "\n",
      "\n"
     ]
    },
    {
     "data": {
      "text/plain": [
       "\"Element ('v', 'v'), of Einstein tensor\""
      ]
     },
     "metadata": {},
     "output_type": "display_data"
    },
    {
     "data": {
      "image/png": "[encoded data removed]",
      "text/latex": [
       "$\\displaystyle \\frac{2.0 \\left(- 0.25 c_{1} c_{3} R^{2}{\\left(t \\right)} f{\\left(t,u,v \\right)} \\frac{d}{d t} R{\\left(t \\right)} \\frac{\\partial^{2}}{\\partial t^{2}} f{\\left(t,u,v \\right)} + 0.25 c_{1} c_{3} R^{2}{\\left(t \\right)} f{\\left(t,u,v \\right)} \\frac{d^{2}}{d t^{2}} R{\\left(t \\right)} \\frac{\\partial}{\\partial t} f{\\left(t,u,v \\right)} + 0.125 c_{1} c_{3} R^{2}{\\left(t \\right)} \\frac{d}{d t} R{\\left(t \\right)} \\left(\\frac{\\partial}{\\partial t} f{\\left(t,u,v \\right)}\\right)^{2} + 0.125 v^{4} f{\\left(t,u,v \\right)} \\left(\\frac{d}{d t} R{\\left(t \\right)}\\right)^{3} \\frac{d}{d v} \\operatorname{c_{2}}{\\left(v \\right)} \\frac{\\partial}{\\partial v} f{\\left(t,u,v \\right)} + 0.25 v^{3} \\operatorname{c_{2}}{\\left(v \\right)} f{\\left(t,u,v \\right)} \\left(\\frac{d}{d t} R{\\left(t \\right)}\\right)^{3} \\frac{\\partial}{\\partial v} f{\\left(t,u,v \\right)} - 0.25 v^{3} f^{2}{\\left(t,u,v \\right)} \\left(\\frac{d}{d t} R{\\left(t \\right)}\\right)^{3} \\frac{d}{d v} \\operatorname{c_{2}}{\\left(v \\right)} - 1.0 v^{2} \\operatorname{c_{2}}{\\left(v \\right)} f^{2}{\\left(t,u,v \\right)} \\left(\\frac{d}{d t} R{\\left(t \\right)}\\right)^{3}\\right)}{v^{4} \\operatorname{c_{2}}{\\left(v \\right)} f^{2}{\\left(t,u,v \\right)} \\left(\\frac{d}{d t} R{\\left(t \\right)}\\right)^{3}}$"
      ],
      "text/plain": [
       "    ⎛                                         2                               \n",
       "    ⎜              2               d         ∂                            2   \n",
       "2.0⋅⎜- 0.25⋅c₁⋅c₃⋅R (t)⋅f(t, u, v)⋅──(R(t))⋅───(f(t, u, v)) + 0.25⋅c₁⋅c₃⋅R (t)\n",
       "    ⎜                              dt         2                               \n",
       "    ⎝                                       ∂t                                \n",
       "──────────────────────────────────────────────────────────────────────────────\n",
       "                                                                              \n",
       "                                                                              \n",
       "                                                                              \n",
       "                                                                              \n",
       "\n",
       "              2                                                               \n",
       "             d        ∂                             2    d        ⎛∂          \n",
       "⋅f(t, u, v)⋅───(R(t))⋅──(f(t, u, v)) + 0.125⋅c₁⋅c₃⋅R (t)⋅──(R(t))⋅⎜──(f(t, u, \n",
       "              2       ∂t                                 dt       ⎝∂t         \n",
       "            dt                                                                \n",
       "──────────────────────────────────────────────────────────────────────────────\n",
       "                                                                              \n",
       "                                                                              \n",
       "                                                                              \n",
       "                                                                              \n",
       "\n",
       "    2                                 3                                       \n",
       "   ⎞           4            ⎛d       ⎞  d         ∂                      3    \n",
       "v))⎟  + 0.125⋅v ⋅f(t, u, v)⋅⎜──(R(t))⎟ ⋅──(c₂(v))⋅──(f(t, u, v)) + 0.25⋅v ⋅c₂(\n",
       "   ⎠                        ⎝dt      ⎠  dv        ∂v                          \n",
       "                                                                              \n",
       "──────────────────────────────────────────────────────────────────────────────\n",
       "                                    3                                         \n",
       "      4        2          ⎛d       ⎞                                          \n",
       "     v ⋅c₂(v)⋅f (t, u, v)⋅⎜──(R(t))⎟                                          \n",
       "                          ⎝dt      ⎠                                          \n",
       "\n",
       "                        3                                                3    \n",
       "              ⎛d       ⎞  ∂                      3  2          ⎛d       ⎞  d  \n",
       "v)⋅f(t, u, v)⋅⎜──(R(t))⎟ ⋅──(f(t, u, v)) - 0.25⋅v ⋅f (t, u, v)⋅⎜──(R(t))⎟ ⋅──(\n",
       "              ⎝dt      ⎠  ∂v                                   ⎝dt      ⎠  dv \n",
       "                                                                              \n",
       "──────────────────────────────────────────────────────────────────────────────\n",
       "                                                                              \n",
       "                                                                              \n",
       "                                                                              \n",
       "                                                                              \n",
       "\n",
       "                                        3⎞\n",
       "          2        2          ⎛d       ⎞ ⎟\n",
       "c₂(v)) - v ⋅c₂(v)⋅f (t, u, v)⋅⎜──(R(t))⎟ ⎟\n",
       "                              ⎝dt      ⎠ ⎟\n",
       "                                         ⎠\n",
       "──────────────────────────────────────────\n",
       "                                          \n",
       "                                          \n",
       "                                          \n",
       "                                          "
      ]
     },
     "metadata": {},
     "output_type": "display_data"
    },
    {
     "name": "stdout",
     "output_type": "stream",
     "text": [
      "\n",
      "\n",
      "\n"
     ]
    },
    {
     "data": {
      "text/plain": [
       "\"Element ('w', 'w'), of Einstein tensor\""
      ]
     },
     "metadata": {},
     "output_type": "display_data"
    },
    {
     "data": {
      "image/png": "[encoded data removed]",
      "text/latex": [
       "$\\displaystyle \\frac{2.0 c_{3} \\left(- 0.25 c_{1} c_{3} R^{2}{\\left(t \\right)} \\operatorname{c_{2}}{\\left(v \\right)} f{\\left(t,u,v \\right)} \\frac{d}{d t} R{\\left(t \\right)} \\frac{\\partial^{2}}{\\partial t^{2}} f{\\left(t,u,v \\right)} + 0.25 c_{1} c_{3} R^{2}{\\left(t \\right)} \\operatorname{c_{2}}{\\left(v \\right)} f{\\left(t,u,v \\right)} \\frac{d^{2}}{d t^{2}} R{\\left(t \\right)} \\frac{\\partial}{\\partial t} f{\\left(t,u,v \\right)} + 0.125 c_{1} c_{3} R^{2}{\\left(t \\right)} \\operatorname{c_{2}}{\\left(v \\right)} \\frac{d}{d t} R{\\left(t \\right)} \\left(\\frac{\\partial}{\\partial t} f{\\left(t,u,v \\right)}\\right)^{2} - 0.25 c_{1} c_{3} R{\\left(t \\right)} \\operatorname{c_{2}}{\\left(v \\right)} f{\\left(t,u,v \\right)} \\left(\\frac{d}{d t} R{\\left(t \\right)}\\right)^{2} \\frac{\\partial}{\\partial t} f{\\left(t,u,v \\right)} + 0.25 v^{4} \\operatorname{c_{2}}^{2}{\\left(v \\right)} f{\\left(t,u,v \\right)} \\left(\\frac{d}{d t} R{\\left(t \\right)}\\right)^{3} \\frac{\\partial^{2}}{\\partial v^{2}} f{\\left(t,u,v \\right)} - 0.125 v^{4} \\operatorname{c_{2}}^{2}{\\left(v \\right)} \\left(\\frac{d}{d t} R{\\left(t \\right)}\\right)^{3} \\left(\\frac{\\partial}{\\partial v} f{\\left(t,u,v \\right)}\\right)^{2} + 0.25 v^{4} \\operatorname{c_{2}}{\\left(v \\right)} f^{2}{\\left(t,u,v \\right)} \\left(\\frac{d}{d t} R{\\left(t \\right)}\\right)^{3} \\frac{d^{2}}{d v^{2}} \\operatorname{c_{2}}{\\left(v \\right)} + 0.125 v^{4} \\operatorname{c_{2}}{\\left(v \\right)} f{\\left(t,u,v \\right)} \\left(\\frac{d}{d t} R{\\left(t \\right)}\\right)^{3} \\frac{d}{d v} \\operatorname{c_{2}}{\\left(v \\right)} \\frac{\\partial}{\\partial v} f{\\left(t,u,v \\right)} - 0.125 v^{4} f^{2}{\\left(t,u,v \\right)} \\left(\\frac{d}{d t} R{\\left(t \\right)}\\right)^{3} \\left(\\frac{d}{d v} \\operatorname{c_{2}}{\\left(v \\right)}\\right)^{2} + 0.5 v^{3} \\operatorname{c_{2}}^{2}{\\left(v \\right)} f{\\left(t,u,v \\right)} \\left(\\frac{d}{d t} R{\\left(t \\right)}\\right)^{3} \\frac{\\partial}{\\partial v} f{\\left(t,u,v \\right)} + 1.0 v^{3} \\operatorname{c_{2}}{\\left(v \\right)} f^{2}{\\left(t,u,v \\right)} \\left(\\frac{d}{d t} R{\\left(t \\right)}\\right)^{3} \\frac{d}{d v} \\operatorname{c_{2}}{\\left(v \\right)} + 1.0 v^{2} \\operatorname{c_{2}}^{2}{\\left(v \\right)} f^{2}{\\left(t,u,v \\right)} \\left(\\frac{d}{d t} R{\\left(t \\right)}\\right)^{3}\\right)}{c_{1} v^{6} R^{2}{\\left(t \\right)} \\operatorname{c_{2}}^{2}{\\left(v \\right)} f^{2}{\\left(t,u,v \\right)} \\left(\\frac{d}{d t} R{\\left(t \\right)}\\right)^{3}}$"
      ],
      "text/plain": [
       "       ⎛                                               2                      \n",
       "       ⎜              2                     d         ∂                       \n",
       "2.0⋅c₃⋅⎜- 0.25⋅c₁⋅c₃⋅R (t)⋅c₂(v)⋅f(t, u, v)⋅──(R(t))⋅───(f(t, u, v)) + 0.25⋅c₁\n",
       "       ⎜                                    dt         2                      \n",
       "       ⎝                                             ∂t                       \n",
       "──────────────────────────────────────────────────────────────────────────────\n",
       "                                                                              \n",
       "                                                                              \n",
       "                                                                              \n",
       "                                                                              \n",
       "\n",
       "                             2                                                \n",
       "     2                      d        ∂                             2          \n",
       "⋅c₃⋅R (t)⋅c₂(v)⋅f(t, u, v)⋅───(R(t))⋅──(f(t, u, v)) + 0.125⋅c₁⋅c₃⋅R (t)⋅c₂(v)⋅\n",
       "                             2       ∂t                                       \n",
       "                           dt                                                 \n",
       "──────────────────────────────────────────────────────────────────────────────\n",
       "                                                                              \n",
       "                                                                              \n",
       "                                                                              \n",
       "                                                                              \n",
       "\n",
       "                         2                                              2     \n",
       "d        ⎛∂             ⎞                                     ⎛d       ⎞  ∂   \n",
       "──(R(t))⋅⎜──(f(t, u, v))⎟  - 0.25⋅c₁⋅c₃⋅R(t)⋅c₂(v)⋅f(t, u, v)⋅⎜──(R(t))⎟ ⋅──(f\n",
       "dt       ⎝∂t            ⎠                                     ⎝dt      ⎠  ∂t  \n",
       "                                                                              \n",
       "──────────────────────────────────────────────────────────────────────────────\n",
       "                                                                              \n",
       "                                                                              \n",
       "                                                                              \n",
       "                                                                              \n",
       "\n",
       "                                                 3   2                        \n",
       "                   4   2               ⎛d       ⎞   ∂                       4 \n",
       "(t, u, v)) + 0.25⋅v ⋅c₂ (v)⋅f(t, u, v)⋅⎜──(R(t))⎟ ⋅───(f(t, u, v)) - 0.125⋅v ⋅\n",
       "                                       ⎝dt      ⎠    2                        \n",
       "                                                   ∂v                         \n",
       "──────────────────────────────────────────────────────────────────────────────\n",
       "                                                                              \n",
       "                                                                             6\n",
       "                                                                         c₁⋅v \n",
       "                                                                              \n",
       "\n",
       "                 3                 2                                       3  \n",
       "  2    ⎛d       ⎞  ⎛∂             ⎞          4        2          ⎛d       ⎞   \n",
       "c₂ (v)⋅⎜──(R(t))⎟ ⋅⎜──(f(t, u, v))⎟  + 0.25⋅v ⋅c₂(v)⋅f (t, u, v)⋅⎜──(R(t))⎟ ⋅─\n",
       "       ⎝dt      ⎠  ⎝∂v            ⎠                              ⎝dt      ⎠   \n",
       "                                                                             d\n",
       "──────────────────────────────────────────────────────────────────────────────\n",
       "                                    3                                         \n",
       "  2      2     2          ⎛d       ⎞                                          \n",
       "⋅R (t)⋅c₂ (v)⋅f (t, u, v)⋅⎜──(R(t))⎟                                          \n",
       "                          ⎝dt      ⎠                                          \n",
       "\n",
       " 2                                              3                             \n",
       "d                  4                  ⎛d       ⎞  d         ∂                 \n",
       "──(c₂(v)) + 0.125⋅v ⋅c₂(v)⋅f(t, u, v)⋅⎜──(R(t))⎟ ⋅──(c₂(v))⋅──(f(t, u, v)) - 0\n",
       " 2                                    ⎝dt      ⎠  dv        ∂v                \n",
       "v                                                                             \n",
       "──────────────────────────────────────────────────────────────────────────────\n",
       "                                                                              \n",
       "                                                                              \n",
       "                                                                              \n",
       "                                                                              \n",
       "\n",
       "                              3            2                                  \n",
       "      4  2          ⎛d       ⎞  ⎛d        ⎞         3   2               ⎛d    \n",
       ".125⋅v ⋅f (t, u, v)⋅⎜──(R(t))⎟ ⋅⎜──(c₂(v))⎟  + 0.5⋅v ⋅c₂ (v)⋅f(t, u, v)⋅⎜──(R(\n",
       "                    ⎝dt      ⎠  ⎝dv       ⎠                             ⎝dt   \n",
       "                                                                              \n",
       "──────────────────────────────────────────────────────────────────────────────\n",
       "                                                                              \n",
       "                                                                              \n",
       "                                                                              \n",
       "                                                                              \n",
       "\n",
       "    3                                                     3                   \n",
       "   ⎞  ∂                     3        2          ⎛d       ⎞  d                2\n",
       "t))⎟ ⋅──(f(t, u, v)) + 1.0⋅v ⋅c₂(v)⋅f (t, u, v)⋅⎜──(R(t))⎟ ⋅──(c₂(v)) + 1.0⋅v \n",
       "   ⎠  ∂v                                        ⎝dt      ⎠  dv                \n",
       "                                                                              \n",
       "──────────────────────────────────────────────────────────────────────────────\n",
       "                                                                              \n",
       "                                                                              \n",
       "                                                                              \n",
       "                                                                              \n",
       "\n",
       "                              3⎞\n",
       "   2     2          ⎛d       ⎞ ⎟\n",
       "⋅c₂ (v)⋅f (t, u, v)⋅⎜──(R(t))⎟ ⎟\n",
       "                    ⎝dt      ⎠ ⎟\n",
       "                               ⎠\n",
       "────────────────────────────────\n",
       "                                \n",
       "                                \n",
       "                                \n",
       "                                "
      ]
     },
     "metadata": {},
     "output_type": "display_data"
    },
    {
     "name": "stdout",
     "output_type": "stream",
     "text": [
      "\n",
      "\n",
      "\n"
     ]
    }
   ],
   "source": [
    "\n",
    "c1 = sp.Symbol(\"c_1\")\n",
    "c2 = sp.Function(\"c_2\")(v)\n",
    "c3 = sp.Symbol(\"c_3\")\n",
    "\n",
    "B = c3/v**2\n",
    "A = c2/B\n",
    "C = c1\n",
    "\n",
    "\n",
    "g = MetricTensor(\n",
    "    sp.Array(\n",
    "        np.diag([A*v**2*R.diff(t)**2, -C*f, -C*R**2, -B]\n",
    "               )\n",
    "    ),\n",
    "    syms=[t, u, v, w]\n",
    ")\n",
    "    \n",
    "g.tensor()\n",
    "\n",
    "einstein = EinsteinTensor.from_metric(g)\n",
    "print_ein(einstein)"
   ]
  }
 ],
 "metadata": {
  "kernelspec": {
   "display_name": "Python 3",
   "language": "python",
   "name": "python3"
  },
  "language_info": {
   "codemirror_mode": {
    "name": "ipython",
    "version": 3
   },
   "file_extension": ".py",
   "mimetype": "text/x-python",
   "name": "python",
   "nbconvert_exporter": "python",
   "pygments_lexer": "ipython3",
   "version": "3.8.5"
  }
 },
 "nbformat": 4,
 "nbformat_minor": 5
}
