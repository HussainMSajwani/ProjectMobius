{
 "cells": [
  {
   "cell_type": "code",
   "execution_count": 23,
   "id": "0176f38a-daca-49a8-aee0-02051a6dcff2",
   "metadata": {},
   "outputs": [
    {
     "data": {
      "text/latex": [
       "$\\displaystyle \\left[\\begin{matrix}\\left[\\begin{matrix}\\frac{\\frac{\\partial}{\\partial t} \\Phi{\\left(r,t \\right)}}{2} & \\frac{\\frac{\\partial}{\\partial r} \\Phi{\\left(r,t \\right)}}{2} & 0 & 0\\\\\\frac{\\frac{\\partial}{\\partial r} \\Phi{\\left(r,t \\right)}}{2} & \\frac{e^{- \\Phi{\\left(r,t \\right)} + \\Psi{\\left(r,t \\right)}} \\frac{\\partial}{\\partial t} \\Psi{\\left(r,t \\right)}}{2} & 0 & 0\\\\0 & 0 & 0 & 0\\\\0 & 0 & 0 & 0\\end{matrix}\\right] & \\left[\\begin{matrix}\\frac{e^{\\Phi{\\left(r,t \\right)} - \\Psi{\\left(r,t \\right)}} \\frac{\\partial}{\\partial r} \\Phi{\\left(r,t \\right)}}{2} & \\frac{\\frac{\\partial}{\\partial t} \\Psi{\\left(r,t \\right)}}{2} & 0 & 0\\\\\\frac{\\frac{\\partial}{\\partial t} \\Psi{\\left(r,t \\right)}}{2} & \\frac{\\frac{\\partial}{\\partial r} \\Psi{\\left(r,t \\right)}}{2} & 0 & 0\\\\0 & 0 & 0 & 0\\\\0 & 0 & 0 & 0\\end{matrix}\\right] & \\left[\\begin{matrix}0 & 0 & 0 & 0\\\\0 & 0 & 0 & 0\\\\0 & 0 & 0 & \\frac{b \\sin{\\left(\\phi_{2} \\right)}}{a - b \\cos{\\left(\\phi_{2} \\right)}}\\\\0 & 0 & \\frac{b \\sin{\\left(\\phi_{2} \\right)}}{a - b \\cos{\\left(\\phi_{2} \\right)}} & 0\\end{matrix}\\right] & \\left[\\begin{matrix}0 & 0 & 0 & 0\\\\0 & 0 & 0 & 0\\\\0 & 0 & \\frac{\\left(- a + b \\cos{\\left(\\phi_{2} \\right)}\\right) \\sin{\\left(\\phi_{2} \\right)}}{b} & 0\\\\0 & 0 & 0 & 0\\end{matrix}\\right]\\end{matrix}\\right]$"
      ],
      "text/plain": [
       "[[[Derivative(Phi(r, t), t)/2, Derivative(Phi(r, t), r)/2, 0, 0], [Derivative(Phi(r, t), r)/2, exp(-Phi(r, t) + Psi(r, t))*Derivative(Psi(r, t), t)/2, 0, 0], [0, 0, 0, 0], [0, 0, 0, 0]], [[exp(Phi(r, t) - Psi(r, t))*Derivative(Phi(r, t), r)/2, Derivative(Psi(r, t), t)/2, 0, 0], [Derivative(Psi(r, t), t)/2, Derivative(Psi(r, t), r)/2, 0, 0], [0, 0, 0, 0], [0, 0, 0, 0]], [[0, 0, 0, 0], [0, 0, 0, 0], [0, 0, 0, b*sin(phi_2)/(a - b*cos(phi_2))], [0, 0, b*sin(phi_2)/(a - b*cos(phi_2)), 0]], [[0, 0, 0, 0], [0, 0, 0, 0], [0, 0, (-a + b*cos(phi_2))*sin(phi_2)/b, 0], [0, 0, 0, 0]]]"
      ]
     },
     "execution_count": 23,
     "metadata": {},
     "output_type": "execute_result"
    }
   ],
   "source": [
    "from einsteinpy.symbolic.christoffel import ChristoffelSymbols\n",
    "from einsteinpy.symbolic import MetricTensor\n",
    "from einsteinpy.symbolic.ricci import RicciTensor, RicciScalar\n",
    "\n",
    "import sympy as sp\n",
    "from sympy.abc import a, b, t, r\n",
    "\n",
    "phi1, phi2 = sp.symbols(\"phi_1 phi_2\")\n",
    "\n",
    "m = a-b*sp.cos(phi2)\n",
    "n = b-a*sp.cos(phi2)\n",
    "\n",
    "Phi = sp.Function(\"Phi\")(r, t)\n",
    "Psi = sp.Function(\"Psi\")(r, t)\n",
    "\n",
    "x = m*sp.sin(phi1)\n",
    "y = m*sp.cos(phi1)\n",
    "z = b*sp.sin(phi2)\n",
    "\n",
    "param = (x, y, z)\n",
    "\n",
    "ein_g = MetricTensor(np.diag([-sp.exp(Phi), sp.exp(Psi), m**2 , b**2]), syms=(t, r, phi1, phi2))\n",
    "ein_g.tensor()\n",
    "G = ChristoffelSymbols.from_metric(ein_g)\n",
    "G.simplify()"
   ]
  },
  {
   "cell_type": "code",
   "execution_count": 26,
   "id": "5b4dc0ff-3401-444f-ae7d-dfb2a114bf8c",
   "metadata": {},
   "outputs": [
    {
     "data": {
      "text/latex": [
       "$\\displaystyle \\left[\\begin{matrix}\\left(e^{\\Phi{\\left(r,t \\right)}} \\left(\\frac{\\partial}{\\partial r} \\Phi{\\left(r,t \\right)}\\right)^{2} - e^{\\Phi{\\left(r,t \\right)}} \\frac{\\partial}{\\partial r} \\Phi{\\left(r,t \\right)} \\frac{\\partial}{\\partial r} \\Psi{\\left(r,t \\right)} + 2 e^{\\Phi{\\left(r,t \\right)}} \\frac{\\partial^{2}}{\\partial r^{2}} \\Phi{\\left(r,t \\right)} + e^{\\Psi{\\left(r,t \\right)}} \\frac{\\partial}{\\partial t} \\Phi{\\left(r,t \\right)} \\frac{\\partial}{\\partial t} \\Psi{\\left(r,t \\right)} - e^{\\Psi{\\left(r,t \\right)}} \\left(\\frac{\\partial}{\\partial t} \\Psi{\\left(r,t \\right)}\\right)^{2} - 2 e^{\\Psi{\\left(r,t \\right)}} \\frac{\\partial^{2}}{\\partial t^{2}} \\Psi{\\left(r,t \\right)}\\right) e^{- \\Psi{\\left(r,t \\right)}} & 0 & 0 & 0\\\\0 & \\left(- e^{\\Phi{\\left(r,t \\right)}} \\left(\\frac{\\partial}{\\partial r} \\Phi{\\left(r,t \\right)}\\right)^{2} + e^{\\Phi{\\left(r,t \\right)}} \\frac{\\partial}{\\partial r} \\Phi{\\left(r,t \\right)} \\frac{\\partial}{\\partial r} \\Psi{\\left(r,t \\right)} - 2 e^{\\Phi{\\left(r,t \\right)}} \\frac{\\partial^{2}}{\\partial r^{2}} \\Phi{\\left(r,t \\right)} - e^{\\Psi{\\left(r,t \\right)}} \\frac{\\partial}{\\partial t} \\Phi{\\left(r,t \\right)} \\frac{\\partial}{\\partial t} \\Psi{\\left(r,t \\right)} + e^{\\Psi{\\left(r,t \\right)}} \\left(\\frac{\\partial}{\\partial t} \\Psi{\\left(r,t \\right)}\\right)^{2} + 2 e^{\\Psi{\\left(r,t \\right)}} \\frac{\\partial^{2}}{\\partial t^{2}} \\Psi{\\left(r,t \\right)}\\right) e^{- \\Phi{\\left(r,t \\right)}} & 0 & 0\\\\0 & 0 & \\frac{4 \\left(- a + b \\cos{\\left(\\phi_{2} \\right)}\\right) \\cos{\\left(\\phi_{2} \\right)}}{b} & 0\\\\0 & 0 & 0 & - \\frac{4 b \\cos{\\left(\\phi_{2} \\right)}}{a - b \\cos{\\left(\\phi_{2} \\right)}}\\end{matrix}\\right]$"
      ],
      "text/plain": [
       "[[(exp(Phi(r, t))*Derivative(Phi(r, t), r)**2 - exp(Phi(r, t))*Derivative(Phi(r, t), r)*Derivative(Psi(r, t), r) + 2*exp(Phi(r, t))*Derivative(Phi(r, t), (r, 2)) + exp(Psi(r, t))*Derivative(Phi(r, t), t)*Derivative(Psi(r, t), t) - exp(Psi(r, t))*Derivative(Psi(r, t), t)**2 - 2*exp(Psi(r, t))*Derivative(Psi(r, t), (t, 2)))*exp(-Psi(r, t)), 0, 0, 0], [0, (-exp(Phi(r, t))*Derivative(Phi(r, t), r)**2 + exp(Phi(r, t))*Derivative(Phi(r, t), r)*Derivative(Psi(r, t), r) - 2*exp(Phi(r, t))*Derivative(Phi(r, t), (r, 2)) - exp(Psi(r, t))*Derivative(Phi(r, t), t)*Derivative(Psi(r, t), t) + exp(Psi(r, t))*Derivative(Psi(r, t), t)**2 + 2*exp(Psi(r, t))*Derivative(Psi(r, t), (t, 2)))*exp(-Phi(r, t)), 0, 0], [0, 0, 4*(-a + b*cos(phi_2))*cos(phi_2)/b, 0], [0, 0, 0, -4*b*cos(phi_2)/(a - b*cos(phi_2))]]"
      ]
     },
     "execution_count": 26,
     "metadata": {},
     "output_type": "execute_result"
    }
   ],
   "source": [
    "Rt = RicciTensor.from_christoffels(G)\n",
    "4*Rt.simplify()"
   ]
  }
 ],
 "metadata": {
  "kernelspec": {
   "display_name": "Python 3",
   "language": "python",
   "name": "python3"
  },
  "language_info": {
   "codemirror_mode": {
    "name": "ipython",
    "version": 3
   },
   "file_extension": ".py",
   "mimetype": "text/x-python",
   "name": "python",
   "nbconvert_exporter": "python",
   "pygments_lexer": "ipython3",
   "version": "3.8.5"
  }
 },
 "nbformat": 4,
 "nbformat_minor": 5
}
