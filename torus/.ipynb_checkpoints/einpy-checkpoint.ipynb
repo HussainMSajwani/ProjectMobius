{
 "cells": [
  {
   "cell_type": "code",
   "execution_count": 7,
   "id": "a2c39187-9b1e-442c-acd8-b7941ca187fc",
   "metadata": {},
   "outputs": [
    {
     "data": {
      "text/markdown": [
       "Line element: \n",
       "$$ds^2 =+\\left(0\\right)dt^2+\\left(- \\left(a - b \\cos{\\left(v \\right)}\\right)^{2}\\right)du^2+\\left(- b^{2}\\right)dv^2$$"
      ],
      "text/plain": [
       "<IPython.core.display.Markdown object>"
      ]
     },
     "execution_count": 7,
     "metadata": {},
     "output_type": "execute_result"
    }
   ],
   "source": [
    "import sympy as sp\n",
    "from sympy.abc import t, u, v, w, a, b\n",
    "from einsteinpy.symbolic import MetricTensor, RicciTensor, RicciScalar, RiemannCurvatureTensor, EinsteinTensor\n",
    "from einsteinpy.symbolic.christoffel import ChristoffelSymbols\n",
    "import numpy as np\n",
    "from IPython.display import Markdown as md\n",
    "from IPython.display import display, Latex\n",
    "import warnings\n",
    "warnings.filterwarnings(\"ignore\")\n",
    "\n",
    "def print_ein(ein):\n",
    "    ein = ein.simplify()\n",
    "    for i, c1 in enumerate(vars_):\n",
    "        for j, c2 in enumerate(vars_):\n",
    "            if ein[i, j] != (u - u).simplify():\n",
    "                display(f\"Element {(c1, c2)}, of Einstein tensor\", sp.factor(ein[i, j]))\n",
    "                print(\"\\n\\n\")\n",
    "\n",
    "m = a - b * sp.cos(v)\n",
    "n = b - a * sp.cos(v)\n",
    "\n",
    "x = m*sp.sin(u)\n",
    "y = m*sp.cos(u)\n",
    "z = b*sp.sin(v)\n",
    "\n",
    "dxu = x.diff(u)\n",
    "dxv = x.diff(v)\n",
    "dxt = x.diff(t)\n",
    "dyu = y.diff(u)\n",
    "dyv = y.diff(v)\n",
    "dyt = y.diff(t)\n",
    "dzu = z.diff(u)\n",
    "dzv = z.diff(v)\n",
    "dzt = z.diff(t)\n",
    "\n",
    "du2 = (dxu**2 + dyu**2 + dzu**2).simplify()\n",
    "dv2 = (dxv**2 + dyv**2 + dzv**2).simplify()\n",
    "dt2 = (dxt**2 + dyt**2 + dzt**2).simplify()\n",
    "\n",
    "ds_ = [dt2, -du2, -dv2]\n",
    "\n",
    "out = \"ds^2 =\"\n",
    "vars_ = [\"t\", \"u\", \"v\"] \n",
    "\n",
    "for i in range(3):\n",
    "    out += f\"+\\\\left({sp.latex(ds_[i].simplify())}\\\\right)d{vars_[i]}^2\"\n",
    "    \n",
    "md(\"Line element: \\n$${}$$\".format(out))"
   ]
  },
  {
   "cell_type": "code",
   "execution_count": 4,
   "id": "402c747c-6116-4ac5-99fa-19cc5857acb5",
   "metadata": {},
   "outputs": [
    {
     "data": {
      "text/latex": [
       "$\\displaystyle 4 \\sin{\\left(v \\right)}$"
      ],
      "text/plain": [
       "4*sin(v)"
      ]
     },
     "execution_count": 4,
     "metadata": {},
     "output_type": "execute_result"
    }
   ],
   "source": [
    "w = (a**2 + b**2 - 2*a*b*sp.cos(v))\n",
    "w.diff(v)"
   ]
  },
  {
   "cell_type": "code",
   "execution_count": 6,
   "id": "ff87e7a3-6f74-42f2-8d73-c8aec23b302a",
   "metadata": {},
   "outputs": [
    {
     "data": {
      "text/plain": [
       "\"Element ('t', 't'), of Einstein tensor\""
      ]
     },
     "metadata": {},
     "output_type": "display_data"
    },
    {
     "data": {
      "text/latex": [
       "$\\displaystyle \\frac{0.0625 \\left(1.0 \\sin{\\left(v \\right)} - 0.5\\right) e^{A{\\left(5 - 4 \\cos{\\left(v \\right)},t \\right)}} \\cos{\\left(v \\right)}}{\\left(1.0 \\sin{\\left(v \\right)} - 0.25\\right)^{2} \\left(0.5 \\cos{\\left(v \\right)} - 1.0\\right)}$"
      ],
      "text/plain": [
       "0.0625*(1.0*sin(v) - 0.5)*exp(A(5 - 4*cos(v), t))*cos(v)/((1.0*sin(v) - 0.25)**2*(0.5*cos(v) - 1.0))"
      ]
     },
     "metadata": {},
     "output_type": "display_data"
    },
    {
     "name": "stdout",
     "output_type": "stream",
     "text": [
      "\n",
      "\n",
      "\n"
     ]
    },
    {
     "ename": "ValueError",
     "evalue": "Index (0, 3) out of border",
     "output_type": "error",
     "traceback": [
      "\u001b[0;31m---------------------------------------------------------------------------\u001b[0m",
      "\u001b[0;31mValueError\u001b[0m                                Traceback (most recent call last)",
      "\u001b[0;32m<ipython-input-6-c1c253db15ee>\u001b[0m in \u001b[0;36m<module>\u001b[0;34m\u001b[0m\n\u001b[1;32m     18\u001b[0m \u001b[0mvars_\u001b[0m \u001b[0;34m=\u001b[0m \u001b[0;34m[\u001b[0m\u001b[0;34m\"t\"\u001b[0m\u001b[0;34m,\u001b[0m \u001b[0;34m\"u\"\u001b[0m\u001b[0;34m,\u001b[0m \u001b[0;34m\"v\"\u001b[0m\u001b[0;34m,\u001b[0m \u001b[0;34m\"w\"\u001b[0m\u001b[0;34m]\u001b[0m\u001b[0;34m\u001b[0m\u001b[0;34m\u001b[0m\u001b[0m\n\u001b[1;32m     19\u001b[0m \u001b[0;34m\u001b[0m\u001b[0m\n\u001b[0;32m---> 20\u001b[0;31m \u001b[0mprint_ein\u001b[0m\u001b[0;34m(\u001b[0m\u001b[0meinstein\u001b[0m\u001b[0;34m)\u001b[0m\u001b[0;34m\u001b[0m\u001b[0;34m\u001b[0m\u001b[0m\n\u001b[0m",
      "\u001b[0;32m<ipython-input-2-f4874a9f8996>\u001b[0m in \u001b[0;36mprint_ein\u001b[0;34m(ein)\u001b[0m\n\u001b[1;32m     13\u001b[0m     \u001b[0;32mfor\u001b[0m \u001b[0mi\u001b[0m\u001b[0;34m,\u001b[0m \u001b[0mc1\u001b[0m \u001b[0;32min\u001b[0m \u001b[0menumerate\u001b[0m\u001b[0;34m(\u001b[0m\u001b[0mvars_\u001b[0m\u001b[0;34m)\u001b[0m\u001b[0;34m:\u001b[0m\u001b[0;34m\u001b[0m\u001b[0;34m\u001b[0m\u001b[0m\n\u001b[1;32m     14\u001b[0m         \u001b[0;32mfor\u001b[0m \u001b[0mj\u001b[0m\u001b[0;34m,\u001b[0m \u001b[0mc2\u001b[0m \u001b[0;32min\u001b[0m \u001b[0menumerate\u001b[0m\u001b[0;34m(\u001b[0m\u001b[0mvars_\u001b[0m\u001b[0;34m)\u001b[0m\u001b[0;34m:\u001b[0m\u001b[0;34m\u001b[0m\u001b[0;34m\u001b[0m\u001b[0m\n\u001b[0;32m---> 15\u001b[0;31m             \u001b[0;32mif\u001b[0m \u001b[0mein\u001b[0m\u001b[0;34m[\u001b[0m\u001b[0mi\u001b[0m\u001b[0;34m,\u001b[0m \u001b[0mj\u001b[0m\u001b[0;34m]\u001b[0m \u001b[0;34m!=\u001b[0m \u001b[0;34m(\u001b[0m\u001b[0mu\u001b[0m \u001b[0;34m-\u001b[0m \u001b[0mu\u001b[0m\u001b[0;34m)\u001b[0m\u001b[0;34m.\u001b[0m\u001b[0msimplify\u001b[0m\u001b[0;34m(\u001b[0m\u001b[0;34m)\u001b[0m\u001b[0;34m:\u001b[0m\u001b[0;34m\u001b[0m\u001b[0;34m\u001b[0m\u001b[0m\n\u001b[0m\u001b[1;32m     16\u001b[0m                 \u001b[0mdisplay\u001b[0m\u001b[0;34m(\u001b[0m\u001b[0;34mf\"Element {(c1, c2)}, of Einstein tensor\"\u001b[0m\u001b[0;34m,\u001b[0m \u001b[0msp\u001b[0m\u001b[0;34m.\u001b[0m\u001b[0mfactor\u001b[0m\u001b[0;34m(\u001b[0m\u001b[0mein\u001b[0m\u001b[0;34m[\u001b[0m\u001b[0mi\u001b[0m\u001b[0;34m,\u001b[0m \u001b[0mj\u001b[0m\u001b[0;34m]\u001b[0m\u001b[0;34m)\u001b[0m\u001b[0;34m)\u001b[0m\u001b[0;34m\u001b[0m\u001b[0;34m\u001b[0m\u001b[0m\n\u001b[1;32m     17\u001b[0m                 \u001b[0mprint\u001b[0m\u001b[0;34m(\u001b[0m\u001b[0;34m\"\\n\\n\"\u001b[0m\u001b[0;34m)\u001b[0m\u001b[0;34m\u001b[0m\u001b[0;34m\u001b[0m\u001b[0m\n",
      "\u001b[0;32m~/miniconda3/lib/python3.8/site-packages/sympy/tensor/array/dense_ndim_array.py\u001b[0m in \u001b[0;36m__getitem__\u001b[0;34m(self, index)\u001b[0m\n\u001b[1;32m     58\u001b[0m             \u001b[0;32mreturn\u001b[0m \u001b[0mtype\u001b[0m\u001b[0;34m(\u001b[0m\u001b[0mself\u001b[0m\u001b[0;34m)\u001b[0m\u001b[0;34m(\u001b[0m\u001b[0marray\u001b[0m\u001b[0;34m,\u001b[0m \u001b[0mnshape\u001b[0m\u001b[0;34m)\u001b[0m\u001b[0;34m\u001b[0m\u001b[0;34m\u001b[0m\u001b[0m\n\u001b[1;32m     59\u001b[0m         \u001b[0;32melse\u001b[0m\u001b[0;34m:\u001b[0m\u001b[0;34m\u001b[0m\u001b[0;34m\u001b[0m\u001b[0m\n\u001b[0;32m---> 60\u001b[0;31m             \u001b[0mindex\u001b[0m \u001b[0;34m=\u001b[0m \u001b[0mself\u001b[0m\u001b[0;34m.\u001b[0m\u001b[0m_parse_index\u001b[0m\u001b[0;34m(\u001b[0m\u001b[0mindex\u001b[0m\u001b[0;34m)\u001b[0m\u001b[0;34m\u001b[0m\u001b[0;34m\u001b[0m\u001b[0m\n\u001b[0m\u001b[1;32m     61\u001b[0m             \u001b[0;32mreturn\u001b[0m \u001b[0mself\u001b[0m\u001b[0;34m.\u001b[0m\u001b[0m_array\u001b[0m\u001b[0;34m[\u001b[0m\u001b[0mindex\u001b[0m\u001b[0;34m]\u001b[0m\u001b[0;34m\u001b[0m\u001b[0;34m\u001b[0m\u001b[0m\n\u001b[1;32m     62\u001b[0m \u001b[0;34m\u001b[0m\u001b[0m\n",
      "\u001b[0;32m~/miniconda3/lib/python3.8/site-packages/sympy/tensor/array/ndim_array.py\u001b[0m in \u001b[0;36m_parse_index\u001b[0;34m(self, index)\u001b[0m\n\u001b[1;32m    157\u001b[0m         \u001b[0;32mfor\u001b[0m \u001b[0mi\u001b[0m \u001b[0;32min\u001b[0m \u001b[0mrange\u001b[0m\u001b[0;34m(\u001b[0m\u001b[0mself\u001b[0m\u001b[0;34m.\u001b[0m\u001b[0m_rank\u001b[0m\u001b[0;34m)\u001b[0m\u001b[0;34m:\u001b[0m\u001b[0;34m\u001b[0m\u001b[0;34m\u001b[0m\u001b[0m\n\u001b[1;32m    158\u001b[0m             \u001b[0;32mif\u001b[0m \u001b[0;34m(\u001b[0m\u001b[0mindex\u001b[0m\u001b[0;34m[\u001b[0m\u001b[0mi\u001b[0m\u001b[0;34m]\u001b[0m \u001b[0;34m>=\u001b[0m \u001b[0mself\u001b[0m\u001b[0;34m.\u001b[0m\u001b[0mshape\u001b[0m\u001b[0;34m[\u001b[0m\u001b[0mi\u001b[0m\u001b[0;34m]\u001b[0m\u001b[0;34m)\u001b[0m \u001b[0;32mor\u001b[0m \u001b[0;34m(\u001b[0m\u001b[0mindex\u001b[0m\u001b[0;34m[\u001b[0m\u001b[0mi\u001b[0m\u001b[0;34m]\u001b[0m \u001b[0;34m<\u001b[0m \u001b[0;34m-\u001b[0m\u001b[0mself\u001b[0m\u001b[0;34m.\u001b[0m\u001b[0mshape\u001b[0m\u001b[0;34m[\u001b[0m\u001b[0mi\u001b[0m\u001b[0;34m]\u001b[0m\u001b[0;34m)\u001b[0m\u001b[0;34m:\u001b[0m\u001b[0;34m\u001b[0m\u001b[0;34m\u001b[0m\u001b[0m\n\u001b[0;32m--> 159\u001b[0;31m                 \u001b[0;32mraise\u001b[0m \u001b[0mValueError\u001b[0m\u001b[0;34m(\u001b[0m\u001b[0;34m'Index '\u001b[0m \u001b[0;34m+\u001b[0m \u001b[0mstr\u001b[0m\u001b[0;34m(\u001b[0m\u001b[0mindex\u001b[0m\u001b[0;34m)\u001b[0m \u001b[0;34m+\u001b[0m \u001b[0;34m' out of border'\u001b[0m\u001b[0;34m)\u001b[0m\u001b[0;34m\u001b[0m\u001b[0;34m\u001b[0m\u001b[0m\n\u001b[0m\u001b[1;32m    160\u001b[0m             \u001b[0;32mif\u001b[0m \u001b[0mindex\u001b[0m\u001b[0;34m[\u001b[0m\u001b[0mi\u001b[0m\u001b[0;34m]\u001b[0m \u001b[0;34m<\u001b[0m \u001b[0;36m0\u001b[0m\u001b[0;34m:\u001b[0m\u001b[0;34m\u001b[0m\u001b[0;34m\u001b[0m\u001b[0m\n\u001b[1;32m    161\u001b[0m                 \u001b[0mreal_index\u001b[0m \u001b[0;34m+=\u001b[0m \u001b[0;36m1\u001b[0m\u001b[0;34m\u001b[0m\u001b[0;34m\u001b[0m\u001b[0m\n",
      "\u001b[0;31mValueError\u001b[0m: Index (0, 3) out of border"
     ]
    }
   ],
   "source": [
    "A = sp.Function(\"A\")(w, t)\n",
    "B = sp.Function(\"B\")(w, t)\n",
    "\n",
    "g_ = MetricTensor(\n",
    "    sp.Array(\n",
    "        np.diag([-sp.exp(A), -m**2 , -1 + 4*sp.sin(v)]\n",
    "               )\n",
    "    ),\n",
    "    syms=[t, u, v]\n",
    ")\n",
    "    \n",
    "g_.tensor()\n",
    "\n",
    "einstein = EinsteinTensor.from_metric(g_)\n",
    "einstein.tensor()\n",
    "\n",
    "out = \"ds^2 =\"\n",
    "vars_ = [\"t\", \"u\", \"v\", \"w\"] \n",
    "\n",
    "print_ein(einstein)"
   ]
  },
  {
   "cell_type": "code",
   "execution_count": 10,
   "id": "2bac1b68-e0f6-423d-adf1-4f5df1b04748",
   "metadata": {},
   "outputs": [
    {
     "data": {
      "text/plain": [
       "\"Element ('t', 't'), of Einstein tensor\""
      ]
     },
     "metadata": {},
     "output_type": "display_data"
    },
    {
     "data": {
      "text/latex": [
       "$\\displaystyle \\frac{1.0 e^{A{\\left(w,t \\right)}} \\cos{\\left(v \\right)}}{b \\left(a - b \\cos{\\left(v \\right)}\\right)}$"
      ],
      "text/plain": [
       "1.0*exp(A(w, t))*cos(v)/(b*(a - b*cos(v)))"
      ]
     },
     "metadata": {},
     "output_type": "display_data"
    },
    {
     "name": "stdout",
     "output_type": "stream",
     "text": [
      "\n",
      "\n",
      "\n"
     ]
    },
    {
     "data": {
      "text/plain": [
       "\"Element ('u', 'u'), of Einstein tensor\""
      ]
     },
     "metadata": {},
     "output_type": "display_data"
    },
    {
     "data": {
      "text/latex": [
       "$\\displaystyle 0.5 \\left(a - b \\cos{\\left(v \\right)}\\right)^{2} \\left(0.5 e^{A{\\left(w,t \\right)}} \\left(\\frac{\\partial}{\\partial w} A{\\left(w,t \\right)}\\right)^{2} - 0.5 e^{A{\\left(w,t \\right)}} \\frac{\\partial}{\\partial w} A{\\left(w,t \\right)} \\frac{\\partial}{\\partial w} B{\\left(w,t \\right)} + 1.0 e^{A{\\left(w,t \\right)}} \\frac{\\partial^{2}}{\\partial w^{2}} A{\\left(w,t \\right)} - 0.5 e^{B{\\left(w,t \\right)}} \\frac{\\partial}{\\partial t} A{\\left(w,t \\right)} \\frac{\\partial}{\\partial t} B{\\left(w,t \\right)} + 0.5 e^{B{\\left(w,t \\right)}} \\left(\\frac{\\partial}{\\partial t} B{\\left(w,t \\right)}\\right)^{2} + 1.0 e^{B{\\left(w,t \\right)}} \\frac{\\partial^{2}}{\\partial t^{2}} B{\\left(w,t \\right)}\\right) e^{- A{\\left(w,t \\right)}} e^{- B{\\left(w,t \\right)}}$"
      ],
      "text/plain": [
       "0.5*(a - b*cos(v))**2*(0.5*exp(A(w, t))*Derivative(A(w, t), w)**2 - 0.5*exp(A(w, t))*Derivative(A(w, t), w)*Derivative(B(w, t), w) + 1.0*exp(A(w, t))*Derivative(A(w, t), (w, 2)) - 0.5*exp(B(w, t))*Derivative(A(w, t), t)*Derivative(B(w, t), t) + 0.5*exp(B(w, t))*Derivative(B(w, t), t)**2 + 1.0*exp(B(w, t))*Derivative(B(w, t), (t, 2)))*exp(-A(w, t))*exp(-B(w, t))"
      ]
     },
     "metadata": {},
     "output_type": "display_data"
    },
    {
     "name": "stdout",
     "output_type": "stream",
     "text": [
      "\n",
      "\n",
      "\n"
     ]
    },
    {
     "data": {
      "text/plain": [
       "\"Element ('v', 'v'), of Einstein tensor\""
      ]
     },
     "metadata": {},
     "output_type": "display_data"
    },
    {
     "data": {
      "text/latex": [
       "$\\displaystyle 0.5 b^{2} \\left(0.5 e^{A{\\left(w,t \\right)}} \\left(\\frac{\\partial}{\\partial w} A{\\left(w,t \\right)}\\right)^{2} - 0.5 e^{A{\\left(w,t \\right)}} \\frac{\\partial}{\\partial w} A{\\left(w,t \\right)} \\frac{\\partial}{\\partial w} B{\\left(w,t \\right)} + 1.0 e^{A{\\left(w,t \\right)}} \\frac{\\partial^{2}}{\\partial w^{2}} A{\\left(w,t \\right)} - 0.5 e^{B{\\left(w,t \\right)}} \\frac{\\partial}{\\partial t} A{\\left(w,t \\right)} \\frac{\\partial}{\\partial t} B{\\left(w,t \\right)} + 0.5 e^{B{\\left(w,t \\right)}} \\left(\\frac{\\partial}{\\partial t} B{\\left(w,t \\right)}\\right)^{2} + 1.0 e^{B{\\left(w,t \\right)}} \\frac{\\partial^{2}}{\\partial t^{2}} B{\\left(w,t \\right)}\\right) e^{- A{\\left(w,t \\right)}} e^{- B{\\left(w,t \\right)}}$"
      ],
      "text/plain": [
       "0.5*b**2*(0.5*exp(A(w, t))*Derivative(A(w, t), w)**2 - 0.5*exp(A(w, t))*Derivative(A(w, t), w)*Derivative(B(w, t), w) + 1.0*exp(A(w, t))*Derivative(A(w, t), (w, 2)) - 0.5*exp(B(w, t))*Derivative(A(w, t), t)*Derivative(B(w, t), t) + 0.5*exp(B(w, t))*Derivative(B(w, t), t)**2 + 1.0*exp(B(w, t))*Derivative(B(w, t), (t, 2)))*exp(-A(w, t))*exp(-B(w, t))"
      ]
     },
     "metadata": {},
     "output_type": "display_data"
    },
    {
     "name": "stdout",
     "output_type": "stream",
     "text": [
      "\n",
      "\n",
      "\n"
     ]
    },
    {
     "data": {
      "text/plain": [
       "\"Element ('w', 'w'), of Einstein tensor\""
      ]
     },
     "metadata": {},
     "output_type": "display_data"
    },
    {
     "data": {
      "text/latex": [
       "$\\displaystyle \\frac{1.0 e^{B{\\left(w,t \\right)}} \\cos{\\left(v \\right)}}{b \\left(a - b \\cos{\\left(v \\right)}\\right)}$"
      ],
      "text/plain": [
       "1.0*exp(B(w, t))*cos(v)/(b*(a - b*cos(v)))"
      ]
     },
     "metadata": {},
     "output_type": "display_data"
    },
    {
     "name": "stdout",
     "output_type": "stream",
     "text": [
      "\n",
      "\n",
      "\n"
     ]
    }
   ],
   "source": [
    "A = sp.Function(\"A\")(w, t)\n",
    "B = sp.Function(\"B\")(w, t)\n",
    "\n",
    "g_ = MetricTensor(\n",
    "    sp.Array(\n",
    "        np.diag([-sp.exp(A), -m**2, -b**2, -sp.exp(B)]\n",
    "               )\n",
    "    ),\n",
    "    syms=[t, u, v, w]\n",
    ")\n",
    "    \n",
    "g_.tensor()\n",
    "\n",
    "einstein = EinsteinTensor.from_metric(g_)\n",
    "einstein.tensor()\n",
    "\n",
    "out = \"ds^2 =\"\n",
    "vars_ = [\"t\", \"u\", \"v\", \"w\"] \n",
    "\n",
    "print_ein(einstein)"
   ]
  }
 ],
 "metadata": {
  "kernelspec": {
   "display_name": "Python 3",
   "language": "python",
   "name": "python3"
  },
  "language_info": {
   "codemirror_mode": {
    "name": "ipython",
    "version": 3
   },
   "file_extension": ".py",
   "mimetype": "text/x-python",
   "name": "python",
   "nbconvert_exporter": "python",
   "pygments_lexer": "ipython3",
   "version": "3.8.5"
  }
 },
 "nbformat": 4,
 "nbformat_minor": 5
}
