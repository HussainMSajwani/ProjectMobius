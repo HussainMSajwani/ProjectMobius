{
 "cells": [
  {
   "cell_type": "code",
   "execution_count": 129,
   "id": "a58bf612-c771-48a0-9683-f502bca0a969",
   "metadata": {},
   "outputs": [],
   "source": [
    "import sympy as sp\n",
    "from sympy.abc import a, b, t, r\n",
    "phi1, phi2 = sp.symbols(\"phi_1 phi_2\")"
   ]
  },
  {
   "cell_type": "code",
   "execution_count": 16,
   "id": "e700a66e-49d2-4108-a0a7-cdcc4950310e",
   "metadata": {},
   "outputs": [],
   "source": [
    "m = a-b*sp.cos(phi2)\n",
    "n = b-a*sp.cos(phi2)"
   ]
  },
  {
   "cell_type": "code",
   "execution_count": 19,
   "id": "f698082e-97b6-444d-a239-336c58aae80e",
   "metadata": {},
   "outputs": [],
   "source": [
    "x = m*sp.sin(phi1)\n",
    "y = m*sp.cos(phi1)\n",
    "z = b*sp.sin(phi2)\n",
    "\n",
    "param = (x, y, z)"
   ]
  },
  {
   "cell_type": "code",
   "execution_count": 139,
   "id": "06e4d9e6-209a-40e0-b34e-fccdc79d0486",
   "metadata": {},
   "outputs": [],
   "source": [
    "from itertools import product\n",
    "from functools import reduce\n",
    "\n",
    "def d2(expr, syms=(phi1, phi2)):\n",
    "    n = len(syms)\n",
    "    combs = product(*(n*[syms]))\n",
    "    ijth_term = lambda i, j: expr.diff(i)*expr.diff(j)\n",
    "    return sp.Array([reduce(ijth_term, comb) for comb in combs]).reshape(2, 2)\n",
    "\n",
    "def line_element(param, syms=(phi1, phi2)):\n",
    "    n = len(syms)\n",
    "    componenets = sp.Array([d2(c) for c in param])\n",
    "    return reduce(sp.Array.__add__, componenets).simplify()\n",
    "\n",
    "le = line_element(param)"
   ]
  },
  {
   "cell_type": "code",
   "execution_count": 213,
   "id": "ef7fbba2-ff43-41fa-b450-a165ddd3fbf1",
   "metadata": {},
   "outputs": [
    {
     "name": "stderr",
     "output_type": "stream",
     "text": [
      "100%|██████████| 4/4 [00:43<00:00, 10.96s/it]\n"
     ]
    }
   ],
   "source": [
    "def anstaz(element, extra=[t, r]):\n",
    "    m = len(extra)\n",
    "    n = element.shape[0]\n",
    "    tot = m + n\n",
    "    \n",
    "    Phi = sp.Function(\"Phi\")(r, t)\n",
    "    Psi = sp.Function(\"Psi\")(r, t)\n",
    "    \n",
    "    g = sp.zeros(tot)\n",
    "    \n",
    "    g[0, 0] = -sp.exp(Phi)\n",
    "    g[1, 1] = sp.exp(Psi)\n",
    "    \n",
    "    g[2:, 2:] = element\n",
    "    return g\n",
    "\n",
    "\n",
    "def christoffel(g, syms=(t, r, phi1, phi2)):\n",
    "    Gamma = np.zeros((4, 4, 4)).astype('object')#sp.Array(np.array(\n",
    "    g_inv = g.inv()\n",
    "    for rho in trange(4):\n",
    "        for mu in range(4):\n",
    "            for nu in range(4):\n",
    "                ch = lambda gamma: 0.5*g.inv()[rho, gamma]*(g[nu, gamma].diff(syms[mu]) + g[mu, gamma].diff(syms[nu]) - g[mu, nu].diff(syms[gamma]))\n",
    "                #print(f\"rho={rho}, mu={mu}, nu={nu}\",0.5*sum([ch(gamma).simplify() for gamma in range(4)]))\n",
    "                Gamma[rho, mu, nu] = sum([ch(gamma).simplify() for gamma in range(4)])\n",
    "    return sp.Array(Gamma)\n",
    "                \n",
    "g = anstaz(le)\n",
    "G = christoffel(g)"
   ]
  },
  {
   "cell_type": "code",
   "execution_count": 212,
   "id": "6bbdc852-4768-4592-8f4b-0fe765cd04f5",
   "metadata": {},
   "outputs": [
    {
     "data": {
      "text/latex": [
       "$\\displaystyle \\left[\\begin{matrix}\\left[\\begin{matrix}1.5 \\frac{\\partial}{\\partial t} \\Phi{\\left(r,t \\right)} & 0.5 \\frac{\\partial}{\\partial r} \\Phi{\\left(r,t \\right)} & 0 & 0\\\\0.5 \\frac{\\partial}{\\partial r} \\Phi{\\left(r,t \\right)} & - 0.5 e^{- \\Phi{\\left(r,t \\right)} + \\Psi{\\left(r,t \\right)}} \\frac{\\partial}{\\partial t} \\Psi{\\left(r,t \\right)} & 0 & 0\\\\0 & 0 & 0 & 0\\\\0 & 0 & 0 & 0\\end{matrix}\\right] & \\left[\\begin{matrix}- 0.5 e^{\\Phi{\\left(r,t \\right)} - \\Psi{\\left(r,t \\right)}} \\frac{\\partial}{\\partial r} \\Phi{\\left(r,t \\right)} & 0.5 \\frac{\\partial}{\\partial t} \\Psi{\\left(r,t \\right)} & 0 & 0\\\\0.5 \\frac{\\partial}{\\partial t} \\Psi{\\left(r,t \\right)} & 1.5 \\frac{\\partial}{\\partial r} \\Psi{\\left(r,t \\right)} & 0 & 0\\\\0 & 0 & 0 & 0\\\\0 & 0 & 0 & 0\\end{matrix}\\right] & \\left[\\begin{matrix}0 & 0 & 0 & 0\\\\0 & 0 & 0 & 0\\\\0 & 0 & 0 & \\frac{1.0 b \\sin{\\left(\\phi_{2} \\right)}}{a - b \\cos{\\left(\\phi_{2} \\right)}}\\\\0 & 0 & \\frac{1.0 b \\sin{\\left(\\phi_{2} \\right)}}{a - b \\cos{\\left(\\phi_{2} \\right)}} & 0\\end{matrix}\\right] & \\left[\\begin{matrix}0 & 0 & 0 & 0\\\\0 & 0 & 0 & 0\\\\0 & 0 & \\frac{1.0 \\left(a - b \\cos{\\left(\\phi_{2} \\right)}\\right) \\sin{\\left(\\phi_{2} \\right)}}{b} & 0\\\\0 & 0 & 0 & 0\\end{matrix}\\right]\\end{matrix}\\right]$"
      ],
      "text/plain": [
       "[[[1.5*Derivative(Phi(r, t), t), 0.5*Derivative(Phi(r, t), r), 0, 0], [0.5*Derivative(Phi(r, t), r), -0.5*exp(-Phi(r, t) + Psi(r, t))*Derivative(Psi(r, t), t), 0, 0], [0, 0, 0, 0], [0, 0, 0, 0]], [[-0.5*exp(Phi(r, t) - Psi(r, t))*Derivative(Phi(r, t), r), 0.5*Derivative(Psi(r, t), t), 0, 0], [0.5*Derivative(Psi(r, t), t), 1.5*Derivative(Psi(r, t), r), 0, 0], [0, 0, 0, 0], [0, 0, 0, 0]], [[0, 0, 0, 0], [0, 0, 0, 0], [0, 0, 0, 1.0*b*sin(phi_2)/(a - b*cos(phi_2))], [0, 0, 1.0*b*sin(phi_2)/(a - b*cos(phi_2)), 0]], [[0, 0, 0, 0], [0, 0, 0, 0], [0, 0, 1.0*(a - b*cos(phi_2))*sin(phi_2)/b, 0], [0, 0, 0, 0]]]"
      ]
     },
     "execution_count": 212,
     "metadata": {},
     "output_type": "execute_result"
    }
   ],
   "source": [
    "G"
   ]
  },
  {
   "cell_type": "code",
   "execution_count": 214,
   "id": "7d756563-a96c-45b6-bfe2-d1ab3d1f4ab0",
   "metadata": {},
   "outputs": [
    {
     "data": {
      "text/latex": [
       "$\\displaystyle \\left[\\begin{matrix}\\left[\\begin{matrix}0.5 \\frac{\\partial}{\\partial t} \\Phi{\\left(r,t \\right)} & 0.5 \\frac{\\partial}{\\partial r} \\Phi{\\left(r,t \\right)} & 0 & 0\\\\0.5 \\frac{\\partial}{\\partial r} \\Phi{\\left(r,t \\right)} & 0.5 e^{- \\Phi{\\left(r,t \\right)} + \\Psi{\\left(r,t \\right)}} \\frac{\\partial}{\\partial t} \\Psi{\\left(r,t \\right)} & 0 & 0\\\\0 & 0 & 0 & 0\\\\0 & 0 & 0 & 0\\end{matrix}\\right] & \\left[\\begin{matrix}0.5 e^{\\Phi{\\left(r,t \\right)} - \\Psi{\\left(r,t \\right)}} \\frac{\\partial}{\\partial r} \\Phi{\\left(r,t \\right)} & 0.5 \\frac{\\partial}{\\partial t} \\Psi{\\left(r,t \\right)} & 0 & 0\\\\0.5 \\frac{\\partial}{\\partial t} \\Psi{\\left(r,t \\right)} & 0.5 \\frac{\\partial}{\\partial r} \\Psi{\\left(r,t \\right)} & 0 & 0\\\\0 & 0 & 0 & 0\\\\0 & 0 & 0 & 0\\end{matrix}\\right] & \\left[\\begin{matrix}0 & 0 & 0 & 0\\\\0 & 0 & 0 & 0\\\\0 & 0 & 0 & \\frac{1.0 b \\sin{\\left(\\phi_{2} \\right)}}{a - b \\cos{\\left(\\phi_{2} \\right)}}\\\\0 & 0 & \\frac{1.0 b \\sin{\\left(\\phi_{2} \\right)}}{a - b \\cos{\\left(\\phi_{2} \\right)}} & 0\\end{matrix}\\right] & \\left[\\begin{matrix}0 & 0 & 0 & 0\\\\0 & 0 & 0 & 0\\\\0 & 0 & \\frac{1.0 \\left(- a + b \\cos{\\left(\\phi_{2} \\right)}\\right) \\sin{\\left(\\phi_{2} \\right)}}{b} & 0\\\\0 & 0 & 0 & 0\\end{matrix}\\right]\\end{matrix}\\right]$"
      ],
      "text/plain": [
       "[[[0.5*Derivative(Phi(r, t), t), 0.5*Derivative(Phi(r, t), r), 0, 0], [0.5*Derivative(Phi(r, t), r), 0.5*exp(-Phi(r, t) + Psi(r, t))*Derivative(Psi(r, t), t), 0, 0], [0, 0, 0, 0], [0, 0, 0, 0]], [[0.5*exp(Phi(r, t) - Psi(r, t))*Derivative(Phi(r, t), r), 0.5*Derivative(Psi(r, t), t), 0, 0], [0.5*Derivative(Psi(r, t), t), 0.5*Derivative(Psi(r, t), r), 0, 0], [0, 0, 0, 0], [0, 0, 0, 0]], [[0, 0, 0, 0], [0, 0, 0, 0], [0, 0, 0, 1.0*b*sin(phi_2)/(a - b*cos(phi_2))], [0, 0, 1.0*b*sin(phi_2)/(a - b*cos(phi_2)), 0]], [[0, 0, 0, 0], [0, 0, 0, 0], [0, 0, 1.0*(-a + b*cos(phi_2))*sin(phi_2)/b, 0], [0, 0, 0, 0]]]"
      ]
     },
     "execution_count": 214,
     "metadata": {},
     "output_type": "execute_result"
    }
   ],
   "source": [
    "G"
   ]
  },
  {
   "cell_type": "code",
   "execution_count": 217,
   "id": "e4667540-b590-4188-bea0-4b6aa8b16861",
   "metadata": {},
   "outputs": [
    {
     "data": {
      "text/latex": [
       "$\\displaystyle \\left[\\begin{matrix}- e^{\\Phi{\\left(r,t \\right)}} & 0 & 0 & 0\\\\0 & e^{\\Psi{\\left(r,t \\right)}} & 0 & 0\\\\0 & 0 & \\left(a - b \\cos{\\left(\\phi_{2} \\right)}\\right)^{2} & 0\\\\0 & 0 & 0 & b^{2}\\end{matrix}\\right]$"
      ],
      "text/plain": [
       "Matrix([\n",
       "[-exp(Phi(r, t)),              0,                     0,    0],\n",
       "[              0, exp(Psi(r, t)),                     0,    0],\n",
       "[              0,              0, (a - b*cos(phi_2))**2,    0],\n",
       "[              0,              0,                     0, b**2]])"
      ]
     },
     "execution_count": 217,
     "metadata": {},
     "output_type": "execute_result"
    }
   ],
   "source": [
    "g"
   ]
  },
  {
   "cell_type": "code",
   "execution_count": 231,
   "id": "974691c0-6f9b-450a-a6c2-577af9af1a76",
   "metadata": {},
   "outputs": [
    {
     "data": {
      "text/latex": [
       "$\\displaystyle \\left[\\begin{matrix}e^{\\Phi{\\left(r,t \\right)} - \\Psi{\\left(r,t \\right)}} \\left(\\frac{\\partial}{\\partial r} \\Phi{\\left(r,t \\right)}\\right)^{2} - 1.0 e^{\\Phi{\\left(r,t \\right)} - \\Psi{\\left(r,t \\right)}} \\frac{\\partial}{\\partial r} \\Phi{\\left(r,t \\right)} \\frac{\\partial}{\\partial r} \\Psi{\\left(r,t \\right)} + 2.0 e^{\\Phi{\\left(r,t \\right)} - \\Psi{\\left(r,t \\right)}} \\frac{\\partial^{2}}{\\partial r^{2}} \\Phi{\\left(r,t \\right)} + \\frac{\\partial}{\\partial t} \\Phi{\\left(r,t \\right)} \\frac{\\partial}{\\partial t} \\Psi{\\left(r,t \\right)} - 1.0 \\left(\\frac{\\partial}{\\partial t} \\Psi{\\left(r,t \\right)}\\right)^{2} - 2.0 \\frac{\\partial^{2}}{\\partial t^{2}} \\Psi{\\left(r,t \\right)} & 0 & 0 & 0\\\\0 & - 1.0 e^{- \\Phi{\\left(r,t \\right)} + \\Psi{\\left(r,t \\right)}} \\frac{\\partial}{\\partial t} \\Phi{\\left(r,t \\right)} \\frac{\\partial}{\\partial t} \\Psi{\\left(r,t \\right)} + e^{- \\Phi{\\left(r,t \\right)} + \\Psi{\\left(r,t \\right)}} \\left(\\frac{\\partial}{\\partial t} \\Psi{\\left(r,t \\right)}\\right)^{2} + 2.0 e^{- \\Phi{\\left(r,t \\right)} + \\Psi{\\left(r,t \\right)}} \\frac{\\partial^{2}}{\\partial t^{2}} \\Psi{\\left(r,t \\right)} - 1.0 \\left(\\frac{\\partial}{\\partial r} \\Phi{\\left(r,t \\right)}\\right)^{2} + \\frac{\\partial}{\\partial r} \\Phi{\\left(r,t \\right)} \\frac{\\partial}{\\partial r} \\Psi{\\left(r,t \\right)} - 2.0 \\frac{\\partial^{2}}{\\partial r^{2}} \\Phi{\\left(r,t \\right)} & 0 & 0\\\\0 & 0 & \\frac{4.0 \\left(- a + b \\cos{\\left(\\phi_{2} \\right)}\\right) \\cos{\\left(\\phi_{2} \\right)}}{b} & 0\\\\0 & 0 & 0 & - \\frac{4.0 b \\cos{\\left(\\phi_{2} \\right)}}{a - b \\cos{\\left(\\phi_{2} \\right)}}\\end{matrix}\\right]$"
      ],
      "text/plain": [
       "[[exp(Phi(r, t) - Psi(r, t))*Derivative(Phi(r, t), r)**2 - 1.0*exp(Phi(r, t) - Psi(r, t))*Derivative(Phi(r, t), r)*Derivative(Psi(r, t), r) + 2.0*exp(Phi(r, t) - Psi(r, t))*Derivative(Phi(r, t), (r, 2)) + Derivative(Phi(r, t), t)*Derivative(Psi(r, t), t) - 1.0*Derivative(Psi(r, t), t)**2 - 2.0*Derivative(Psi(r, t), (t, 2)), 0, 0, 0], [0, -1.0*exp(-Phi(r, t) + Psi(r, t))*Derivative(Phi(r, t), t)*Derivative(Psi(r, t), t) + exp(-Phi(r, t) + Psi(r, t))*Derivative(Psi(r, t), t)**2 + 2.0*exp(-Phi(r, t) + Psi(r, t))*Derivative(Psi(r, t), (t, 2)) - 1.0*Derivative(Phi(r, t), r)**2 + Derivative(Phi(r, t), r)*Derivative(Psi(r, t), r) - 2.0*Derivative(Phi(r, t), (r, 2)), 0, 0], [0, 0, 4.0*(-a + b*cos(phi_2))*cos(phi_2)/b, 0], [0, 0, 0, -4.0*b*cos(phi_2)/(a - b*cos(phi_2))]]"
      ]
     },
     "execution_count": 231,
     "metadata": {},
     "output_type": "execute_result"
    }
   ],
   "source": [
    "def Ricci_tensor(G, syms=[t, r, phi1, phi2]):\n",
    "    R = sp.zeros(4)\n",
    "    \n",
    "    for j in range(4):\n",
    "        for k in range(4):\n",
    "            first = sp.Array([G[i, j, k].diff(syms[i]) for i in range(4)])\n",
    "            second = sp.Array([-G[i, k, i].diff(syms[j]) for i in range(4)])\n",
    "            third = sp.Array([G[i, i, p]*G[p, j, k] for i, p in product(range(4), range(4))])\n",
    "            fourth = sp.Array([-G[i, j, p]*G[p, i, k] for i, p in product(range(4), range(4))])\n",
    "            \n",
    "            #print(first, second, third, fourth)\n",
    "            \n",
    "            R[j, k] = np.sum(first) + np.sum(second) + np.sum(third) + np.sum(fourth)\n",
    "            \n",
    "    return sp.Array(R).simplify()\n",
    "\n",
    "def Ricci_scalar(Rt, syms=[t, r, phi1, phi2]):\n",
    "    pass\n",
    "\n",
    "4*Ricci_tensor(G).simplify()"
   ]
  },
  {
   "cell_type": "code",
   "execution_count": 188,
   "id": "6557f21f-7647-410e-97e9-5014d559ebad",
   "metadata": {},
   "outputs": [],
   "source": [
    "X = np.zeros((4, 4, 4))"
   ]
  },
  {
   "cell_type": "code",
   "execution_count": 199,
   "id": "68c1d129-e38a-4805-a153-e9ff3122da3a",
   "metadata": {},
   "outputs": [],
   "source": [
    "A = np.array([0, 1, 2])\n",
    "\n",
    "B = np.array([[ 0,  1,  2,  3],\n",
    "              [ 4,  5,  6,  7],\n",
    "              [ 8,  9, 10, 11]])"
   ]
  },
  {
   "cell_type": "code",
   "execution_count": 200,
   "id": "2e25da4f-c6eb-452d-9dcf-4781cf17f3c2",
   "metadata": {},
   "outputs": [
    {
     "data": {
      "text/plain": [
       "array([[ 0,  0,  0,  0],\n",
       "       [ 4,  5,  6,  7],\n",
       "       [16, 18, 20, 22]])"
      ]
     },
     "execution_count": 200,
     "metadata": {},
     "output_type": "execute_result"
    }
   ],
   "source": [
    "np.newaxis\n",
    "\n",
    "A[:, np.newaxis] * B"
   ]
  },
  {
   "cell_type": "code",
   "execution_count": 201,
   "id": "09cb4d4d-5cbf-43ed-aae7-5fa5ce025aae",
   "metadata": {},
   "outputs": [
    {
     "data": {
      "text/plain": [
       "array([[0],\n",
       "       [1],\n",
       "       [2]])"
      ]
     },
     "execution_count": 201,
     "metadata": {},
     "output_type": "execute_result"
    }
   ],
   "source": [
    "A[:, np.newaxis]"
   ]
  },
  {
   "cell_type": "code",
   "execution_count": 210,
   "id": "69ee103a-3957-46a4-9ef8-b7db8f78bfe4",
   "metadata": {},
   "outputs": [
    {
     "data": {
      "text/plain": [
       "[0, 3*Derivative(Psi(r, t), r), 0, 0]"
      ]
     },
     "execution_count": 210,
     "metadata": {},
     "output_type": "execute_result"
    }
   ],
   "source": [
    "rho, mu, nu = 1, 1, 1\n",
    "\n",
    "syms=(t, r, phi1, phi2)\n",
    "\n",
    "ch = lambda gamma: g.inv()[rho, gamma]*(g[nu, gamma].diff(syms[gamma]) + g[mu, gamma].diff(syms[nu]) + g[mu, nu].diff(syms[gamma]))\n",
    "[ch(gamma) for gamma in range(4)]"
   ]
  },
  {
   "cell_type": "code",
   "execution_count": null,
   "id": "67e07e20-c024-4d12-9893-6eed1ff853db",
   "metadata": {},
   "outputs": [],
   "source": [
    "g.inv()[1, 1]*(g[1, 1] + )"
   ]
  },
  {
   "cell_type": "code",
   "execution_count": 215,
   "id": "52f50031-92b5-4fe4-92c7-539d3a984f33",
   "metadata": {},
   "outputs": [
    {
     "data": {
      "text/latex": [
       "$\\displaystyle \\left[\\begin{matrix}\\left[\\begin{matrix}0.5 \\frac{\\partial}{\\partial t} \\Phi{\\left(r,t \\right)} & 0.5 \\frac{\\partial}{\\partial r} \\Phi{\\left(r,t \\right)} & 0 & 0\\\\0.5 \\frac{\\partial}{\\partial r} \\Phi{\\left(r,t \\right)} & 0.5 e^{- \\Phi{\\left(r,t \\right)} + \\Psi{\\left(r,t \\right)}} \\frac{\\partial}{\\partial t} \\Psi{\\left(r,t \\right)} & 0 & 0\\\\0 & 0 & 0 & 0\\\\0 & 0 & 0 & 0\\end{matrix}\\right] & \\left[\\begin{matrix}0.5 e^{\\Phi{\\left(r,t \\right)} - \\Psi{\\left(r,t \\right)}} \\frac{\\partial}{\\partial r} \\Phi{\\left(r,t \\right)} & 0.5 \\frac{\\partial}{\\partial t} \\Psi{\\left(r,t \\right)} & 0 & 0\\\\0.5 \\frac{\\partial}{\\partial t} \\Psi{\\left(r,t \\right)} & 0.5 \\frac{\\partial}{\\partial r} \\Psi{\\left(r,t \\right)} & 0 & 0\\\\0 & 0 & 0 & 0\\\\0 & 0 & 0 & 0\\end{matrix}\\right] & \\left[\\begin{matrix}0 & 0 & 0 & 0\\\\0 & 0 & 0 & 0\\\\0 & 0 & 0 & \\frac{1.0 b \\sin{\\left(\\phi_{2} \\right)}}{a - b \\cos{\\left(\\phi_{2} \\right)}}\\\\0 & 0 & \\frac{1.0 b \\sin{\\left(\\phi_{2} \\right)}}{a - b \\cos{\\left(\\phi_{2} \\right)}} & 0\\end{matrix}\\right] & \\left[\\begin{matrix}0 & 0 & 0 & 0\\\\0 & 0 & 0 & 0\\\\0 & 0 & \\frac{1.0 \\left(- a + b \\cos{\\left(\\phi_{2} \\right)}\\right) \\sin{\\left(\\phi_{2} \\right)}}{b} & 0\\\\0 & 0 & 0 & 0\\end{matrix}\\right]\\end{matrix}\\right]$"
      ],
      "text/plain": [
       "[[[0.5*Derivative(Phi(r, t), t), 0.5*Derivative(Phi(r, t), r), 0, 0], [0.5*Derivative(Phi(r, t), r), 0.5*exp(-Phi(r, t) + Psi(r, t))*Derivative(Psi(r, t), t), 0, 0], [0, 0, 0, 0], [0, 0, 0, 0]], [[0.5*exp(Phi(r, t) - Psi(r, t))*Derivative(Phi(r, t), r), 0.5*Derivative(Psi(r, t), t), 0, 0], [0.5*Derivative(Psi(r, t), t), 0.5*Derivative(Psi(r, t), r), 0, 0], [0, 0, 0, 0], [0, 0, 0, 0]], [[0, 0, 0, 0], [0, 0, 0, 0], [0, 0, 0, 1.0*b*sin(phi_2)/(a - b*cos(phi_2))], [0, 0, 1.0*b*sin(phi_2)/(a - b*cos(phi_2)), 0]], [[0, 0, 0, 0], [0, 0, 0, 0], [0, 0, 1.0*(-a + b*cos(phi_2))*sin(phi_2)/b, 0], [0, 0, 0, 0]]]"
      ]
     },
     "execution_count": 215,
     "metadata": {},
     "output_type": "execute_result"
    }
   ],
   "source": [
    "G"
   ]
  },
  {
   "cell_type": "code",
   "execution_count": 228,
   "id": "00d10c4a-8742-4662-a9f5-f253adb92072",
   "metadata": {},
   "outputs": [
    {
     "data": {
      "text/latex": [
       "$\\displaystyle \\left[\\begin{matrix}\\left[\\begin{matrix}\\frac{\\frac{\\partial}{\\partial t} \\Phi{\\left(r,t \\right)}}{2} & \\frac{\\frac{\\partial}{\\partial r} \\Phi{\\left(r,t \\right)}}{2} & 0 & 0\\\\\\frac{\\frac{\\partial}{\\partial r} \\Phi{\\left(r,t \\right)}}{2} & \\frac{e^{- \\Phi{\\left(r,t \\right)} + \\Psi{\\left(r,t \\right)}} \\frac{\\partial}{\\partial t} \\Psi{\\left(r,t \\right)}}{2} & 0 & 0\\\\0 & 0 & 0 & 0\\\\0 & 0 & 0 & 0\\end{matrix}\\right] & \\left[\\begin{matrix}\\frac{e^{\\Phi{\\left(r,t \\right)} - \\Psi{\\left(r,t \\right)}} \\frac{\\partial}{\\partial r} \\Phi{\\left(r,t \\right)}}{2} & \\frac{\\frac{\\partial}{\\partial t} \\Psi{\\left(r,t \\right)}}{2} & 0 & 0\\\\\\frac{\\frac{\\partial}{\\partial t} \\Psi{\\left(r,t \\right)}}{2} & \\frac{\\frac{\\partial}{\\partial r} \\Psi{\\left(r,t \\right)}}{2} & 0 & 0\\\\0 & 0 & 0 & 0\\\\0 & 0 & 0 & 0\\end{matrix}\\right] & \\left[\\begin{matrix}0 & 0 & 0 & 0\\\\0 & 0 & 0 & 0\\\\0 & 0 & 0 & \\frac{b \\sin{\\left(\\phi_{2} \\right)}}{a - b \\cos{\\left(\\phi_{2} \\right)}}\\\\0 & 0 & \\frac{b \\sin{\\left(\\phi_{2} \\right)}}{a - b \\cos{\\left(\\phi_{2} \\right)}} & 0\\end{matrix}\\right] & \\left[\\begin{matrix}0 & 0 & 0 & 0\\\\0 & 0 & 0 & 0\\\\0 & 0 & \\frac{\\left(- a + b \\cos{\\left(\\phi_{2} \\right)}\\right) \\sin{\\left(\\phi_{2} \\right)}}{b} & 0\\\\0 & 0 & 0 & 0\\end{matrix}\\right]\\end{matrix}\\right]$"
      ],
      "text/plain": [
       "[[[Derivative(Phi(r, t), t)/2, Derivative(Phi(r, t), r)/2, 0, 0], [Derivative(Phi(r, t), r)/2, exp(-Phi(r, t) + Psi(r, t))*Derivative(Psi(r, t), t)/2, 0, 0], [0, 0, 0, 0], [0, 0, 0, 0]], [[exp(Phi(r, t) - Psi(r, t))*Derivative(Phi(r, t), r)/2, Derivative(Psi(r, t), t)/2, 0, 0], [Derivative(Psi(r, t), t)/2, Derivative(Psi(r, t), r)/2, 0, 0], [0, 0, 0, 0], [0, 0, 0, 0]], [[0, 0, 0, 0], [0, 0, 0, 0], [0, 0, 0, b*sin(phi_2)/(a - b*cos(phi_2))], [0, 0, b*sin(phi_2)/(a - b*cos(phi_2)), 0]], [[0, 0, 0, 0], [0, 0, 0, 0], [0, 0, (-a + b*cos(phi_2))*sin(phi_2)/b, 0], [0, 0, 0, 0]]]"
      ]
     },
     "execution_count": 228,
     "metadata": {},
     "output_type": "execute_result"
    }
   ],
   "source": [
    "from einsteinpy.symbolic.christoffel import ChristoffelSymbols\n",
    "from einsteinpy.symbolic import MetricTensor\n",
    "\n",
    "Phi = sp.Function(\"Phi\")(r, t)\n",
    "Psi = sp.Function(\"Psi\")(r, t)\n",
    "\n",
    "ein_g = MetricTensor(np.diag([-sp.exp(Phi), sp.exp(Psi), m**2 , b**2]), syms=(t, r, phi1, phi2))\n",
    "ein_g.tensor()\n",
    "ChristoffelSymbols.from_metric(ein_g).tensor().simplify()"
   ]
  }
 ],
 "metadata": {
  "kernelspec": {
   "display_name": "Python 3",
   "language": "python",
   "name": "python3"
  },
  "language_info": {
   "codemirror_mode": {
    "name": "ipython",
    "version": 3
   },
   "file_extension": ".py",
   "mimetype": "text/x-python",
   "name": "python",
   "nbconvert_exporter": "python",
   "pygments_lexer": "ipython3",
   "version": "3.8.5"
  }
 },
 "nbformat": 4,
 "nbformat_minor": 5
}
